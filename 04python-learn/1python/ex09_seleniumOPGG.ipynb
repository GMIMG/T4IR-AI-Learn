{
 "cells": [
  {
   "cell_type": "code",
   "execution_count": 3,
   "metadata": {},
   "outputs": [],
   "source": [
    "from selenium import webdriver\n",
    "import pandas as pd\n",
    "import numpy as np\n",
    "import time"
   ]
  },
  {
   "cell_type": "code",
   "execution_count": 28,
   "metadata": {},
   "outputs": [],
   "source": [
    "driver = webdriver.Chrome('chromedriver.exe')\n",
    "driver.get(\"https://www.op.gg/champion/statistics\")\n",
    "time.sleep(1)"
   ]
  },
  {
   "cell_type": "code",
   "execution_count": 29,
   "metadata": {},
   "outputs": [],
   "source": [
    "tbody =driver.find_element_by_xpath('/html/body/div[2]/div[2]/div[2]/div[1]/div[6]/div/div[2]/div/div[1]/div/table/tbody[3]')"
   ]
  },
  {
   "cell_type": "code",
   "execution_count": 30,
   "metadata": {},
   "outputs": [],
   "source": [
    "tr_lst = tbody.find_elements_by_tag_name('tr')"
   ]
  },
  {
   "cell_type": "code",
   "execution_count": 33,
   "metadata": {},
   "outputs": [],
   "source": [
    "data= []\n",
    "for tr in tr_lst:\n",
    "    td_lst = tr.find_elements_by_tag_name('td')\n",
    "    data.append('{},{},{},{}'.format(td_lst[0].text,td_lst[3].text,td_lst[4].text,td_lst[5].text))"
   ]
  },
  {
   "cell_type": "code",
   "execution_count": 34,
   "metadata": {},
   "outputs": [
    {
     "data": {
      "text/plain": [
       "['1,피즈\\n미드,54.12%,5.17%',\n",
       " '2,카타리나\\n미드,55.09%,5.54%',\n",
       " '3,케일\\n탑, 미드,57.10%,1.06%',\n",
       " '4,녹턴\\n정글, 미드, 탑,52.20%,5.01%',\n",
       " '5,말자하\\n미드, 탑,54.65%,2.48%',\n",
       " '6,카사딘\\n미드,53.48%,3.27%',\n",
       " '7,클레드\\n탑, 미드,57.14%,0.92%',\n",
       " '8,에코\\n정글, 미드,52.78%,2.99%',\n",
       " '9,트위스티드 페이트\\n미드,50.89%,11.02%',\n",
       " '10,제드\\n미드,49.05%,8.96%',\n",
       " '11,탈론\\n미드,49.31%,7.37%',\n",
       " '12,블라디미르\\n탑, 미드,51.72%,4.08%',\n",
       " '13,야스오\\n미드, 탑, 바텀,47.25%,11.71%',\n",
       " '14,아칼리\\n탑, 미드,49.09%,9.09%',\n",
       " '15,카시오페아\\n미드, 탑,52.23%,6.18%',\n",
       " '16,아리\\n미드,51.46%,6.80%',\n",
       " '17,르블랑\\n미드,48.42%,6.59%',\n",
       " '18,모데카이저\\n탑, 미드,56.96%,0.76%',\n",
       " '19,라이즈\\n미드, 탑,48.53%,10.26%',\n",
       " '20,오리아나\\n미드,49.62%,9.58%',\n",
       " '21,럼블\\n탑, 미드,55.39%,1.31%',\n",
       " '22,조이\\n미드,50.17%,3.87%',\n",
       " '23,키아나\\n미드, 정글,46.12%,10.52%',\n",
       " '24,판테온\\n탑, 미드, 정글,50.17%,1.88%',\n",
       " '25,가렌\\n탑, 미드,53.44%,0.98%',\n",
       " '26,스웨인\\n서포터, 바텀, 미드,55.61%,0.60%',\n",
       " '27,갈리오\\n미드, 서포터,51.13%,2.98%',\n",
       " '28,제라스\\n서포터, 미드,52.11%,2.05%',\n",
       " '29,신드라\\n미드,49.86%,3.51%',\n",
       " '30,제이스\\n탑, 미드,52.27%,1.55%',\n",
       " '31,빅토르\\n미드, 탑,51.03%,2.34%',\n",
       " '32,벨코즈\\n서포터, 미드,54.62%,0.76%',\n",
       " '33,애니비아\\n미드,50.77%,1.66%',\n",
       " '34,하이머딩거\\n바텀, 탑, 미드,51.66%,0.87%',\n",
       " '35,레넥톤\\n탑, 미드,48.95%,1.37%',\n",
       " '36,아우렐리온 솔\\n미드,51.53%,1.36%',\n",
       " '37,카밀\\n탑, 미드, 정글,51.51%,1.48%',\n",
       " '38,다이애나\\n미드,49.35%,2.22%',\n",
       " '39,퀸\\n탑, 미드,51.26%,0.64%',\n",
       " '40,아트록스\\n탑, 미드, 정글,48.66%,2.03%',\n",
       " '41,리산드라\\n미드,50.10%,1.67%',\n",
       " '42,이렐리아\\n탑, 미드,45.64%,4.44%',\n",
       " '43,사일러스\\n미드, 탑, 정글,47.42%,2.60%',\n",
       " '44,직스\\n미드,52.63%,0.67%',\n",
       " '45,아지르\\n미드,49.74%,1.22%',\n",
       " '46,베이가\\n미드, 서포터,49.27%,1.54%',\n",
       " '47,애니\\n미드,51.48%,0.86%',\n",
       " '48,말파이트\\n탑, 미드, 서포터,50.00%,0.83%',\n",
       " '49,니코\\n미드, 서포터,47.87%,1.05%',\n",
       " '50,트리스타나\\n바텀, 미드,48.66%,1.31%',\n",
       " '51,럭스\\n서포터, 미드,47.29%,1.30%',\n",
       " '52,초가스\\n탑, 미드,50.31%,0.51%',\n",
       " '53,루시안\\n바텀, 미드,43.26%,2.02%',\n",
       " '54,누누와 윌럼프\\n정글, 미드,42.45%,0.89%',\n",
       " '55,코르키\\n미드,45.40%,0.52%']"
      ]
     },
     "execution_count": 34,
     "metadata": {},
     "output_type": "execute_result"
    }
   ],
   "source": [
    "data"
   ]
  },
  {
   "cell_type": "code",
   "execution_count": null,
   "metadata": {},
   "outputs": [],
   "source": []
  },
  {
   "cell_type": "code",
   "execution_count": null,
   "metadata": {},
   "outputs": [],
   "source": []
  }
 ],
 "metadata": {
  "kernelspec": {
   "display_name": "Python 3",
   "language": "python",
   "name": "python3"
  },
  "language_info": {
   "codemirror_mode": {
    "name": "ipython",
    "version": 3
   },
   "file_extension": ".py",
   "mimetype": "text/x-python",
   "name": "python",
   "nbconvert_exporter": "python",
   "pygments_lexer": "ipython3",
   "version": "3.7.3"
  }
 },
 "nbformat": 4,
 "nbformat_minor": 2
}
