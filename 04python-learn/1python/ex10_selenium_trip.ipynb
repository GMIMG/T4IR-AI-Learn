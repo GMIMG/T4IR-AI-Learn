{
 "cells": [
  {
   "cell_type": "code",
   "execution_count": 1,
   "metadata": {},
   "outputs": [],
   "source": [
    "from selenium import webdriver\n",
    "import time"
   ]
  },
  {
   "cell_type": "code",
   "execution_count": 2,
   "metadata": {},
   "outputs": [],
   "source": [
    "url = \"http://tour.interpark.com\""
   ]
  },
  {
   "cell_type": "code",
   "execution_count": 3,
   "metadata": {},
   "outputs": [],
   "source": [
    "driver = webdriver.Chrome(executable_path=\"chromedriver.exe\")"
   ]
  },
  {
   "cell_type": "code",
   "execution_count": 4,
   "metadata": {},
   "outputs": [],
   "source": [
    "driver.get(url)"
   ]
  },
  {
   "cell_type": "code",
   "execution_count": 5,
   "metadata": {},
   "outputs": [],
   "source": [
    "driver.find_element_by_xpath('//*[@id=\"SearchGNBText\"]').send_keys('라오스')"
   ]
  },
  {
   "cell_type": "code",
   "execution_count": 6,
   "metadata": {},
   "outputs": [],
   "source": [
    "driver.find_element_by_xpath('//*[@id=\"dHead\"]/div[2]/div[1]/form/fieldset/button[1]').click()"
   ]
  },
  {
   "cell_type": "code",
   "execution_count": 7,
   "metadata": {},
   "outputs": [],
   "source": [
    "driver.implicitly_wait(10)"
   ]
  },
  {
   "cell_type": "code",
   "execution_count": 8,
   "metadata": {},
   "outputs": [],
   "source": [
    "all_list = driver.find_element_by_xpath('/html/body/div[3]/div/div/div[1]/div/h4/span').text"
   ]
  },
  {
   "cell_type": "code",
   "execution_count": 9,
   "metadata": {},
   "outputs": [],
   "source": [
    "driver.find_element_by_xpath('/html/body/div[3]/div/div/div[3]/ul/li[2]').click()\n",
    "time.sleep(1)"
   ]
  },
  {
   "cell_type": "code",
   "execution_count": 10,
   "metadata": {},
   "outputs": [
    {
     "data": {
      "text/plain": [
       "'1342'"
      ]
     },
     "execution_count": 10,
     "metadata": {},
     "output_type": "execute_result"
    }
   ],
   "source": [
    "all_list.replace(',','')"
   ]
  },
  {
   "cell_type": "code",
   "execution_count": 11,
   "metadata": {},
   "outputs": [
    {
     "data": {
      "text/plain": [
       "11"
      ]
     },
     "execution_count": 11,
     "metadata": {},
     "output_type": "execute_result"
    }
   ],
   "source": [
    "foreign_list = driver.find_element_by_xpath('/html/body/div[3]/div/div/div[1]/div/h4/span').text\n",
    "\n",
    "foreign_list = foreign_list.replace(',','')\n",
    "pages = (int(foreign_list)+10)//10\n",
    "last_list = int(foreign_list)%10\n",
    "pages"
   ]
  },
  {
   "cell_type": "code",
   "execution_count": 12,
   "metadata": {
    "scrolled": true
   },
   "outputs": [
    {
     "name": "stdout",
     "output_type": "stream",
     "text": [
      "1번째 페이지로 이동\n",
      "2번째 페이지로 이동\n",
      "3번째 페이지로 이동\n",
      "4번째 페이지로 이동\n",
      "5번째 페이지로 이동\n",
      "6번째 페이지로 이동\n",
      "7번째 페이지로 이동\n",
      "8번째 페이지로 이동\n",
      "9번째 페이지로 이동\n",
      "10번째 페이지로 이동\n",
      "11번째 페이지로 이동\n"
     ]
    }
   ],
   "source": [
    "data=[]\n",
    "for page in range(pages):\n",
    "    driver.execute_script(\"searchModule.SetCategoryList({}, '')\".format(page+1))\n",
    "    print(\"{}번째 페이지로 이동\".format(page+1))\n",
    "    time.sleep(1)\n",
    "    ul = driver.find_elements_by_class_name('boxList')\n",
    "    li = ul[1].find_elements_by_class_name('boxItem')\n",
    "    for lst in range(10):\n",
    "        if (page+1 == pages) & (lst+1 == last_list):\n",
    "            break\n",
    "        name = li[lst].find_element_by_class_name('proTit').text\n",
    "        price = li[lst].find_element_by_class_name('proPrice').text.replace('원','').replace('~','').replace(' ','').replace(',','')\n",
    "        score = li[lst].find_elements_by_class_name('proInfo')[2].text.replace('평점','').replace(' ',' ')\n",
    "        num = li[lst].find_element_by_class_name('previewBtn').text.replace('개','')\n",
    "        \n",
    "        data.append([name, price, score, num])\n",
    "\n",
    "            "
   ]
  },
  {
   "cell_type": "code",
   "execution_count": 13,
   "metadata": {},
   "outputs": [
    {
     "data": {
      "text/plain": [
       "11"
      ]
     },
     "execution_count": 13,
     "metadata": {},
     "output_type": "execute_result"
    }
   ],
   "source": [
    "pages"
   ]
  },
  {
   "cell_type": "code",
   "execution_count": 14,
   "metadata": {},
   "outputs": [],
   "source": [
    "with open('trip.csv','w') as file:\n",
    "    file.write('name,price,score,num\\n')\n",
    "    for d in data:\n",
    "        file.write('{},{},{},{}\\n'.format(d[0],d[1],d[2],d[3]))"
   ]
  },
  {
   "cell_type": "code",
   "execution_count": 15,
   "metadata": {},
   "outputs": [
    {
     "data": {
      "text/html": [
       "<div>\n",
       "<style scoped>\n",
       "    .dataframe tbody tr th:only-of-type {\n",
       "        vertical-align: middle;\n",
       "    }\n",
       "\n",
       "    .dataframe tbody tr th {\n",
       "        vertical-align: top;\n",
       "    }\n",
       "\n",
       "    .dataframe thead th {\n",
       "        text-align: right;\n",
       "    }\n",
       "</style>\n",
       "<table border=\"1\" class=\"dataframe\">\n",
       "  <thead>\n",
       "    <tr style=\"text-align: right;\">\n",
       "      <th></th>\n",
       "      <th>name</th>\n",
       "      <th>price</th>\n",
       "      <th>score</th>\n",
       "      <th>num</th>\n",
       "    </tr>\n",
       "  </thead>\n",
       "  <tbody>\n",
       "    <tr>\n",
       "      <th>0</th>\n",
       "      <td>[4人출발확정]라오스 비엔티엔/방비엥 + 블루라군 + 쏭강 풍등 5일</td>\n",
       "      <td>369000</td>\n",
       "      <td>9.4</td>\n",
       "      <td>69</td>\n",
       "    </tr>\n",
       "    <tr>\n",
       "      <th>96</th>\n",
       "      <td>[치앙마이/치앙라이 5일] 3色골든트라이앵글+백색사원투어</td>\n",
       "      <td>544000</td>\n",
       "      <td>9.6</td>\n",
       "      <td>19</td>\n",
       "    </tr>\n",
       "    <tr>\n",
       "      <th>3</th>\n",
       "      <td>[부산출발_라오스 4/5일]극한가격! 비엔티엔/방비엥+전신마사지</td>\n",
       "      <td>279000</td>\n",
       "      <td>9.4</td>\n",
       "      <td>14</td>\n",
       "    </tr>\n",
       "    <tr>\n",
       "      <th>5</th>\n",
       "      <td>[부산_라오스 5일] 비엔티엔/루앙프라방/방비엥+전신마사지</td>\n",
       "      <td>619000</td>\n",
       "      <td>9.9</td>\n",
       "      <td>8</td>\n",
       "    </tr>\n",
       "    <tr>\n",
       "      <th>7</th>\n",
       "      <td>[부산출발_라오스 4/5일]비엔티엔/방비엥+전신마사지</td>\n",
       "      <td>429000</td>\n",
       "      <td>9.7</td>\n",
       "      <td>8</td>\n",
       "    </tr>\n",
       "  </tbody>\n",
       "</table>\n",
       "</div>"
      ],
      "text/plain": [
       "                                      name   price  score  num\n",
       "0   [4人출발확정]라오스 비엔티엔/방비엥 + 블루라군 + 쏭강 풍등 5일  369000    9.4   69\n",
       "96         [치앙마이/치앙라이 5일] 3色골든트라이앵글+백색사원투어  544000    9.6   19\n",
       "3      [부산출발_라오스 4/5일]극한가격! 비엔티엔/방비엥+전신마사지  279000    9.4   14\n",
       "5         [부산_라오스 5일] 비엔티엔/루앙프라방/방비엥+전신마사지  619000    9.9    8\n",
       "7            [부산출발_라오스 4/5일]비엔티엔/방비엥+전신마사지  429000    9.7    8"
      ]
     },
     "execution_count": 15,
     "metadata": {},
     "output_type": "execute_result"
    }
   ],
   "source": [
    "import pandas as pd\n",
    "import matplotlib as mpl\n",
    "import matplotlib.pyplot as plt\n",
    "\n",
    "df = pd.read_csv('trip.csv', encoding='euc-kr')\n",
    "df.sort_values(by='num', ascending = False).head()"
   ]
  },
  {
   "cell_type": "code",
   "execution_count": 16,
   "metadata": {},
   "outputs": [
    {
     "data": {
      "text/html": [
       "<div>\n",
       "<style scoped>\n",
       "    .dataframe tbody tr th:only-of-type {\n",
       "        vertical-align: middle;\n",
       "    }\n",
       "\n",
       "    .dataframe tbody tr th {\n",
       "        vertical-align: top;\n",
       "    }\n",
       "\n",
       "    .dataframe thead th {\n",
       "        text-align: right;\n",
       "    }\n",
       "</style>\n",
       "<table border=\"1\" class=\"dataframe\">\n",
       "  <thead>\n",
       "    <tr style=\"text-align: right;\">\n",
       "      <th></th>\n",
       "      <th>name</th>\n",
       "      <th>price</th>\n",
       "      <th>score</th>\n",
       "      <th>num</th>\n",
       "    </tr>\n",
       "  </thead>\n",
       "  <tbody>\n",
       "    <tr>\n",
       "      <th>15</th>\n",
       "      <td>☆[싸데이plus] 라오스 4박 5일(비엔티엔/방비엥)◆준특/블루라군포함◆</td>\n",
       "      <td>599000</td>\n",
       "      <td>10.0</td>\n",
       "      <td>1</td>\n",
       "    </tr>\n",
       "    <tr>\n",
       "      <th>6</th>\n",
       "      <td>[부산_라오스 5일]뭉쳐야간다! 비엔티엔/방비엥+코끼리트래킹+짚라인</td>\n",
       "      <td>419000</td>\n",
       "      <td>10.0</td>\n",
       "      <td>1</td>\n",
       "    </tr>\n",
       "    <tr>\n",
       "      <th>17</th>\n",
       "      <td>[이번엔/버기카포함] 라오스 5일(비엔티엔/방비엥) ◆전일정4성◆</td>\n",
       "      <td>473500</td>\n",
       "      <td>10.0</td>\n",
       "      <td>1</td>\n",
       "    </tr>\n",
       "    <tr>\n",
       "      <th>16</th>\n",
       "      <td>◆동반자5만원할인◆[최우수가이드배정] 라오스 5일(비엔티엔/방비엥)◆블루라군/카야킹...</td>\n",
       "      <td>465100</td>\n",
       "      <td>10.0</td>\n",
       "      <td>1</td>\n",
       "    </tr>\n",
       "    <tr>\n",
       "      <th>5</th>\n",
       "      <td>[부산_라오스 5일] 비엔티엔/루앙프라방/방비엥+전신마사지</td>\n",
       "      <td>619000</td>\n",
       "      <td>9.9</td>\n",
       "      <td>8</td>\n",
       "    </tr>\n",
       "  </tbody>\n",
       "</table>\n",
       "</div>"
      ],
      "text/plain": [
       "                                                 name   price  score  num\n",
       "15          ☆[싸데이plus] 라오스 4박 5일(비엔티엔/방비엥)◆준특/블루라군포함◆  599000   10.0    1\n",
       "6               [부산_라오스 5일]뭉쳐야간다! 비엔티엔/방비엥+코끼리트래킹+짚라인  419000   10.0    1\n",
       "17               [이번엔/버기카포함] 라오스 5일(비엔티엔/방비엥) ◆전일정4성◆  473500   10.0    1\n",
       "16  ◆동반자5만원할인◆[최우수가이드배정] 라오스 5일(비엔티엔/방비엥)◆블루라군/카야킹...  465100   10.0    1\n",
       "5                    [부산_라오스 5일] 비엔티엔/루앙프라방/방비엥+전신마사지  619000    9.9    8"
      ]
     },
     "execution_count": 16,
     "metadata": {},
     "output_type": "execute_result"
    }
   ],
   "source": [
    "df.sort_values(by='score', ascending = False).head()"
   ]
  },
  {
   "cell_type": "code",
   "execution_count": 17,
   "metadata": {},
   "outputs": [
    {
     "data": {
      "text/html": [
       "<div>\n",
       "<style scoped>\n",
       "    .dataframe tbody tr th:only-of-type {\n",
       "        vertical-align: middle;\n",
       "    }\n",
       "\n",
       "    .dataframe tbody tr th {\n",
       "        vertical-align: top;\n",
       "    }\n",
       "\n",
       "    .dataframe thead th {\n",
       "        text-align: right;\n",
       "    }\n",
       "</style>\n",
       "<table border=\"1\" class=\"dataframe\">\n",
       "  <thead>\n",
       "    <tr style=\"text-align: right;\">\n",
       "      <th></th>\n",
       "      <th>name</th>\n",
       "      <th>price</th>\n",
       "      <th>score</th>\n",
       "      <th>num</th>\n",
       "    </tr>\n",
       "  </thead>\n",
       "  <tbody>\n",
       "    <tr>\n",
       "      <th>3</th>\n",
       "      <td>[부산출발_라오스 4/5일]극한가격! 비엔티엔/방비엥+전신마사지</td>\n",
       "      <td>279000</td>\n",
       "      <td>9.4</td>\n",
       "      <td>14</td>\n",
       "    </tr>\n",
       "    <tr>\n",
       "      <th>0</th>\n",
       "      <td>[4人출발확정]라오스 비엔티엔/방비엥 + 블루라군 + 쏭강 풍등 5일</td>\n",
       "      <td>369000</td>\n",
       "      <td>9.4</td>\n",
       "      <td>69</td>\n",
       "    </tr>\n",
       "    <tr>\n",
       "      <th>92</th>\n",
       "      <td>[최우수가이드배정][가즈아~라오스] 라오스 5일(비엔티엔/방비엥)◆블루라군◆</td>\n",
       "      <td>373500</td>\n",
       "      <td>0.0</td>\n",
       "      <td>0</td>\n",
       "    </tr>\n",
       "    <tr>\n",
       "      <th>2</th>\n",
       "      <td>[라오스 비엔티엔5일] 비엔티엔5성UP_방비엥+블루라군+탐논동굴튜빙</td>\n",
       "      <td>379000</td>\n",
       "      <td>9.6</td>\n",
       "      <td>5</td>\n",
       "    </tr>\n",
       "    <tr>\n",
       "      <th>80</th>\n",
       "      <td>☆[싸데이plus] 라오스 3박 4일(비엔티엔/방비엥)◆준특/블루라군포함◆</td>\n",
       "      <td>399000</td>\n",
       "      <td>0.0</td>\n",
       "      <td>0</td>\n",
       "    </tr>\n",
       "  </tbody>\n",
       "</table>\n",
       "</div>"
      ],
      "text/plain": [
       "                                          name   price  score  num\n",
       "3          [부산출발_라오스 4/5일]극한가격! 비엔티엔/방비엥+전신마사지  279000    9.4   14\n",
       "0       [4人출발확정]라오스 비엔티엔/방비엥 + 블루라군 + 쏭강 풍등 5일  369000    9.4   69\n",
       "92  [최우수가이드배정][가즈아~라오스] 라오스 5일(비엔티엔/방비엥)◆블루라군◆  373500    0.0    0\n",
       "2        [라오스 비엔티엔5일] 비엔티엔5성UP_방비엥+블루라군+탐논동굴튜빙  379000    9.6    5\n",
       "80   ☆[싸데이plus] 라오스 3박 4일(비엔티엔/방비엥)◆준특/블루라군포함◆  399000    0.0    0"
      ]
     },
     "execution_count": 17,
     "metadata": {},
     "output_type": "execute_result"
    }
   ],
   "source": [
    "df.sort_values(by='price').head()"
   ]
  }
 ],
 "metadata": {
  "kernelspec": {
   "display_name": "Python 3",
   "language": "python",
   "name": "python3"
  },
  "language_info": {
   "codemirror_mode": {
    "name": "ipython",
    "version": 3
   },
   "file_extension": ".py",
   "mimetype": "text/x-python",
   "name": "python",
   "nbconvert_exporter": "python",
   "pygments_lexer": "ipython3",
   "version": "3.7.3"
  }
 },
 "nbformat": 4,
 "nbformat_minor": 2
}
