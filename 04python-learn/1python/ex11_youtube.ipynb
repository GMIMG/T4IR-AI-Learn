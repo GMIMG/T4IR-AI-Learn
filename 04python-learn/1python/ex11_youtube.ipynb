{
 "cells": [
  {
   "cell_type": "markdown",
   "metadata": {},
   "source": [
    "## selenium으로 데이터 가져오기"
   ]
  },
  {
   "cell_type": "code",
   "execution_count": 1,
   "metadata": {},
   "outputs": [],
   "source": [
    "from selenium import webdriver\n",
    "from selenium.webdriver.common.keys import Keys\n",
    "import time"
   ]
  },
  {
   "cell_type": "code",
   "execution_count": 2,
   "metadata": {},
   "outputs": [],
   "source": [
    "driver = webdriver.Chrome(\"chromedriver.exe\")"
   ]
  },
  {
   "cell_type": "code",
   "execution_count": 3,
   "metadata": {},
   "outputs": [],
   "source": [
    "driver.get('https://www.youtube.com/channel/UCyn-K7rZLXjGl7VXGweIlcA/videos')"
   ]
  },
  {
   "cell_type": "code",
   "execution_count": 4,
   "metadata": {},
   "outputs": [],
   "source": [
    "body = driver.find_element_by_tag_name('body')"
   ]
  },
  {
   "cell_type": "code",
   "execution_count": 5,
   "metadata": {},
   "outputs": [],
   "source": [
    "# 스크롤 내리면서 탐색\n",
    "SCROLL_PAUSE_TIME = 1\n",
    "old_last_height = driver.execute_script('return document.documentElement.scrollHeight')\n",
    "while True:\n",
    "    body.send_keys(Keys.END)\n",
    "    time.sleep(SCROLL_PAUSE_TIME)\n",
    "    last_height = driver.execute_script('return document.documentElement.scrollHeight')\n",
    "    if last_height==old_last_height:\n",
    "        break\n",
    "    old_last_height = last_height"
   ]
  },
  {
   "cell_type": "code",
   "execution_count": 6,
   "metadata": {},
   "outputs": [
    {
     "data": {
      "text/plain": [
       "5918"
      ]
     },
     "execution_count": 6,
     "metadata": {},
     "output_type": "execute_result"
    }
   ],
   "source": [
    "driver.execute_script('return document.documentElement.scrollHeight')"
   ]
  },
  {
   "cell_type": "code",
   "execution_count": 7,
   "metadata": {
    "scrolled": true
   },
   "outputs": [],
   "source": [
    "dm_lst = driver.find_elements_by_id('dismissable')"
   ]
  },
  {
   "cell_type": "code",
   "execution_count": 8,
   "metadata": {
    "scrolled": false
   },
   "outputs": [],
   "source": [
    "# 유튜브 게시물에서 정보 받아오기\n",
    "title_lst = []\n",
    "time_lst = []\n",
    "num_lst = []\n",
    "\n",
    "for dm in dm_lst:\n",
    "    title_lst.append(dm.find_element_by_id('video-title').text)\n",
    "    \n",
    "    ti = dm.find_element_by_id('overlays').text.split(':')\n",
    "    if len(ti) == 3:\n",
    "        sec = int(ti[0])*3600 + int(ti[1])*60 + int(ti[2])\n",
    "    elif len(ti) == 2:\n",
    "        sec = int(ti[0])*60 + int(ti[1])\n",
    "    time_lst.append(sec)\n",
    "    \n",
    "    temp_num = dm.find_element_by_id('metadata-line').text[4:].split('\\n')[0]\n",
    "    if temp_num.find('만회') != -1:\n",
    "        num = float(temp_num.replace('만회',''))*10000\n",
    "    elif temp_num.find('억회') != -1:\n",
    "        num = float(temp_num.replace('억회',''))*10000000\n",
    "    elif temp_num.find('천회') != -1:\n",
    "        num = float(temp_num.replace('천회',''))*1000\n",
    "    elif temp_num.find('백회') != -1:\n",
    "        num = float(temp_num.replace('백회',''))*100\n",
    "    elif temp_num.find('회') != -1:\n",
    "        num = float(temp_num.replace('회',''))\n",
    "    num_lst.append(num)"
   ]
  },
  {
   "cell_type": "markdown",
   "metadata": {},
   "source": [
    "## 판다스 이용해서 데이터 저장"
   ]
  },
  {
   "cell_type": "code",
   "execution_count": 9,
   "metadata": {},
   "outputs": [],
   "source": [
    "import pandas as pd"
   ]
  },
  {
   "cell_type": "code",
   "execution_count": 10,
   "metadata": {},
   "outputs": [
    {
     "data": {
      "text/html": [
       "<div>\n",
       "<style scoped>\n",
       "    .dataframe tbody tr th:only-of-type {\n",
       "        vertical-align: middle;\n",
       "    }\n",
       "\n",
       "    .dataframe tbody tr th {\n",
       "        vertical-align: top;\n",
       "    }\n",
       "\n",
       "    .dataframe thead th {\n",
       "        text-align: right;\n",
       "    }\n",
       "</style>\n",
       "<table border=\"1\" class=\"dataframe\">\n",
       "  <thead>\n",
       "    <tr style=\"text-align: right;\">\n",
       "      <th></th>\n",
       "      <th>title</th>\n",
       "      <th>video_time</th>\n",
       "      <th>view_num</th>\n",
       "    </tr>\n",
       "  </thead>\n",
       "  <tbody>\n",
       "    <tr>\n",
       "      <th>0</th>\n",
       "      <td>'우리 가게를 와본 사람보다 안 와본 사람이 훨씬 많아요.' ㅣ 백종원의 장사이야기</td>\n",
       "      <td>405</td>\n",
       "      <td>3600.0</td>\n",
       "    </tr>\n",
       "    <tr>\n",
       "      <th>1</th>\n",
       "      <td>정말 쉽게 만드는 마파두부!! ㅣ 백종원의 쿠킹로그</td>\n",
       "      <td>452</td>\n",
       "      <td>270000.0</td>\n",
       "    </tr>\n",
       "    <tr>\n",
       "      <th>2</th>\n",
       "      <td>맥주 안주로 딱! 매콤새콤 골뱅이무침! ㅣ 백종원의 백종원 레시피</td>\n",
       "      <td>467</td>\n",
       "      <td>210000.0</td>\n",
       "    </tr>\n",
       "    <tr>\n",
       "      <th>3</th>\n",
       "      <td>'쉽게 알고 덤볐는데 막상 해보니까 어려워' 그게 외식업이에요. ㅣ 백종원의 장사이야기</td>\n",
       "      <td>429</td>\n",
       "      <td>100000.0</td>\n",
       "    </tr>\n",
       "    <tr>\n",
       "      <th>4</th>\n",
       "      <td>베이컨땡초김밥/게맛살마요김밥/돼지불고기김밥/무말랭이김밥, 나만의 김밥을 만들어 보세...</td>\n",
       "      <td>955</td>\n",
       "      <td>410000.0</td>\n",
       "    </tr>\n",
       "  </tbody>\n",
       "</table>\n",
       "</div>"
      ],
      "text/plain": [
       "                                               title  video_time  view_num\n",
       "0     '우리 가게를 와본 사람보다 안 와본 사람이 훨씬 많아요.' ㅣ 백종원의 장사이야기         405    3600.0\n",
       "1                       정말 쉽게 만드는 마파두부!! ㅣ 백종원의 쿠킹로그         452  270000.0\n",
       "2               맥주 안주로 딱! 매콤새콤 골뱅이무침! ㅣ 백종원의 백종원 레시피         467  210000.0\n",
       "3   '쉽게 알고 덤볐는데 막상 해보니까 어려워' 그게 외식업이에요. ㅣ 백종원의 장사이야기         429  100000.0\n",
       "4  베이컨땡초김밥/게맛살마요김밥/돼지불고기김밥/무말랭이김밥, 나만의 김밥을 만들어 보세...         955  410000.0"
      ]
     },
     "execution_count": 10,
     "metadata": {},
     "output_type": "execute_result"
    }
   ],
   "source": [
    "dict_youtube={\"title\":title_lst, \"video_time\":time_lst, \"view_num\":num_lst}\n",
    "youtube = pd.DataFrame(dict_youtube)\n",
    "youtube.head()"
   ]
  },
  {
   "cell_type": "code",
   "execution_count": 11,
   "metadata": {},
   "outputs": [],
   "source": [
    "# pandas로 csv 저장\n",
    "youtube.to_csv(\"youtube.csv\", mode='w', encoding='CP949', index=False)"
   ]
  }
 ],
 "metadata": {
  "kernelspec": {
   "display_name": "Python 3",
   "language": "python",
   "name": "python3"
  },
  "language_info": {
   "codemirror_mode": {
    "name": "ipython",
    "version": 3
   },
   "file_extension": ".py",
   "mimetype": "text/x-python",
   "name": "python",
   "nbconvert_exporter": "python",
   "pygments_lexer": "ipython3",
   "version": "3.7.3"
  }
 },
 "nbformat": 4,
 "nbformat_minor": 2
}
