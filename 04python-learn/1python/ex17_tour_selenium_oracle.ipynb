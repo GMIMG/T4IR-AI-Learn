{
 "cells": [
  {
   "cell_type": "code",
   "execution_count": 1,
   "metadata": {},
   "outputs": [],
   "source": [
    "from selenium import webdriver as wd\n",
    "import time"
   ]
  },
  {
   "cell_type": "code",
   "execution_count": 2,
   "metadata": {},
   "outputs": [],
   "source": [
    "url=\"http://tour.interpark.com\""
   ]
  },
  {
   "cell_type": "code",
   "execution_count": 3,
   "metadata": {},
   "outputs": [],
   "source": [
    "driver=wd.Chrome(executable_path=\"chromedriver.exe\")"
   ]
  },
  {
   "cell_type": "code",
   "execution_count": 4,
   "metadata": {},
   "outputs": [],
   "source": [
    "driver.implicitly_wait(10)"
   ]
  },
  {
   "cell_type": "code",
   "execution_count": 5,
   "metadata": {},
   "outputs": [],
   "source": [
    "driver.get(url)"
   ]
  },
  {
   "cell_type": "code",
   "execution_count": 6,
   "metadata": {},
   "outputs": [],
   "source": [
    "searchbar=driver.find_element_by_id(\"SearchGNBText\")"
   ]
  },
  {
   "cell_type": "code",
   "execution_count": 7,
   "metadata": {},
   "outputs": [],
   "source": [
    "searchbar.send_keys(\"상하이\")"
   ]
  },
  {
   "cell_type": "code",
   "execution_count": 8,
   "metadata": {},
   "outputs": [
    {
     "data": {
      "text/plain": [
       "<selenium.webdriver.remote.webelement.WebElement (session=\"8cc88d7c81a534fb77ef883e6302ece4\", element=\"0.9796381682762085-2\")>"
      ]
     },
     "execution_count": 8,
     "metadata": {},
     "output_type": "execute_result"
    }
   ],
   "source": [
    "driver.find_element_by_class_name(\"search-btn\")"
   ]
  },
  {
   "cell_type": "code",
   "execution_count": 9,
   "metadata": {},
   "outputs": [],
   "source": [
    "driver.find_element_by_class_name(\"search-btn\").click()\n",
    "time.sleep(1)"
   ]
  },
  {
   "cell_type": "code",
   "execution_count": 10,
   "metadata": {},
   "outputs": [],
   "source": [
    "driver.find_element_by_id(\"li_R\").click()\n",
    "time.sleep(1)"
   ]
  },
  {
   "cell_type": "code",
   "execution_count": 11,
   "metadata": {
    "scrolled": false
   },
   "outputs": [],
   "source": [
    "import re\n",
    "\n",
    "isScore=re.compile(\"평점\")\n",
    "isComment=re.compile(\"상품평\")\n",
    "\n",
    "tac=int(driver.find_element_by_id(\"totalAllCnt\").text)\n",
    "count=0\n",
    "if tac%10 == 0:\n",
    "    count=tac//10\n",
    "else:\n",
    "    count=(tac//10)+1\n",
    "    \n",
    "myList=[]\n",
    "for page in range(1,count+1):\n",
    "    driver.execute_script(\"searchModule.SetCategoryList({},'')\".format(page))\n",
    "    time.sleep(3)\n",
    "    items=driver.find_elements_by_css_selector(\".panelZone>.oTravelBox>.boxList>li\")\n",
    "    for item in items:\n",
    "        name=item.find_element_by_css_selector(\"h5.proTit\").text.replace(\",\",\" \")\n",
    "        price=int(item.find_element_by_css_selector(\"strong.proPrice\").text.replace(\" \",\"\").replace('원','').replace(\",\",\"\").replace(\"~\",\"\"))\n",
    "        myList.append([name,price])"
   ]
  },
  {
   "cell_type": "code",
   "execution_count": 12,
   "metadata": {},
   "outputs": [],
   "source": [
    "import cx_Oracle\n",
    "import os\n",
    "os.putenv('NLS_LANG','.UTF8')\n",
    "connection = cx_Oracle.connect('hr','hr','localhost/xe')\n",
    "cursor = connection.cursor()"
   ]
  },
  {
   "cell_type": "code",
   "execution_count": 13,
   "metadata": {},
   "outputs": [],
   "source": [
    "for item in myList:\n",
    "    insert_sql = \"insert into tourinfo values(num_seq.nextval,'{}',{})\".format(item[0], item[1])\n",
    "    cursor.execute(insert_sql)\n",
    "connection.commit()"
   ]
  }
 ],
 "metadata": {
  "kernelspec": {
   "display_name": "Python 3",
   "language": "python",
   "name": "python3"
  },
  "language_info": {
   "codemirror_mode": {
    "name": "ipython",
    "version": 3
   },
   "file_extension": ".py",
   "mimetype": "text/x-python",
   "name": "python",
   "nbconvert_exporter": "python",
   "pygments_lexer": "ipython3",
   "version": "3.7.3"
  }
 },
 "nbformat": 4,
 "nbformat_minor": 2
}
