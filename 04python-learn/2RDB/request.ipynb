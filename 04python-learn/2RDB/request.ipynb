{
 "cells": [
  {
   "cell_type": "code",
   "execution_count": 7,
   "metadata": {},
   "outputs": [],
   "source": [
    "import requests"
   ]
  },
  {
   "cell_type": "code",
   "execution_count": 8,
   "metadata": {},
   "outputs": [],
   "source": [
    "client_id = 'rsiUjuINDag8anLQgN_O'\n",
    "client_secret = 'wji5s_qele'\n",
    "\n",
    "headers = {'X-Naver-Client-ID':client_id, 'X-Naver-Client-Secret':client_secret}"
   ]
  },
  {
   "cell_type": "code",
   "execution_count": 9,
   "metadata": {},
   "outputs": [],
   "source": [
    "url1 = 'https://openapi.naver.com/v1/search/blog?query=강남역'\n",
    "result = requests.get(url1,headers=headers)"
   ]
  },
  {
   "cell_type": "code",
   "execution_count": 10,
   "metadata": {},
   "outputs": [
    {
     "data": {
      "text/plain": [
       "<Response [200]>"
      ]
     },
     "execution_count": 10,
     "metadata": {},
     "output_type": "execute_result"
    }
   ],
   "source": [
    "result"
   ]
  },
  {
   "cell_type": "code",
   "execution_count": 11,
   "metadata": {
    "scrolled": true
   },
   "outputs": [
    {
     "data": {
      "text/plain": [
       "{'lastBuildDate': 'Fri, 06 Dec 2019 15:56:11 +0900',\n",
       " 'total': 2026087,\n",
       " 'start': 1,\n",
       " 'display': 10,\n",
       " 'items': [{'title': '푸짐함에 반한 <b>강남역</b> 맛집',\n",
       "   'link': 'https://blog.naver.com/mjpiglet?Redirect=Log&logNo=221720176419',\n",
       "   'description': '가성비 좋다는 후기를 찾다 찾아간 곳이었는데 푸짐하게 제공되는 메뉴들에 반해 여긴 <b>강남역</b> 맛집이다! 싶어 살며시 소개해드립니다^^ 마초쉐프 서울 강남구 강남대로 98길 16 ☎ 02-566-8886 영업시간 오전11:30... ',\n",
       "   'bloggername': '자연美인 민팅이',\n",
       "   'bloggerlink': 'https://blog.naver.com/mjpiglet',\n",
       "   'postdate': '20191127'},\n",
       "  {'title': '호화롭던 <b>강남역</b> 맛집',\n",
       "   'link': 'https://blog.naver.com/llzzinll?Redirect=Log&logNo=221722489878',\n",
       "   'description': '얼마 전 친한 친구와 강남으로 놀러 갔다 왔었는데요. 스테이크는 물론이고 다양한 플레터들을 조합할 수 있었던 <b>강남역</b> 맛집을 다녀왔습니다 편안한 분위기 속에서 마음껏 먹고 와서 소개해드리려고 합니다.... ',\n",
       "   'bloggername': '일상기록',\n",
       "   'bloggerlink': 'https://blog.naver.com/llzzinll',\n",
       "   'postdate': '20191130'},\n",
       "  {'title': '가성비 좋은 <b>강남역</b> 맛집 !',\n",
       "   'link': 'https://blog.naver.com/iloveyoumuch?Redirect=Log&logNo=221722522198',\n",
       "   'description': '얼마 전 친구들이랑 점심약속이 있어 강남에 갔다가 정통중화요리를 먹을 수 있는 <b>강남역</b> 맛집에 다녀왔어요. 중국식 마라와 독특한 면요리를 먹을 수 있는 곳이었는데 무엇보다 가격대가 저렴해 가성비 좋게... ',\n",
       "   'bloggername': '슈쉥이의 므흣흐믓DAYZ',\n",
       "   'bloggerlink': 'https://blog.naver.com/iloveyoumuch',\n",
       "   'postdate': '20191130'},\n",
       "  {'title': '한결같은 <b>강남역</b> 맛집',\n",
       "   'link': 'https://blog.naver.com/luhworld?Redirect=Log&logNo=221715840079',\n",
       "   'description': '<b>강남역</b> 맛집 - 스테이터(STATER) 얼마전에 친구와 함께 강남에 놀러갔었는데, 괜찮은 가격대에 스테이크를 먹을 수 있는 <b>강남역</b> 맛집을 알아냈습니다. 파스타, 덮밥 등 다양한 메뉴들이 많고 구성이 알차서 꼭 한번... ',\n",
       "   'bloggername': '하늘을 날고 세계를 날아',\n",
       "   'bloggerlink': 'https://blog.naver.com/luhworld',\n",
       "   'postdate': '20191123'},\n",
       "  {'title': '제대로 찾아간 <b>강남역</b> 맛집',\n",
       "   'link': 'https://blog.naver.com/djmanul?Redirect=Log&logNo=221718339645',\n",
       "   'description': '얼마 전 지인들과 강남에서 점심 약속을 가졌었는데, 음식 맛은 물론 퀄리티, 가격까지 모두 만족스러웠던 <b>강남역</b> 맛집이라 한번 소개해드릴까 합니다. 제가 다녀온 곳은 바로 여기! 도쿄 스테이크에요. <b>강남역</b>... ',\n",
       "   'bloggername': 'SIMPLE IS BEST',\n",
       "   'bloggerlink': 'https://blog.naver.com/djmanul',\n",
       "   'postdate': '20191126'},\n",
       "  {'title': '줄서도 가는 유일한 곳 ; <b>강남역</b> 맛집',\n",
       "   'link': 'https://blog.naver.com/ssomerry?Redirect=Log&logNo=221709027462',\n",
       "   'description': '서울 강남구 봉은사로4길 37 전화 : 02-508-6656 영업시간 : 09:00~24:00 <b>강남역</b> 11번 출구로 나와서 CGV 쪽으로 올라오면 언덕에서 찾을 수 있는데 먹자골목에 한번이라도 가본 사람들은 쉽게 찾을 수 있는 곳이당... ',\n",
       "   'bloggername': 'ssomerry',\n",
       "   'bloggerlink': 'https://blog.naver.com/ssomerry',\n",
       "   'postdate': '20191116'},\n",
       "  {'title': '희래식당 역시! <b>강남역</b> 마라탕',\n",
       "   'link': 'https://blog.naver.com/tolai1?Redirect=Log&logNo=221707705167',\n",
       "   'description': '안녕하세요 얼마전 쉬는날 함께 오랜만에 강남으로 바람을 쐬러 갔어요 한가로운 오후를 보내고 든든하게 식사를 하고싶어서 얼마전 지인이 알려주신 <b>강남역</b> 마라탕 맛집으로가기로했어요 이곳에서 고기는... ',\n",
       "   'bloggername': '융이데이 ❤️',\n",
       "   'bloggerlink': 'https://blog.naver.com/tolai1',\n",
       "   'postdate': '20191114'},\n",
       "  {'title': '칭찬하고 싶은 <b>강남역</b> 맛집',\n",
       "   'link': 'https://blog.naver.com/boru130?Redirect=Log&logNo=221713527575',\n",
       "   'description': '푸짐하게 들어있으니 맛있었어요 이렇게 무한리필로 즐기는 <b>강남역</b> 맛집에서 정말 배터지게 먹고 돌아올 수 있었는데요~ 다음에도 가성비 좋게 먹고 싶은 날 다시 방문해야겠어요! 서울 강남구 테헤란로 1길 20',\n",
       "   'bloggername': '보루빵네,먹고놀고사는 이야기♪',\n",
       "   'bloggerlink': 'https://blog.naver.com/boru130',\n",
       "   'postdate': '20191120'},\n",
       "  {'title': '<b>강남역</b> 술집 탁월한 센스',\n",
       "   'link': 'https://blog.naver.com/kangmj1992?Redirect=Log&logNo=221715951266',\n",
       "   'description': '그래서 며칠 전 <b>강남역</b> 술집에 도장을 찍고 왔습니다.바로 마스터서울이라는 곳인데요. 색다른 분위기... <b>강남역</b>에서 가깝고 신논현역 7번 출구로 나오면 금방 찾을 수 있더라고요. 안으로 들어가려면 지하... ',\n",
       "   'bloggername': '밍찌블로그',\n",
       "   'bloggerlink': 'https://blog.naver.com/kangmj1992',\n",
       "   'postdate': '20191123'},\n",
       "  {'title': '<b>강남역</b> 술집 잉화츠탕리 솔직후기♡',\n",
       "   'link': 'https://blog.naver.com/daeunsmile?Redirect=Log&logNo=221718282599',\n",
       "   'description': '그곳은 <b>강남역</b> 술집으로도 유명하지만 잉화츠탕리 라는 매장인데요. 보통 술은 안먹는데 연말에... 서울 서초구 서초대로77길 9 지하 1층 영업시간 : 17:00 ~ 03:00 찾아가는 길은 <b>강남역</b> 10번출구 바로 뒷골목으로... ',\n",
       "   'bloggername': '다니데일리의 데일리기록',\n",
       "   'bloggerlink': 'https://blog.naver.com/daeunsmile',\n",
       "   'postdate': '20191125'}]}"
      ]
     },
     "execution_count": 11,
     "metadata": {},
     "output_type": "execute_result"
    }
   ],
   "source": [
    "result.json()"
   ]
  },
  {
   "cell_type": "code",
   "execution_count": 12,
   "metadata": {},
   "outputs": [],
   "source": [
    "information = result.json()"
   ]
  },
  {
   "cell_type": "code",
   "execution_count": 13,
   "metadata": {},
   "outputs": [
    {
     "data": {
      "text/plain": [
       "2026087"
      ]
     },
     "execution_count": 13,
     "metadata": {},
     "output_type": "execute_result"
    }
   ],
   "source": [
    "information['total']"
   ]
  },
  {
   "cell_type": "code",
   "execution_count": 13,
   "metadata": {},
   "outputs": [
    {
     "data": {
      "text/plain": [
       "'Mon, 02 Dec 2019 09:35:02 +0900'"
      ]
     },
     "execution_count": 13,
     "metadata": {},
     "output_type": "execute_result"
    }
   ],
   "source": [
    "information['lastBuildDate']"
   ]
  },
  {
   "cell_type": "code",
   "execution_count": 16,
   "metadata": {},
   "outputs": [
    {
     "data": {
      "text/plain": [
       "{'title': '푸짐함에 반한 <b>강남역</b> 맛집',\n",
       " 'link': 'https://blog.naver.com/mjpiglet?Redirect=Log&logNo=221720176419',\n",
       " 'description': '가성비 좋다는 후기를 찾다 찾아간 곳이었는데 푸짐하게 제공되는 메뉴들에 반해 여긴 <b>강남역</b> 맛집이다! 싶어 살며시 소개해드립니다^^ 마초쉐프 서울 강남구 강남대로 98길 16 ☎ 02-566-8886 영업시간 오전11:30... ',\n",
       " 'bloggername': '자연美인 민팅이',\n",
       " 'bloggerlink': 'https://blog.naver.com/mjpiglet',\n",
       " 'postdate': '20191127'}"
      ]
     },
     "execution_count": 16,
     "metadata": {},
     "output_type": "execute_result"
    }
   ],
   "source": [
    "information['items'][0]"
   ]
  },
  {
   "cell_type": "code",
   "execution_count": 18,
   "metadata": {
    "scrolled": true
   },
   "outputs": [
    {
     "name": "stdout",
     "output_type": "stream",
     "text": [
      "푸짐함에 반한 <b>강남역</b> 맛집\n",
      "==============================\n",
      "가성비 좋은 <b>강남역</b> 맛집 !\n",
      "==============================\n",
      "호화롭던 <b>강남역</b> 맛집\n",
      "==============================\n",
      "직접 가본 <b>강남역</b> 맛집!\n",
      "==============================\n",
      "깔끔했던 <b>강남역</b> 맛집\n",
      "==============================\n",
      "한결같은 <b>강남역</b> 맛집\n",
      "==============================\n",
      "제대로 찾아간 <b>강남역</b> 맛집\n",
      "==============================\n",
      "<b>강남역</b> 술집 잉화츠탕리 솔직후기♡\n",
      "==============================\n",
      "줄서도 가는 유일한 곳 ; <b>강남역</b> 맛집\n",
      "==============================\n",
      "희래식당 역시! <b>강남역</b> 마라탕\n",
      "==============================\n"
     ]
    }
   ],
   "source": [
    "for blog in information['items']:\n",
    "    print(blog['title'])\n",
    "    print('='*30)"
   ]
  },
  {
   "cell_type": "code",
   "execution_count": 19,
   "metadata": {},
   "outputs": [],
   "source": [
    "def get_api_result(keyword, display, start):\n",
    "    url = 'https://openapi.naver.com/v1/search/blog?query=' + keyword \\\n",
    "    + '&display=' + str(display) \\\n",
    "    + '&start=' + str(start)\n",
    "    \n",
    "    result = requests.get(url, headers = headers)\n",
    "    return result.json()"
   ]
  },
  {
   "cell_type": "code",
   "execution_count": 22,
   "metadata": {},
   "outputs": [],
   "source": [
    "def call_and_print(keyword, page):\n",
    "    json_obj = get_api_result(keyword, 20, page)\n",
    "    for item in json_obj['items']:\n",
    "        title = item['title'].replace('<b>','').replace('</b>','')\n",
    "        print(title + '@' + item['bloggername'] + '@' + item['link'])"
   ]
  },
  {
   "cell_type": "code",
   "execution_count": 23,
   "metadata": {},
   "outputs": [
    {
     "name": "stdout",
     "output_type": "stream",
     "text": [
      "푸짐함에 반한 강남역 맛집@자연美인 민팅이@https://blog.naver.com/mjpiglet?Redirect=Log&logNo=221720176419\n",
      "가성비 좋은 강남역 맛집 !@슈쉥이의 므흣흐믓DAYZ@https://blog.naver.com/iloveyoumuch?Redirect=Log&logNo=221722522198\n",
      "호화롭던 강남역 맛집@일상기록@https://blog.naver.com/llzzinll?Redirect=Log&logNo=221722489878\n",
      "직접 가본 강남역 맛집!@뚱레꼬와 함께 하는 시린이의 일상@https://blog.naver.com/sirin1004?Redirect=Log&logNo=221714965613\n",
      "깔끔했던 강남역 맛집@술마시는 블로거 항상웃는@https://blog.naver.com/jysmilee?Redirect=Log&logNo=221715397249\n",
      "한결같은 강남역 맛집@하늘을 날고 세계를 날아@https://blog.naver.com/luhworld?Redirect=Log&logNo=221715840079\n",
      "제대로 찾아간 강남역 맛집@SIMPLE IS BEST@https://blog.naver.com/djmanul?Redirect=Log&logNo=221718339645\n",
      "강남역 술집 잉화츠탕리 솔직후기♡@다니데일리의 데일리기록@https://blog.naver.com/daeunsmile?Redirect=Log&logNo=221718282599\n",
      "줄서도 가는 유일한 곳 ; 강남역 맛집@ssomerry@https://blog.naver.com/ssomerry?Redirect=Log&logNo=221709027462\n",
      "희래식당 역시! 강남역 마라탕@융이데이 ❤️@https://blog.naver.com/tolai1?Redirect=Log&logNo=221707705167\n",
      "칭찬하고 싶은 강남역 맛집@보루빵네,먹고놀고사는 이야기♪@https://blog.naver.com/boru130?Redirect=Log&logNo=221713527575\n",
      "강남역 술집 탁월한 센스@밍찌블로그@https://blog.naver.com/kangmj1992?Redirect=Log&logNo=221715951266\n",
      "푸짐했던 강남역 곱창 맛집@꿀이의 달콤살벌한 주부생활기@https://blog.naver.com/kpapado?Redirect=Log&logNo=221712728725\n",
      "고기가 땡기는 강남역 맛집으로!@사운드브로스@https://blog.naver.com/soundbross?Redirect=Log&logNo=221720794094\n",
      "강남역 헬스장 운동이 즐겁게 느껴져요!@Meet@https://blog.naver.com/jkbae8578?Redirect=Log&logNo=221706583634\n",
      "강남역 마라탕 매일 가고 싶은 곳!@록키가 뚜까팬다@https://blog.naver.com/forurwinter?Redirect=Log&logNo=221707922038\n",
      "만족했던 강남역 회식장소@나나의 일상@https://blog.naver.com/iminu6?Redirect=Log&logNo=221714207641\n",
      "킴지 Report* 강남역 마라탕 !@킴지의서랍장@https://blog.naver.com/perfume324?Redirect=Log&logNo=221717643825\n",
      "강남역 고기집 죽여준다@The 재미있게 살기 (더재살)@https://blog.naver.com/apexism?Redirect=Log&logNo=221719605084\n",
      "특별했던 강남역 혼밥@김진향작가 공식블로그@https://blog.naver.com/ckdwjd0306?Redirect=Log&logNo=221698840356\n"
     ]
    }
   ],
   "source": [
    "keyword = '강남역'\n",
    "call_and_print(keyword, 1)"
   ]
  },
  {
   "cell_type": "code",
   "execution_count": 26,
   "metadata": {},
   "outputs": [],
   "source": [
    "import urllib.request\n",
    "client_id = \"YOUR_CLIENT_ID\"\n",
    "client_secret = \"YOUR_CLIENT_SECRET\"\n",
    "encText = urllib.parse.quote(\"검색할 단어\")"
   ]
  },
  {
   "cell_type": "code",
   "execution_count": null,
   "metadata": {},
   "outputs": [],
   "source": []
  }
 ],
 "metadata": {
  "kernelspec": {
   "display_name": "Python 3",
   "language": "python",
   "name": "python3"
  },
  "language_info": {
   "codemirror_mode": {
    "name": "ipython",
    "version": 3
   },
   "file_extension": ".py",
   "mimetype": "text/x-python",
   "name": "python",
   "nbconvert_exporter": "python",
   "pygments_lexer": "ipython3",
   "version": "3.7.3"
  }
 },
 "nbformat": 4,
 "nbformat_minor": 2
}
