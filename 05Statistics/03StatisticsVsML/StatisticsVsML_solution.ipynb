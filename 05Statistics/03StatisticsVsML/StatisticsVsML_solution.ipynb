{
 "cells": [
  {
   "cell_type": "markdown",
   "metadata": {},
   "source": [
    "## 1. regression\n",
    "\n",
    "Set : $y = X \\cdot w + b + \\epsilon = X \\cdot w + \\epsilon$\n",
    "- assume for 1 observative : x = (1, x), w = (b, w)\n",
    "\n",
    "We know:  (here, v and X is constant about w)\n",
    "\n",
    "$$\\begin{align}\n",
    "\\cfrac {\\partial}{\\partial w} \\left( v^T \\cdot w \\right) &= v \\\\\n",
    "\\cfrac {\\partial}{\\partial w} \\left( w^T \\cdot v \\right) &= v \\\\\n",
    "(w^T \\cdot X)^T &= X^T \\cdot w \\\\\n",
    "\\cfrac {\\partial}{\\partial w} \\left( w^T \\cdot X \\cdot w \\right) &= X \\cdot w + X^T \\cdot w\n",
    "\\end{align}$$\n",
    "\n",
    "So, We solve: y.shape = (N, ), X.shape=(N, p+1), w.shape = (p+1, )"
   ]
  },
  {
   "cell_type": "markdown",
   "metadata": {},
   "source": [
    "$$\\begin{align}\n",
    "y &= X \\cdot w + \\epsilon = \\hat y + \\epsilon\\\\\n",
    "Loss(w) &= \\epsilon ^2 =||y - \\hat y||^2 = (y - X \\cdot w)^T \\cdot (y - X \\cdot w)\\\\\n",
    "\\cfrac {\\partial Loss}{\\partial w} &= 2 (X^T \\cdot X) \\cdot w - 2X^T \\cdot y = 0 \n",
    "\\end{align}$$\n",
    "\n",
    "We get $\\hat w$ :\n",
    "$$ \\left| {\\cfrac {\\partial Loss}{\\partial w}} \\right|_{w = \\hat w} = 0 \\Rightarrow \n",
    "\\hat w = (X^T \\cdot X)^{-1} \\cdot X^T \\cdot y $$\n",
    "\n",
    "### 1.1 Using statistical tool"
   ]
  },
  {
   "cell_type": "code",
   "execution_count": 1,
   "metadata": {},
   "outputs": [
    {
     "data": {
      "text/plain": [
       "dict_keys(['data', 'target', 'target_names', 'DESCR', 'feature_names', 'filename'])"
      ]
     },
     "execution_count": 1,
     "metadata": {},
     "output_type": "execute_result"
    }
   ],
   "source": [
    "import pandas as pd\n",
    "import numpy as np\n",
    "from sklearn.datasets import load_iris\n",
    "bunch = load_iris()\n",
    "bunch.keys()"
   ]
  },
  {
   "cell_type": "code",
   "execution_count": 2,
   "metadata": {},
   "outputs": [
    {
     "data": {
      "text/plain": [
       "(150, 4)"
      ]
     },
     "execution_count": 2,
     "metadata": {},
     "output_type": "execute_result"
    }
   ],
   "source": [
    "bunch.data.shape"
   ]
  },
  {
   "cell_type": "code",
   "execution_count": 3,
   "metadata": {},
   "outputs": [
    {
     "data": {
      "text/html": [
       "<div>\n",
       "<style scoped>\n",
       "    .dataframe tbody tr th:only-of-type {\n",
       "        vertical-align: middle;\n",
       "    }\n",
       "\n",
       "    .dataframe tbody tr th {\n",
       "        vertical-align: top;\n",
       "    }\n",
       "\n",
       "    .dataframe thead th {\n",
       "        text-align: right;\n",
       "    }\n",
       "</style>\n",
       "<table border=\"1\" class=\"dataframe\">\n",
       "  <thead>\n",
       "    <tr style=\"text-align: right;\">\n",
       "      <th></th>\n",
       "      <th>sepal length (cm)</th>\n",
       "      <th>sepal width (cm)</th>\n",
       "      <th>petal length (cm)</th>\n",
       "      <th>petal width (cm)</th>\n",
       "    </tr>\n",
       "  </thead>\n",
       "  <tbody>\n",
       "    <tr>\n",
       "      <th>0</th>\n",
       "      <td>5.1</td>\n",
       "      <td>3.5</td>\n",
       "      <td>1.4</td>\n",
       "      <td>0.2</td>\n",
       "    </tr>\n",
       "    <tr>\n",
       "      <th>1</th>\n",
       "      <td>4.9</td>\n",
       "      <td>3.0</td>\n",
       "      <td>1.4</td>\n",
       "      <td>0.2</td>\n",
       "    </tr>\n",
       "    <tr>\n",
       "      <th>2</th>\n",
       "      <td>4.7</td>\n",
       "      <td>3.2</td>\n",
       "      <td>1.3</td>\n",
       "      <td>0.2</td>\n",
       "    </tr>\n",
       "    <tr>\n",
       "      <th>3</th>\n",
       "      <td>4.6</td>\n",
       "      <td>3.1</td>\n",
       "      <td>1.5</td>\n",
       "      <td>0.2</td>\n",
       "    </tr>\n",
       "    <tr>\n",
       "      <th>4</th>\n",
       "      <td>5.0</td>\n",
       "      <td>3.6</td>\n",
       "      <td>1.4</td>\n",
       "      <td>0.2</td>\n",
       "    </tr>\n",
       "  </tbody>\n",
       "</table>\n",
       "</div>"
      ],
      "text/plain": [
       "   sepal length (cm)  sepal width (cm)  petal length (cm)  petal width (cm)\n",
       "0                5.1               3.5                1.4               0.2\n",
       "1                4.9               3.0                1.4               0.2\n",
       "2                4.7               3.2                1.3               0.2\n",
       "3                4.6               3.1                1.5               0.2\n",
       "4                5.0               3.6                1.4               0.2"
      ]
     },
     "execution_count": 3,
     "metadata": {},
     "output_type": "execute_result"
    }
   ],
   "source": [
    "iris = pd.DataFrame(bunch.data, columns=bunch.feature_names)\n",
    "iris.head()"
   ]
  },
  {
   "cell_type": "code",
   "execution_count": 4,
   "metadata": {},
   "outputs": [
    {
     "name": "stdout",
     "output_type": "stream",
     "text": [
      "<class 'pandas.core.frame.DataFrame'>\n",
      "RangeIndex: 150 entries, 0 to 149\n",
      "Data columns (total 4 columns):\n",
      "sl    150 non-null float64\n",
      "sw    150 non-null float64\n",
      "pl    150 non-null float64\n",
      "pw    150 non-null float64\n",
      "dtypes: float64(4)\n",
      "memory usage: 4.8 KB\n"
     ]
    }
   ],
   "source": [
    "iris.columns = ['sl', 'sw', 'pl', 'pw']\n",
    "iris.info()"
   ]
  },
  {
   "cell_type": "markdown",
   "metadata": {},
   "source": [
    "petal width를 target으로 회귀식을 생성해보자."
   ]
  },
  {
   "cell_type": "code",
   "execution_count": 6,
   "metadata": {},
   "outputs": [
    {
     "data": {
      "text/plain": [
       "'sl + sw + pl'"
      ]
     },
     "execution_count": 6,
     "metadata": {},
     "output_type": "execute_result"
    }
   ],
   "source": [
    "' + '.join(iris.columns[:3])"
   ]
  },
  {
   "cell_type": "code",
   "execution_count": 5,
   "metadata": {},
   "outputs": [
    {
     "data": {
      "text/plain": [
       "'pw ~ sl + sw + pl'"
      ]
     },
     "execution_count": 5,
     "metadata": {},
     "output_type": "execute_result"
    }
   ],
   "source": [
    "# formula = 'y ~ x1 + x2 + x3'\n",
    "features = iris.columns\n",
    "formula = '%s ~ '%iris.columns[3]\n",
    "formula += ' + '.join(iris.columns[:3])\n",
    "formula"
   ]
  },
  {
   "cell_type": "code",
   "execution_count": 6,
   "metadata": {},
   "outputs": [
    {
     "data": {
      "text/html": [
       "<table class=\"simpletable\">\n",
       "<caption>OLS Regression Results</caption>\n",
       "<tr>\n",
       "  <th>Dep. Variable:</th>           <td>pw</td>        <th>  R-squared:         </th> <td>   0.938</td>\n",
       "</tr>\n",
       "<tr>\n",
       "  <th>Model:</th>                   <td>OLS</td>       <th>  Adj. R-squared:    </th> <td>   0.937</td>\n",
       "</tr>\n",
       "<tr>\n",
       "  <th>Method:</th>             <td>Least Squares</td>  <th>  F-statistic:       </th> <td>   734.4</td>\n",
       "</tr>\n",
       "<tr>\n",
       "  <th>Date:</th>             <td>Tue, 24 Dec 2019</td> <th>  Prob (F-statistic):</th> <td>7.83e-88</td>\n",
       "</tr>\n",
       "<tr>\n",
       "  <th>Time:</th>                 <td>09:34:34</td>     <th>  Log-Likelihood:    </th> <td>  36.751</td>\n",
       "</tr>\n",
       "<tr>\n",
       "  <th>No. Observations:</th>      <td>   150</td>      <th>  AIC:               </th> <td>  -65.50</td>\n",
       "</tr>\n",
       "<tr>\n",
       "  <th>Df Residuals:</th>          <td>   146</td>      <th>  BIC:               </th> <td>  -53.46</td>\n",
       "</tr>\n",
       "<tr>\n",
       "  <th>Df Model:</th>              <td>     3</td>      <th>                     </th>     <td> </td>   \n",
       "</tr>\n",
       "<tr>\n",
       "  <th>Covariance Type:</th>      <td>nonrobust</td>    <th>                     </th>     <td> </td>   \n",
       "</tr>\n",
       "</table>\n",
       "<table class=\"simpletable\">\n",
       "<tr>\n",
       "      <td></td>         <th>coef</th>     <th>std err</th>      <th>t</th>      <th>P>|t|</th>  <th>[0.025</th>    <th>0.975]</th>  \n",
       "</tr>\n",
       "<tr>\n",
       "  <th>Intercept</th> <td>   -0.2403</td> <td>    0.178</td> <td>   -1.347</td> <td> 0.180</td> <td>   -0.593</td> <td>    0.112</td>\n",
       "</tr>\n",
       "<tr>\n",
       "  <th>sl</th>        <td>   -0.2073</td> <td>    0.048</td> <td>   -4.363</td> <td> 0.000</td> <td>   -0.301</td> <td>   -0.113</td>\n",
       "</tr>\n",
       "<tr>\n",
       "  <th>sw</th>        <td>    0.2228</td> <td>    0.049</td> <td>    4.553</td> <td> 0.000</td> <td>    0.126</td> <td>    0.320</td>\n",
       "</tr>\n",
       "<tr>\n",
       "  <th>pl</th>        <td>    0.5241</td> <td>    0.024</td> <td>   21.399</td> <td> 0.000</td> <td>    0.476</td> <td>    0.572</td>\n",
       "</tr>\n",
       "</table>\n",
       "<table class=\"simpletable\">\n",
       "<tr>\n",
       "  <th>Omnibus:</th>       <td> 5.609</td> <th>  Durbin-Watson:     </th> <td>   1.573</td>\n",
       "</tr>\n",
       "<tr>\n",
       "  <th>Prob(Omnibus):</th> <td> 0.061</td> <th>  Jarque-Bera (JB):  </th> <td>   6.811</td>\n",
       "</tr>\n",
       "<tr>\n",
       "  <th>Skew:</th>          <td> 0.223</td> <th>  Prob(JB):          </th> <td>  0.0332</td>\n",
       "</tr>\n",
       "<tr>\n",
       "  <th>Kurtosis:</th>      <td> 3.944</td> <th>  Cond. No.          </th> <td>    90.1</td>\n",
       "</tr>\n",
       "</table><br/><br/>Warnings:<br/>[1] Standard Errors assume that the covariance matrix of the errors is correctly specified."
      ],
      "text/plain": [
       "<class 'statsmodels.iolib.summary.Summary'>\n",
       "\"\"\"\n",
       "                            OLS Regression Results                            \n",
       "==============================================================================\n",
       "Dep. Variable:                     pw   R-squared:                       0.938\n",
       "Model:                            OLS   Adj. R-squared:                  0.937\n",
       "Method:                 Least Squares   F-statistic:                     734.4\n",
       "Date:                Tue, 24 Dec 2019   Prob (F-statistic):           7.83e-88\n",
       "Time:                        09:34:34   Log-Likelihood:                 36.751\n",
       "No. Observations:                 150   AIC:                            -65.50\n",
       "Df Residuals:                     146   BIC:                            -53.46\n",
       "Df Model:                           3                                         \n",
       "Covariance Type:            nonrobust                                         \n",
       "==============================================================================\n",
       "                 coef    std err          t      P>|t|      [0.025      0.975]\n",
       "------------------------------------------------------------------------------\n",
       "Intercept     -0.2403      0.178     -1.347      0.180      -0.593       0.112\n",
       "sl            -0.2073      0.048     -4.363      0.000      -0.301      -0.113\n",
       "sw             0.2228      0.049      4.553      0.000       0.126       0.320\n",
       "pl             0.5241      0.024     21.399      0.000       0.476       0.572\n",
       "==============================================================================\n",
       "Omnibus:                        5.609   Durbin-Watson:                   1.573\n",
       "Prob(Omnibus):                  0.061   Jarque-Bera (JB):                6.811\n",
       "Skew:                           0.223   Prob(JB):                       0.0332\n",
       "Kurtosis:                       3.944   Cond. No.                         90.1\n",
       "==============================================================================\n",
       "\n",
       "Warnings:\n",
       "[1] Standard Errors assume that the covariance matrix of the errors is correctly specified.\n",
       "\"\"\""
      ]
     },
     "execution_count": 6,
     "metadata": {},
     "output_type": "execute_result"
    }
   ],
   "source": [
    "import statsmodels.formula.api as smf\n",
    "\n",
    "model = smf.ols(formula = formula, data = iris)\n",
    "result = model.fit()\n",
    "result.summary()"
   ]
  },
  {
   "cell_type": "code",
   "execution_count": 7,
   "metadata": {},
   "outputs": [
    {
     "data": {
      "text/plain": [
       "Intercept   -0.240307\n",
       "sl          -0.207266\n",
       "sw           0.222829\n",
       "pl           0.524083\n",
       "dtype: float64"
      ]
     },
     "execution_count": 7,
     "metadata": {},
     "output_type": "execute_result"
    }
   ],
   "source": [
    "result.params"
   ]
  },
  {
   "cell_type": "markdown",
   "metadata": {},
   "source": [
    "### 1.2 Using numpy with linear algebra\n",
    "Now, we'll compute with numpy :\n",
    "$$ \\hat w =  (X^T \\cdot X)^{-1} \\cdot X^T \\cdot y $$"
   ]
  },
  {
   "cell_type": "code",
   "execution_count": 8,
   "metadata": {},
   "outputs": [
    {
     "data": {
      "text/plain": [
       "(150, 4)"
      ]
     },
     "execution_count": 8,
     "metadata": {},
     "output_type": "execute_result"
    }
   ],
   "source": [
    "from sklearn.datasets import load_iris\n",
    "X, _ = load_iris(return_X_y = True)\n",
    "X.shape"
   ]
  },
  {
   "cell_type": "markdown",
   "metadata": {},
   "source": [
    "Set : $y = X \\cdot w + b + \\epsilon = X \\cdot w + \\epsilon$\n",
    "- assume: x = (1, x), w = (b, w). So,\n",
    "- y = X[:, 3]\n",
    "- X = np.hstack(np.ones(shape), X[:, :3])\n",
    "\n",
    "And then, you can use numpy.linalg.inv for inverse matrix."
   ]
  },
  {
   "cell_type": "code",
   "execution_count": 13,
   "metadata": {},
   "outputs": [
    {
     "data": {
      "text/plain": [
       "((150,), (150, 4))"
      ]
     },
     "execution_count": 13,
     "metadata": {},
     "output_type": "execute_result"
    }
   ],
   "source": [
    "y = X[:, 3]\n",
    "X = np.hstack((np.ones((X.shape[0], 1)), X[:, :3]))\n",
    "y.shape, X.shape"
   ]
  },
  {
   "cell_type": "markdown",
   "metadata": {},
   "source": [
    "$$\\hat w =  (X^T \\cdot X)^{-1} \\cdot X^T \\cdot y$$"
   ]
  },
  {
   "cell_type": "code",
   "execution_count": 14,
   "metadata": {},
   "outputs": [
    {
     "data": {
      "text/plain": [
       "array([-0.24030739, -0.20726607,  0.22282854,  0.52408311])"
      ]
     },
     "execution_count": 14,
     "metadata": {},
     "output_type": "execute_result"
    }
   ],
   "source": [
    "# X's covariant's inverse\n",
    "from numpy.linalg import inv\n",
    "invCov_X = inv(X.T.dot(X))\n",
    "w = invCov_X.dot(X.T).dot(y)\n",
    "w"
   ]
  },
  {
   "cell_type": "code",
   "execution_count": 15,
   "metadata": {},
   "outputs": [
    {
     "data": {
      "text/plain": [
       "array([-0.24030739, -0.20726607,  0.22282854,  0.52408311])"
      ]
     },
     "execution_count": 15,
     "metadata": {},
     "output_type": "execute_result"
    }
   ],
   "source": [
    "result.params.values"
   ]
  },
  {
   "cell_type": "markdown",
   "metadata": {},
   "source": [
    "### 1.3 Machine Learning Method"
   ]
  },
  {
   "cell_type": "code",
   "execution_count": 16,
   "metadata": {},
   "outputs": [
    {
     "data": {
      "text/plain": [
       "array([-0.46903266, -0.24571793,  0.41240044,  0.4701742 ])"
      ]
     },
     "execution_count": 16,
     "metadata": {},
     "output_type": "execute_result"
    }
   ],
   "source": [
    "from numpy.random import shuffle, rand\n",
    "np.random.seed(234)\n",
    "w = rand(X.shape[-1]) - 0.5\n",
    "w"
   ]
  },
  {
   "cell_type": "code",
   "execution_count": 17,
   "metadata": {},
   "outputs": [],
   "source": [
    "EPOCH = 20000 # 50000\n",
    "batch = 16\n",
    "lr = 0.0001 # 0.00005\n",
    "rows = X.shape[0]\n",
    "losses = []\n",
    "randRow = np.arange(rows)\n",
    "\n",
    "for epoch in range(EPOCH):\n",
    "    # for each epoch, shuffle X, y\n",
    "    shuffle(randRow)\n",
    "    loss = 0\n",
    "    \n",
    "    for i in range(0, rows, batch):\n",
    "        batch_index = randRow[i:i+batch]\n",
    "        x_batch = X[batch_index]\n",
    "        y_batch = y[batch_index]\n",
    "        y_hat = x_batch.dot(w)\n",
    "        loss += (y_batch - y_hat).dot((y_batch - y_hat))\n",
    "        dw = X.T.dot(X).dot(w) - X.T.dot(y) # = d Loss(w) / d(w)\n",
    "        w -= lr*dw\n",
    "        \n",
    "    loss /= rows\n",
    "    losses.append(loss)"
   ]
  },
  {
   "cell_type": "markdown",
   "metadata": {},
   "source": [
    "$$\\begin{align}\n",
    "Loss(w) &= (y - X \\cdot w)^T \\cdot (y - X \\cdot w)\\\\\n",
    "\\cfrac {\\partial Loss}{\\partial w} &= 2 (X^T \\cdot X) \\cdot w - 2X^T \\cdot y \n",
    "\\end{align}$$"
   ]
  },
  {
   "cell_type": "code",
   "execution_count": 18,
   "metadata": {},
   "outputs": [
    {
     "data": {
      "text/plain": [
       "array([-0.24030739, -0.20726607,  0.22282854,  0.52408311])"
      ]
     },
     "execution_count": 18,
     "metadata": {},
     "output_type": "execute_result"
    }
   ],
   "source": [
    "w"
   ]
  },
  {
   "cell_type": "code",
   "execution_count": 19,
   "metadata": {
    "scrolled": true
   },
   "outputs": [
    {
     "data": {
      "text/plain": [
       "array([-0.24030739, -0.20726607,  0.22282854,  0.52408311])"
      ]
     },
     "execution_count": 19,
     "metadata": {},
     "output_type": "execute_result"
    }
   ],
   "source": [
    "result.params.values"
   ]
  },
  {
   "cell_type": "code",
   "execution_count": 21,
   "metadata": {},
   "outputs": [
    {
     "data": {
      "text/plain": [
       "<matplotlib.axes._subplots.AxesSubplot at 0x15843c76320>"
      ]
     },
     "execution_count": 21,
     "metadata": {},
     "output_type": "execute_result"
    },
    {
     "data": {
      "image/png": "[encoded data removed]",
      "text/plain": [
       "<Figure size 432x288 with 1 Axes>"
      ]
     },
     "metadata": {
      "needs_background": "light"
     },
     "output_type": "display_data"
    }
   ],
   "source": [
    "import pandas as pd\n",
    "%matplotlib inline\n",
    "loss_df = pd.DataFrame(losses)\n",
    "loss_df[:100].plot()"
   ]
  },
  {
   "cell_type": "code",
   "execution_count": 22,
   "metadata": {},
   "outputs": [
    {
     "data": {
      "text/plain": [
       "<matplotlib.axes._subplots.AxesSubplot at 0x15843cd93c8>"
      ]
     },
     "execution_count": 22,
     "metadata": {},
     "output_type": "execute_result"
    },
    {
     "data": {
      "image/png": "[encoded data removed]",
      "text/plain": [
       "<Figure size 432x288 with 1 Axes>"
      ]
     },
     "metadata": {
      "needs_background": "light"
     },
     "output_type": "display_data"
    }
   ],
   "source": [
    "loss_df[10000:].plot()"
   ]
  },
  {
   "cell_type": "markdown",
   "metadata": {},
   "source": [
    "## 2. classification\n",
    "We consider binary classification, and want to predict not directly <font color='red'>y</font> but <font color='blue'>p(y=1)</font>.\n",
    "\n",
    "We Set:\n",
    "\n",
    "$$\\begin{align}\n",
    "\\hat y &= P(y=1) = \\sigma(X \\cdot w) \\\\\n",
    "\\sigma(z) &= \\cfrac 1 {1+\\exp(-z)}\\\\\n",
    "\\cfrac {\\partial \\sigma(z)}{\\partial z} &= \\cfrac {\\exp(-z)} {(1+\\exp(-z))^2} = \\sigma(z)(1-\\sigma(z))\\\\\n",
    "Loss(w) &= NLL(w) \n",
    "= - \\left[ y^T \\cdot \\log P(y=1) \\right] - \\left[ (1-y)^T \\cdot \\log (1-P(y=1)) \\right] \\\\\n",
    "\\cfrac {\\partial Loss}{\\partial w} &= - X^T \\cdot \\left[ y (1 - P(y=1)) \\right] + X^T \\cdot \\left[(1-y) P(y=1) \\right] \\\\\n",
    "&= X^T \\cdot (\\hat y - y)\n",
    "\\end{align}$$\n",
    "\n",
    "### 2.1 statistical tool\n",
    "binary case만을 고려하기 위해, 첫 100개 항만 가져오도록 하자."
   ]
  },
  {
   "cell_type": "code",
   "execution_count": 23,
   "metadata": {},
   "outputs": [
    {
     "name": "stdout",
     "output_type": "stream",
     "text": [
      "(100, 4)\n"
     ]
    },
    {
     "data": {
      "text/plain": [
       "array([[-0.31629979,  0.70803893, -2.29291305,  0.28220666],\n",
       "       [-0.67690095, -0.77936232, -1.12511459, -0.85295128],\n",
       "       [ 2.70496343,  1.81256131,  0.09005406,  0.62008331],\n",
       "       [ 0.5868326 ,  0.36681905, -0.45731792, -0.46723319],\n",
       "       [ 0.65746416, -1.15725619, -0.03396529, -0.40039299]])"
      ]
     },
     "execution_count": 23,
     "metadata": {},
     "output_type": "execute_result"
    }
   ],
   "source": [
    "from sklearn.datasets import make_classification\n",
    "\n",
    "X, y = make_classification(n_features=4, n_redundant=0, n_informative=1,\n",
    "                           n_clusters_per_class=1, random_state=4)\n",
    "print(X.shape)\n",
    "X[:5]"
   ]
  },
  {
   "cell_type": "code",
   "execution_count": 24,
   "metadata": {},
   "outputs": [
    {
     "name": "stdout",
     "output_type": "stream",
     "text": [
      "(100, 5)\n"
     ]
    },
    {
     "data": {
      "text/plain": [
       "array([[ 1.        , -0.31629979,  0.70803893, -2.29291305,  0.28220666],\n",
       "       [ 1.        , -0.67690095, -0.77936232, -1.12511459, -0.85295128],\n",
       "       [ 1.        ,  2.70496343,  1.81256131,  0.09005406,  0.62008331],\n",
       "       [ 1.        ,  0.5868326 ,  0.36681905, -0.45731792, -0.46723319],\n",
       "       [ 1.        ,  0.65746416, -1.15725619, -0.03396529, -0.40039299]])"
      ]
     },
     "execution_count": 24,
     "metadata": {},
     "output_type": "execute_result"
    }
   ],
   "source": [
    "import statsmodels.api as sm\n",
    "X = sm.add_constant(X)\n",
    "print(X.shape)\n",
    "X[:5]"
   ]
  },
  {
   "cell_type": "code",
   "execution_count": 25,
   "metadata": {},
   "outputs": [
    {
     "name": "stdout",
     "output_type": "stream",
     "text": [
      "Optimization terminated successfully.\n",
      "         Current function value: 0.124262\n",
      "         Iterations 9\n"
     ]
    },
    {
     "data": {
      "text/html": [
       "<table class=\"simpletable\">\n",
       "<caption>Logit Regression Results</caption>\n",
       "<tr>\n",
       "  <th>Dep. Variable:</th>         <td>y</td>        <th>  No. Observations:  </th>  <td>   100</td>  \n",
       "</tr>\n",
       "<tr>\n",
       "  <th>Model:</th>               <td>Logit</td>      <th>  Df Residuals:      </th>  <td>    95</td>  \n",
       "</tr>\n",
       "<tr>\n",
       "  <th>Method:</th>               <td>MLE</td>       <th>  Df Model:          </th>  <td>     4</td>  \n",
       "</tr>\n",
       "<tr>\n",
       "  <th>Date:</th>          <td>Tue, 24 Dec 2019</td> <th>  Pseudo R-squ.:     </th>  <td>0.8207</td>  \n",
       "</tr>\n",
       "<tr>\n",
       "  <th>Time:</th>              <td>11:00:19</td>     <th>  Log-Likelihood:    </th> <td> -12.426</td> \n",
       "</tr>\n",
       "<tr>\n",
       "  <th>converged:</th>           <td>True</td>       <th>  LL-Null:           </th> <td> -69.295</td> \n",
       "</tr>\n",
       "<tr>\n",
       "  <th> </th>                      <td> </td>        <th>  LLR p-value:       </th> <td>1.161e-23</td>\n",
       "</tr>\n",
       "</table>\n",
       "<table class=\"simpletable\">\n",
       "<tr>\n",
       "    <td></td>       <th>coef</th>     <th>std err</th>      <th>z</th>      <th>P>|z|</th>  <th>[0.025</th>    <th>0.975]</th>  \n",
       "</tr>\n",
       "<tr>\n",
       "  <th>const</th> <td>    0.3037</td> <td>    0.603</td> <td>    0.503</td> <td> 0.615</td> <td>   -0.879</td> <td>    1.486</td>\n",
       "</tr>\n",
       "<tr>\n",
       "  <th>x1</th>    <td>   -1.0410</td> <td>    0.731</td> <td>   -1.423</td> <td> 0.155</td> <td>   -2.474</td> <td>    0.392</td>\n",
       "</tr>\n",
       "<tr>\n",
       "  <th>x2</th>    <td>    5.6889</td> <td>    1.538</td> <td>    3.700</td> <td> 0.000</td> <td>    2.675</td> <td>    8.703</td>\n",
       "</tr>\n",
       "<tr>\n",
       "  <th>x3</th>    <td>   -0.2788</td> <td>    0.553</td> <td>   -0.504</td> <td> 0.614</td> <td>   -1.363</td> <td>    0.805</td>\n",
       "</tr>\n",
       "<tr>\n",
       "  <th>x4</th>    <td>   -0.8798</td> <td>    0.659</td> <td>   -1.336</td> <td> 0.182</td> <td>   -2.171</td> <td>    0.411</td>\n",
       "</tr>\n",
       "</table><br/><br/>Possibly complete quasi-separation: A fraction 0.16 of observations can be<br/>perfectly predicted. This might indicate that there is complete<br/>quasi-separation. In this case some parameters will not be identified."
      ],
      "text/plain": [
       "<class 'statsmodels.iolib.summary.Summary'>\n",
       "\"\"\"\n",
       "                           Logit Regression Results                           \n",
       "==============================================================================\n",
       "Dep. Variable:                      y   No. Observations:                  100\n",
       "Model:                          Logit   Df Residuals:                       95\n",
       "Method:                           MLE   Df Model:                            4\n",
       "Date:                Tue, 24 Dec 2019   Pseudo R-squ.:                  0.8207\n",
       "Time:                        11:00:19   Log-Likelihood:                -12.426\n",
       "converged:                       True   LL-Null:                       -69.295\n",
       "                                        LLR p-value:                 1.161e-23\n",
       "==============================================================================\n",
       "                 coef    std err          z      P>|z|      [0.025      0.975]\n",
       "------------------------------------------------------------------------------\n",
       "const          0.3037      0.603      0.503      0.615      -0.879       1.486\n",
       "x1            -1.0410      0.731     -1.423      0.155      -2.474       0.392\n",
       "x2             5.6889      1.538      3.700      0.000       2.675       8.703\n",
       "x3            -0.2788      0.553     -0.504      0.614      -1.363       0.805\n",
       "x4            -0.8798      0.659     -1.336      0.182      -2.171       0.411\n",
       "==============================================================================\n",
       "\n",
       "Possibly complete quasi-separation: A fraction 0.16 of observations can be\n",
       "perfectly predicted. This might indicate that there is complete\n",
       "quasi-separation. In this case some parameters will not be identified.\n",
       "\"\"\""
      ]
     },
     "execution_count": 25,
     "metadata": {},
     "output_type": "execute_result"
    }
   ],
   "source": [
    "model = sm.Logit(y, X)\n",
    "result = model.fit()\n",
    "result.summary()"
   ]
  },
  {
   "cell_type": "code",
   "execution_count": 26,
   "metadata": {},
   "outputs": [
    {
     "data": {
      "text/plain": [
       "array([ 0.30366162, -1.04095437,  5.68894902, -0.27882206, -0.87983546])"
      ]
     },
     "execution_count": 26,
     "metadata": {},
     "output_type": "execute_result"
    }
   ],
   "source": [
    "result.params"
   ]
  },
  {
   "cell_type": "markdown",
   "metadata": {},
   "source": [
    "### 2.2 Using numpy with linear algebra\n",
    "can't get exact solution, but approximation method with Hessian Matrix"
   ]
  },
  {
   "cell_type": "markdown",
   "metadata": {},
   "source": [
    "### 2.3 Machine Learning Method\n",
    "#### 1) SGD(확률적 경사하강법)"
   ]
  },
  {
   "cell_type": "code",
   "execution_count": 28,
   "metadata": {},
   "outputs": [
    {
     "data": {
      "text/plain": [
       "array([-0.46903266, -0.24571793,  0.41240044,  0.4701742 , -0.25338022])"
      ]
     },
     "execution_count": 28,
     "metadata": {},
     "output_type": "execute_result"
    }
   ],
   "source": [
    "import numpy as np\n",
    "from numpy.random import shuffle, rand\n",
    "np.random.seed(234)\n",
    "w = rand(X.shape[-1]) - 0.5\n",
    "w"
   ]
  },
  {
   "cell_type": "code",
   "execution_count": 29,
   "metadata": {},
   "outputs": [],
   "source": [
    "EPOCH = 150000 # 50000\n",
    "batch = 34 # 2^n이 좋으나 데이터가 100개라 1/3로 함\n",
    "lrs = [0.0005, 0.00005, 0.00001]\n",
    "rows = X.shape[0]\n",
    "losses = []\n",
    "randRow = np.arange(rows)\n",
    "\n",
    "def sigma(z):\n",
    "    return 1 / (1 + np.exp(-z))\n",
    "\n",
    "for epoch in range(EPOCH):\n",
    "    # for each epoch, shuffle X, y\n",
    "    shuffle(randRow)\n",
    "    epochLoss = 0\n",
    "    if epoch < 50000:\n",
    "        lr = lrs[0]\n",
    "    elif epoch < 100000:\n",
    "        lr = lrs[1]\n",
    "    else: lr = lrs[2]\n",
    "    \n",
    "    for i in range(0, rows, batch):\n",
    "        batch_index = randRow[i:i+batch]\n",
    "        x_batch = X[batch_index]\n",
    "        y_batch = y[batch_index]\n",
    "        # 아래는 직접 구현해보세요.\n",
    "        y_hat_batch = sigma(x_batch.dot(w))       # = P(y=1)\n",
    "        loss_batch = - y_batch.T.dot(np.log(y_hat_batch)) \\\n",
    "                     - (1 - y_batch).T.dot(np.log(1 - y_hat_batch))\n",
    "        epochLoss += loss_batch\n",
    "        dw = x_batch.T.dot((y_hat_batch - y_batch)) # = d Loss(w) / d(w)\n",
    "        w -= lr*dw\n",
    "        \n",
    "    epochLoss /= rows\n",
    "    losses.append(epochLoss)"
   ]
  },
  {
   "cell_type": "markdown",
   "metadata": {},
   "source": [
    "$$\\begin{align}\n",
    "\\hat y &= P(y=1) = \\sigma(X \\cdot w) \\\\\n",
    "Loss(w) &= NLL(w) \n",
    "= - \\left[ y^T \\cdot \\log P(y=1) \\right] - \\left[ (1-y)^T \\cdot \\log (1-P(y=1)) \\right] \\\\\n",
    "\\cfrac {\\partial Loss}{\\partial w} &= X^T \\cdot (\\hat y - y) = dw \\\\\n",
    "w &= w - dw\n",
    "\\end{align}$$"
   ]
  },
  {
   "cell_type": "code",
   "execution_count": 30,
   "metadata": {
    "scrolled": true
   },
   "outputs": [
    {
     "data": {
      "text/plain": [
       "array([ 0.30365817, -1.04094798,  5.68892956, -0.27881875, -0.87982798])"
      ]
     },
     "execution_count": 30,
     "metadata": {},
     "output_type": "execute_result"
    }
   ],
   "source": [
    "w"
   ]
  },
  {
   "cell_type": "code",
   "execution_count": 31,
   "metadata": {},
   "outputs": [
    {
     "data": {
      "text/plain": [
       "array([ 0.30366162, -1.04095437,  5.68894902, -0.27882206, -0.87983546])"
      ]
     },
     "execution_count": 31,
     "metadata": {},
     "output_type": "execute_result"
    }
   ],
   "source": [
    "result.params"
   ]
  },
  {
   "cell_type": "markdown",
   "metadata": {},
   "source": [
    "#### 2) 모멘텀 기법 사용하기\n",
    "<참고> https://twinw.tistory.com/247\n",
    "$$v(t) = m * v(t-1) - \\alpha \\cfrac {\\partial \\text{Loss}(w)}{\\partial w} \\\\\n",
    "w(t+1) = w(t) + v(t)$$\n",
    "\n",
    "```\n",
    "v(t+1) = m * v(t) - a * dW(t)\n",
    "W(t+1) = W(t) + v(t+1)\n",
    "\n",
    "v(0) = 0, m = 0.9\n",
    "v(1) = - a * dW(0)\n",
    "W(1) = W(0) + v(1) = W(0) - a * dW(0)\n",
    "\n",
    "v(2) = m * v(1) - a * dW(1) = - 0.9 * a * dW(0) - a * dW(1)\n",
    "W(2) = W(1) - a * [ 0.9 * dW(0) + dW(1) ]\n",
    "\n",
    "v(3) = m * v(2) - a * dW(2) = - a * [ 0.9 * 0.9 * dW(0) + 0.9 * dW(1) + dW(2) ]\n",
    "W(3) = W(2) + v(3) = W(2) - a * [ 0.9 * 0.9 * dW(0) + 0.9 * dW(1) + dW(2) ]\n",
    "```\n",
    "- a: learning rate\n",
    "- m: momentum. memory of prior velocity. generally 0.9 ~ 0.99\n",
    "- v: velocity. moving speed and direction.\n",
    "\n",
    "```python\n",
    "v = m * v - learning_rate * dW\n",
    "W += v\n",
    "```"
   ]
  },
  {
   "cell_type": "code",
   "execution_count": 32,
   "metadata": {},
   "outputs": [
    {
     "data": {
      "text/plain": [
       "array([ 0.19646919, -0.21386067, -0.27314855,  0.05131477,  0.21946897])"
      ]
     },
     "execution_count": 32,
     "metadata": {},
     "output_type": "execute_result"
    }
   ],
   "source": [
    "import numpy as np\n",
    "from numpy.random import shuffle, rand\n",
    "np.random.seed(123)\n",
    "w = rand(X.shape[-1]) - 0.5\n",
    "w"
   ]
  },
  {
   "cell_type": "code",
   "execution_count": 48,
   "metadata": {},
   "outputs": [],
   "source": [
    "EPOCH = 50000 # 50000\n",
    "batch = 34\n",
    "lrs = [0.0005, 0.00005, 0.00001]\n",
    "lr = 0.00005\n",
    "rows = X.shape[0]\n",
    "losses = []\n",
    "randRow = np.arange(rows)\n",
    "m = 0.95\n",
    "v = np.zeros(w.shape)\n",
    "\n",
    "def sigma(z):\n",
    "    return 1 / (1 + np.exp(-z))\n",
    "\n",
    "for epoch in range(EPOCH):\n",
    "    # for each epoch, shuffle X, y\n",
    "    shuffle(randRow)\n",
    "    epochLoss = 0\n",
    "    if epoch < 20000:\n",
    "        lr = lrs[0]\n",
    "    elif epoch < 40000:\n",
    "        lr = lrs[1]\n",
    "    else: lr = lrs[2]\n",
    "    \n",
    "    for i in range(0, rows, batch):\n",
    "        batch_index = randRow[i:i+batch]\n",
    "        x_batch = X[batch_index]\n",
    "        y_batch = y[batch_index]\n",
    "        y_hat_batch = sigma(x_batch.dot(w))         # = P(y=1)\n",
    "        loss_batch = - y_batch.T.dot(np.log(y_hat_batch)) \\\n",
    "                     - (1 - y_batch).T.dot(np.log(1 - y_hat_batch))\n",
    "        epochLoss += loss_batch\n",
    "        dw = x_batch.T.dot((y_hat_batch - y_batch)) # = d Loss(w) / d(w)\n",
    "        ######### we should calcuate the followings\n",
    "        v = m*v - lr*dw\n",
    "        w += v\n",
    "        \n",
    "    epochLoss /= rows\n",
    "    losses.append(epochLoss)"
   ]
  },
  {
   "cell_type": "code",
   "execution_count": 49,
   "metadata": {
    "scrolled": true
   },
   "outputs": [
    {
     "data": {
      "text/plain": [
       "array([ 0.30364406, -1.04097062,  5.68894409, -0.27881797, -0.87983985])"
      ]
     },
     "execution_count": 49,
     "metadata": {},
     "output_type": "execute_result"
    }
   ],
   "source": [
    "w"
   ]
  },
  {
   "cell_type": "code",
   "execution_count": 50,
   "metadata": {},
   "outputs": [
    {
     "data": {
      "text/plain": [
       "array([ 0.30366162, -1.04095437,  5.68894902, -0.27882206, -0.87983546])"
      ]
     },
     "execution_count": 50,
     "metadata": {},
     "output_type": "execute_result"
    }
   ],
   "source": [
    "result.params"
   ]
  },
  {
   "cell_type": "code",
   "execution_count": 51,
   "metadata": {},
   "outputs": [
    {
     "data": {
      "text/plain": [
       "<matplotlib.axes._subplots.AxesSubplot at 0x158443679b0>"
      ]
     },
     "execution_count": 51,
     "metadata": {},
     "output_type": "execute_result"
    },
    {
     "data": {
      "image/png": "[encoded data removed]",
      "text/plain": [
       "<Figure size 432x288 with 1 Axes>"
      ]
     },
     "metadata": {
      "needs_background": "light"
     },
     "output_type": "display_data"
    }
   ],
   "source": [
    "lossdf = pd.DataFrame(losses, columns=[\"loss\"])\n",
    "lossdf[10000:].plot()"
   ]
  },
  {
   "cell_type": "markdown",
   "metadata": {},
   "source": [
    "#### 3) Nesterov 기법 사용하기\n",
    "![](https://t1.daumcdn.net/cfile/tistory/996E494B5B0D03A003)\n",
    "\n",
    "```python\n",
    "v = m * v - learning_rate * d(w + m*v)\n",
    "weight += v\n",
    "```"
   ]
  },
  {
   "cell_type": "code",
   "execution_count": 32,
   "metadata": {},
   "outputs": [
    {
     "data": {
      "text/plain": [
       "array([-0.46903266, -0.24571793,  0.41240044,  0.4701742 , -0.25338022])"
      ]
     },
     "execution_count": 32,
     "metadata": {},
     "output_type": "execute_result"
    }
   ],
   "source": [
    "import numpy as np\n",
    "from numpy.random import shuffle, rand\n",
    "np.random.seed(234)\n",
    "w = rand(X.shape[-1]) - 0.5\n",
    "w"
   ]
  },
  {
   "cell_type": "code",
   "execution_count": 33,
   "metadata": {},
   "outputs": [],
   "source": [
    "EPOCH = 50000 # 50000\n",
    "batch = 34\n",
    "lrs = [0.0005, 0.00005, 0.00001, 0.000005]\n",
    "lr = 0.00005\n",
    "rows = X.shape[0]\n",
    "losses = []\n",
    "randRow = np.arange(rows)\n",
    "m = 0.95\n",
    "v = 0\n",
    "\n",
    "def sigma(z):\n",
    "    return 1 / (1 + np.exp(-z))\n",
    "\n",
    "for epoch in range(EPOCH):\n",
    "    # for each epoch, shuffle X, y\n",
    "    shuffle(randRow)\n",
    "    epochLoss = 0\n",
    "    if epoch < 10000:\n",
    "        lr = lrs[0]\n",
    "    elif epoch < 20000:\n",
    "        lr = lrs[1]\n",
    "    elif epoch < 40000:\n",
    "        lr = lrs[2]\n",
    "    else: lr = lrs[3]\n",
    "    \n",
    "    for i in range(0, rows, batch):\n",
    "        batch_index = randRow[i:i+batch]\n",
    "        x_batch = X[batch_index]\n",
    "        y_batch = y[batch_index]\n",
    "        y_hat_batch = sigma(x_batch.dot(w))         # = P(y=1)\n",
    "        loss_batch = - y_batch.T.dot(np.log(y_hat_batch)) \\\n",
    "                     - (1 - y_batch).T.dot(np.log(1 - y_hat_batch))\n",
    "        epochLoss += loss_batch\n",
    "        dw = x_batch.T.dot((y_hat_batch - y_batch)) # = d Loss(w) / d(w)\n",
    "        ######### we should calcuate the followings\n",
    "        ## : v = m * v - learning_rate * d(w + m*v)\n",
    "        ## : weight += v\n",
    "        \n",
    "        y_hat_batch_next = sigma(x_batch.dot(w + m*v))\n",
    "        dw_next = x_batch.T.dot((y_hat_batch_next - y_batch)) # = d Loss(w) / d(w) @w = w + m*v\n",
    "        v = m*v - lr*dw_next\n",
    "        w += v\n",
    "        \n",
    "    epochLoss /= rows\n",
    "    losses.append(epochLoss)"
   ]
  },
  {
   "cell_type": "code",
   "execution_count": 34,
   "metadata": {
    "scrolled": true
   },
   "outputs": [
    {
     "data": {
      "text/plain": [
       "array([ 0.30356006, -1.04103874,  5.68890987, -0.27882635, -0.87985212])"
      ]
     },
     "execution_count": 34,
     "metadata": {},
     "output_type": "execute_result"
    }
   ],
   "source": [
    "w"
   ]
  },
  {
   "cell_type": "code",
   "execution_count": 35,
   "metadata": {},
   "outputs": [
    {
     "data": {
      "text/plain": [
       "array([ 0.30366162, -1.04095437,  5.68894902, -0.27882206, -0.87983546])"
      ]
     },
     "execution_count": 35,
     "metadata": {},
     "output_type": "execute_result"
    }
   ],
   "source": [
    "result.params"
   ]
  },
  {
   "cell_type": "code",
   "execution_count": 52,
   "metadata": {},
   "outputs": [
    {
     "data": {
      "text/plain": [
       "<matplotlib.axes._subplots.AxesSubplot at 0x15844487240>"
      ]
     },
     "execution_count": 52,
     "metadata": {},
     "output_type": "execute_result"
    },
    {
     "data": {
      "image/png": "[encoded data removed]",
      "text/plain": [
       "<Figure size 432x288 with 1 Axes>"
      ]
     },
     "metadata": {
      "needs_background": "light"
     },
     "output_type": "display_data"
    }
   ],
   "source": [
    "lossdf = pd.DataFrame(losses, columns=[\"loss\"])\n",
    "lossdf[10000:].plot()"
   ]
  },
  {
   "cell_type": "markdown",
   "metadata": {},
   "source": [
    "#### 4) RMSprop 사용하기\n",
    "```python\n",
    "v = m * v + (1 - m) * dw**2\n",
    "w += - learning_rate * dw / (np.sqrt(v) + eps)\n",
    "```"
   ]
  },
  {
   "cell_type": "code",
   "execution_count": 42,
   "metadata": {},
   "outputs": [
    {
     "data": {
      "text/plain": [
       "5"
      ]
     },
     "execution_count": 42,
     "metadata": {},
     "output_type": "execute_result"
    }
   ],
   "source": [
    "import numpy as np\n",
    "from numpy.random import shuffle, rand\n",
    "np.random.seed(234)\n",
    "w = rand(X.shape[-1]) - 0.5\n",
    "w"
   ]
  },
  {
   "cell_type": "code",
   "execution_count": 43,
   "metadata": {},
   "outputs": [],
   "source": [
    "EPOCH = 50000 # 50000\n",
    "batch = 34\n",
    "# lrs = [0.0005, 0.00005, 0.00001]\n",
    "lr = 0.00005\n",
    "rows = X.shape[0]\n",
    "losses = []\n",
    "randRow = np.arange(rows)\n",
    "m = 0.95\n",
    "v = np.zeros(w.shape)\n",
    "eps=1e-8\n",
    "\n",
    "\n",
    "def sigma(z):\n",
    "    return 1 / (1 + np.exp(-z))\n",
    "\n",
    "for epoch in range(EPOCH):\n",
    "    # for each epoch, shuffle X, y\n",
    "    shuffle(randRow)\n",
    "    epochLoss = 0\n",
    "    \n",
    "    for i in range(0, rows, batch):\n",
    "        batch_index = randRow[i:i+batch]\n",
    "        x_batch = X[batch_index]\n",
    "        y_batch = y[batch_index]\n",
    "        pass"
   ]
  },
  {
   "cell_type": "code",
   "execution_count": 44,
   "metadata": {},
   "outputs": [
    {
     "data": {
      "text/plain": [
       "array([ 0.18226938, -0.81510438,  5.04788791, -0.18684718, -0.70703686])"
      ]
     },
     "execution_count": 44,
     "metadata": {},
     "output_type": "execute_result"
    }
   ],
   "source": [
    "w"
   ]
  },
  {
   "cell_type": "code",
   "execution_count": 45,
   "metadata": {},
   "outputs": [
    {
     "data": {
      "text/plain": [
       "array([ 0.30366162, -1.04095437,  5.68894902, -0.27882206, -0.87983546])"
      ]
     },
     "execution_count": 45,
     "metadata": {},
     "output_type": "execute_result"
    }
   ],
   "source": [
    "result.params"
   ]
  },
  {
   "cell_type": "code",
   "execution_count": null,
   "metadata": {},
   "outputs": [],
   "source": []
  }
 ],
 "metadata": {
  "kernelspec": {
   "display_name": "Python 3",
   "language": "python",
   "name": "python3"
  },
  "language_info": {
   "codemirror_mode": {
    "name": "ipython",
    "version": 3
   },
   "file_extension": ".py",
   "mimetype": "text/x-python",
   "name": "python",
   "nbconvert_exporter": "python",
   "pygments_lexer": "ipython3",
   "version": "3.7.3"
  }
 },
 "nbformat": 4,
 "nbformat_minor": 2
}
