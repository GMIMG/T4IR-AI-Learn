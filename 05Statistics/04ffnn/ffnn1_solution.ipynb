{
 "cells": [
  {
   "cell_type": "markdown",
   "metadata": {},
   "source": [
    "### 7. custom FFNN\n",
    "#### 1) 활성화함수가 있는 FFNN\n",
    "활성화 함수가 있는 FFNN를 구현해 보자.\n",
    "$$\\begin{aligned}\n",
    "s &= x \\cdot w + b \\\\\n",
    "\\hat y &= f(s) \\\\\n",
    "e &= (\\hat y - y)^2 \\\\ \n",
    "& \\\\\n",
    "\\cfrac {\\partial e}{\\partial w} &= \\cfrac{\\partial e}{\\partial \\hat y} \\cfrac{\\partial \\hat y}{\\partial s} \\cfrac{\\partial s}{\\partial w} \\\\\n",
    "&= x^T \\cdot 2(\\hat y - y)f^{'}(s)\\\\\n",
    "\\cfrac {\\partial e}{\\partial b} &= 1 \\cdot 2(\\hat y - y)f^{'}(s) \\\\\n",
    "(p, o=1) &= (B, p)^T \\cdot [(B, 1) \\times (B, 1)]\n",
    "\\end{aligned}$$\n",
    "- p: 변수의 수\n",
    "- o: 출력의 수\n",
    "- B: batch size\n",
    "\n",
    "참고로:\n",
    "$$\\begin{aligned}\n",
    "f(x) &= \\tanh(x) \\\\\n",
    "f^{'}(x) &= 1 - \\tanh^2(x)\n",
    "\\end{aligned}$$\n",
    "\n",
    "이를 위해 propagate_forward(self, x)함수를 구해보자."
   ]
  },
  {
   "cell_type": "code",
   "execution_count": 1,
   "metadata": {},
   "outputs": [],
   "source": [
    "%matplotlib inline\n",
    "import numpy as np\n",
    "\n",
    "x_train = np.random.rand(1024, 1)\n",
    "y_train = x_train * 0.1 - 0.05\n",
    "\n",
    "x_val = np.random.rand(32).reshape(-1,1)\n",
    "y_val = x_val * 0.1 - 0.05\n",
    "\n",
    "x_test = np.arange(0, 10, 2).reshape(-1,1)*.1\n",
    "y_test = x_test * 0.1 - 0.05"
   ]
  },
  {
   "cell_type": "code",
   "execution_count": 11,
   "metadata": {},
   "outputs": [],
   "source": [
    "class FFNN:\n",
    "    def __init__(self, lr=0.01):\n",
    "        self.lr = lr\n",
    "        # initial weights: w는 .5, b는 .0\n",
    "        self.w = np.array([0.5]).reshape(-1, 1)\n",
    "        self.b = np.array([0.])\n",
    "        \n",
    "    def calc_sum(self, x, w, b):\n",
    "        return np.dot(x, w) + b\n",
    "    \n",
    "    # feed forward network\n",
    "    def predict(self, x):\n",
    "        return np.tanh(self.calc_sum(x, self.w, self.b))\n",
    "    \n",
    "    # train for one batch. x 자체가 batch\n",
    "    def train_on_batch(self, x, y, istrain=True):\n",
    "        s = self.calc_sum(x, self.w, self.b)\n",
    "        Y = self.predict(x)\n",
    "        N = x.shape[0]\n",
    "        loss = 1/2 * np.sum((Y - y)**2)\n",
    "        if istrain:\n",
    "            dw = 1/N * x.T.dot((Y - y) * (1 - np.tanh(s)**2))\n",
    "            db = 1/N * np.sum((Y - y) * (1 - np.tanh(s)**2))\n",
    "            self.w -= self.lr * dw\n",
    "            self.b -= self.lr * db\n",
    "        return loss\n",
    "    \n",
    "    def fit(self, x, y, batch_size=16, epochs=100, val_data=None):\n",
    "        Losses = {}\n",
    "        Losses[\"train_loss\"] = []\n",
    "        if val_data is not None:\n",
    "            Losses[\"val_loss\"] = []\n",
    "        \n",
    "        for i in range(epochs):\n",
    "            Loss = 0\n",
    "            N = x.shape[0]\n",
    "            for j in range(0, N, batch_size):\n",
    "                x_batch = x[j:j+batch_size]\n",
    "                y_batch = y[j:j+batch_size]\n",
    "                n = x_batch.shape[0]\n",
    "                Loss += (self.train_on_batch(x_batch, y_batch) / n)\n",
    "        \n",
    "            print(\"Train Loss at Epoch %d is %.8f\" %(i, Loss))\n",
    "            Losses[\"train_loss\"].append(Loss)\n",
    "            if val_data is not None:\n",
    "                val_N = val_data[0].shape[0]\n",
    "                val_loss = self.train_on_batch(*val_data, istrain=False) / val_N\n",
    "                print(\"Val Loss at Epoch %d is %.8f\" %(i, val_loss))\n",
    "                Losses[\"val_loss\"].append(val_loss)\n",
    "                \n",
    "        return Losses"
   ]
  },
  {
   "cell_type": "code",
   "execution_count": 23,
   "metadata": {},
   "outputs": [],
   "source": [
    "model = FFNN(lr=.1)"
   ]
  },
  {
   "cell_type": "code",
   "execution_count": 24,
   "metadata": {},
   "outputs": [
    {
     "name": "stdout",
     "output_type": "stream",
     "text": [
      "Train Loss at Epoch 0 is 0.29850869\n",
      "Val Loss at Epoch 0 is 0.00128034\n",
      "Train Loss at Epoch 1 is 0.07263458\n",
      "Val Loss at Epoch 1 is 0.00055559\n",
      "Train Loss at Epoch 2 is 0.03141583\n",
      "Val Loss at Epoch 2 is 0.00023935\n",
      "Train Loss at Epoch 3 is 0.01351593\n",
      "Val Loss at Epoch 3 is 0.00010276\n",
      "Train Loss at Epoch 4 is 0.00579843\n",
      "Val Loss at Epoch 4 is 0.00004403\n",
      "Train Loss at Epoch 5 is 0.00248363\n",
      "Val Loss at Epoch 5 is 0.00001885\n",
      "Train Loss at Epoch 6 is 0.00106283\n",
      "Val Loss at Epoch 6 is 0.00000806\n",
      "Train Loss at Epoch 7 is 0.00045457\n",
      "Val Loss at Epoch 7 is 0.00000345\n",
      "Train Loss at Epoch 8 is 0.00019436\n",
      "Val Loss at Epoch 8 is 0.00000147\n",
      "Train Loss at Epoch 9 is 0.00008308\n",
      "Val Loss at Epoch 9 is 0.00000063\n",
      "Train Loss at Epoch 10 is 0.00003551\n",
      "Val Loss at Epoch 10 is 0.00000027\n",
      "Train Loss at Epoch 11 is 0.00001518\n",
      "Val Loss at Epoch 11 is 0.00000012\n",
      "Train Loss at Epoch 12 is 0.00000649\n",
      "Val Loss at Epoch 12 is 0.00000005\n",
      "Train Loss at Epoch 13 is 0.00000277\n",
      "Val Loss at Epoch 13 is 0.00000002\n",
      "Train Loss at Epoch 14 is 0.00000119\n",
      "Val Loss at Epoch 14 is 0.00000001\n",
      "Train Loss at Epoch 15 is 0.00000051\n",
      "Val Loss at Epoch 15 is 0.00000000\n",
      "Train Loss at Epoch 16 is 0.00000022\n",
      "Val Loss at Epoch 16 is 0.00000000\n",
      "Train Loss at Epoch 17 is 0.00000009\n",
      "Val Loss at Epoch 17 is 0.00000000\n",
      "Train Loss at Epoch 18 is 0.00000004\n",
      "Val Loss at Epoch 18 is 0.00000000\n",
      "Train Loss at Epoch 19 is 0.00000002\n",
      "Val Loss at Epoch 19 is 0.00000000\n",
      "Train Loss at Epoch 20 is 0.00000001\n",
      "Val Loss at Epoch 20 is 0.00000000\n",
      "Train Loss at Epoch 21 is 0.00000000\n",
      "Val Loss at Epoch 21 is 0.00000000\n",
      "Train Loss at Epoch 22 is 0.00000000\n",
      "Val Loss at Epoch 22 is 0.00000000\n",
      "Train Loss at Epoch 23 is 0.00000000\n",
      "Val Loss at Epoch 23 is 0.00000000\n",
      "Train Loss at Epoch 24 is 0.00000000\n",
      "Val Loss at Epoch 24 is 0.00000000\n",
      "Train Loss at Epoch 25 is 0.00000000\n",
      "Val Loss at Epoch 25 is 0.00000000\n",
      "Train Loss at Epoch 26 is 0.00000000\n",
      "Val Loss at Epoch 26 is 0.00000000\n",
      "Train Loss at Epoch 27 is 0.00000000\n",
      "Val Loss at Epoch 27 is 0.00000000\n",
      "Train Loss at Epoch 28 is 0.00000000\n",
      "Val Loss at Epoch 28 is 0.00000000\n",
      "Train Loss at Epoch 29 is 0.00000000\n",
      "Val Loss at Epoch 29 is 0.00000000\n",
      "Train Loss at Epoch 30 is 0.00000000\n",
      "Val Loss at Epoch 30 is 0.00000000\n",
      "Train Loss at Epoch 31 is 0.00000000\n",
      "Val Loss at Epoch 31 is 0.00000000\n",
      "Train Loss at Epoch 32 is 0.00000000\n",
      "Val Loss at Epoch 32 is 0.00000000\n",
      "Train Loss at Epoch 33 is 0.00000000\n",
      "Val Loss at Epoch 33 is 0.00000000\n",
      "Train Loss at Epoch 34 is 0.00000000\n",
      "Val Loss at Epoch 34 is 0.00000000\n",
      "Train Loss at Epoch 35 is 0.00000000\n",
      "Val Loss at Epoch 35 is 0.00000000\n",
      "Train Loss at Epoch 36 is 0.00000000\n",
      "Val Loss at Epoch 36 is 0.00000000\n",
      "Train Loss at Epoch 37 is 0.00000000\n",
      "Val Loss at Epoch 37 is 0.00000000\n",
      "Train Loss at Epoch 38 is 0.00000000\n",
      "Val Loss at Epoch 38 is 0.00000000\n",
      "Train Loss at Epoch 39 is 0.00000000\n",
      "Val Loss at Epoch 39 is 0.00000000\n",
      "Train Loss at Epoch 40 is 0.00000000\n",
      "Val Loss at Epoch 40 is 0.00000000\n",
      "Train Loss at Epoch 41 is 0.00000000\n",
      "Val Loss at Epoch 41 is 0.00000000\n",
      "Train Loss at Epoch 42 is 0.00000000\n",
      "Val Loss at Epoch 42 is 0.00000000\n",
      "Train Loss at Epoch 43 is 0.00000000\n",
      "Val Loss at Epoch 43 is 0.00000000\n",
      "Train Loss at Epoch 44 is 0.00000000\n",
      "Val Loss at Epoch 44 is 0.00000000\n",
      "Train Loss at Epoch 45 is 0.00000000\n",
      "Val Loss at Epoch 45 is 0.00000000\n",
      "Train Loss at Epoch 46 is 0.00000000\n",
      "Val Loss at Epoch 46 is 0.00000000\n",
      "Train Loss at Epoch 47 is 0.00000000\n",
      "Val Loss at Epoch 47 is 0.00000000\n",
      "Train Loss at Epoch 48 is 0.00000000\n",
      "Val Loss at Epoch 48 is 0.00000000\n",
      "Train Loss at Epoch 49 is 0.00000000\n",
      "Val Loss at Epoch 49 is 0.00000000\n",
      "Train Loss at Epoch 50 is 0.00000000\n",
      "Val Loss at Epoch 50 is 0.00000000\n",
      "Train Loss at Epoch 51 is 0.00000000\n",
      "Val Loss at Epoch 51 is 0.00000000\n",
      "Train Loss at Epoch 52 is 0.00000000\n",
      "Val Loss at Epoch 52 is 0.00000000\n",
      "Train Loss at Epoch 53 is 0.00000000\n",
      "Val Loss at Epoch 53 is 0.00000000\n",
      "Train Loss at Epoch 54 is 0.00000000\n",
      "Val Loss at Epoch 54 is 0.00000000\n",
      "Train Loss at Epoch 55 is 0.00000000\n",
      "Val Loss at Epoch 55 is 0.00000000\n",
      "Train Loss at Epoch 56 is 0.00000000\n",
      "Val Loss at Epoch 56 is 0.00000000\n",
      "Train Loss at Epoch 57 is 0.00000000\n",
      "Val Loss at Epoch 57 is 0.00000000\n",
      "Train Loss at Epoch 58 is 0.00000000\n",
      "Val Loss at Epoch 58 is 0.00000000\n",
      "Train Loss at Epoch 59 is 0.00000000\n",
      "Val Loss at Epoch 59 is 0.00000000\n",
      "Train Loss at Epoch 60 is 0.00000000\n",
      "Val Loss at Epoch 60 is 0.00000000\n",
      "Train Loss at Epoch 61 is 0.00000000\n",
      "Val Loss at Epoch 61 is 0.00000000\n",
      "Train Loss at Epoch 62 is 0.00000000\n",
      "Val Loss at Epoch 62 is 0.00000000\n",
      "Train Loss at Epoch 63 is 0.00000000\n",
      "Val Loss at Epoch 63 is 0.00000000\n",
      "Train Loss at Epoch 64 is 0.00000000\n",
      "Val Loss at Epoch 64 is 0.00000000\n",
      "Train Loss at Epoch 65 is 0.00000000\n",
      "Val Loss at Epoch 65 is 0.00000000\n",
      "Train Loss at Epoch 66 is 0.00000000\n",
      "Val Loss at Epoch 66 is 0.00000000\n",
      "Train Loss at Epoch 67 is 0.00000000\n",
      "Val Loss at Epoch 67 is 0.00000000\n",
      "Train Loss at Epoch 68 is 0.00000000\n",
      "Val Loss at Epoch 68 is 0.00000000\n",
      "Train Loss at Epoch 69 is 0.00000000\n",
      "Val Loss at Epoch 69 is 0.00000000\n",
      "Train Loss at Epoch 70 is 0.00000000\n",
      "Val Loss at Epoch 70 is 0.00000000\n",
      "Train Loss at Epoch 71 is 0.00000000\n",
      "Val Loss at Epoch 71 is 0.00000000\n",
      "Train Loss at Epoch 72 is 0.00000000\n",
      "Val Loss at Epoch 72 is 0.00000000\n",
      "Train Loss at Epoch 73 is 0.00000000\n",
      "Val Loss at Epoch 73 is 0.00000000\n",
      "Train Loss at Epoch 74 is 0.00000000\n",
      "Val Loss at Epoch 74 is 0.00000000\n",
      "Train Loss at Epoch 75 is 0.00000000\n",
      "Val Loss at Epoch 75 is 0.00000000\n",
      "Train Loss at Epoch 76 is 0.00000000\n",
      "Val Loss at Epoch 76 is 0.00000000\n",
      "Train Loss at Epoch 77 is 0.00000000\n",
      "Val Loss at Epoch 77 is 0.00000000\n",
      "Train Loss at Epoch 78 is 0.00000000\n",
      "Val Loss at Epoch 78 is 0.00000000\n",
      "Train Loss at Epoch 79 is 0.00000000\n",
      "Val Loss at Epoch 79 is 0.00000000\n",
      "Train Loss at Epoch 80 is 0.00000000\n",
      "Val Loss at Epoch 80 is 0.00000000\n",
      "Train Loss at Epoch 81 is 0.00000000\n",
      "Val Loss at Epoch 81 is 0.00000000\n",
      "Train Loss at Epoch 82 is 0.00000000\n",
      "Val Loss at Epoch 82 is 0.00000000\n",
      "Train Loss at Epoch 83 is 0.00000000\n",
      "Val Loss at Epoch 83 is 0.00000000\n",
      "Train Loss at Epoch 84 is 0.00000000\n",
      "Val Loss at Epoch 84 is 0.00000000\n",
      "Train Loss at Epoch 85 is 0.00000000\n",
      "Val Loss at Epoch 85 is 0.00000000\n",
      "Train Loss at Epoch 86 is 0.00000000\n",
      "Val Loss at Epoch 86 is 0.00000000\n",
      "Train Loss at Epoch 87 is 0.00000000\n",
      "Val Loss at Epoch 87 is 0.00000000\n",
      "Train Loss at Epoch 88 is 0.00000000\n",
      "Val Loss at Epoch 88 is 0.00000000\n",
      "Train Loss at Epoch 89 is 0.00000000\n",
      "Val Loss at Epoch 89 is 0.00000000\n",
      "Train Loss at Epoch 90 is 0.00000000\n",
      "Val Loss at Epoch 90 is 0.00000000\n",
      "Train Loss at Epoch 91 is 0.00000000\n",
      "Val Loss at Epoch 91 is 0.00000000\n",
      "Train Loss at Epoch 92 is 0.00000000\n",
      "Val Loss at Epoch 92 is 0.00000000\n",
      "Train Loss at Epoch 93 is 0.00000000\n",
      "Val Loss at Epoch 93 is 0.00000000\n",
      "Train Loss at Epoch 94 is 0.00000000\n",
      "Val Loss at Epoch 94 is 0.00000000\n",
      "Train Loss at Epoch 95 is 0.00000000\n",
      "Val Loss at Epoch 95 is 0.00000000\n",
      "Train Loss at Epoch 96 is 0.00000000\n",
      "Val Loss at Epoch 96 is 0.00000000\n",
      "Train Loss at Epoch 97 is 0.00000000\n",
      "Val Loss at Epoch 97 is 0.00000000\n",
      "Train Loss at Epoch 98 is 0.00000000\n",
      "Val Loss at Epoch 98 is 0.00000000\n",
      "Train Loss at Epoch 99 is 0.00000000\n",
      "Val Loss at Epoch 99 is 0.00000000\n"
     ]
    }
   ],
   "source": [
    "hist = model.fit(x_train, y_train, val_data=(x_val, y_val))"
   ]
  },
  {
   "cell_type": "code",
   "execution_count": 25,
   "metadata": {
    "scrolled": true
   },
   "outputs": [
    {
     "data": {
      "text/plain": [
       "<matplotlib.axes._subplots.AxesSubplot at 0x252a23e5f98>"
      ]
     },
     "execution_count": 25,
     "metadata": {},
     "output_type": "execute_result"
    },
    {
     "data": {
      "image/png": "[encoded data removed]",
      "text/plain": [
       "<Figure size 432x288 with 1 Axes>"
      ]
     },
     "metadata": {
      "needs_background": "light"
     },
     "output_type": "display_data"
    }
   ],
   "source": [
    "import pandas as pd\n",
    "import matplotlib.pyplot as plt\n",
    "\n",
    "# loss의 결과를 시각화하세요.\n",
    "pd.DataFrame(hist).plot()"
   ]
  },
  {
   "cell_type": "code",
   "execution_count": 26,
   "metadata": {},
   "outputs": [
    {
     "data": {
      "text/plain": [
       "<matplotlib.axes._subplots.AxesSubplot at 0x252a246ba20>"
      ]
     },
     "execution_count": 26,
     "metadata": {},
     "output_type": "execute_result"
    },
    {
     "data": {
      "image/png": "[encoded data removed]",
      "text/plain": [
       "<Figure size 432x288 with 1 Axes>"
      ]
     },
     "metadata": {
      "needs_background": "light"
     },
     "output_type": "display_data"
    }
   ],
   "source": [
    "pd.DataFrame(hist)[:10].plot()"
   ]
  },
  {
   "cell_type": "code",
   "execution_count": 27,
   "metadata": {},
   "outputs": [
    {
     "data": {
      "text/html": [
       "<div>\n",
       "<style scoped>\n",
       "    .dataframe tbody tr th:only-of-type {\n",
       "        vertical-align: middle;\n",
       "    }\n",
       "\n",
       "    .dataframe tbody tr th {\n",
       "        vertical-align: top;\n",
       "    }\n",
       "\n",
       "    .dataframe thead th {\n",
       "        text-align: right;\n",
       "    }\n",
       "</style>\n",
       "<table border=\"1\" class=\"dataframe\">\n",
       "  <thead>\n",
       "    <tr style=\"text-align: right;\">\n",
       "      <th></th>\n",
       "      <th>pred</th>\n",
       "      <th>target</th>\n",
       "    </tr>\n",
       "  </thead>\n",
       "  <tbody>\n",
       "    <tr>\n",
       "      <th>0</th>\n",
       "      <td>-0.049984</td>\n",
       "      <td>-0.05</td>\n",
       "    </tr>\n",
       "    <tr>\n",
       "      <th>1</th>\n",
       "      <td>-0.030006</td>\n",
       "      <td>-0.03</td>\n",
       "    </tr>\n",
       "    <tr>\n",
       "      <th>2</th>\n",
       "      <td>-0.010005</td>\n",
       "      <td>-0.01</td>\n",
       "    </tr>\n",
       "    <tr>\n",
       "      <th>3</th>\n",
       "      <td>0.010004</td>\n",
       "      <td>0.01</td>\n",
       "    </tr>\n",
       "    <tr>\n",
       "      <th>4</th>\n",
       "      <td>0.030006</td>\n",
       "      <td>0.03</td>\n",
       "    </tr>\n",
       "  </tbody>\n",
       "</table>\n",
       "</div>"
      ],
      "text/plain": [
       "       pred  target\n",
       "0 -0.049984   -0.05\n",
       "1 -0.030006   -0.03\n",
       "2 -0.010005   -0.01\n",
       "3  0.010004    0.01\n",
       "4  0.030006    0.03"
      ]
     },
     "execution_count": 27,
     "metadata": {},
     "output_type": "execute_result"
    }
   ],
   "source": [
    "pd.DataFrame({'pred':model.predict(x_test).ravel(), 'target':y_test.ravel()})"
   ]
  },
  {
   "cell_type": "code",
   "execution_count": 28,
   "metadata": {},
   "outputs": [
    {
     "data": {
      "text/plain": [
       "array([[0.10005029]])"
      ]
     },
     "execution_count": 28,
     "metadata": {},
     "output_type": "execute_result"
    }
   ],
   "source": [
    "model.w"
   ]
  },
  {
   "cell_type": "code",
   "execution_count": 29,
   "metadata": {},
   "outputs": [
    {
     "data": {
      "text/plain": [
       "array([-0.05002541])"
      ]
     },
     "execution_count": 29,
     "metadata": {},
     "output_type": "execute_result"
    }
   ],
   "source": [
    "model.b"
   ]
  },
  {
   "cell_type": "code",
   "execution_count": null,
   "metadata": {},
   "outputs": [],
   "source": []
  }
 ],
 "metadata": {
  "kernelspec": {
   "display_name": "Python 3",
   "language": "python",
   "name": "python3"
  },
  "language_info": {
   "codemirror_mode": {
    "name": "ipython",
    "version": 3
   },
   "file_extension": ".py",
   "mimetype": "text/x-python",
   "name": "python",
   "nbconvert_exporter": "python",
   "pygments_lexer": "ipython3",
   "version": "3.7.3"
  },
  "toc": {
   "base_numbering": 1,
   "nav_menu": {},
   "number_sections": false,
   "sideBar": true,
   "skip_h1_title": false,
   "title_cell": "Table of Contents",
   "title_sidebar": "Contents",
   "toc_cell": false,
   "toc_position": {},
   "toc_section_display": true,
   "toc_window_display": false
  },
  "varInspector": {
   "cols": {
    "lenName": 16,
    "lenType": 16,
    "lenVar": 40
   },
   "kernels_config": {
    "python": {
     "delete_cmd_postfix": "",
     "delete_cmd_prefix": "del ",
     "library": "var_list.py",
     "varRefreshCmd": "print(var_dic_list())"
    },
    "r": {
     "delete_cmd_postfix": ") ",
     "delete_cmd_prefix": "rm(",
     "library": "var_list.r",
     "varRefreshCmd": "cat(var_dic_list()) "
    }
   },
   "types_to_exclude": [
    "module",
    "function",
    "builtin_function_or_method",
    "instance",
    "_Feature"
   ],
   "window_display": false
  }
 },
 "nbformat": 4,
 "nbformat_minor": 2
}
