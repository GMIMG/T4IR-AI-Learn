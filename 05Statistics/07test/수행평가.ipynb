{
 "cells": [
  {
   "cell_type": "markdown",
   "metadata": {},
   "source": [
    "## [빅데이터 분석을 위한 통계 이론]\n",
    "앞면이 나올 확률이 0.4인 동전이 있다. \n",
    "이 동전을 5번 던져서, 앞면이 2회 이하 나올 확률은 얼마인가?\n",
    "- 단, 답 계산 과정을 제출하라."
   ]
  },
  {
   "cell_type": "code",
   "execution_count": 6,
   "metadata": {},
   "outputs": [],
   "source": [
    "from math import factorial as facto"
   ]
  },
  {
   "cell_type": "code",
   "execution_count": 9,
   "metadata": {},
   "outputs": [],
   "source": [
    "def combi(n,r):\n",
    "    return facto(n)//(facto(n-r) * facto(r))"
   ]
  },
  {
   "cell_type": "code",
   "execution_count": 16,
   "metadata": {},
   "outputs": [
    {
     "data": {
      "text/plain": [
       "0.68256"
      ]
     },
     "execution_count": 16,
     "metadata": {},
     "output_type": "execute_result"
    }
   ],
   "source": [
    "p = 0.4\n",
    "sol = (combi(5,2) * (p ** 2) * ((1-p) ** 3)) + \\\n",
    "        (combi(5,1) * (p ** 1) * ((1-p) ** 4)) + \\\n",
    "        (combi(5,0) * (p ** 0) * ((1-p) ** 5))\n",
    "sol"
   ]
  },
  {
   "cell_type": "code",
   "execution_count": null,
   "metadata": {},
   "outputs": [],
   "source": []
  }
 ],
 "metadata": {
  "kernelspec": {
   "display_name": "Python 3",
   "language": "python",
   "name": "python3"
  },
  "language_info": {
   "codemirror_mode": {
    "name": "ipython",
    "version": 3
   },
   "file_extension": ".py",
   "mimetype": "text/x-python",
   "name": "python",
   "nbconvert_exporter": "python",
   "pygments_lexer": "ipython3",
   "version": "3.7.3"
  }
 },
 "nbformat": 4,
 "nbformat_minor": 2
}
