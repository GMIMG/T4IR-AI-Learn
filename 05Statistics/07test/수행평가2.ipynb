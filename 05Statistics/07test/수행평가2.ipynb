{
 "cells": [
  {
   "cell_type": "markdown",
   "metadata": {},
   "source": [
    "## [파이썬 분석 및 시각화 라이브러리]\n",
    "tips 데이터에서 size가 3 ~ 5인 데이터에 대해, time별 tiprate의 평균은?\n",
    "- 단, tiprate는 tip/total_bill이다.\n",
    "- 단, 답과 소스를 제출한다."
   ]
  },
  {
   "cell_type": "code",
   "execution_count": 6,
   "metadata": {},
   "outputs": [
    {
     "data": {
      "text/plain": [
       "time\n",
       "Lunch     0.146827\n",
       "Dinner    0.148905\n",
       "Name: tiprate, dtype: float64"
      ]
     },
     "execution_count": 6,
     "metadata": {},
     "output_type": "execute_result"
    }
   ],
   "source": [
    "import seaborn as sns\n",
    "df = sns.load_dataset(\"tips\")\n",
    "df['tiprate'] = df['tip'] / df['total_bill']\n",
    "df[(df[\"size\"] >= 3) & (df[\"size\"] <= 5)].groupby('time').mean()['tiprate']"
   ]
  }
 ],
 "metadata": {
  "kernelspec": {
   "display_name": "Python 3",
   "language": "python",
   "name": "python3"
  },
  "language_info": {
   "codemirror_mode": {
    "name": "ipython",
    "version": 3
   },
   "file_extension": ".py",
   "mimetype": "text/x-python",
   "name": "python",
   "nbconvert_exporter": "python",
   "pygments_lexer": "ipython3",
   "version": "3.7.3"
  }
 },
 "nbformat": 4,
 "nbformat_minor": 2
}
