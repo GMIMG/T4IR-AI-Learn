{
 "cells": [
  {
   "cell_type": "markdown",
   "metadata": {},
   "source": [
    "## 단일 선형회귀분석"
   ]
  },
  {
   "cell_type": "markdown",
   "metadata": {},
   "source": [
    "### 최소제곱(자승)법 직접하기"
   ]
  },
  {
   "cell_type": "code",
   "execution_count": 19,
   "metadata": {},
   "outputs": [],
   "source": [
    "import pandas as pd\n",
    "from pandas import DataFrame"
   ]
  },
  {
   "cell_type": "code",
   "execution_count": 20,
   "metadata": {},
   "outputs": [
    {
     "data": {
      "text/html": [
       "<div>\n",
       "<style scoped>\n",
       "    .dataframe tbody tr th:only-of-type {\n",
       "        vertical-align: middle;\n",
       "    }\n",
       "\n",
       "    .dataframe tbody tr th {\n",
       "        vertical-align: top;\n",
       "    }\n",
       "\n",
       "    .dataframe thead th {\n",
       "        text-align: right;\n",
       "    }\n",
       "</style>\n",
       "<table border=\"1\" class=\"dataframe\">\n",
       "  <thead>\n",
       "    <tr style=\"text-align: right;\">\n",
       "      <th></th>\n",
       "      <th>x</th>\n",
       "      <th>y</th>\n",
       "    </tr>\n",
       "  </thead>\n",
       "  <tbody>\n",
       "    <tr>\n",
       "      <th>0</th>\n",
       "      <td>13</td>\n",
       "      <td>40</td>\n",
       "    </tr>\n",
       "    <tr>\n",
       "      <th>1</th>\n",
       "      <td>19</td>\n",
       "      <td>83</td>\n",
       "    </tr>\n",
       "    <tr>\n",
       "      <th>2</th>\n",
       "      <td>16</td>\n",
       "      <td>62</td>\n",
       "    </tr>\n",
       "    <tr>\n",
       "      <th>3</th>\n",
       "      <td>14</td>\n",
       "      <td>48</td>\n",
       "    </tr>\n",
       "    <tr>\n",
       "      <th>4</th>\n",
       "      <td>15</td>\n",
       "      <td>58</td>\n",
       "    </tr>\n",
       "    <tr>\n",
       "      <th>5</th>\n",
       "      <td>14</td>\n",
       "      <td>43</td>\n",
       "    </tr>\n",
       "  </tbody>\n",
       "</table>\n",
       "</div>"
      ],
      "text/plain": [
       "    x   y\n",
       "0  13  40\n",
       "1  19  83\n",
       "2  16  62\n",
       "3  14  48\n",
       "4  15  58\n",
       "5  14  43"
      ]
     },
     "execution_count": 20,
     "metadata": {},
     "output_type": "execute_result"
    }
   ],
   "source": [
    "x = [13,19,16,14,15,14]\n",
    "y = [40,83,62,48,58,43]\n",
    "data = pd.DataFrame(data=[x,y]).T\n",
    "data.columns=['x','y']\n",
    "data"
   ]
  },
  {
   "cell_type": "code",
   "execution_count": 21,
   "metadata": {},
   "outputs": [
    {
     "data": {
      "text/html": [
       "<div>\n",
       "<style scoped>\n",
       "    .dataframe tbody tr th:only-of-type {\n",
       "        vertical-align: middle;\n",
       "    }\n",
       "\n",
       "    .dataframe tbody tr th {\n",
       "        vertical-align: top;\n",
       "    }\n",
       "\n",
       "    .dataframe thead th {\n",
       "        text-align: right;\n",
       "    }\n",
       "</style>\n",
       "<table border=\"1\" class=\"dataframe\">\n",
       "  <thead>\n",
       "    <tr style=\"text-align: right;\">\n",
       "      <th></th>\n",
       "      <th>x</th>\n",
       "      <th>y</th>\n",
       "      <th>x^2</th>\n",
       "      <th>x_i*y_i</th>\n",
       "    </tr>\n",
       "  </thead>\n",
       "  <tbody>\n",
       "    <tr>\n",
       "      <th>0</th>\n",
       "      <td>13</td>\n",
       "      <td>40</td>\n",
       "      <td>169</td>\n",
       "      <td>520</td>\n",
       "    </tr>\n",
       "    <tr>\n",
       "      <th>1</th>\n",
       "      <td>19</td>\n",
       "      <td>83</td>\n",
       "      <td>361</td>\n",
       "      <td>1577</td>\n",
       "    </tr>\n",
       "    <tr>\n",
       "      <th>2</th>\n",
       "      <td>16</td>\n",
       "      <td>62</td>\n",
       "      <td>256</td>\n",
       "      <td>992</td>\n",
       "    </tr>\n",
       "    <tr>\n",
       "      <th>3</th>\n",
       "      <td>14</td>\n",
       "      <td>48</td>\n",
       "      <td>196</td>\n",
       "      <td>672</td>\n",
       "    </tr>\n",
       "    <tr>\n",
       "      <th>4</th>\n",
       "      <td>15</td>\n",
       "      <td>58</td>\n",
       "      <td>225</td>\n",
       "      <td>870</td>\n",
       "    </tr>\n",
       "    <tr>\n",
       "      <th>5</th>\n",
       "      <td>14</td>\n",
       "      <td>43</td>\n",
       "      <td>196</td>\n",
       "      <td>602</td>\n",
       "    </tr>\n",
       "  </tbody>\n",
       "</table>\n",
       "</div>"
      ],
      "text/plain": [
       "    x   y  x^2  x_i*y_i\n",
       "0  13  40  169      520\n",
       "1  19  83  361     1577\n",
       "2  16  62  256      992\n",
       "3  14  48  196      672\n",
       "4  15  58  225      870\n",
       "5  14  43  196      602"
      ]
     },
     "execution_count": 21,
     "metadata": {},
     "output_type": "execute_result"
    }
   ],
   "source": [
    "data['x^2'] = data['x']**2\n",
    "data['x_i*y_i'] = data['x']*data['y']\n",
    "data"
   ]
  },
  {
   "cell_type": "code",
   "execution_count": 22,
   "metadata": {},
   "outputs": [],
   "source": [
    "sum_xy = data['x_i*y_i'].sum()\n",
    "sum_x2 = data['x^2'].sum()"
   ]
  },
  {
   "cell_type": "code",
   "execution_count": 23,
   "metadata": {},
   "outputs": [],
   "source": [
    "mean_x = data['x'].mean()\n",
    "mean_y = data['y'].mean()"
   ]
  },
  {
   "cell_type": "code",
   "execution_count": 24,
   "metadata": {},
   "outputs": [
    {
     "data": {
      "text/plain": [
       "6"
      ]
     },
     "execution_count": 24,
     "metadata": {},
     "output_type": "execute_result"
    }
   ],
   "source": [
    "n = data.shape[0]\n",
    "n"
   ]
  },
  {
   "cell_type": "code",
   "execution_count": 25,
   "metadata": {},
   "outputs": [
    {
     "data": {
      "text/plain": [
       "7.32846715328465"
      ]
     },
     "execution_count": 25,
     "metadata": {},
     "output_type": "execute_result"
    }
   ],
   "source": [
    "a = (sum_xy - n * mean_x * mean_y) / (sum_x2 - n * mean_x ** 2)\n",
    "a"
   ]
  },
  {
   "cell_type": "code",
   "execution_count": 26,
   "metadata": {},
   "outputs": [
    {
     "data": {
      "text/plain": [
       "-55.48175182481719"
      ]
     },
     "execution_count": 26,
     "metadata": {},
     "output_type": "execute_result"
    }
   ],
   "source": [
    "b = mean_y - a * mean_x\n",
    "b"
   ]
  },
  {
   "cell_type": "code",
   "execution_count": 27,
   "metadata": {},
   "outputs": [],
   "source": [
    "x = data['x']\n",
    "y = a * x + b"
   ]
  },
  {
   "cell_type": "code",
   "execution_count": 28,
   "metadata": {},
   "outputs": [
    {
     "data": {
      "text/plain": [
       "[<matplotlib.lines.Line2D at 0x1d2da86aa90>]"
      ]
     },
     "execution_count": 28,
     "metadata": {},
     "output_type": "execute_result"
    },
    {
     "data": {
      "image/png": "[encoded data removed]",
      "text/plain": [
       "<Figure size 360x360 with 1 Axes>"
      ]
     },
     "metadata": {
      "needs_background": "light"
     },
     "output_type": "display_data"
    }
   ],
   "source": [
    "%matplotlib inline\n",
    "import matplotlib.pyplot as plt\n",
    "data.plot(kind='scatter',x='x', y='y',figsize=(5,5),color='red')\n",
    "plt.plot(x,y,color='blue')"
   ]
  },
  {
   "cell_type": "markdown",
   "metadata": {},
   "source": [
    "### 파이썬 이용해서 하기"
   ]
  },
  {
   "cell_type": "code",
   "execution_count": 29,
   "metadata": {},
   "outputs": [],
   "source": [
    "from sklearn import linear_model\n",
    "import numpy as np\n",
    "import pandas as pd\n",
    "import matplotlib\n",
    "import matplotlib.pyplot as plt\n",
    "\n",
    "# ipython의 'magic function' 중 하나로, matplotlib의 시각화 결과를 Ipython notebook 안에서 출력하는 함수\n",
    "%matplotlib inline\n",
    "\n",
    "#matplotlib 패키지에서 제공하는 스타일중 ggplot 지정\n",
    "matplotlib.style.use('ggplot')"
   ]
  },
  {
   "cell_type": "code",
   "execution_count": 30,
   "metadata": {},
   "outputs": [
    {
     "name": "stdout",
     "output_type": "stream",
     "text": [
      "b value =  -55.48175182481753\n",
      "a value =  [7.32846715]\n"
     ]
    }
   ],
   "source": [
    "# linear_model 모듈이 포함하고 있는 Linearregression() 함수를 'linear_regression'이라고 하는 변수에 할당\n",
    "linear_regression = linear_model.LinearRegression()\n",
    "\n",
    "# 선형회귀 모델 훈련 실행\n",
    "linear_regression.fit(X= pd.DataFrame(data['x']), y = data['y'])\n",
    "\n",
    "# 선형 회귀식의 세로축 절편 출력\n",
    "print('b value = ', linear_regression.intercept_)\n",
    "\n",
    "# 선형 회귀식의 기울기 출력\n",
    "print('a value = ', linear_regression.coef_)"
   ]
  },
  {
   "cell_type": "code",
   "execution_count": 31,
   "metadata": {},
   "outputs": [],
   "source": [
    "# 선형회귀 모델을 적용해서 선형회귀값 구하기\n",
    "prediction = linear_regression.predict(X = pd.DataFrame(data['x']))"
   ]
  },
  {
   "cell_type": "code",
   "execution_count": 32,
   "metadata": {},
   "outputs": [
    {
     "data": {
      "text/plain": [
       "[<matplotlib.lines.Line2D at 0x1d2daa247f0>]"
      ]
     },
     "execution_count": 32,
     "metadata": {},
     "output_type": "execute_result"
    },
    {
     "data": {
      "image/png": "[encoded data removed]",
      "text/plain": [
       "<Figure size 360x360 with 1 Axes>"
      ]
     },
     "metadata": {},
     "output_type": "display_data"
    }
   ],
   "source": [
    "data.plot(kind='scatter',x='x', y='y',figsize=(5,5),color='red')\n",
    "plt.plot(x,y,color='blue')"
   ]
  },
  {
   "cell_type": "markdown",
   "metadata": {},
   "source": [
    "### 적합도"
   ]
  },
  {
   "cell_type": "code",
   "execution_count": 33,
   "metadata": {},
   "outputs": [
    {
     "name": "stdout",
     "output_type": "stream",
     "text": [
      "0    0.211679\n",
      "1   -0.759124\n",
      "2    0.226277\n",
      "3    0.883212\n",
      "4    3.554745\n",
      "5   -4.116788\n",
      "Name: y, dtype: float64\n"
     ]
    },
    {
     "data": {
      "text/plain": [
       "count    6.000000e+00\n",
       "mean     5.921189e-15\n",
       "std      2.491445e+00\n",
       "min     -4.116788e+00\n",
       "25%     -5.164234e-01\n",
       "50%      2.189781e-01\n",
       "75%      7.189781e-01\n",
       "max      3.554745e+00\n",
       "Name: y, dtype: float64"
      ]
     },
     "execution_count": 33,
     "metadata": {},
     "output_type": "execute_result"
    }
   ],
   "source": [
    "# 실제 y값과 예측한 y값의 차인 잔차(residuals) 구하기\n",
    "residuals = data['y'] - prediction\n",
    "print(residuals)\n",
    "\n",
    "# 변수개수, 잔차의 평균값, 표준편차, 최소값, 25%, 50%, 75%값, 최대값\n",
    "residuals.describe()"
   ]
  },
  {
   "cell_type": "code",
   "execution_count": 34,
   "metadata": {},
   "outputs": [
    {
     "name": "stdout",
     "output_type": "stream",
     "text": [
      "SSE =  31.03649635036502\n",
      "SST =  1257.3333333333333\n",
      "R_squared =  0.9753156179610034\n"
     ]
    }
   ],
   "source": [
    "# 잔차를 제곱하여 합한 SSE\n",
    "SSE = (residuals**2).sum()\n",
    "print('SSE = ', SSE)\n",
    "\n",
    "# y값의 편차의 제곱한 것을 모두 합한 SST\n",
    "SST = ((data['y'] - data['y'].mean())**2).sum()\n",
    "print('SST = ', SST)\n",
    "\n",
    "# 결정계수 R\n",
    "R_squared = 1 - (SSE/SST)\n",
    "print('R_squared = ', R_squared)"
   ]
  },
  {
   "cell_type": "markdown",
   "metadata": {},
   "source": [
    "### 적합도 직접검증"
   ]
  },
  {
   "cell_type": "code",
   "execution_count": 35,
   "metadata": {},
   "outputs": [
    {
     "data": {
      "text/html": [
       "<div>\n",
       "<style scoped>\n",
       "    .dataframe tbody tr th:only-of-type {\n",
       "        vertical-align: middle;\n",
       "    }\n",
       "\n",
       "    .dataframe tbody tr th {\n",
       "        vertical-align: top;\n",
       "    }\n",
       "\n",
       "    .dataframe thead th {\n",
       "        text-align: right;\n",
       "    }\n",
       "</style>\n",
       "<table border=\"1\" class=\"dataframe\">\n",
       "  <thead>\n",
       "    <tr style=\"text-align: right;\">\n",
       "      <th></th>\n",
       "      <th>x</th>\n",
       "      <th>y</th>\n",
       "      <th>x^2</th>\n",
       "      <th>x_i*y_i</th>\n",
       "      <th>y_pred</th>\n",
       "    </tr>\n",
       "  </thead>\n",
       "  <tbody>\n",
       "    <tr>\n",
       "      <th>0</th>\n",
       "      <td>13</td>\n",
       "      <td>40</td>\n",
       "      <td>169</td>\n",
       "      <td>520</td>\n",
       "      <td>39.788321</td>\n",
       "    </tr>\n",
       "    <tr>\n",
       "      <th>1</th>\n",
       "      <td>19</td>\n",
       "      <td>83</td>\n",
       "      <td>361</td>\n",
       "      <td>1577</td>\n",
       "      <td>83.759124</td>\n",
       "    </tr>\n",
       "    <tr>\n",
       "      <th>2</th>\n",
       "      <td>16</td>\n",
       "      <td>62</td>\n",
       "      <td>256</td>\n",
       "      <td>992</td>\n",
       "      <td>61.773723</td>\n",
       "    </tr>\n",
       "    <tr>\n",
       "      <th>3</th>\n",
       "      <td>14</td>\n",
       "      <td>48</td>\n",
       "      <td>196</td>\n",
       "      <td>672</td>\n",
       "      <td>47.116788</td>\n",
       "    </tr>\n",
       "    <tr>\n",
       "      <th>4</th>\n",
       "      <td>15</td>\n",
       "      <td>58</td>\n",
       "      <td>225</td>\n",
       "      <td>870</td>\n",
       "      <td>54.445255</td>\n",
       "    </tr>\n",
       "    <tr>\n",
       "      <th>5</th>\n",
       "      <td>14</td>\n",
       "      <td>43</td>\n",
       "      <td>196</td>\n",
       "      <td>602</td>\n",
       "      <td>47.116788</td>\n",
       "    </tr>\n",
       "  </tbody>\n",
       "</table>\n",
       "</div>"
      ],
      "text/plain": [
       "    x   y  x^2  x_i*y_i     y_pred\n",
       "0  13  40  169      520  39.788321\n",
       "1  19  83  361     1577  83.759124\n",
       "2  16  62  256      992  61.773723\n",
       "3  14  48  196      672  47.116788\n",
       "4  15  58  225      870  54.445255\n",
       "5  14  43  196      602  47.116788"
      ]
     },
     "execution_count": 35,
     "metadata": {},
     "output_type": "execute_result"
    }
   ],
   "source": [
    "data['y_pred'] = a * x + b\n",
    "data"
   ]
  },
  {
   "cell_type": "code",
   "execution_count": 36,
   "metadata": {},
   "outputs": [
    {
     "data": {
      "text/html": [
       "<div>\n",
       "<style scoped>\n",
       "    .dataframe tbody tr th:only-of-type {\n",
       "        vertical-align: middle;\n",
       "    }\n",
       "\n",
       "    .dataframe tbody tr th {\n",
       "        vertical-align: top;\n",
       "    }\n",
       "\n",
       "    .dataframe thead th {\n",
       "        text-align: right;\n",
       "    }\n",
       "</style>\n",
       "<table border=\"1\" class=\"dataframe\">\n",
       "  <thead>\n",
       "    <tr style=\"text-align: right;\">\n",
       "      <th></th>\n",
       "      <th>x</th>\n",
       "      <th>y</th>\n",
       "      <th>x^2</th>\n",
       "      <th>x_i*y_i</th>\n",
       "      <th>y_pred</th>\n",
       "      <th>y - y_pred</th>\n",
       "      <th>pow(y - y_pred)</th>\n",
       "    </tr>\n",
       "  </thead>\n",
       "  <tbody>\n",
       "    <tr>\n",
       "      <th>0</th>\n",
       "      <td>13</td>\n",
       "      <td>40</td>\n",
       "      <td>169</td>\n",
       "      <td>520</td>\n",
       "      <td>39.788321</td>\n",
       "      <td>0.211679</td>\n",
       "      <td>0.044808</td>\n",
       "    </tr>\n",
       "    <tr>\n",
       "      <th>1</th>\n",
       "      <td>19</td>\n",
       "      <td>83</td>\n",
       "      <td>361</td>\n",
       "      <td>1577</td>\n",
       "      <td>83.759124</td>\n",
       "      <td>-0.759124</td>\n",
       "      <td>0.576269</td>\n",
       "    </tr>\n",
       "    <tr>\n",
       "      <th>2</th>\n",
       "      <td>16</td>\n",
       "      <td>62</td>\n",
       "      <td>256</td>\n",
       "      <td>992</td>\n",
       "      <td>61.773723</td>\n",
       "      <td>0.226277</td>\n",
       "      <td>0.051201</td>\n",
       "    </tr>\n",
       "    <tr>\n",
       "      <th>3</th>\n",
       "      <td>14</td>\n",
       "      <td>48</td>\n",
       "      <td>196</td>\n",
       "      <td>672</td>\n",
       "      <td>47.116788</td>\n",
       "      <td>0.883212</td>\n",
       "      <td>0.780063</td>\n",
       "    </tr>\n",
       "    <tr>\n",
       "      <th>4</th>\n",
       "      <td>15</td>\n",
       "      <td>58</td>\n",
       "      <td>225</td>\n",
       "      <td>870</td>\n",
       "      <td>54.445255</td>\n",
       "      <td>3.554745</td>\n",
       "      <td>12.636209</td>\n",
       "    </tr>\n",
       "    <tr>\n",
       "      <th>5</th>\n",
       "      <td>14</td>\n",
       "      <td>43</td>\n",
       "      <td>196</td>\n",
       "      <td>602</td>\n",
       "      <td>47.116788</td>\n",
       "      <td>-4.116788</td>\n",
       "      <td>16.947946</td>\n",
       "    </tr>\n",
       "  </tbody>\n",
       "</table>\n",
       "</div>"
      ],
      "text/plain": [
       "    x   y  x^2  x_i*y_i     y_pred  y - y_pred  pow(y - y_pred)\n",
       "0  13  40  169      520  39.788321    0.211679         0.044808\n",
       "1  19  83  361     1577  83.759124   -0.759124         0.576269\n",
       "2  16  62  256      992  61.773723    0.226277         0.051201\n",
       "3  14  48  196      672  47.116788    0.883212         0.780063\n",
       "4  15  58  225      870  54.445255    3.554745        12.636209\n",
       "5  14  43  196      602  47.116788   -4.116788        16.947946"
      ]
     },
     "execution_count": 36,
     "metadata": {},
     "output_type": "execute_result"
    }
   ],
   "source": [
    "data['y - y_pred'] = data['y'] - data['y_pred']\n",
    "data['pow(y - y_pred)'] = data['y - y_pred'] ** 2\n",
    "data"
   ]
  },
  {
   "cell_type": "code",
   "execution_count": 37,
   "metadata": {},
   "outputs": [],
   "source": [
    "mean_y = data['y'].mean()"
   ]
  },
  {
   "cell_type": "code",
   "execution_count": 38,
   "metadata": {},
   "outputs": [
    {
     "data": {
      "text/html": [
       "<div>\n",
       "<style scoped>\n",
       "    .dataframe tbody tr th:only-of-type {\n",
       "        vertical-align: middle;\n",
       "    }\n",
       "\n",
       "    .dataframe tbody tr th {\n",
       "        vertical-align: top;\n",
       "    }\n",
       "\n",
       "    .dataframe thead th {\n",
       "        text-align: right;\n",
       "    }\n",
       "</style>\n",
       "<table border=\"1\" class=\"dataframe\">\n",
       "  <thead>\n",
       "    <tr style=\"text-align: right;\">\n",
       "      <th></th>\n",
       "      <th>x</th>\n",
       "      <th>y</th>\n",
       "      <th>x^2</th>\n",
       "      <th>x_i*y_i</th>\n",
       "      <th>y_pred</th>\n",
       "      <th>y - y_pred</th>\n",
       "      <th>pow(y - y_pred)</th>\n",
       "      <th>y - y_bar</th>\n",
       "      <th>pow(y - y_bar)</th>\n",
       "    </tr>\n",
       "  </thead>\n",
       "  <tbody>\n",
       "    <tr>\n",
       "      <th>0</th>\n",
       "      <td>13</td>\n",
       "      <td>40</td>\n",
       "      <td>169</td>\n",
       "      <td>520</td>\n",
       "      <td>39.788321</td>\n",
       "      <td>0.211679</td>\n",
       "      <td>0.044808</td>\n",
       "      <td>-15.666667</td>\n",
       "      <td>245.444444</td>\n",
       "    </tr>\n",
       "    <tr>\n",
       "      <th>1</th>\n",
       "      <td>19</td>\n",
       "      <td>83</td>\n",
       "      <td>361</td>\n",
       "      <td>1577</td>\n",
       "      <td>83.759124</td>\n",
       "      <td>-0.759124</td>\n",
       "      <td>0.576269</td>\n",
       "      <td>27.333333</td>\n",
       "      <td>747.111111</td>\n",
       "    </tr>\n",
       "    <tr>\n",
       "      <th>2</th>\n",
       "      <td>16</td>\n",
       "      <td>62</td>\n",
       "      <td>256</td>\n",
       "      <td>992</td>\n",
       "      <td>61.773723</td>\n",
       "      <td>0.226277</td>\n",
       "      <td>0.051201</td>\n",
       "      <td>6.333333</td>\n",
       "      <td>40.111111</td>\n",
       "    </tr>\n",
       "    <tr>\n",
       "      <th>3</th>\n",
       "      <td>14</td>\n",
       "      <td>48</td>\n",
       "      <td>196</td>\n",
       "      <td>672</td>\n",
       "      <td>47.116788</td>\n",
       "      <td>0.883212</td>\n",
       "      <td>0.780063</td>\n",
       "      <td>-7.666667</td>\n",
       "      <td>58.777778</td>\n",
       "    </tr>\n",
       "    <tr>\n",
       "      <th>4</th>\n",
       "      <td>15</td>\n",
       "      <td>58</td>\n",
       "      <td>225</td>\n",
       "      <td>870</td>\n",
       "      <td>54.445255</td>\n",
       "      <td>3.554745</td>\n",
       "      <td>12.636209</td>\n",
       "      <td>2.333333</td>\n",
       "      <td>5.444444</td>\n",
       "    </tr>\n",
       "    <tr>\n",
       "      <th>5</th>\n",
       "      <td>14</td>\n",
       "      <td>43</td>\n",
       "      <td>196</td>\n",
       "      <td>602</td>\n",
       "      <td>47.116788</td>\n",
       "      <td>-4.116788</td>\n",
       "      <td>16.947946</td>\n",
       "      <td>-12.666667</td>\n",
       "      <td>160.444444</td>\n",
       "    </tr>\n",
       "  </tbody>\n",
       "</table>\n",
       "</div>"
      ],
      "text/plain": [
       "    x   y  x^2  x_i*y_i     y_pred  y - y_pred  pow(y - y_pred)  y - y_bar  \\\n",
       "0  13  40  169      520  39.788321    0.211679         0.044808 -15.666667   \n",
       "1  19  83  361     1577  83.759124   -0.759124         0.576269  27.333333   \n",
       "2  16  62  256      992  61.773723    0.226277         0.051201   6.333333   \n",
       "3  14  48  196      672  47.116788    0.883212         0.780063  -7.666667   \n",
       "4  15  58  225      870  54.445255    3.554745        12.636209   2.333333   \n",
       "5  14  43  196      602  47.116788   -4.116788        16.947946 -12.666667   \n",
       "\n",
       "   pow(y - y_bar)  \n",
       "0      245.444444  \n",
       "1      747.111111  \n",
       "2       40.111111  \n",
       "3       58.777778  \n",
       "4        5.444444  \n",
       "5      160.444444  "
      ]
     },
     "execution_count": 38,
     "metadata": {},
     "output_type": "execute_result"
    }
   ],
   "source": [
    "data['y - y_bar'] = data['y'] - mean_y\n",
    "data['pow(y - y_bar)'] = data['y - y_bar'] **2\n",
    "data"
   ]
  },
  {
   "cell_type": "code",
   "execution_count": 39,
   "metadata": {},
   "outputs": [],
   "source": [
    "SST = data['pow(y - y_bar)'].sum()\n",
    "SSE = data['pow(y - y_pred)'].sum()"
   ]
  },
  {
   "cell_type": "code",
   "execution_count": 40,
   "metadata": {},
   "outputs": [],
   "source": [
    "SSR = SST - SSE"
   ]
  },
  {
   "cell_type": "code",
   "execution_count": 41,
   "metadata": {
    "scrolled": true
   },
   "outputs": [
    {
     "data": {
      "text/plain": [
       "0.9753156179610034"
      ]
     },
     "execution_count": 41,
     "metadata": {},
     "output_type": "execute_result"
    }
   ],
   "source": [
    "R2 = SSR/SST\n",
    "R2"
   ]
  },
  {
   "cell_type": "markdown",
   "metadata": {},
   "source": [
    "### 성능검사"
   ]
  },
  {
   "cell_type": "code",
   "execution_count": 42,
   "metadata": {},
   "outputs": [
    {
     "name": "stdout",
     "output_type": "stream",
     "text": [
      "score =  0.9753156179610034\n",
      "Mean_Squared_Error =  5.172749391727503\n",
      "RMSE =  2.2743679103714736\n"
     ]
    }
   ],
   "source": [
    "from sklearn.metrics import mean_squared_error\n",
    "\n",
    "# 결정계수 구하기\n",
    "print('score = ', linear_regression.score(X = pd.DataFrame(data['x']), y = data['y']))\n",
    "\n",
    "# 잔차의 제곱의 합 (SSE)\n",
    "print('Mean_Squared_Error = ' , mean_squared_error(prediction, data['y']))\n",
    "\n",
    "# 제곱근\n",
    "print('RMSE = ', mean_squared_error(prediction, data['y'])**0.5)"
   ]
  }
 ],
 "metadata": {
  "kernelspec": {
   "display_name": "Python 3",
   "language": "python",
   "name": "python3"
  },
  "language_info": {
   "codemirror_mode": {
    "name": "ipython",
    "version": 3
   },
   "file_extension": ".py",
   "mimetype": "text/x-python",
   "name": "python",
   "nbconvert_exporter": "python",
   "pygments_lexer": "ipython3",
   "version": "3.7.3"
  }
 },
 "nbformat": 4,
 "nbformat_minor": 2
}
