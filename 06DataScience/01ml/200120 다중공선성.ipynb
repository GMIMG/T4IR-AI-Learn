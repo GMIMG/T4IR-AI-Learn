{
 "cells": [
  {
   "cell_type": "markdown",
   "metadata": {},
   "source": [
    "## 다중공선성"
   ]
  },
  {
   "cell_type": "code",
   "execution_count": 69,
   "metadata": {},
   "outputs": [],
   "source": [
    "from sklearn import linear_model\n",
    "import numpy as np\n",
    "import pandas as pd\n",
    "\n",
    "data = pd.DataFrame({'x1': [1,4,5,8,10],\n",
    "                     'x2': [3,5,7,9,10],\n",
    "                     'x3': [7,8,5,7,4],\n",
    "                     'y': [30,40,45,60,61]})"
   ]
  },
  {
   "cell_type": "code",
   "execution_count": 70,
   "metadata": {},
   "outputs": [
    {
     "data": {
      "text/plain": [
       "LinearRegression(copy_X=True, fit_intercept=True, n_jobs=None,\n",
       "         normalize=False)"
      ]
     },
     "execution_count": 70,
     "metadata": {},
     "output_type": "execute_result"
    }
   ],
   "source": [
    "# LinearRegression()을 사용해 선형회귀모델을 받는다\n",
    "# .fit을 통해서 X값과 y값을 통해 모델을 학습시킨다\n",
    "linear_regresstion = linear_model.LinearRegression()\n",
    "linear_regresstion.fit(X = pd.DataFrame(data[['x1' , 'x2' , 'x3']]) , y = data['y'])"
   ]
  },
  {
   "cell_type": "code",
   "execution_count": 71,
   "metadata": {},
   "outputs": [
    {
     "data": {
      "text/plain": [
       "0.9952763020975958"
      ]
     },
     "execution_count": 71,
     "metadata": {},
     "output_type": "execute_result"
    }
   ],
   "source": [
    "# score를 통해 R_squared를 구함\n",
    "linear_regresstion.score(X = pd.DataFrame(data[['x1', 'x2', 'x3']]), y = data['y'])"
   ]
  },
  {
   "cell_type": "code",
   "execution_count": 72,
   "metadata": {},
   "outputs": [
    {
     "data": {
      "text/plain": [
       "array([28.98387097, 41.06451613, 45.82258065, 59.32258065, 60.80645161])"
      ]
     },
     "execution_count": 72,
     "metadata": {},
     "output_type": "execute_result"
    }
   ],
   "source": [
    "# predict를 통해 y값을 예측함\n",
    "prediction = linear_regresstion.predict(X = pd.DataFrame(data[['x1','x2','x3']]))\n",
    "prediction"
   ]
  },
  {
   "cell_type": "code",
   "execution_count": 73,
   "metadata": {},
   "outputs": [
    {
     "data": {
      "text/plain": [
       "0   -1.016129\n",
       "1    1.064516\n",
       "2    0.822581\n",
       "3   -0.677419\n",
       "4   -0.193548\n",
       "Name: y, dtype: float64"
      ]
     },
     "execution_count": 73,
     "metadata": {},
     "output_type": "execute_result"
    }
   ],
   "source": [
    "# y예측값과 진짜 y값을 뺸 잔차를 구해준다.\n",
    "residual = prediction - data['y']\n",
    "residual"
   ]
  },
  {
   "cell_type": "code",
   "execution_count": 74,
   "metadata": {},
   "outputs": [
    {
     "data": {
      "text/plain": [
       "0.6677419354838687"
      ]
     },
     "execution_count": 74,
     "metadata": {},
     "output_type": "execute_result"
    }
   ],
   "source": [
    "# 잔차 제곱의 평균을 계산\n",
    "MSE = (residual*residual).sum() / 5\n",
    "MSE"
   ]
  },
  {
   "cell_type": "code",
   "execution_count": 75,
   "metadata": {},
   "outputs": [
    {
     "data": {
      "text/plain": [
       "0.8171547806161747"
      ]
     },
     "execution_count": 75,
     "metadata": {},
     "output_type": "execute_result"
    }
   ],
   "source": [
    "# 제곱근 잔차 제곱의 편균을 계산\n",
    "RMSE = ((residual*residual).sum()/5)**0.5\n",
    "RMSE"
   ]
  },
  {
   "cell_type": "code",
   "execution_count": 76,
   "metadata": {},
   "outputs": [
    {
     "name": "stdout",
     "output_type": "stream",
     "text": [
      "a value=  -3.4623255813953495\n",
      "b value=  [1.2427907  0.09860465]\n"
     ]
    }
   ],
   "source": [
    "# x1이 종속성이 의심된다면 x2 와 x3를 X로 y값을 x1을 준다\n",
    "# a의 값과 b의 값을 구해준다\n",
    "linear_regresstion.fit(X = pd.DataFrame(data[['x2','x3']]) , y = data['x1'])\n",
    "\n",
    "print('a value= ', linear_regresstion.intercept_)\n",
    "print('b value= ', linear_regresstion.coef_)"
   ]
  },
  {
   "cell_type": "code",
   "execution_count": 77,
   "metadata": {},
   "outputs": [
    {
     "data": {
      "text/plain": [
       "0.9730383815466063"
      ]
     },
     "execution_count": 77,
     "metadata": {},
     "output_type": "execute_result"
    }
   ],
   "source": [
    "# x1 예측에 대한 r_squared를 구한다\n",
    "r_squared = linear_regresstion.score(X = pd.DataFrame(data[['x2' , 'x3']]) , y = data['x1'])\n",
    "r_squared"
   ]
  },
  {
   "cell_type": "code",
   "execution_count": 78,
   "metadata": {},
   "outputs": [],
   "source": [
    "# LinearRegresstion을 편하게 사용하기 위해 import\n",
    "# 매게 변수로 X값과 y 값을 받아 r_squared 구하고 VIF를 return 한다\n",
    "# VIF가 10보다 크다면 문제가 있기 때문에 해당 칼럼을 삭제한다\n",
    "from sklearn.linear_model import LinearRegression\n",
    "def sklearn_VIF(x , y):\n",
    "    r_squared_ = LinearRegression().fit(x , y).score(x , y)\n",
    "    return 1 / (1 - r_squared_)"
   ]
  },
  {
   "cell_type": "code",
   "execution_count": 79,
   "metadata": {},
   "outputs": [
    {
     "data": {
      "text/plain": [
       "37.08976157082763"
      ]
     },
     "execution_count": 79,
     "metadata": {},
     "output_type": "execute_result"
    }
   ],
   "source": [
    "sklearn_VIF(data[['x2','x3']] , data['x1'])"
   ]
  },
  {
   "cell_type": "code",
   "execution_count": 80,
   "metadata": {},
   "outputs": [
    {
     "data": {
      "text/plain": [
       "39.83842917251046"
      ]
     },
     "execution_count": 80,
     "metadata": {},
     "output_type": "execute_result"
    }
   ],
   "source": [
    "sklearn_VIF(data[['x1','x3']] , data['x2'])"
   ]
  },
  {
   "cell_type": "code",
   "execution_count": 81,
   "metadata": {},
   "outputs": [
    {
     "data": {
      "text/plain": [
       "1.7267882187938297"
      ]
     },
     "execution_count": 81,
     "metadata": {},
     "output_type": "execute_result"
    }
   ],
   "source": [
    "sklearn_VIF(data[['x1','x2']] , data['x3'])"
   ]
  },
  {
   "cell_type": "code",
   "execution_count": 82,
   "metadata": {},
   "outputs": [
    {
     "data": {
      "text/html": [
       "<div>\n",
       "<style scoped>\n",
       "    .dataframe tbody tr th:only-of-type {\n",
       "        vertical-align: middle;\n",
       "    }\n",
       "\n",
       "    .dataframe tbody tr th {\n",
       "        vertical-align: top;\n",
       "    }\n",
       "\n",
       "    .dataframe thead th {\n",
       "        text-align: right;\n",
       "    }\n",
       "</style>\n",
       "<table border=\"1\" class=\"dataframe\">\n",
       "  <thead>\n",
       "    <tr style=\"text-align: right;\">\n",
       "      <th></th>\n",
       "      <th>x1</th>\n",
       "      <th>x3</th>\n",
       "      <th>y</th>\n",
       "    </tr>\n",
       "  </thead>\n",
       "  <tbody>\n",
       "    <tr>\n",
       "      <th>0</th>\n",
       "      <td>1</td>\n",
       "      <td>7</td>\n",
       "      <td>30</td>\n",
       "    </tr>\n",
       "    <tr>\n",
       "      <th>1</th>\n",
       "      <td>4</td>\n",
       "      <td>8</td>\n",
       "      <td>40</td>\n",
       "    </tr>\n",
       "    <tr>\n",
       "      <th>2</th>\n",
       "      <td>5</td>\n",
       "      <td>5</td>\n",
       "      <td>45</td>\n",
       "    </tr>\n",
       "    <tr>\n",
       "      <th>3</th>\n",
       "      <td>8</td>\n",
       "      <td>7</td>\n",
       "      <td>60</td>\n",
       "    </tr>\n",
       "    <tr>\n",
       "      <th>4</th>\n",
       "      <td>10</td>\n",
       "      <td>4</td>\n",
       "      <td>61</td>\n",
       "    </tr>\n",
       "  </tbody>\n",
       "</table>\n",
       "</div>"
      ],
      "text/plain": [
       "   x1  x3   y\n",
       "0   1   7  30\n",
       "1   4   8  40\n",
       "2   5   5  45\n",
       "3   8   7  60\n",
       "4  10   4  61"
      ]
     },
     "execution_count": 82,
     "metadata": {},
     "output_type": "execute_result"
    }
   ],
   "source": [
    "new_data = data[['x1', 'x3' , 'y']]\n",
    "\n",
    "new_data"
   ]
  },
  {
   "cell_type": "code",
   "execution_count": 83,
   "metadata": {},
   "outputs": [
    {
     "data": {
      "text/plain": [
       "1.5339491916859125"
      ]
     },
     "execution_count": 83,
     "metadata": {},
     "output_type": "execute_result"
    }
   ],
   "source": [
    "sklearn_VIF(data[['x1']] , data['x3'])"
   ]
  },
  {
   "cell_type": "code",
   "execution_count": 84,
   "metadata": {},
   "outputs": [
    {
     "data": {
      "text/plain": [
       "1.5339491916859123"
      ]
     },
     "execution_count": 84,
     "metadata": {},
     "output_type": "execute_result"
    }
   ],
   "source": [
    "sklearn_VIF(data[['x3']] , data['x1'])"
   ]
  },
  {
   "cell_type": "code",
   "execution_count": 85,
   "metadata": {},
   "outputs": [
    {
     "data": {
      "text/plain": [
       "array([29.61778291, 42.48845266, 43.70323326, 57.4965358 , 62.69399538])"
      ]
     },
     "execution_count": 85,
     "metadata": {},
     "output_type": "execute_result"
    }
   ],
   "source": [
    "linear_regresstion = linear_model.LinearRegression()\n",
    "linear_regresstion.fit(X = pd.DataFrame(data[['x1', 'x3']]) , y = data['y'])\n",
    "\n",
    "prediction = linear_regresstion.predict(X = pd.DataFrame(data[['x1','x3']]))\n",
    "prediction"
   ]
  },
  {
   "cell_type": "code",
   "execution_count": 86,
   "metadata": {},
   "outputs": [
    {
     "data": {
      "text/plain": [
       "0   -0.382217\n",
       "1    2.488453\n",
       "2   -1.296767\n",
       "3   -2.503464\n",
       "4    1.693995\n",
       "Name: y, dtype: float64"
      ]
     },
     "execution_count": 86,
     "metadata": {},
     "output_type": "execute_result"
    }
   ],
   "source": [
    "residual = prediction - data['y']\n",
    "residual"
   ]
  },
  {
   "cell_type": "code",
   "execution_count": 87,
   "metadata": {},
   "outputs": [
    {
     "data": {
      "text/plain": [
       "3.4314087759815246"
      ]
     },
     "execution_count": 87,
     "metadata": {},
     "output_type": "execute_result"
    }
   ],
   "source": [
    "MSE = (residual*residual).sum() / 5\n",
    "MSE"
   ]
  },
  {
   "cell_type": "code",
   "execution_count": 88,
   "metadata": {},
   "outputs": [
    {
     "data": {
      "text/plain": [
       "1.8524062124657013"
      ]
     },
     "execution_count": 88,
     "metadata": {},
     "output_type": "execute_result"
    }
   ],
   "source": [
    "RMSE = ((residual*residual).sum()/5)**0.5\n",
    "RMSE"
   ]
  },
  {
   "cell_type": "code",
   "execution_count": null,
   "metadata": {},
   "outputs": [],
   "source": []
  },
  {
   "cell_type": "markdown",
   "metadata": {},
   "source": [
    "## 미국 경제 데이터를 이용한 다중 공선성 예제"
   ]
  },
  {
   "cell_type": "code",
   "execution_count": 89,
   "metadata": {},
   "outputs": [],
   "source": [
    "import pandas as pd\n",
    "import numpy as np\n",
    "import matplotlib.pyplot as plt\n",
    "from sklearn.linear_model import LinearRegression\n",
    "from sklearn.metrics import r2_score\n",
    "import statsmodels.api as sm\n",
    "import seaborn as sns"
   ]
  },
  {
   "cell_type": "code",
   "execution_count": 90,
   "metadata": {},
   "outputs": [],
   "source": [
    "from statsmodels.datasets.longley import load_pandas\n",
    "# gnp deflator(실질 gnp), GNP, 실업자수,군대, 인구\n",
    "dfX = load_pandas().exog\n",
    "# 고용자 수\n",
    "dfy = load_pandas().endog\n",
    "# 데이터프레임 만들기\n",
    "df = pd.concat([dfX,dfy],axis = 1)"
   ]
  },
  {
   "cell_type": "code",
   "execution_count": 91,
   "metadata": {},
   "outputs": [
    {
     "data": {
      "text/html": [
       "<div>\n",
       "<style scoped>\n",
       "    .dataframe tbody tr th:only-of-type {\n",
       "        vertical-align: middle;\n",
       "    }\n",
       "\n",
       "    .dataframe tbody tr th {\n",
       "        vertical-align: top;\n",
       "    }\n",
       "\n",
       "    .dataframe thead th {\n",
       "        text-align: right;\n",
       "    }\n",
       "</style>\n",
       "<table border=\"1\" class=\"dataframe\">\n",
       "  <thead>\n",
       "    <tr style=\"text-align: right;\">\n",
       "      <th></th>\n",
       "      <th>GNPDEFL</th>\n",
       "      <th>GNP</th>\n",
       "      <th>UNEMP</th>\n",
       "      <th>ARMED</th>\n",
       "      <th>POP</th>\n",
       "      <th>YEAR</th>\n",
       "      <th>TOTEMP</th>\n",
       "    </tr>\n",
       "  </thead>\n",
       "  <tbody>\n",
       "    <tr>\n",
       "      <th>GNPDEFL</th>\n",
       "      <td>1.000000</td>\n",
       "      <td>0.991589</td>\n",
       "      <td>0.620633</td>\n",
       "      <td>0.464744</td>\n",
       "      <td>0.979163</td>\n",
       "      <td>0.991149</td>\n",
       "      <td>0.970899</td>\n",
       "    </tr>\n",
       "    <tr>\n",
       "      <th>GNP</th>\n",
       "      <td>0.991589</td>\n",
       "      <td>1.000000</td>\n",
       "      <td>0.604261</td>\n",
       "      <td>0.446437</td>\n",
       "      <td>0.991090</td>\n",
       "      <td>0.995273</td>\n",
       "      <td>0.983552</td>\n",
       "    </tr>\n",
       "    <tr>\n",
       "      <th>UNEMP</th>\n",
       "      <td>0.620633</td>\n",
       "      <td>0.604261</td>\n",
       "      <td>1.000000</td>\n",
       "      <td>-0.177421</td>\n",
       "      <td>0.686552</td>\n",
       "      <td>0.668257</td>\n",
       "      <td>0.502498</td>\n",
       "    </tr>\n",
       "    <tr>\n",
       "      <th>ARMED</th>\n",
       "      <td>0.464744</td>\n",
       "      <td>0.446437</td>\n",
       "      <td>-0.177421</td>\n",
       "      <td>1.000000</td>\n",
       "      <td>0.364416</td>\n",
       "      <td>0.417245</td>\n",
       "      <td>0.457307</td>\n",
       "    </tr>\n",
       "    <tr>\n",
       "      <th>POP</th>\n",
       "      <td>0.979163</td>\n",
       "      <td>0.991090</td>\n",
       "      <td>0.686552</td>\n",
       "      <td>0.364416</td>\n",
       "      <td>1.000000</td>\n",
       "      <td>0.993953</td>\n",
       "      <td>0.960391</td>\n",
       "    </tr>\n",
       "    <tr>\n",
       "      <th>YEAR</th>\n",
       "      <td>0.991149</td>\n",
       "      <td>0.995273</td>\n",
       "      <td>0.668257</td>\n",
       "      <td>0.417245</td>\n",
       "      <td>0.993953</td>\n",
       "      <td>1.000000</td>\n",
       "      <td>0.971329</td>\n",
       "    </tr>\n",
       "    <tr>\n",
       "      <th>TOTEMP</th>\n",
       "      <td>0.970899</td>\n",
       "      <td>0.983552</td>\n",
       "      <td>0.502498</td>\n",
       "      <td>0.457307</td>\n",
       "      <td>0.960391</td>\n",
       "      <td>0.971329</td>\n",
       "      <td>1.000000</td>\n",
       "    </tr>\n",
       "  </tbody>\n",
       "</table>\n",
       "</div>"
      ],
      "text/plain": [
       "          GNPDEFL       GNP     UNEMP     ARMED       POP      YEAR    TOTEMP\n",
       "GNPDEFL  1.000000  0.991589  0.620633  0.464744  0.979163  0.991149  0.970899\n",
       "GNP      0.991589  1.000000  0.604261  0.446437  0.991090  0.995273  0.983552\n",
       "UNEMP    0.620633  0.604261  1.000000 -0.177421  0.686552  0.668257  0.502498\n",
       "ARMED    0.464744  0.446437 -0.177421  1.000000  0.364416  0.417245  0.457307\n",
       "POP      0.979163  0.991090  0.686552  0.364416  1.000000  0.993953  0.960391\n",
       "YEAR     0.991149  0.995273  0.668257  0.417245  0.993953  1.000000  0.971329\n",
       "TOTEMP   0.970899  0.983552  0.502498  0.457307  0.960391  0.971329  1.000000"
      ]
     },
     "execution_count": 91,
     "metadata": {},
     "output_type": "execute_result"
    }
   ],
   "source": [
    "# 공분산으로 상관관계를 확인. 공선성이 되는 값을 없에야 되기 때문에\n",
    "df.corr()"
   ]
  },
  {
   "cell_type": "code",
   "execution_count": 92,
   "metadata": {},
   "outputs": [
    {
     "data": {
      "text/plain": [
       "<matplotlib.axes._subplots.AxesSubplot at 0x1d2dc0c6a58>"
      ]
     },
     "execution_count": 92,
     "metadata": {},
     "output_type": "execute_result"
    },
    {
     "data": {
      "image/png": "[encoded data removed]",
      "text/plain": [
       "<Figure size 1440x720 with 2 Axes>"
      ]
     },
     "metadata": {},
     "output_type": "display_data"
    }
   ],
   "source": [
    "# 그림으로 보기\n",
    "sns.set(font_scale=1.5)\n",
    "f , ax = plt.subplots(figsize = (20,10))\n",
    "sns.heatmap(df.corr(), annot = True, fmt = \".2f\", cmap = \"RdBu_r\")"
   ]
  },
  {
   "cell_type": "code",
   "execution_count": 93,
   "metadata": {},
   "outputs": [
    {
     "data": {
      "text/html": [
       "<div>\n",
       "<style scoped>\n",
       "    .dataframe tbody tr th:only-of-type {\n",
       "        vertical-align: middle;\n",
       "    }\n",
       "\n",
       "    .dataframe tbody tr th {\n",
       "        vertical-align: top;\n",
       "    }\n",
       "\n",
       "    .dataframe thead th {\n",
       "        text-align: right;\n",
       "    }\n",
       "</style>\n",
       "<table border=\"1\" class=\"dataframe\">\n",
       "  <thead>\n",
       "    <tr style=\"text-align: right;\">\n",
       "      <th></th>\n",
       "      <th>GNPDEFL</th>\n",
       "      <th>GNP</th>\n",
       "      <th>UNEMP</th>\n",
       "      <th>ARMED</th>\n",
       "      <th>POP</th>\n",
       "    </tr>\n",
       "  </thead>\n",
       "  <tbody>\n",
       "    <tr>\n",
       "      <th>0</th>\n",
       "      <td>83.0</td>\n",
       "      <td>234289.0</td>\n",
       "      <td>2356.0</td>\n",
       "      <td>1590.0</td>\n",
       "      <td>107608.0</td>\n",
       "    </tr>\n",
       "    <tr>\n",
       "      <th>1</th>\n",
       "      <td>88.5</td>\n",
       "      <td>259426.0</td>\n",
       "      <td>2325.0</td>\n",
       "      <td>1456.0</td>\n",
       "      <td>108632.0</td>\n",
       "    </tr>\n",
       "    <tr>\n",
       "      <th>2</th>\n",
       "      <td>88.2</td>\n",
       "      <td>258054.0</td>\n",
       "      <td>3682.0</td>\n",
       "      <td>1616.0</td>\n",
       "      <td>109773.0</td>\n",
       "    </tr>\n",
       "    <tr>\n",
       "      <th>3</th>\n",
       "      <td>89.5</td>\n",
       "      <td>284599.0</td>\n",
       "      <td>3351.0</td>\n",
       "      <td>1650.0</td>\n",
       "      <td>110929.0</td>\n",
       "    </tr>\n",
       "    <tr>\n",
       "      <th>4</th>\n",
       "      <td>96.2</td>\n",
       "      <td>328975.0</td>\n",
       "      <td>2099.0</td>\n",
       "      <td>3099.0</td>\n",
       "      <td>112075.0</td>\n",
       "    </tr>\n",
       "  </tbody>\n",
       "</table>\n",
       "</div>"
      ],
      "text/plain": [
       "   GNPDEFL       GNP   UNEMP   ARMED       POP\n",
       "0     83.0  234289.0  2356.0  1590.0  107608.0\n",
       "1     88.5  259426.0  2325.0  1456.0  108632.0\n",
       "2     88.2  258054.0  3682.0  1616.0  109773.0\n",
       "3     89.5  284599.0  3351.0  1650.0  110929.0\n",
       "4     96.2  328975.0  2099.0  3099.0  112075.0"
      ]
     },
     "execution_count": 93,
     "metadata": {},
     "output_type": "execute_result"
    }
   ],
   "source": [
    "# 데이터의 범주가 여러가지이기 때문에 맞춰줘야한다. 즉 스케일러를 사용\n",
    "y = df['TOTEMP']\n",
    "X = df.drop([\"TOTEMP\" , \"YEAR\"] , axis = 1)\n",
    "X.head()"
   ]
  },
  {
   "cell_type": "code",
   "execution_count": 94,
   "metadata": {
    "scrolled": true
   },
   "outputs": [
    {
     "data": {
      "text/plain": [
       "array([[0.        , 0.        , 0.16553134, 0.0626754 , 0.        ],\n",
       "       [0.16224189, 0.07840489, 0.15497275, 0.        , 0.04556579],\n",
       "       [0.15339233, 0.07412548, 0.61716621, 0.0748363 , 0.09633783],\n",
       "       [0.19174041, 0.15692207, 0.50442779, 0.09073901, 0.14777733],\n",
       "       [0.38938053, 0.29533538, 0.07799728, 0.76847521, 0.19877186],\n",
       "       [0.44542773, 0.35155409, 0.02111717, 1.        , 0.25194678],\n",
       "       [0.4719764 , 0.40890192, 0.        , 0.97801684, 0.33311084],\n",
       "       [0.50147493, 0.4018122 , 0.58174387, 0.88587465, 0.38317092],\n",
       "       [0.53687316, 0.50897522, 0.35217984, 0.74462114, 0.43518889],\n",
       "       [0.63716814, 0.57669406, 0.32425068, 0.65528531, 0.49508299],\n",
       "       [0.74926254, 0.65027058, 0.36307902, 0.62768943, 0.5712188 ],\n",
       "       [0.820059  , 0.65581323, 0.95742507, 0.55238541, 0.63818805],\n",
       "       [0.87315634, 0.77483196, 0.66178474, 0.51262862, 0.70119699],\n",
       "       [0.92035398, 0.83689275, 0.70197548, 0.494855  , 0.79028167],\n",
       "       [0.96460177, 0.88546342, 1.        , 0.52198316, 0.90081431],\n",
       "       [1.        , 1.        , 0.72786104, 0.64125351, 1.        ]])"
      ]
     },
     "execution_count": 94,
     "metadata": {},
     "output_type": "execute_result"
    }
   ],
   "source": [
    "# 범주를 같게 해주기위해서 Scaler사용\n",
    "# 최대값 = 1, 최솟값 = 0 으로 하여 그사이에 값들이 있도록 하는 방법\n",
    "from sklearn.preprocessing import MinMaxScaler\n",
    "# 데이터의 범위를 일정하게 만들어주는 객체\n",
    "scaler = MinMaxScaler()\n",
    "# 각 컬럼의 평균 표준편차 계산\n",
    "scaler.fit(X)\n",
    "# (데이터 - 최소값) / (최대값 - 최소값) 를 계산해서 각 컬럼의 데이터 범위를 0-1 사이로 일정하게 맞춰서 X_scaled에 대입\n",
    "X_scaled = scaler.transform(X)\n",
    "X_scaled"
   ]
  },
  {
   "cell_type": "code",
   "execution_count": 95,
   "metadata": {
    "scrolled": true
   },
   "outputs": [
    {
     "data": {
      "text/html": [
       "<div>\n",
       "<style scoped>\n",
       "    .dataframe tbody tr th:only-of-type {\n",
       "        vertical-align: middle;\n",
       "    }\n",
       "\n",
       "    .dataframe tbody tr th {\n",
       "        vertical-align: top;\n",
       "    }\n",
       "\n",
       "    .dataframe thead th {\n",
       "        text-align: right;\n",
       "    }\n",
       "</style>\n",
       "<table border=\"1\" class=\"dataframe\">\n",
       "  <thead>\n",
       "    <tr style=\"text-align: right;\">\n",
       "      <th></th>\n",
       "      <th>GNPDEFL</th>\n",
       "      <th>GNP</th>\n",
       "      <th>UNEMP</th>\n",
       "      <th>ARMED</th>\n",
       "      <th>POP</th>\n",
       "    </tr>\n",
       "  </thead>\n",
       "  <tbody>\n",
       "    <tr>\n",
       "      <th>0</th>\n",
       "      <td>0.000000</td>\n",
       "      <td>0.000000</td>\n",
       "      <td>0.165531</td>\n",
       "      <td>0.062675</td>\n",
       "      <td>0.000000</td>\n",
       "    </tr>\n",
       "    <tr>\n",
       "      <th>1</th>\n",
       "      <td>0.162242</td>\n",
       "      <td>0.078405</td>\n",
       "      <td>0.154973</td>\n",
       "      <td>0.000000</td>\n",
       "      <td>0.045566</td>\n",
       "    </tr>\n",
       "    <tr>\n",
       "      <th>2</th>\n",
       "      <td>0.153392</td>\n",
       "      <td>0.074125</td>\n",
       "      <td>0.617166</td>\n",
       "      <td>0.074836</td>\n",
       "      <td>0.096338</td>\n",
       "    </tr>\n",
       "    <tr>\n",
       "      <th>3</th>\n",
       "      <td>0.191740</td>\n",
       "      <td>0.156922</td>\n",
       "      <td>0.504428</td>\n",
       "      <td>0.090739</td>\n",
       "      <td>0.147777</td>\n",
       "    </tr>\n",
       "    <tr>\n",
       "      <th>4</th>\n",
       "      <td>0.389381</td>\n",
       "      <td>0.295335</td>\n",
       "      <td>0.077997</td>\n",
       "      <td>0.768475</td>\n",
       "      <td>0.198772</td>\n",
       "    </tr>\n",
       "    <tr>\n",
       "      <th>5</th>\n",
       "      <td>0.445428</td>\n",
       "      <td>0.351554</td>\n",
       "      <td>0.021117</td>\n",
       "      <td>1.000000</td>\n",
       "      <td>0.251947</td>\n",
       "    </tr>\n",
       "    <tr>\n",
       "      <th>6</th>\n",
       "      <td>0.471976</td>\n",
       "      <td>0.408902</td>\n",
       "      <td>0.000000</td>\n",
       "      <td>0.978017</td>\n",
       "      <td>0.333111</td>\n",
       "    </tr>\n",
       "    <tr>\n",
       "      <th>7</th>\n",
       "      <td>0.501475</td>\n",
       "      <td>0.401812</td>\n",
       "      <td>0.581744</td>\n",
       "      <td>0.885875</td>\n",
       "      <td>0.383171</td>\n",
       "    </tr>\n",
       "    <tr>\n",
       "      <th>8</th>\n",
       "      <td>0.536873</td>\n",
       "      <td>0.508975</td>\n",
       "      <td>0.352180</td>\n",
       "      <td>0.744621</td>\n",
       "      <td>0.435189</td>\n",
       "    </tr>\n",
       "    <tr>\n",
       "      <th>9</th>\n",
       "      <td>0.637168</td>\n",
       "      <td>0.576694</td>\n",
       "      <td>0.324251</td>\n",
       "      <td>0.655285</td>\n",
       "      <td>0.495083</td>\n",
       "    </tr>\n",
       "    <tr>\n",
       "      <th>10</th>\n",
       "      <td>0.749263</td>\n",
       "      <td>0.650271</td>\n",
       "      <td>0.363079</td>\n",
       "      <td>0.627689</td>\n",
       "      <td>0.571219</td>\n",
       "    </tr>\n",
       "    <tr>\n",
       "      <th>11</th>\n",
       "      <td>0.820059</td>\n",
       "      <td>0.655813</td>\n",
       "      <td>0.957425</td>\n",
       "      <td>0.552385</td>\n",
       "      <td>0.638188</td>\n",
       "    </tr>\n",
       "    <tr>\n",
       "      <th>12</th>\n",
       "      <td>0.873156</td>\n",
       "      <td>0.774832</td>\n",
       "      <td>0.661785</td>\n",
       "      <td>0.512629</td>\n",
       "      <td>0.701197</td>\n",
       "    </tr>\n",
       "    <tr>\n",
       "      <th>13</th>\n",
       "      <td>0.920354</td>\n",
       "      <td>0.836893</td>\n",
       "      <td>0.701975</td>\n",
       "      <td>0.494855</td>\n",
       "      <td>0.790282</td>\n",
       "    </tr>\n",
       "    <tr>\n",
       "      <th>14</th>\n",
       "      <td>0.964602</td>\n",
       "      <td>0.885463</td>\n",
       "      <td>1.000000</td>\n",
       "      <td>0.521983</td>\n",
       "      <td>0.900814</td>\n",
       "    </tr>\n",
       "    <tr>\n",
       "      <th>15</th>\n",
       "      <td>1.000000</td>\n",
       "      <td>1.000000</td>\n",
       "      <td>0.727861</td>\n",
       "      <td>0.641254</td>\n",
       "      <td>1.000000</td>\n",
       "    </tr>\n",
       "  </tbody>\n",
       "</table>\n",
       "</div>"
      ],
      "text/plain": [
       "     GNPDEFL       GNP     UNEMP     ARMED       POP\n",
       "0   0.000000  0.000000  0.165531  0.062675  0.000000\n",
       "1   0.162242  0.078405  0.154973  0.000000  0.045566\n",
       "2   0.153392  0.074125  0.617166  0.074836  0.096338\n",
       "3   0.191740  0.156922  0.504428  0.090739  0.147777\n",
       "4   0.389381  0.295335  0.077997  0.768475  0.198772\n",
       "5   0.445428  0.351554  0.021117  1.000000  0.251947\n",
       "6   0.471976  0.408902  0.000000  0.978017  0.333111\n",
       "7   0.501475  0.401812  0.581744  0.885875  0.383171\n",
       "8   0.536873  0.508975  0.352180  0.744621  0.435189\n",
       "9   0.637168  0.576694  0.324251  0.655285  0.495083\n",
       "10  0.749263  0.650271  0.363079  0.627689  0.571219\n",
       "11  0.820059  0.655813  0.957425  0.552385  0.638188\n",
       "12  0.873156  0.774832  0.661785  0.512629  0.701197\n",
       "13  0.920354  0.836893  0.701975  0.494855  0.790282\n",
       "14  0.964602  0.885463  1.000000  0.521983  0.900814\n",
       "15  1.000000  1.000000  0.727861  0.641254  1.000000"
      ]
     },
     "execution_count": 95,
     "metadata": {},
     "output_type": "execute_result"
    }
   ],
   "source": [
    "X = pd.DataFrame(X_scaled, columns = X.columns)\n",
    "X"
   ]
  },
  {
   "cell_type": "code",
   "execution_count": 96,
   "metadata": {},
   "outputs": [
    {
     "data": {
      "text/plain": [
       "LinearRegression(copy_X=True, fit_intercept=True, n_jobs=None,\n",
       "         normalize=False)"
      ]
     },
     "execution_count": 96,
     "metadata": {},
     "output_type": "execute_result"
    }
   ],
   "source": [
    "from sklearn.linear_model import LinearRegression\n",
    "# 선형 회귀 객체 생성\n",
    "reg = LinearRegression()\n",
    "reg.fit(X,y)"
   ]
  },
  {
   "cell_type": "code",
   "execution_count": 97,
   "metadata": {},
   "outputs": [
    {
     "name": "stdout",
     "output_type": "stream",
     "text": [
      "[-1642.88987543 23084.79411175 -1185.7654284  -1198.33955478\n",
      " -9068.05060078]\n",
      "60316.520285629886\n"
     ]
    }
   ],
   "source": [
    "# Weight\n",
    "print(reg.coef_)\n",
    "# Bias\n",
    "print(reg.intercept_)"
   ]
  },
  {
   "cell_type": "code",
   "execution_count": 98,
   "metadata": {},
   "outputs": [
    {
     "name": "stdout",
     "output_type": "stream",
     "text": [
      "the linear model is : Y = 60316.520285629886 + -1642.889875430809*GNPDEFL + 23084.794111748724*GNP + -1185.7654284028133*UNEMP+-1198.3395547765765*ARMED+-9068.050600778124*POP\n"
     ]
    }
   ],
   "source": [
    "print(f\"the linear model is : Y = {reg.intercept_} + {reg.coef_[0]}*GNPDEFL + {reg.coef_[1]}*GNP + {reg.coef_[2]}*UNEMP+{reg.coef_[3]}*ARMED+{reg.coef_[4]}*POP\")"
   ]
  },
  {
   "cell_type": "code",
   "execution_count": 99,
   "metadata": {},
   "outputs": [
    {
     "data": {
      "text/plain": [
       "array([60045.13254307, 61262.98126938, 60080.59511106, 61577.10404942,\n",
       "       63678.7134359 , 64192.23972166, 64787.86941276, 63542.40042971,\n",
       "       65927.85839769, 66923.40975212, 67734.37439117, 66524.21866929,\n",
       "       69011.34237133, 69532.28010289, 69192.6183171 , 71058.86202547])"
      ]
     },
     "execution_count": 99,
     "metadata": {},
     "output_type": "execute_result"
    }
   ],
   "source": [
    "predictions = reg.predict(X)\n",
    "predictions"
   ]
  },
  {
   "cell_type": "code",
   "execution_count": 100,
   "metadata": {},
   "outputs": [
    {
     "data": {
      "text/plain": [
       "count    1.600000e+01\n",
       "mean     3.637979e-12\n",
       "std      3.945662e+02\n",
       "min     -5.532397e+02\n",
       "25%     -3.647828e+02\n",
       "50%      6.106239e+01\n",
       "75%      2.054978e+02\n",
       "max      9.335902e+02\n",
       "Name: TOTEMP, dtype: float64"
      ]
     },
     "execution_count": 100,
     "metadata": {},
     "output_type": "execute_result"
    }
   ],
   "source": [
    "residuals = y-predictions\n",
    "residuals.describe()"
   ]
  },
  {
   "cell_type": "code",
   "execution_count": 101,
   "metadata": {},
   "outputs": [
    {
     "data": {
      "text/plain": [
       "0.9873776967532714"
      ]
     },
     "execution_count": 101,
     "metadata": {},
     "output_type": "execute_result"
    }
   ],
   "source": [
    "SSE = (residuals**2).sum()\n",
    "SST = ((y-y.mean())**2).sum()\n",
    "R_squared = 1 - (SSE / SST)\n",
    "R_squared"
   ]
  },
  {
   "cell_type": "code",
   "execution_count": 102,
   "metadata": {},
   "outputs": [],
   "source": [
    "# 다중공선성을 계산하는 함수 구현\n",
    "# exog : 데이터 프레임\n",
    "# exog_idx : 다중 공선성을 계산하고자 하는 컬럼의 인덱스\n",
    "\n",
    "def variance_inflation_factor(exog, exog_idx):\n",
    "    # X의 열개수\n",
    "    k_vars = exog.values.shape[1]\n",
    "    # 하나의 column의 행series x_i\n",
    "    x_i = exog.iloc[:, exog_idx]\n",
    "    # 정한 하나의 series 빼고 전부 x_noti\n",
    "    mask = np.arange(k_vars) != exog_idx\n",
    "    x_noti = exog.iloc[:, mask]\n",
    "    \n",
    "    # x_i 를 y, x_noti를 x 로해서 선형회귀 해서 R_square를 구해봄\n",
    "    r_squared_i = LinearRegression().fit(X=pd.DataFrame(x_noti), y=pd.Series(x_i)).score(X=pd.DataFrame(x_noti), y=pd.Series(x_i))\n",
    "    vif = 1. / (1. - r_squared_i)\n",
    "    return vif"
   ]
  },
  {
   "cell_type": "code",
   "execution_count": 103,
   "metadata": {},
   "outputs": [
    {
     "data": {
      "text/html": [
       "<div>\n",
       "<style scoped>\n",
       "    .dataframe tbody tr th:only-of-type {\n",
       "        vertical-align: middle;\n",
       "    }\n",
       "\n",
       "    .dataframe tbody tr th {\n",
       "        vertical-align: top;\n",
       "    }\n",
       "\n",
       "    .dataframe thead th {\n",
       "        text-align: right;\n",
       "    }\n",
       "</style>\n",
       "<table border=\"1\" class=\"dataframe\">\n",
       "  <thead>\n",
       "    <tr style=\"text-align: right;\">\n",
       "      <th></th>\n",
       "      <th>VIF Factor</th>\n",
       "      <th>features</th>\n",
       "    </tr>\n",
       "  </thead>\n",
       "  <tbody>\n",
       "    <tr>\n",
       "      <th>0</th>\n",
       "      <td>130.829201</td>\n",
       "      <td>GNPDEFL</td>\n",
       "    </tr>\n",
       "    <tr>\n",
       "      <th>1</th>\n",
       "      <td>639.049777</td>\n",
       "      <td>GNP</td>\n",
       "    </tr>\n",
       "    <tr>\n",
       "      <th>2</th>\n",
       "      <td>10.786858</td>\n",
       "      <td>UNEMP</td>\n",
       "    </tr>\n",
       "    <tr>\n",
       "      <th>3</th>\n",
       "      <td>2.505775</td>\n",
       "      <td>ARMED</td>\n",
       "    </tr>\n",
       "    <tr>\n",
       "      <th>4</th>\n",
       "      <td>339.011693</td>\n",
       "      <td>POP</td>\n",
       "    </tr>\n",
       "  </tbody>\n",
       "</table>\n",
       "</div>"
      ],
      "text/plain": [
       "   VIF Factor features\n",
       "0  130.829201  GNPDEFL\n",
       "1  639.049777      GNP\n",
       "2   10.786858    UNEMP\n",
       "3    2.505775    ARMED\n",
       "4  339.011693      POP"
      ]
     },
     "execution_count": 103,
     "metadata": {},
     "output_type": "execute_result"
    }
   ],
   "source": [
    "# 다중 공선성을 계산해서 저장할 DataFrame생성\n",
    "vif = pd.DataFrame()\n",
    "# VIF Factor 컬럼 추가\n",
    "vif[\"VIF Factor\"] = [variance_inflation_factor(X, i) for i in range(X.values.shape[1])]\n",
    "# X 의 컬럼명을 features컬럼에 대입\n",
    "vif[\"features\"] = X.columns\n",
    "vif"
   ]
  },
  {
   "cell_type": "code",
   "execution_count": 104,
   "metadata": {},
   "outputs": [
    {
     "data": {
      "text/html": [
       "<div>\n",
       "<style scoped>\n",
       "    .dataframe tbody tr th:only-of-type {\n",
       "        vertical-align: middle;\n",
       "    }\n",
       "\n",
       "    .dataframe tbody tr th {\n",
       "        vertical-align: top;\n",
       "    }\n",
       "\n",
       "    .dataframe thead th {\n",
       "        text-align: right;\n",
       "    }\n",
       "</style>\n",
       "<table border=\"1\" class=\"dataframe\">\n",
       "  <thead>\n",
       "    <tr style=\"text-align: right;\">\n",
       "      <th></th>\n",
       "      <th>GNPDEFL</th>\n",
       "      <th>UNEMP</th>\n",
       "      <th>ARMED</th>\n",
       "      <th>POP</th>\n",
       "    </tr>\n",
       "  </thead>\n",
       "  <tbody>\n",
       "    <tr>\n",
       "      <th>0</th>\n",
       "      <td>0.000000</td>\n",
       "      <td>0.165531</td>\n",
       "      <td>0.062675</td>\n",
       "      <td>0.000000</td>\n",
       "    </tr>\n",
       "    <tr>\n",
       "      <th>1</th>\n",
       "      <td>0.162242</td>\n",
       "      <td>0.154973</td>\n",
       "      <td>0.000000</td>\n",
       "      <td>0.045566</td>\n",
       "    </tr>\n",
       "    <tr>\n",
       "      <th>2</th>\n",
       "      <td>0.153392</td>\n",
       "      <td>0.617166</td>\n",
       "      <td>0.074836</td>\n",
       "      <td>0.096338</td>\n",
       "    </tr>\n",
       "    <tr>\n",
       "      <th>3</th>\n",
       "      <td>0.191740</td>\n",
       "      <td>0.504428</td>\n",
       "      <td>0.090739</td>\n",
       "      <td>0.147777</td>\n",
       "    </tr>\n",
       "    <tr>\n",
       "      <th>4</th>\n",
       "      <td>0.389381</td>\n",
       "      <td>0.077997</td>\n",
       "      <td>0.768475</td>\n",
       "      <td>0.198772</td>\n",
       "    </tr>\n",
       "  </tbody>\n",
       "</table>\n",
       "</div>"
      ],
      "text/plain": [
       "    GNPDEFL     UNEMP     ARMED       POP\n",
       "0  0.000000  0.165531  0.062675  0.000000\n",
       "1  0.162242  0.154973  0.000000  0.045566\n",
       "2  0.153392  0.617166  0.074836  0.096338\n",
       "3  0.191740  0.504428  0.090739  0.147777\n",
       "4  0.389381  0.077997  0.768475  0.198772"
      ]
     },
     "execution_count": 104,
     "metadata": {},
     "output_type": "execute_result"
    }
   ],
   "source": [
    "# 다중 공선성 지수가 가장 높은 GNP를 삭제\n",
    "X = X.drop(['GNP'], axis = 1)\n",
    "X.head()"
   ]
  },
  {
   "cell_type": "code",
   "execution_count": 105,
   "metadata": {},
   "outputs": [
    {
     "data": {
      "text/html": [
       "<div>\n",
       "<style scoped>\n",
       "    .dataframe tbody tr th:only-of-type {\n",
       "        vertical-align: middle;\n",
       "    }\n",
       "\n",
       "    .dataframe tbody tr th {\n",
       "        vertical-align: top;\n",
       "    }\n",
       "\n",
       "    .dataframe thead th {\n",
       "        text-align: right;\n",
       "    }\n",
       "</style>\n",
       "<table border=\"1\" class=\"dataframe\">\n",
       "  <thead>\n",
       "    <tr style=\"text-align: right;\">\n",
       "      <th></th>\n",
       "      <th>VIF Factor</th>\n",
       "      <th>features</th>\n",
       "    </tr>\n",
       "  </thead>\n",
       "  <tbody>\n",
       "    <tr>\n",
       "      <th>0</th>\n",
       "      <td>35.970754</td>\n",
       "      <td>GNPDEFL</td>\n",
       "    </tr>\n",
       "    <tr>\n",
       "      <th>1</th>\n",
       "      <td>3.147600</td>\n",
       "      <td>UNEMP</td>\n",
       "    </tr>\n",
       "    <tr>\n",
       "      <th>2</th>\n",
       "      <td>2.497795</td>\n",
       "      <td>ARMED</td>\n",
       "    </tr>\n",
       "    <tr>\n",
       "      <th>3</th>\n",
       "      <td>34.588299</td>\n",
       "      <td>POP</td>\n",
       "    </tr>\n",
       "  </tbody>\n",
       "</table>\n",
       "</div>"
      ],
      "text/plain": [
       "   VIF Factor features\n",
       "0   35.970754  GNPDEFL\n",
       "1    3.147600    UNEMP\n",
       "2    2.497795    ARMED\n",
       "3   34.588299      POP"
      ]
     },
     "execution_count": 105,
     "metadata": {},
     "output_type": "execute_result"
    }
   ],
   "source": [
    "# 다시 실행\n",
    "vif = pd.DataFrame()\n",
    "vif[\"VIF Factor\"] = [variance_inflation_factor(X, i) for i in range(X.values.shape[1])]\n",
    "vif[\"features\"] = X.columns\n",
    "vif"
   ]
  },
  {
   "cell_type": "code",
   "execution_count": 106,
   "metadata": {},
   "outputs": [
    {
     "data": {
      "text/html": [
       "<div>\n",
       "<style scoped>\n",
       "    .dataframe tbody tr th:only-of-type {\n",
       "        vertical-align: middle;\n",
       "    }\n",
       "\n",
       "    .dataframe tbody tr th {\n",
       "        vertical-align: top;\n",
       "    }\n",
       "\n",
       "    .dataframe thead th {\n",
       "        text-align: right;\n",
       "    }\n",
       "</style>\n",
       "<table border=\"1\" class=\"dataframe\">\n",
       "  <thead>\n",
       "    <tr style=\"text-align: right;\">\n",
       "      <th></th>\n",
       "      <th>UNEMP</th>\n",
       "      <th>ARMED</th>\n",
       "      <th>POP</th>\n",
       "    </tr>\n",
       "  </thead>\n",
       "  <tbody>\n",
       "    <tr>\n",
       "      <th>0</th>\n",
       "      <td>0.165531</td>\n",
       "      <td>0.062675</td>\n",
       "      <td>0.000000</td>\n",
       "    </tr>\n",
       "    <tr>\n",
       "      <th>1</th>\n",
       "      <td>0.154973</td>\n",
       "      <td>0.000000</td>\n",
       "      <td>0.045566</td>\n",
       "    </tr>\n",
       "    <tr>\n",
       "      <th>2</th>\n",
       "      <td>0.617166</td>\n",
       "      <td>0.074836</td>\n",
       "      <td>0.096338</td>\n",
       "    </tr>\n",
       "    <tr>\n",
       "      <th>3</th>\n",
       "      <td>0.504428</td>\n",
       "      <td>0.090739</td>\n",
       "      <td>0.147777</td>\n",
       "    </tr>\n",
       "    <tr>\n",
       "      <th>4</th>\n",
       "      <td>0.077997</td>\n",
       "      <td>0.768475</td>\n",
       "      <td>0.198772</td>\n",
       "    </tr>\n",
       "  </tbody>\n",
       "</table>\n",
       "</div>"
      ],
      "text/plain": [
       "      UNEMP     ARMED       POP\n",
       "0  0.165531  0.062675  0.000000\n",
       "1  0.154973  0.000000  0.045566\n",
       "2  0.617166  0.074836  0.096338\n",
       "3  0.504428  0.090739  0.147777\n",
       "4  0.077997  0.768475  0.198772"
      ]
     },
     "execution_count": 106,
     "metadata": {},
     "output_type": "execute_result"
    }
   ],
   "source": [
    "X = X.drop(['GNPDEFL'], axis = 1)\n",
    "X.head()"
   ]
  },
  {
   "cell_type": "code",
   "execution_count": 107,
   "metadata": {},
   "outputs": [
    {
     "data": {
      "text/html": [
       "<div>\n",
       "<style scoped>\n",
       "    .dataframe tbody tr th:only-of-type {\n",
       "        vertical-align: middle;\n",
       "    }\n",
       "\n",
       "    .dataframe tbody tr th {\n",
       "        vertical-align: top;\n",
       "    }\n",
       "\n",
       "    .dataframe thead th {\n",
       "        text-align: right;\n",
       "    }\n",
       "</style>\n",
       "<table border=\"1\" class=\"dataframe\">\n",
       "  <thead>\n",
       "    <tr style=\"text-align: right;\">\n",
       "      <th></th>\n",
       "      <th>VIF Factor</th>\n",
       "      <th>features</th>\n",
       "    </tr>\n",
       "  </thead>\n",
       "  <tbody>\n",
       "    <tr>\n",
       "      <th>0</th>\n",
       "      <td>3.146686</td>\n",
       "      <td>UNEMP</td>\n",
       "    </tr>\n",
       "    <tr>\n",
       "      <th>1</th>\n",
       "      <td>1.918225</td>\n",
       "      <td>ARMED</td>\n",
       "    </tr>\n",
       "    <tr>\n",
       "      <th>2</th>\n",
       "      <td>3.514335</td>\n",
       "      <td>POP</td>\n",
       "    </tr>\n",
       "  </tbody>\n",
       "</table>\n",
       "</div>"
      ],
      "text/plain": [
       "   VIF Factor features\n",
       "0    3.146686    UNEMP\n",
       "1    1.918225    ARMED\n",
       "2    3.514335      POP"
      ]
     },
     "execution_count": 107,
     "metadata": {},
     "output_type": "execute_result"
    }
   ],
   "source": [
    "# 또다시 실행\n",
    "vif = pd.DataFrame()\n",
    "vif[\"VIF Factor\"] = [variance_inflation_factor(X, i) for i in range(X.values.shape[1])]\n",
    "vif[\"features\"] = X.columns\n",
    "vif"
   ]
  },
  {
   "cell_type": "code",
   "execution_count": 108,
   "metadata": {},
   "outputs": [
    {
     "data": {
      "text/plain": [
       "LinearRegression(copy_X=True, fit_intercept=True, n_jobs=None,\n",
       "         normalize=False)"
      ]
     },
     "execution_count": 108,
     "metadata": {},
     "output_type": "execute_result"
    }
   ],
   "source": [
    "reg = LinearRegression()\n",
    "reg.fit(X,y)"
   ]
  },
  {
   "cell_type": "code",
   "execution_count": 109,
   "metadata": {},
   "outputs": [
    {
     "data": {
      "text/plain": [
       "array([60598.5496127 , 61281.689816  , 60273.87579533, 61373.84752219,\n",
       "       63331.98715502, 64166.70776104, 65355.60064989, 63974.24109266,\n",
       "       65567.29269524, 66518.76815899, 67425.21528931, 66221.51689448,\n",
       "       68161.42309742, 69235.07580447, 69651.74661309, 71934.4620422 ])"
      ]
     },
     "execution_count": 109,
     "metadata": {},
     "output_type": "execute_result"
    }
   ],
   "source": [
    "predictions=reg.predict(X)\n",
    "predictions"
   ]
  },
  {
   "cell_type": "code",
   "execution_count": 110,
   "metadata": {},
   "outputs": [
    {
     "data": {
      "text/plain": [
       "count    1.600000e+01\n",
       "mean     1.818989e-12\n",
       "std      6.120633e+02\n",
       "min     -1.383462e+03\n",
       "25%     -2.868489e+02\n",
       "50%     -1.353385e+02\n",
       "75%      3.596200e+02\n",
       "max      1.338232e+03\n",
       "Name: TOTEMP, dtype: float64"
      ]
     },
     "execution_count": 110,
     "metadata": {},
     "output_type": "execute_result"
    }
   ],
   "source": [
    "residuals = y - predictions\n",
    "residuals.describe()"
   ]
  },
  {
   "cell_type": "code",
   "execution_count": 111,
   "metadata": {},
   "outputs": [
    {
     "data": {
      "text/plain": [
       "0.9696267343200499"
      ]
     },
     "execution_count": 111,
     "metadata": {},
     "output_type": "execute_result"
    }
   ],
   "source": [
    "SSE = (residuals**2).sum()\n",
    "SST = ((y-y.mean())**2).sum()\n",
    "R_square = 1- (SSE / SST)\n",
    "R_square"
   ]
  }
 ],
 "metadata": {
  "kernelspec": {
   "display_name": "Python 3",
   "language": "python",
   "name": "python3"
  },
  "language_info": {
   "codemirror_mode": {
    "name": "ipython",
    "version": 3
   },
   "file_extension": ".py",
   "mimetype": "text/x-python",
   "name": "python",
   "nbconvert_exporter": "python",
   "pygments_lexer": "ipython3",
   "version": "3.7.3"
  }
 },
 "nbformat": 4,
 "nbformat_minor": 2
}
