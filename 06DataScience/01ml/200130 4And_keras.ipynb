{
 "cells": [
  {
   "cell_type": "code",
   "execution_count": 1,
   "metadata": {},
   "outputs": [
    {
     "name": "stderr",
     "output_type": "stream",
     "text": [
      "Using TensorFlow backend.\n"
     ]
    }
   ],
   "source": [
    "import tensorflow as tf\n",
    "from keras.models import Sequential\n",
    "from keras.layers import Dense\n",
    "from keras.optimizers import Adam\n",
    "import numpy as np"
   ]
  },
  {
   "cell_type": "code",
   "execution_count": 2,
   "metadata": {},
   "outputs": [],
   "source": [
    "X = np.array([\n",
    "    [0., 0.],\n",
    "    [0., 1.],\n",
    "    [1., 0.],\n",
    "    [1., 1.]\n",
    "], dtype = 'float32')\n",
    "\n",
    "y = np.array([0,0,0,1], dtype = 'int32')"
   ]
  },
  {
   "cell_type": "code",
   "execution_count": 3,
   "metadata": {},
   "outputs": [
    {
     "data": {
      "text/plain": [
       "array([[0., 0.],\n",
       "       [0., 1.],\n",
       "       [1., 0.],\n",
       "       [1., 1.]], dtype=float32)"
      ]
     },
     "execution_count": 3,
     "metadata": {},
     "output_type": "execute_result"
    }
   ],
   "source": [
    "X"
   ]
  },
  {
   "cell_type": "code",
   "execution_count": 4,
   "metadata": {},
   "outputs": [
    {
     "data": {
      "text/plain": [
       "array([0, 0, 0, 1])"
      ]
     },
     "execution_count": 4,
     "metadata": {},
     "output_type": "execute_result"
    }
   ],
   "source": [
    "y"
   ]
  },
  {
   "cell_type": "code",
   "execution_count": 38,
   "metadata": {},
   "outputs": [],
   "source": [
    "model = Sequential()\n",
    "\n",
    "# Dense(1, input_dim=2, activation='sigmoid')\n",
    "# Dense : 선형회귀 수행 객체\n",
    "# Dense(출력데이터의 칸의수, input_dim, activation) \n",
    "# 출력데이터의 칸의수 : 출력 데이터는 y이고 칸의 수는 1\n",
    "# input_dim : 입력 데이터의 칸의 수, x이고 칸의 수는 2\n",
    "# activation : 선형회귀 후 sigmoid 함수를 활성 함수를 이용해 0~1 사이 값 리턴\n",
    "\n",
    "# Dense 모델을 예측 할 수 있도록 model에 추가\n",
    "model.add(Dense(1, input_dim=2, activation='sigmoid'))"
   ]
  },
  {
   "cell_type": "code",
   "execution_count": 39,
   "metadata": {},
   "outputs": [
    {
     "name": "stdout",
     "output_type": "stream",
     "text": [
      "_________________________________________________________________\n",
      "Layer (type)                 Output Shape              Param #   \n",
      "=================================================================\n",
      "dense_4 (Dense)              (None, 1)                 3         \n",
      "=================================================================\n",
      "Total params: 3\n",
      "Trainable params: 3\n",
      "Non-trainable params: 0\n",
      "_________________________________________________________________\n"
     ]
    }
   ],
   "source": [
    "model.summary()"
   ]
  },
  {
   "cell_type": "code",
   "execution_count": 8,
   "metadata": {},
   "outputs": [],
   "source": [
    "# GradientDecent를 이용해서 W와 b를 찾는 방법을 설정함\n",
    "# loss='binary_crossentropy : -1/4 * (y * np.log(hypothesis) + (1 - y) * np.log(1- hypothesis))\n",
    "# 합이 최소가 되는 W와 b를 찾음\n",
    "# optimizer=Adam(lr=0.1) : learning rate를 0.1\n",
    "# compile : 학습시킬 환경설정\n",
    "model.compile(loss='binary_crossentropy', optimizer=Adam(lr=0.1), metrics=['acc'])"
   ]
  },
  {
   "cell_type": "code",
   "execution_count": 9,
   "metadata": {},
   "outputs": [
    {
     "name": "stdout",
     "output_type": "stream",
     "text": [
      "WARNING:tensorflow:From C:\\Users\\JMLAP\\Anaconda3\\lib\\site-packages\\keras\\backend\\tensorflow_backend.py:986: The name tf.assign_add is deprecated. Please use tf.compat.v1.assign_add instead.\n",
      "\n",
      "WARNING:tensorflow:From C:\\Users\\JMLAP\\Anaconda3\\lib\\site-packages\\keras\\backend\\tensorflow_backend.py:973: The name tf.assign is deprecated. Please use tf.compat.v1.assign instead.\n",
      "\n",
      "WARNING:tensorflow:From C:\\Users\\JMLAP\\Anaconda3\\lib\\site-packages\\keras\\backend\\tensorflow_backend.py:2741: The name tf.Session is deprecated. Please use tf.compat.v1.Session instead.\n",
      "\n",
      "Epoch 1/100\n",
      "WARNING:tensorflow:From C:\\Users\\JMLAP\\Anaconda3\\lib\\site-packages\\keras\\backend\\tensorflow_backend.py:174: The name tf.get_default_session is deprecated. Please use tf.compat.v1.get_default_session instead.\n",
      "\n",
      "WARNING:tensorflow:From C:\\Users\\JMLAP\\Anaconda3\\lib\\site-packages\\keras\\backend\\tensorflow_backend.py:181: The name tf.ConfigProto is deprecated. Please use tf.compat.v1.ConfigProto instead.\n",
      "\n",
      "WARNING:tensorflow:From C:\\Users\\JMLAP\\Anaconda3\\lib\\site-packages\\keras\\backend\\tensorflow_backend.py:190: The name tf.global_variables is deprecated. Please use tf.compat.v1.global_variables instead.\n",
      "\n",
      "WARNING:tensorflow:From C:\\Users\\JMLAP\\Anaconda3\\lib\\site-packages\\keras\\backend\\tensorflow_backend.py:199: The name tf.is_variable_initialized is deprecated. Please use tf.compat.v1.is_variable_initialized instead.\n",
      "\n",
      "WARNING:tensorflow:From C:\\Users\\JMLAP\\Anaconda3\\lib\\site-packages\\keras\\backend\\tensorflow_backend.py:206: The name tf.variables_initializer is deprecated. Please use tf.compat.v1.variables_initializer instead.\n",
      "\n",
      "4/4 [==============================] - 0s 72ms/step - loss: 0.6980 - acc: 0.5000\n",
      "Epoch 2/100\n",
      "4/4 [==============================] - 0s 0us/step - loss: 0.6725 - acc: 0.5000\n",
      "Epoch 3/100\n",
      "4/4 [==============================] - 0s 499us/step - loss: 0.6480 - acc: 0.5000\n",
      "Epoch 4/100\n",
      "4/4 [==============================] - 0s 499us/step - loss: 0.6246 - acc: 0.7500\n",
      "Epoch 5/100\n",
      "4/4 [==============================] - 0s 750us/step - loss: 0.6019 - acc: 0.7500\n",
      "Epoch 6/100\n",
      "4/4 [==============================] - 0s 250us/step - loss: 0.5801 - acc: 1.0000\n",
      "Epoch 7/100\n",
      "4/4 [==============================] - 0s 250us/step - loss: 0.5594 - acc: 1.0000\n",
      "Epoch 8/100\n",
      "4/4 [==============================] - 0s 1ms/step - loss: 0.5397 - acc: 1.0000\n",
      "Epoch 9/100\n",
      "4/4 [==============================] - 0s 498us/step - loss: 0.5208 - acc: 1.0000\n",
      "Epoch 10/100\n",
      "4/4 [==============================] - 0s 250us/step - loss: 0.5028 - acc: 1.0000\n",
      "Epoch 11/100\n",
      "4/4 [==============================] - 0s 250us/step - loss: 0.4857 - acc: 1.0000\n",
      "Epoch 12/100\n",
      "4/4 [==============================] - 0s 1ms/step - loss: 0.4693 - acc: 1.0000\n",
      "Epoch 13/100\n",
      "4/4 [==============================] - 0s 499us/step - loss: 0.4538 - acc: 1.0000\n",
      "Epoch 14/100\n",
      "4/4 [==============================] - 0s 498us/step - loss: 0.4389 - acc: 1.0000\n",
      "Epoch 15/100\n",
      "4/4 [==============================] - 0s 749us/step - loss: 0.4248 - acc: 1.0000\n",
      "Epoch 16/100\n",
      "4/4 [==============================] - 0s 748us/step - loss: 0.4113 - acc: 1.0000\n",
      "Epoch 17/100\n",
      "4/4 [==============================] - 0s 499us/step - loss: 0.3985 - acc: 1.0000\n",
      "Epoch 18/100\n",
      "4/4 [==============================] - 0s 750us/step - loss: 0.3863 - acc: 1.0000\n",
      "Epoch 19/100\n",
      "4/4 [==============================] - 0s 752us/step - loss: 0.3746 - acc: 1.0000\n",
      "Epoch 20/100\n",
      "4/4 [==============================] - 0s 249us/step - loss: 0.3636 - acc: 1.0000\n",
      "Epoch 21/100\n",
      "4/4 [==============================] - 0s 499us/step - loss: 0.3531 - acc: 1.0000\n",
      "Epoch 22/100\n",
      "4/4 [==============================] - 0s 499us/step - loss: 0.3430 - acc: 1.0000\n",
      "Epoch 23/100\n",
      "4/4 [==============================] - 0s 1ms/step - loss: 0.3335 - acc: 1.0000\n",
      "Epoch 24/100\n",
      "4/4 [==============================] - 0s 249us/step - loss: 0.3244 - acc: 1.0000\n",
      "Epoch 25/100\n",
      "4/4 [==============================] - 0s 499us/step - loss: 0.3157 - acc: 1.0000\n",
      "Epoch 26/100\n",
      "4/4 [==============================] - 0s 500us/step - loss: 0.3074 - acc: 1.0000\n",
      "Epoch 27/100\n",
      "4/4 [==============================] - 0s 497us/step - loss: 0.2995 - acc: 1.0000\n",
      "Epoch 28/100\n",
      "4/4 [==============================] - 0s 250us/step - loss: 0.2919 - acc: 1.0000\n",
      "Epoch 29/100\n",
      "4/4 [==============================] - 0s 499us/step - loss: 0.2847 - acc: 1.0000\n",
      "Epoch 30/100\n",
      "4/4 [==============================] - 0s 498us/step - loss: 0.2778 - acc: 1.0000\n",
      "Epoch 31/100\n",
      "4/4 [==============================] - 0s 745us/step - loss: 0.2711 - acc: 1.0000\n",
      "Epoch 32/100\n",
      "4/4 [==============================] - 0s 499us/step - loss: 0.2648 - acc: 1.0000\n",
      "Epoch 33/100\n",
      "4/4 [==============================] - 0s 498us/step - loss: 0.2587 - acc: 1.0000\n",
      "Epoch 34/100\n",
      "4/4 [==============================] - 0s 998us/step - loss: 0.2529 - acc: 1.0000\n",
      "Epoch 35/100\n",
      "4/4 [==============================] - 0s 250us/step - loss: 0.2473 - acc: 1.0000\n",
      "Epoch 36/100\n",
      "4/4 [==============================] - 0s 249us/step - loss: 0.2419 - acc: 1.0000\n",
      "Epoch 37/100\n",
      "4/4 [==============================] - 0s 748us/step - loss: 0.2367 - acc: 1.0000\n",
      "Epoch 38/100\n",
      "4/4 [==============================] - 0s 248us/step - loss: 0.2317 - acc: 1.0000\n",
      "Epoch 39/100\n",
      "4/4 [==============================] - 0s 498us/step - loss: 0.2269 - acc: 1.0000\n",
      "Epoch 40/100\n",
      "4/4 [==============================] - 0s 249us/step - loss: 0.2223 - acc: 1.0000\n",
      "Epoch 41/100\n",
      "4/4 [==============================] - 0s 499us/step - loss: 0.2179 - acc: 1.0000\n",
      "Epoch 42/100\n",
      "4/4 [==============================] - 0s 746us/step - loss: 0.2136 - acc: 1.0000\n",
      "Epoch 43/100\n",
      "4/4 [==============================] - 0s 499us/step - loss: 0.2095 - acc: 1.0000\n",
      "Epoch 44/100\n",
      "4/4 [==============================] - 0s 249us/step - loss: 0.2055 - acc: 1.0000\n",
      "Epoch 45/100\n",
      "4/4 [==============================] - 0s 499us/step - loss: 0.2016 - acc: 1.0000\n",
      "Epoch 46/100\n",
      "4/4 [==============================] - 0s 494us/step - loss: 0.1979 - acc: 1.0000\n",
      "Epoch 47/100\n",
      "4/4 [==============================] - 0s 248us/step - loss: 0.1943 - acc: 1.0000\n",
      "Epoch 48/100\n",
      "4/4 [==============================] - 0s 250us/step - loss: 0.1908 - acc: 1.0000\n",
      "Epoch 49/100\n",
      "4/4 [==============================] - 0s 498us/step - loss: 0.1874 - acc: 1.0000\n",
      "Epoch 50/100\n",
      "4/4 [==============================] - 0s 500us/step - loss: 0.1842 - acc: 1.0000\n",
      "Epoch 51/100\n",
      "4/4 [==============================] - 0s 499us/step - loss: 0.1810 - acc: 1.0000\n",
      "Epoch 52/100\n",
      "4/4 [==============================] - 0s 250us/step - loss: 0.1779 - acc: 1.0000\n",
      "Epoch 53/100\n",
      "4/4 [==============================] - 0s 499us/step - loss: 0.1749 - acc: 1.0000\n",
      "Epoch 54/100\n",
      "4/4 [==============================] - 0s 493us/step - loss: 0.1720 - acc: 1.0000\n",
      "Epoch 55/100\n",
      "4/4 [==============================] - 0s 748us/step - loss: 0.1692 - acc: 1.0000\n",
      "Epoch 56/100\n",
      "4/4 [==============================] - 0s 498us/step - loss: 0.1665 - acc: 1.0000\n",
      "Epoch 57/100\n",
      "4/4 [==============================] - 0s 748us/step - loss: 0.1638 - acc: 1.0000\n",
      "Epoch 58/100\n",
      "4/4 [==============================] - 0s 249us/step - loss: 0.1613 - acc: 1.0000\n",
      "Epoch 59/100\n",
      "4/4 [==============================] - 0s 498us/step - loss: 0.1588 - acc: 1.0000\n",
      "Epoch 60/100\n",
      "4/4 [==============================] - 0s 498us/step - loss: 0.1563 - acc: 1.0000\n",
      "Epoch 61/100\n",
      "4/4 [==============================] - 0s 498us/step - loss: 0.1539 - acc: 1.0000\n",
      "Epoch 62/100\n",
      "4/4 [==============================] - 0s 250us/step - loss: 0.1516 - acc: 1.0000\n",
      "Epoch 63/100\n",
      "4/4 [==============================] - 0s 748us/step - loss: 0.1494 - acc: 1.0000\n",
      "Epoch 64/100\n",
      "4/4 [==============================] - 0s 502us/step - loss: 0.1472 - acc: 1.0000\n",
      "Epoch 65/100\n",
      "4/4 [==============================] - 0s 498us/step - loss: 0.1450 - acc: 1.0000\n",
      "Epoch 66/100\n",
      "4/4 [==============================] - 0s 249us/step - loss: 0.1429 - acc: 1.0000\n",
      "Epoch 67/100\n",
      "4/4 [==============================] - 0s 499us/step - loss: 0.1409 - acc: 1.0000\n",
      "Epoch 68/100\n",
      "4/4 [==============================] - 0s 1ms/step - loss: 0.1389 - acc: 1.0000\n",
      "Epoch 69/100\n",
      "4/4 [==============================] - 0s 249us/step - loss: 0.1369 - acc: 1.0000\n",
      "Epoch 70/100\n",
      "4/4 [==============================] - 0s 499us/step - loss: 0.1350 - acc: 1.0000\n"
     ]
    },
    {
     "name": "stdout",
     "output_type": "stream",
     "text": [
      "Epoch 71/100\n",
      "4/4 [==============================] - 0s 996us/step - loss: 0.1332 - acc: 1.0000\n",
      "Epoch 72/100\n",
      "4/4 [==============================] - 0s 250us/step - loss: 0.1314 - acc: 1.0000\n",
      "Epoch 73/100\n",
      "4/4 [==============================] - 0s 499us/step - loss: 0.1296 - acc: 1.0000\n",
      "Epoch 74/100\n",
      "4/4 [==============================] - 0s 249us/step - loss: 0.1279 - acc: 1.0000\n",
      "Epoch 75/100\n",
      "4/4 [==============================] - 0s 748us/step - loss: 0.1262 - acc: 1.0000\n",
      "Epoch 76/100\n",
      "4/4 [==============================] - 0s 748us/step - loss: 0.1245 - acc: 1.0000\n",
      "Epoch 77/100\n",
      "4/4 [==============================] - 0s 499us/step - loss: 0.1229 - acc: 1.0000\n",
      "Epoch 78/100\n",
      "4/4 [==============================] - 0s 499us/step - loss: 0.1213 - acc: 1.0000\n",
      "Epoch 79/100\n",
      "4/4 [==============================] - 0s 499us/step - loss: 0.1198 - acc: 1.0000\n",
      "Epoch 80/100\n",
      "4/4 [==============================] - 0s 494us/step - loss: 0.1182 - acc: 1.0000\n",
      "Epoch 81/100\n",
      "4/4 [==============================] - 0s 502us/step - loss: 0.1167 - acc: 1.0000\n",
      "Epoch 82/100\n",
      "4/4 [==============================] - 0s 499us/step - loss: 0.1153 - acc: 1.0000\n",
      "Epoch 83/100\n",
      "4/4 [==============================] - 0s 1ms/step - loss: 0.1139 - acc: 1.0000\n",
      "Epoch 84/100\n",
      "4/4 [==============================] - 0s 748us/step - loss: 0.1124 - acc: 1.0000\n",
      "Epoch 85/100\n",
      "4/4 [==============================] - 0s 499us/step - loss: 0.1111 - acc: 1.0000\n",
      "Epoch 86/100\n",
      "4/4 [==============================] - 0s 249us/step - loss: 0.1097 - acc: 1.0000\n",
      "Epoch 87/100\n",
      "4/4 [==============================] - 0s 1ms/step - loss: 0.1084 - acc: 1.0000\n",
      "Epoch 88/100\n",
      "4/4 [==============================] - 0s 249us/step - loss: 0.1071 - acc: 1.0000\n",
      "Epoch 89/100\n",
      "4/4 [==============================] - 0s 498us/step - loss: 0.1058 - acc: 1.0000\n",
      "Epoch 90/100\n",
      "4/4 [==============================] - 0s 499us/step - loss: 0.1046 - acc: 1.0000\n",
      "Epoch 91/100\n",
      "4/4 [==============================] - 0s 499us/step - loss: 0.1034 - acc: 1.0000\n",
      "Epoch 92/100\n",
      "4/4 [==============================] - 0s 499us/step - loss: 0.1022 - acc: 1.0000\n",
      "Epoch 93/100\n",
      "4/4 [==============================] - 0s 246us/step - loss: 0.1010 - acc: 1.0000\n",
      "Epoch 94/100\n",
      "4/4 [==============================] - 0s 250us/step - loss: 0.0998 - acc: 1.0000\n",
      "Epoch 95/100\n",
      "4/4 [==============================] - 0s 250us/step - loss: 0.0987 - acc: 1.0000\n",
      "Epoch 96/100\n",
      "4/4 [==============================] - 0s 744us/step - loss: 0.0976 - acc: 1.0000\n",
      "Epoch 97/100\n",
      "4/4 [==============================] - 0s 250us/step - loss: 0.0965 - acc: 1.0000\n",
      "Epoch 98/100\n",
      "4/4 [==============================] - 0s 998us/step - loss: 0.0954 - acc: 1.0000\n",
      "Epoch 99/100\n",
      "4/4 [==============================] - 0s 250us/step - loss: 0.0944 - acc: 1.0000\n",
      "Epoch 100/100\n",
      "4/4 [==============================] - 0s 498us/step - loss: 0.0933 - acc: 1.0000\n"
     ]
    },
    {
     "data": {
      "text/plain": [
       "<keras.callbacks.History at 0x1b1dbcb6cc0>"
      ]
     },
     "execution_count": 9,
     "metadata": {},
     "output_type": "execute_result"
    }
   ],
   "source": [
    "model.fit(X, y, epochs=100)"
   ]
  },
  {
   "cell_type": "code",
   "execution_count": 24,
   "metadata": {},
   "outputs": [
    {
     "data": {
      "text/plain": [
       "[array([[4.086567 ],\n",
       "        [4.0464883]], dtype=float32), array([-6.1178794], dtype=float32)]"
      ]
     },
     "execution_count": 24,
     "metadata": {},
     "output_type": "execute_result"
    }
   ],
   "source": [
    "model.get_weights()"
   ]
  },
  {
   "cell_type": "code",
   "execution_count": 33,
   "metadata": {},
   "outputs": [
    {
     "data": {
      "text/plain": [
       "[array([[4.086567 ],\n",
       "        [4.0464883]], dtype=float32), array([-6.1178794], dtype=float32)]"
      ]
     },
     "execution_count": 33,
     "metadata": {},
     "output_type": "execute_result"
    }
   ],
   "source": [
    "model.layers[0].get_weights()"
   ]
  },
  {
   "cell_type": "code",
   "execution_count": 11,
   "metadata": {},
   "outputs": [
    {
     "data": {
      "text/plain": [
       "array([[0.00219828],\n",
       "       [0.11190871],\n",
       "       [0.11595431],\n",
       "       [0.88238126]], dtype=float32)"
      ]
     },
     "execution_count": 11,
     "metadata": {},
     "output_type": "execute_result"
    }
   ],
   "source": [
    "pred = model.predict(X)\n",
    "pred"
   ]
  },
  {
   "cell_type": "code",
   "execution_count": 13,
   "metadata": {},
   "outputs": [
    {
     "data": {
      "text/plain": [
       "array([[0],\n",
       "       [0],\n",
       "       [0],\n",
       "       [1]])"
      ]
     },
     "execution_count": 13,
     "metadata": {},
     "output_type": "execute_result"
    }
   ],
   "source": [
    "predict01 = np.where(pred>0.5, 1, 0)\n",
    "predict01"
   ]
  },
  {
   "cell_type": "code",
   "execution_count": 15,
   "metadata": {},
   "outputs": [
    {
     "data": {
      "text/plain": [
       "array([0, 0, 0, 1])"
      ]
     },
     "execution_count": 15,
     "metadata": {},
     "output_type": "execute_result"
    }
   ],
   "source": [
    "predict02 = predict01.flatten()\n",
    "predict02"
   ]
  },
  {
   "cell_type": "code",
   "execution_count": 16,
   "metadata": {},
   "outputs": [
    {
     "data": {
      "text/plain": [
       "array([ True,  True,  True,  True])"
      ]
     },
     "execution_count": 16,
     "metadata": {},
     "output_type": "execute_result"
    }
   ],
   "source": [
    "predict03 = (predict02 == y)\n",
    "predict03"
   ]
  },
  {
   "cell_type": "code",
   "execution_count": 17,
   "metadata": {},
   "outputs": [
    {
     "data": {
      "text/plain": [
       "4"
      ]
     },
     "execution_count": 17,
     "metadata": {},
     "output_type": "execute_result"
    }
   ],
   "source": [
    "np.sum(predict03)"
   ]
  },
  {
   "cell_type": "code",
   "execution_count": 19,
   "metadata": {},
   "outputs": [
    {
     "data": {
      "text/plain": [
       "1.0"
      ]
     },
     "execution_count": 19,
     "metadata": {},
     "output_type": "execute_result"
    }
   ],
   "source": [
    "acc = np.sum(predict03)/4\n",
    "acc"
   ]
  },
  {
   "cell_type": "code",
   "execution_count": 20,
   "metadata": {},
   "outputs": [
    {
     "data": {
      "text/plain": [
       "array([[0.11190871]], dtype=float32)"
      ]
     },
     "execution_count": 20,
     "metadata": {},
     "output_type": "execute_result"
    }
   ],
   "source": [
    "arr = np.array([[0,1]], dtype = 'float32')\n",
    "pred = model.predict(arr)\n",
    "predict01 = np.where(pred>0.5, 1, 0)\n",
    "predict01"
   ]
  },
  {
   "cell_type": "code",
   "execution_count": 22,
   "metadata": {},
   "outputs": [
    {
     "data": {
      "text/plain": [
       "array([[1]])"
      ]
     },
     "execution_count": 22,
     "metadata": {},
     "output_type": "execute_result"
    }
   ],
   "source": [
    "arr = np.array([[1,1]], dtype = 'float32')\n",
    "pred = model.predict(arr)\n",
    "predict01 = np.where(pred>0.5, 1, 0)\n",
    "predict01"
   ]
  },
  {
   "cell_type": "code",
   "execution_count": null,
   "metadata": {},
   "outputs": [],
   "source": []
  },
  {
   "cell_type": "code",
   "execution_count": null,
   "metadata": {},
   "outputs": [],
   "source": []
  }
 ],
 "metadata": {
  "kernelspec": {
   "display_name": "Python 3",
   "language": "python",
   "name": "python3"
  },
  "language_info": {
   "codemirror_mode": {
    "name": "ipython",
    "version": 3
   },
   "file_extension": ".py",
   "mimetype": "text/x-python",
   "name": "python",
   "nbconvert_exporter": "python",
   "pygments_lexer": "ipython3",
   "version": "3.7.3"
  }
 },
 "nbformat": 4,
 "nbformat_minor": 2
}
