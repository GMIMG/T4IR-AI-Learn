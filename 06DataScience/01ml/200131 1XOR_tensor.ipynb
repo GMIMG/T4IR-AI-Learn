{
 "cells": [
  {
   "cell_type": "code",
   "execution_count": 1,
   "metadata": {},
   "outputs": [],
   "source": [
    "import numpy as np\n",
    "import tensorflow as tf\n",
    "tf.enable_eager_execution()"
   ]
  },
  {
   "cell_type": "code",
   "execution_count": 2,
   "metadata": {},
   "outputs": [],
   "source": [
    "X = np.array(\n",
    "    [\n",
    "        [0,0],\n",
    "        [0,1],\n",
    "        [1,0],\n",
    "        [1,1]\n",
    "    ], dtype='float32'\n",
    ")"
   ]
  },
  {
   "cell_type": "code",
   "execution_count": 3,
   "metadata": {},
   "outputs": [],
   "source": [
    "y = np.array(\n",
    "    [\n",
    "        [0],\n",
    "        [1],\n",
    "        [1],\n",
    "        [0]\n",
    "    ], dtype='float32'\n",
    ")"
   ]
  },
  {
   "cell_type": "code",
   "execution_count": 4,
   "metadata": {},
   "outputs": [
    {
     "data": {
      "text/plain": [
       "array([[1., 2.],\n",
       "       [3., 4.]], dtype=float32)"
      ]
     },
     "execution_count": 4,
     "metadata": {},
     "output_type": "execute_result"
    }
   ],
   "source": [
    "w0 = np.array([\n",
    "    [1,2],\n",
    "    [3,4]\n",
    "], dtype = 'float32')\n",
    "w0"
   ]
  },
  {
   "cell_type": "code",
   "execution_count": 5,
   "metadata": {},
   "outputs": [],
   "source": [
    "w0 = tf.Variable(w0)"
   ]
  },
  {
   "cell_type": "code",
   "execution_count": 6,
   "metadata": {},
   "outputs": [
    {
     "data": {
      "text/plain": [
       "<tf.Variable 'Variable:0' shape=(1, 2) dtype=float32, numpy=array([[0., 0.]], dtype=float32)>"
      ]
     },
     "execution_count": 6,
     "metadata": {},
     "output_type": "execute_result"
    }
   ],
   "source": [
    "b0 = tf.Variable([[0,0]], dtype='float32')\n",
    "b0"
   ]
  },
  {
   "cell_type": "code",
   "execution_count": 7,
   "metadata": {},
   "outputs": [
    {
     "data": {
      "text/plain": [
       "<tf.Tensor: id=21, shape=(4, 2), dtype=float32, numpy=\n",
       "array([[0., 0.],\n",
       "       [3., 4.],\n",
       "       [1., 2.],\n",
       "       [4., 6.]], dtype=float32)>"
      ]
     },
     "execution_count": 7,
     "metadata": {},
     "output_type": "execute_result"
    }
   ],
   "source": [
    "tf.matmul(X, w0) + b0"
   ]
  },
  {
   "cell_type": "code",
   "execution_count": 8,
   "metadata": {},
   "outputs": [
    {
     "data": {
      "text/plain": [
       "<tf.Tensor: id=27, shape=(4, 2), dtype=float32, numpy=\n",
       "array([[0.5       , 0.5       ],\n",
       "       [0.95257413, 0.98201376],\n",
       "       [0.7310586 , 0.8807971 ],\n",
       "       [0.98201376, 0.99752736]], dtype=float32)>"
      ]
     },
     "execution_count": 8,
     "metadata": {},
     "output_type": "execute_result"
    }
   ],
   "source": [
    "hypothesis0 = tf.sigmoid(tf.matmul(X, w0) + b0)\n",
    "hypothesis0"
   ]
  },
  {
   "cell_type": "code",
   "execution_count": 9,
   "metadata": {},
   "outputs": [
    {
     "data": {
      "text/plain": [
       "<tf.Variable 'Variable:0' shape=(2, 1) dtype=float32, numpy=\n",
       "array([[5.],\n",
       "       [6.]], dtype=float32)>"
      ]
     },
     "execution_count": 9,
     "metadata": {},
     "output_type": "execute_result"
    }
   ],
   "source": [
    "w1 = tf.Variable([[5],[6]], dtype = 'float32')\n",
    "w1"
   ]
  },
  {
   "cell_type": "code",
   "execution_count": 10,
   "metadata": {},
   "outputs": [
    {
     "data": {
      "text/plain": [
       "<tf.Variable 'Variable:0' shape=(1, 1) dtype=float32, numpy=array([[0.]], dtype=float32)>"
      ]
     },
     "execution_count": 10,
     "metadata": {},
     "output_type": "execute_result"
    }
   ],
   "source": [
    "b1 = tf.Variable([[0]], dtype = 'float32')\n",
    "b1"
   ]
  },
  {
   "cell_type": "code",
   "execution_count": 11,
   "metadata": {},
   "outputs": [
    {
     "data": {
      "text/plain": [
       "<tf.Tensor: id=49, shape=(4, 1), dtype=float32, numpy=\n",
       "array([[ 5.5     ],\n",
       "       [10.654953],\n",
       "       [ 8.940075],\n",
       "       [10.895233]], dtype=float32)>"
      ]
     },
     "execution_count": 11,
     "metadata": {},
     "output_type": "execute_result"
    }
   ],
   "source": [
    "tf.matmul(hypothesis0, w1) + b1"
   ]
  },
  {
   "cell_type": "code",
   "execution_count": 12,
   "metadata": {},
   "outputs": [
    {
     "data": {
      "text/plain": [
       "<tf.Tensor: id=52, shape=(4, 1), dtype=float32, numpy=\n",
       "array([[0.9959299],\n",
       "       [0.9999764],\n",
       "       [0.999869 ],\n",
       "       [0.9999814]], dtype=float32)>"
      ]
     },
     "execution_count": 12,
     "metadata": {},
     "output_type": "execute_result"
    }
   ],
   "source": [
    "hypothesis1 = tf.sigmoid(tf.matmul(hypothesis0, w1))\n",
    "hypothesis1"
   ]
  },
  {
   "cell_type": "code",
   "execution_count": 13,
   "metadata": {},
   "outputs": [],
   "source": [
    "optimizer = tf.train.AdamOptimizer(0.1)"
   ]
  },
  {
   "cell_type": "code",
   "execution_count": 14,
   "metadata": {},
   "outputs": [
    {
     "name": "stdout",
     "output_type": "stream",
     "text": [
      "cost:4.0991926193237305,w0:<tf.Variable 'Variable:0' shape=(2, 2) dtype=float32, numpy=\n",
      "array([[0.9000014, 1.9000086],\n",
      "       [2.9000015, 3.9000084]], dtype=float32)>,w1:<tf.Variable 'Variable:0' shape=(2, 1) dtype=float32, numpy=\n",
      "array([[4.9],\n",
      "       [5.9]], dtype=float32)>\n",
      "cost:0.557486355304718,w0:<tf.Variable 'Variable:0' shape=(2, 2) dtype=float32, numpy=\n",
      "array([[-2.0565376, -4.4126096],\n",
      "       [ 1.2810546,  3.060032 ]], dtype=float32)>,w1:<tf.Variable 'Variable:0' shape=(2, 1) dtype=float32, numpy=\n",
      "array([[2.685531 ],\n",
      "       [3.8502126]], dtype=float32)>\n",
      "cost:0.5103297233581543,w0:<tf.Variable 'Variable:0' shape=(2, 2) dtype=float32, numpy=\n",
      "array([[-2.5863264, -6.2746296],\n",
      "       [ 1.5904136,  4.880547 ]], dtype=float32)>,w1:<tf.Variable 'Variable:0' shape=(2, 1) dtype=float32, numpy=\n",
      "array([[2.3543894],\n",
      "       [4.411695 ]], dtype=float32)>\n",
      "cost:0.49529534578323364,w0:<tf.Variable 'Variable:0' shape=(2, 2) dtype=float32, numpy=\n",
      "array([[-2.8877606, -7.3770666],\n",
      "       [ 1.6697836,  5.8986964]], dtype=float32)>,w1:<tf.Variable 'Variable:0' shape=(2, 1) dtype=float32, numpy=\n",
      "array([[2.0767353],\n",
      "       [4.9937453]], dtype=float32)>\n",
      "cost:0.4886106550693512,w0:<tf.Variable 'Variable:0' shape=(2, 2) dtype=float32, numpy=\n",
      "array([[-3.0569217, -8.128942 ],\n",
      "       [ 1.6668214,  6.5931687]], dtype=float32)>,w1:<tf.Variable 'Variable:0' shape=(2, 1) dtype=float32, numpy=\n",
      "array([[1.8414863],\n",
      "       [5.4756556]], dtype=float32)>\n",
      "cost:0.485080361366272,w0:<tf.Variable 'Variable:0' shape=(2, 2) dtype=float32, numpy=\n",
      "array([[-3.1607134, -8.69185  ],\n",
      "       [ 1.6366959,  7.1160617]], dtype=float32)>,w1:<tf.Variable 'Variable:0' shape=(2, 1) dtype=float32, numpy=\n",
      "array([[1.6368607],\n",
      "       [5.869411 ]], dtype=float32)>\n",
      "cost:0.4829934239387512,w0:<tf.Variable 'Variable:0' shape=(2, 2) dtype=float32, numpy=\n",
      "array([[-3.2296515, -9.139437 ],\n",
      "       [ 1.6007802,  7.5347667]], dtype=float32)>,w1:<tf.Variable 'Variable:0' shape=(2, 1) dtype=float32, numpy=\n",
      "array([[1.4542723],\n",
      "       [6.197596 ]], dtype=float32)>\n",
      "cost:0.4816552996635437,w0:<tf.Variable 'Variable:0' shape=(2, 2) dtype=float32, numpy=\n",
      "array([[-3.2783184, -9.510502 ],\n",
      "       [ 1.5663016,  7.8843427]], dtype=float32)>,w1:<tf.Variable 'Variable:0' shape=(2, 1) dtype=float32, numpy=\n",
      "array([[1.2874041],\n",
      "       [6.4776435]], dtype=float32)>\n",
      "cost:0.48074260354042053,w0:<tf.Variable 'Variable:0' shape=(2, 2) dtype=float32, numpy=\n",
      "array([[-3.3142202, -9.827593 ],\n",
      "       [ 1.5354048,  8.185023 ]], dtype=float32)>,w1:<tf.Variable 'Variable:0' shape=(2, 1) dtype=float32, numpy=\n",
      "array([[1.1316686],\n",
      "       [6.7216654]], dtype=float32)>\n",
      "cost:0.4800896942615509,w0:<tf.Variable 'Variable:0' shape=(2, 2) dtype=float32, numpy=\n",
      "array([[ -3.3415203, -10.104817 ],\n",
      "       [  1.5085075,   8.449406 ]], dtype=float32)>,w1:<tf.Variable 'Variable:0' shape=(2, 1) dtype=float32, numpy=\n",
      "array([[0.98367167],\n",
      "       [6.9380345 ]], dtype=float32)>\n",
      "cost:0.4796045422554016,w0:<tf.Variable 'Variable:0' shape=(2, 2) dtype=float32, numpy=\n",
      "array([[ -3.362668 , -10.351543 ],\n",
      "       [  1.4854845,   8.685835 ]], dtype=float32)>,w1:<tf.Variable 'Variable:0' shape=(2, 1) dtype=float32, numpy=\n",
      "array([[0.8407971],\n",
      "       [7.132652 ]], dtype=float32)>\n",
      "cost:0.4792320132255554,w0:<tf.Variable 'Variable:0' shape=(2, 2) dtype=float32, numpy=\n",
      "array([[ -3.37917  , -10.574261 ],\n",
      "       [  1.4660882,   8.90014  ]], dtype=float32)>,w1:<tf.Variable 'Variable:0' shape=(2, 1) dtype=float32, numpy=\n",
      "array([[0.700912],\n",
      "       [7.309788]], dtype=float32)>\n",
      "cost:0.4789382219314575,w0:<tf.Variable 'Variable:0' shape=(2, 2) dtype=float32, numpy=\n",
      "array([[ -3.3919735, -10.777558 ],\n",
      "       [  1.450104 ,   9.096495 ]], dtype=float32)>,w1:<tf.Variable 'Variable:0' shape=(2, 1) dtype=float32, numpy=\n",
      "array([[0.5621564],\n",
      "       [7.4726114]], dtype=float32)>\n",
      "cost:0.4787003993988037,w0:<tf.Variable 'Variable:0' shape=(2, 2) dtype=float32, numpy=\n",
      "array([[ -3.4016643, -10.964923 ],\n",
      "       [  1.4374096,   9.278023 ]], dtype=float32)>,w1:<tf.Variable 'Variable:0' shape=(2, 1) dtype=float32, numpy=\n",
      "array([[0.42277974],\n",
      "       [7.623531  ]], dtype=float32)>\n",
      "cost:0.47850340604782104,w0:<tf.Variable 'Variable:0' shape=(2, 2) dtype=float32, numpy=\n",
      "array([[ -3.40857  , -11.139017 ],\n",
      "       [  1.4280113,   9.447119 ]], dtype=float32)>,w1:<tf.Variable 'Variable:0' shape=(2, 1) dtype=float32, numpy=\n",
      "array([[0.28099376],\n",
      "       [7.764419  ]], dtype=float32)>\n",
      "cost:0.4783359169960022,w0:<tf.Variable 'Variable:0' shape=(2, 2) dtype=float32, numpy=\n",
      "array([[ -3.4127977, -11.301852 ],\n",
      "       [  1.4220829,   9.605647 ]], dtype=float32)>,w1:<tf.Variable 'Variable:0' shape=(2, 1) dtype=float32, numpy=\n",
      "array([[0.13481344],\n",
      "       [7.896751  ]], dtype=float32)>\n",
      "cost:0.4781891703605652,w0:<tf.Variable 'Variable:0' shape=(2, 2) dtype=float32, numpy=\n",
      "array([[ -3.4142323, -11.4550295],\n",
      "       [  1.4200277,   9.755113 ]], dtype=float32)>,w1:<tf.Variable 'Variable:0' shape=(2, 1) dtype=float32, numpy=\n",
      "array([[-0.01815708],\n",
      "       [ 8.021722  ]], dtype=float32)>\n",
      "cost:0.47805550694465637,w0:<tf.Variable 'Variable:0' shape=(2, 2) dtype=float32, numpy=\n",
      "array([[ -3.412469 , -11.599861 ],\n",
      "       [  1.4226114,   9.89672  ]], dtype=float32)>,w1:<tf.Variable 'Variable:0' shape=(2, 1) dtype=float32, numpy=\n",
      "array([[-0.18105106],\n",
      "       [ 8.140312  ]], dtype=float32)>\n",
      "cost:0.47792667150497437,w0:<tf.Variable 'Variable:0' shape=(2, 2) dtype=float32, numpy=\n",
      "array([[ -3.4066362, -11.73742  ],\n",
      "       [  1.431219 ,  10.031483 ]], dtype=float32)>,w1:<tf.Variable 'Variable:0' shape=(2, 1) dtype=float32, numpy=\n",
      "array([[-0.35832378],\n",
      "       [ 8.253345  ]], dtype=float32)>\n",
      "cost:0.4777912199497223,w0:<tf.Variable 'Variable:0' shape=(2, 2) dtype=float32, numpy=\n",
      "array([[ -3.3949666, -11.868603 ],\n",
      "       [  1.4484562,  10.16027  ]], dtype=float32)>,w1:<tf.Variable 'Variable:0' shape=(2, 1) dtype=float32, numpy=\n",
      "array([[-0.55692923],\n",
      "       [ 8.361531  ]], dtype=float32)>\n",
      "cost:0.477627158164978,w0:<tf.Variable 'Variable:0' shape=(2, 2) dtype=float32, numpy=\n",
      "array([[ -3.37359  , -11.994181 ],\n",
      "       [  1.4797367,  10.283877 ]], dtype=float32)>,w1:<tf.Variable 'Variable:0' shape=(2, 1) dtype=float32, numpy=\n",
      "array([[-0.7890732],\n",
      "       [ 8.465544 ]], dtype=float32)>\n",
      "cost:0.47737276554107666,w0:<tf.Variable 'Variable:0' shape=(2, 2) dtype=float32, numpy=\n",
      "array([[ -3.3323004, -12.114802 ],\n",
      "       [  1.5386596,  10.403195 ]], dtype=float32)>,w1:<tf.Variable 'Variable:0' shape=(2, 1) dtype=float32, numpy=\n",
      "array([[-1.0801959],\n",
      "       [ 8.56612  ]], dtype=float32)>\n",
      "cost:0.4767339825630188,w0:<tf.Variable 'Variable:0' shape=(2, 2) dtype=float32, numpy=\n",
      "array([[ -3.2307594, -12.231201 ],\n",
      "       [  1.6757063,  10.519846 ]], dtype=float32)>,w1:<tf.Variable 'Variable:0' shape=(2, 1) dtype=float32, numpy=\n",
      "array([[-1.5026556],\n",
      "       [ 8.664626 ]], dtype=float32)>\n",
      "cost:0.44571974873542786,w0:<tf.Variable 'Variable:0' shape=(2, 2) dtype=float32, numpy=\n",
      "array([[ -1.9525282, -12.344328 ],\n",
      "       [  3.0564585,  10.655116 ]], dtype=float32)>,w1:<tf.Variable 'Variable:0' shape=(2, 1) dtype=float32, numpy=\n",
      "array([[-2.725201],\n",
      "       [ 8.776802]], dtype=float32)>\n",
      "cost:0.00936560332775116,w0:<tf.Variable 'Variable:0' shape=(2, 2) dtype=float32, numpy=\n",
      "array([[ -7.2837267, -12.370115 ],\n",
      "       [  7.598799 ,  11.797043 ]], dtype=float32)>,w1:<tf.Variable 'Variable:0' shape=(2, 1) dtype=float32, numpy=\n",
      "array([[-9.524923],\n",
      "       [10.312636]], dtype=float32)>\n",
      "cost:0.005068724509328604,w0:<tf.Variable 'Variable:0' shape=(2, 2) dtype=float32, numpy=\n",
      "array([[ -7.613347, -12.385497],\n",
      "       [  8.024971,  12.112945]], dtype=float32)>,w1:<tf.Variable 'Variable:0' shape=(2, 1) dtype=float32, numpy=\n",
      "array([[-10.758541],\n",
      "       [ 11.394746]], dtype=float32)>\n",
      "cost:0.003445911221206188,w0:<tf.Variable 'Variable:0' shape=(2, 2) dtype=float32, numpy=\n",
      "array([[ -7.817232, -12.400346],\n",
      "       [  8.267979,  12.267692]], dtype=float32)>,w1:<tf.Variable 'Variable:0' shape=(2, 1) dtype=float32, numpy=\n",
      "array([[-11.524825 ],\n",
      "       [ 12.1132965]], dtype=float32)>\n",
      "cost:0.002581613603979349,w0:<tf.Variable 'Variable:0' shape=(2, 2) dtype=float32, numpy=\n",
      "array([[ -7.966607, -12.414353],\n",
      "       [  8.440042,  12.368527]], dtype=float32)>,w1:<tf.Variable 'Variable:0' shape=(2, 1) dtype=float32, numpy=\n",
      "array([[-12.096521],\n",
      "       [ 12.661127]], dtype=float32)>\n"
     ]
    },
    {
     "name": "stdout",
     "output_type": "stream",
     "text": [
      "cost:0.00204339437186718,w0:<tf.Variable 'Variable:0' shape=(2, 2) dtype=float32, numpy=\n",
      "array([[ -8.085321, -12.427614],\n",
      "       [  8.573951,  12.442619]], dtype=float32)>,w1:<tf.Variable 'Variable:0' shape=(2, 1) dtype=float32, numpy=\n",
      "array([[-12.558692],\n",
      "       [ 13.109066]], dtype=float32)>\n",
      "cost:0.001675998792052269,w0:<tf.Variable 'Variable:0' shape=(2, 2) dtype=float32, numpy=\n",
      "array([[ -8.184335, -12.440248],\n",
      "       [  8.684058,  12.500908]], dtype=float32)>,w1:<tf.Variable 'Variable:0' shape=(2, 1) dtype=float32, numpy=\n",
      "array([[-12.950263],\n",
      "       [ 13.491261]], dtype=float32)>\n",
      "cost:0.0014093072386458516,w0:<tf.Variable 'Variable:0' shape=(2, 2) dtype=float32, numpy=\n",
      "array([[ -8.269622, -12.452357],\n",
      "       [  8.777928,  12.548829]], dtype=float32)>,w1:<tf.Variable 'Variable:0' shape=(2, 1) dtype=float32, numpy=\n",
      "array([[-13.292454],\n",
      "       [ 13.826859]], dtype=float32)>\n",
      "cost:0.0012071061646565795,w0:<tf.Variable 'Variable:0' shape=(2, 2) dtype=float32, numpy=\n",
      "array([[ -8.344806 , -12.4640255],\n",
      "       [  8.860024 ,  12.5894785]], dtype=float32)>,w1:<tf.Variable 'Variable:0' shape=(2, 1) dtype=float32, numpy=\n",
      "array([[-13.598147],\n",
      "       [ 14.12771 ]], dtype=float32)>\n",
      "cost:0.0010487193940207362,w0:<tf.Variable 'Variable:0' shape=(2, 2) dtype=float32, numpy=\n",
      "array([[ -8.412245 , -12.475322 ],\n",
      "       [  8.933202 ,  12.6247635]], dtype=float32)>,w1:<tf.Variable 'Variable:0' shape=(2, 1) dtype=float32, numpy=\n",
      "array([[-13.875769 ],\n",
      "       [ 14.4016485]], dtype=float32)>\n",
      "cost:0.000921460276003927,w0:<tf.Variable 'Variable:0' shape=(2, 2) dtype=float32, numpy=\n",
      "array([[ -8.473571, -12.4863  ],\n",
      "       [  8.999402,  12.655935]], dtype=float32)>,w1:<tf.Variable 'Variable:0' shape=(2, 1) dtype=float32, numpy=\n",
      "array([[-14.131126],\n",
      "       [ 14.654141]], dtype=float32)>\n",
      "cost:0.0008170825894922018,w0:<tf.Variable 'Variable:0' shape=(2, 2) dtype=float32, numpy=\n",
      "array([[ -8.529946, -12.497   ],\n",
      "       [  9.059993,  12.683866]], dtype=float32)>,w1:<tf.Variable 'Variable:0' shape=(2, 1) dtype=float32, numpy=\n",
      "array([[-14.368417],\n",
      "       [ 14.889161]], dtype=float32)>\n",
      "cost:0.0007300307042896748,w0:<tf.Variable 'Variable:0' shape=(2, 2) dtype=float32, numpy=\n",
      "array([[ -8.582233, -12.507467],\n",
      "       [  9.115988,  12.709182]], dtype=float32)>,w1:<tf.Variable 'Variable:0' shape=(2, 1) dtype=float32, numpy=\n",
      "array([[-14.590759],\n",
      "       [ 15.109666]], dtype=float32)>\n",
      "cost:0.0006564079085364938,w0:<tf.Variable 'Variable:0' shape=(2, 2) dtype=float32, numpy=\n",
      "array([[ -8.631093, -12.517724],\n",
      "       [  9.168145,  12.732348]], dtype=float32)>,w1:<tf.Variable 'Variable:0' shape=(2, 1) dtype=float32, numpy=\n",
      "array([[-14.800533],\n",
      "       [ 15.317947]], dtype=float32)>\n",
      "cost:0.0005934223881922662,w0:<tf.Variable 'Variable:0' shape=(2, 2) dtype=float32, numpy=\n",
      "array([[ -8.677034, -12.527794],\n",
      "       [  9.217053,  12.753719]], dtype=float32)>,w1:<tf.Variable 'Variable:0' shape=(2, 1) dtype=float32, numpy=\n",
      "array([[-14.999612],\n",
      "       [ 15.515794]], dtype=float32)>\n",
      "cost:0.0005390143487602472,w0:<tf.Variable 'Variable:0' shape=(2, 2) dtype=float32, numpy=\n",
      "array([[ -8.720465, -12.537705],\n",
      "       [  9.263181,  12.773565]], dtype=float32)>,w1:<tf.Variable 'Variable:0' shape=(2, 1) dtype=float32, numpy=\n",
      "array([[-15.189476],\n",
      "       [ 15.704639]], dtype=float32)>\n",
      "cost:0.0004915721947327256,w0:<tf.Variable 'Variable:0' shape=(2, 2) dtype=float32, numpy=\n",
      "array([[ -8.761715, -12.547477],\n",
      "       [  9.306895,  12.792109]], dtype=float32)>,w1:<tf.Variable 'Variable:0' shape=(2, 1) dtype=float32, numpy=\n",
      "array([[-15.3713255],\n",
      "       [ 15.885653 ]], dtype=float32)>\n",
      "cost:0.0004499168717302382,w0:<tf.Variable 'Variable:0' shape=(2, 2) dtype=float32, numpy=\n",
      "array([[ -8.801054, -12.557129],\n",
      "       [  9.348502,  12.809519]], dtype=float32)>,w1:<tf.Variable 'Variable:0' shape=(2, 1) dtype=float32, numpy=\n",
      "array([[-15.546164],\n",
      "       [ 16.059786]], dtype=float32)>\n",
      "cost:0.00041307875653728843,w0:<tf.Variable 'Variable:0' shape=(2, 2) dtype=float32, numpy=\n",
      "array([[ -8.8387  , -12.566663],\n",
      "       [  9.388251,  12.825947]], dtype=float32)>,w1:<tf.Variable 'Variable:0' shape=(2, 1) dtype=float32, numpy=\n",
      "array([[-15.714793],\n",
      "       [ 16.227852]], dtype=float32)>\n",
      "cost:0.0003803118015639484,w0:<tf.Variable 'Variable:0' shape=(2, 2) dtype=float32, numpy=\n",
      "array([[ -8.874846, -12.576099],\n",
      "       [  9.426354,  12.841502]], dtype=float32)>,w1:<tf.Variable 'Variable:0' shape=(2, 1) dtype=float32, numpy=\n",
      "array([[-15.877935],\n",
      "       [ 16.3905  ]], dtype=float32)>\n",
      "cost:0.000351034221239388,w0:<tf.Variable 'Variable:0' shape=(2, 2) dtype=float32, numpy=\n",
      "array([[ -8.909648, -12.585445],\n",
      "       [  9.462983,  12.856288]], dtype=float32)>,w1:<tf.Variable 'Variable:0' shape=(2, 1) dtype=float32, numpy=\n",
      "array([[-16.036167],\n",
      "       [ 16.548311]], dtype=float32)>\n",
      "cost:0.0003247687127441168,w0:<tf.Variable 'Variable:0' shape=(2, 2) dtype=float32, numpy=\n",
      "array([[ -8.94324 , -12.594706],\n",
      "       [  9.498291,  12.870389]], dtype=float32)>,w1:<tf.Variable 'Variable:0' shape=(2, 1) dtype=float32, numpy=\n",
      "array([[-16.18996 ],\n",
      "       [ 16.701801]], dtype=float32)>\n",
      "cost:0.0003010081418324262,w0:<tf.Variable 'Variable:0' shape=(2, 2) dtype=float32, numpy=\n",
      "array([[ -8.975738, -12.603902],\n",
      "       [  9.532408,  12.883868]], dtype=float32)>,w1:<tf.Variable 'Variable:0' shape=(2, 1) dtype=float32, numpy=\n",
      "array([[-16.33979 ],\n",
      "       [ 16.851374]], dtype=float32)>\n",
      "cost:0.00027954368852078915,w0:<tf.Variable 'Variable:0' shape=(2, 2) dtype=float32, numpy=\n",
      "array([[ -9.007244, -12.613057],\n",
      "       [  9.565441,  12.896792]], dtype=float32)>,w1:<tf.Variable 'Variable:0' shape=(2, 1) dtype=float32, numpy=\n",
      "array([[-16.48602 ],\n",
      "       [ 16.997387]], dtype=float32)>\n",
      "cost:0.0002599876024760306,w0:<tf.Variable 'Variable:0' shape=(2, 2) dtype=float32, numpy=\n",
      "array([[ -9.037839, -12.622117],\n",
      "       [  9.59749 ,  12.909214]], dtype=float32)>,w1:<tf.Variable 'Variable:0' shape=(2, 1) dtype=float32, numpy=\n",
      "array([[-16.628986],\n",
      "       [ 17.140175]], dtype=float32)>\n",
      "cost:0.0002422205579932779,w0:<tf.Variable 'Variable:0' shape=(2, 2) dtype=float32, numpy=\n",
      "array([[ -9.067608, -12.631169],\n",
      "       [  9.628638,  12.921177]], dtype=float32)>,w1:<tf.Variable 'Variable:0' shape=(2, 1) dtype=float32, numpy=\n",
      "array([[-16.768969],\n",
      "       [ 17.280018]], dtype=float32)>\n",
      "cost:0.00022598904615733773,w0:<tf.Variable 'Variable:0' shape=(2, 2) dtype=float32, numpy=\n",
      "array([[ -9.096619, -12.640134],\n",
      "       [  9.658959,  12.932721]], dtype=float32)>,w1:<tf.Variable 'Variable:0' shape=(2, 1) dtype=float32, numpy=\n",
      "array([[-16.906225],\n",
      "       [ 17.417166]], dtype=float32)>\n"
     ]
    }
   ],
   "source": [
    "for step in range(5000):\n",
    "    with tf.GradientTape() as tape:\n",
    "        hypothesis0 = tf.sigmoid(tf.matmul(X, w0) + b0)\n",
    "        hypothesis1 = tf.sigmoid(tf.matmul(hypothesis0, w1) + b1)\n",
    "        cost = -tf.reduce_mean(y * tf.log(hypothesis1) + (1 - y) * tf.log(1 - hypothesis1))\n",
    "    grads = tape.gradient(cost, [w0,w1,b0,b1])\n",
    "    optimizer.apply_gradients(grads_and_vars = zip(grads, [w0,w1,b0,b1]))\n",
    "\n",
    "    if step % 100 == 0:\n",
    "        print('cost:{},w0:{},w1:{}'.format(cost,w0,w1))"
   ]
  },
  {
   "cell_type": "code",
   "execution_count": 15,
   "metadata": {},
   "outputs": [
    {
     "data": {
      "text/plain": [
       "<tf.Variable 'Variable:0' shape=(2, 2) dtype=float32, numpy=\n",
       "array([[ -9.124643, -12.649009],\n",
       "       [  9.688229,  12.943771]], dtype=float32)>"
      ]
     },
     "execution_count": 15,
     "metadata": {},
     "output_type": "execute_result"
    }
   ],
   "source": [
    "w0"
   ]
  },
  {
   "cell_type": "code",
   "execution_count": 16,
   "metadata": {},
   "outputs": [
    {
     "data": {
      "text/plain": [
       "<tf.Variable 'Variable:0' shape=(1, 2) dtype=float32, numpy=array([[ 4.2849054, -7.1995916]], dtype=float32)>"
      ]
     },
     "execution_count": 16,
     "metadata": {},
     "output_type": "execute_result"
    }
   ],
   "source": [
    "b0"
   ]
  },
  {
   "cell_type": "code",
   "execution_count": 17,
   "metadata": {},
   "outputs": [
    {
     "data": {
      "text/plain": [
       "<tf.Variable 'Variable:0' shape=(2, 1) dtype=float32, numpy=\n",
       "array([[-17.039648],\n",
       "       [ 17.550507]], dtype=float32)>"
      ]
     },
     "execution_count": 17,
     "metadata": {},
     "output_type": "execute_result"
    }
   ],
   "source": [
    "w1"
   ]
  },
  {
   "cell_type": "code",
   "execution_count": 18,
   "metadata": {},
   "outputs": [
    {
     "data": {
      "text/plain": [
       "<tf.Variable 'Variable:0' shape=(1, 1) dtype=float32, numpy=array([[8.180047]], dtype=float32)>"
      ]
     },
     "execution_count": 18,
     "metadata": {},
     "output_type": "execute_result"
    }
   ],
   "source": [
    "b1"
   ]
  },
  {
   "cell_type": "code",
   "execution_count": 19,
   "metadata": {},
   "outputs": [
    {
     "data": {
      "text/plain": [
       "<tf.Tensor: id=415358, shape=(4, 1), dtype=float32, numpy=\n",
       "array([[1.8133699e-04],\n",
       "       [9.9982232e-01],\n",
       "       [9.9967980e-01],\n",
       "       [1.6499007e-04]], dtype=float32)>"
      ]
     },
     "execution_count": 19,
     "metadata": {},
     "output_type": "execute_result"
    }
   ],
   "source": [
    "hypothesis0 = tf.sigmoid(tf.matmul(X, w0) + b0)\n",
    "\n",
    "predict = tf.sigmoid(tf.matmul(hypothesis0, w1) + b1)\n",
    "predict"
   ]
  },
  {
   "cell_type": "code",
   "execution_count": 20,
   "metadata": {},
   "outputs": [
    {
     "name": "stdout",
     "output_type": "stream",
     "text": [
      "tf.Tensor(\n",
      "[[0.]\n",
      " [1.]\n",
      " [1.]\n",
      " [0.]], shape=(4, 1), dtype=float32)\n"
     ]
    }
   ],
   "source": [
    "predict01 = tf.cast(predict > 0.5, dtype = tf.float32)\n",
    "print(predict01)"
   ]
  },
  {
   "cell_type": "code",
   "execution_count": 21,
   "metadata": {},
   "outputs": [
    {
     "data": {
      "text/plain": [
       "1.0"
      ]
     },
     "execution_count": 21,
     "metadata": {},
     "output_type": "execute_result"
    }
   ],
   "source": [
    "accuracy = tf.reduce_mean(tf.cast(tf.equal(predict01, y), dtype = tf.float32))\n",
    "accuracy.numpy()"
   ]
  },
  {
   "cell_type": "code",
   "execution_count": 22,
   "metadata": {},
   "outputs": [],
   "source": [
    "### 예측"
   ]
  },
  {
   "cell_type": "code",
   "execution_count": 23,
   "metadata": {},
   "outputs": [
    {
     "data": {
      "text/plain": [
       "array([[1.]], dtype=float32)"
      ]
     },
     "execution_count": 23,
     "metadata": {},
     "output_type": "execute_result"
    }
   ],
   "source": [
    "arr = np.array([[0,1]], dtype='float32')\n",
    "hypothesis0 = tf.sigmoid(tf.matmul(arr, w0) + b0)\n",
    "predict = tf.sigmoid(tf.matmul(hypothesis0, w1) + b1)\n",
    "predict = tf.cast(predict >0.5, dtype=tf.float32)\n",
    "predict.numpy()"
   ]
  },
  {
   "cell_type": "code",
   "execution_count": 24,
   "metadata": {},
   "outputs": [
    {
     "data": {
      "text/plain": [
       "array([[0.]], dtype=float32)"
      ]
     },
     "execution_count": 24,
     "metadata": {},
     "output_type": "execute_result"
    }
   ],
   "source": [
    "arr = np.array([[1,1]], dtype='float32')\n",
    "hypothesis0 = tf.sigmoid(tf.matmul(arr, w0) + b0)\n",
    "predict = tf.sigmoid(tf.matmul(hypothesis0, w1) + b1)\n",
    "predict = tf.cast(predict >0.5, dtype=tf.float32)\n",
    "predict.numpy()"
   ]
  },
  {
   "cell_type": "code",
   "execution_count": null,
   "metadata": {},
   "outputs": [],
   "source": []
  }
 ],
 "metadata": {
  "kernelspec": {
   "display_name": "Python 3",
   "language": "python",
   "name": "python3"
  },
  "language_info": {
   "codemirror_mode": {
    "name": "ipython",
    "version": 3
   },
   "file_extension": ".py",
   "mimetype": "text/x-python",
   "name": "python",
   "nbconvert_exporter": "python",
   "pygments_lexer": "ipython3",
   "version": "3.7.3"
  }
 },
 "nbformat": 4,
 "nbformat_minor": 2
}
