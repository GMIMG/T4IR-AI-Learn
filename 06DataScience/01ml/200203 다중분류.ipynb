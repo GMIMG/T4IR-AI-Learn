{
 "cells": [
  {
   "cell_type": "code",
   "execution_count": 1,
   "metadata": {},
   "outputs": [],
   "source": [
    "from sklearn import datasets\n",
    "from sklearn.model_selection import train_test_split\n",
    "import numpy as np\n",
    "import tensorflow as tf\n",
    "tf.enable_eager_execution()"
   ]
  },
  {
   "cell_type": "code",
   "execution_count": 2,
   "metadata": {},
   "outputs": [
    {
     "data": {
      "text/plain": [
       "array([[0., 0.],\n",
       "       [1., 0.],\n",
       "       [1., 1.],\n",
       "       [0., 0.],\n",
       "       [0., 1.]], dtype=float32)"
      ]
     },
     "execution_count": 2,
     "metadata": {},
     "output_type": "execute_result"
    }
   ],
   "source": [
    "X = np.array(\n",
    "    [\n",
    "        [0, 0],\n",
    "        [1, 0],\n",
    "        [1, 1],\n",
    "        [0, 0],\n",
    "        [0, 1]\n",
    "    ], dtype = 'float32')\n",
    "X"
   ]
  },
  {
   "cell_type": "code",
   "execution_count": 3,
   "metadata": {},
   "outputs": [
    {
     "data": {
      "text/plain": [
       "array([[1., 0., 0.],\n",
       "       [0., 1., 0.],\n",
       "       [0., 0., 1.],\n",
       "       [1., 0., 0.],\n",
       "       [0., 0., 1.]], dtype=float32)"
      ]
     },
     "execution_count": 3,
     "metadata": {},
     "output_type": "execute_result"
    }
   ],
   "source": [
    "y = np.array([\n",
    "    [1, 0, 0], # 기타\n",
    "    [0, 1, 0], # 포유류\n",
    "    [0, 0, 1], # 조류\n",
    "    [1, 0, 0], # 기타\n",
    "    [0, 0, 1] # 조류\n",
    "], dtype ='float32')\n",
    "y"
   ]
  },
  {
   "cell_type": "code",
   "execution_count": 4,
   "metadata": {},
   "outputs": [
    {
     "name": "stdout",
     "output_type": "stream",
     "text": [
      "WARNING:tensorflow:\n",
      "The TensorFlow contrib module will not be included in TensorFlow 2.0.\n",
      "For more information, please see:\n",
      "  * https://github.com/tensorflow/community/blob/master/rfcs/20180907-contrib-sunset.md\n",
      "  * https://github.com/tensorflow/addons\n",
      "  * https://github.com/tensorflow/io (for I/O related ops)\n",
      "If you depend on functionality not listed there, please file an issue.\n",
      "\n"
     ]
    }
   ],
   "source": [
    "initializer = tf.contrib.layers.xavier_initializer()"
   ]
  },
  {
   "cell_type": "code",
   "execution_count": 5,
   "metadata": {},
   "outputs": [
    {
     "data": {
      "text/plain": [
       "<tf.Variable 'Variable:0' shape=(2, 10) dtype=float32, numpy=\n",
       "array([[ 0.23375535,  0.2513417 , -0.646504  ,  0.43313485, -0.6089591 ,\n",
       "         0.63811916, -0.3882839 ,  0.484402  , -0.3993746 ,  0.52930254],\n",
       "       [-0.23909941,  0.3395719 , -0.6978975 ,  0.3692271 ,  0.27884555,\n",
       "         0.2699932 ,  0.20424294,  0.584812  , -0.00718588, -0.4672354 ]],\n",
       "      dtype=float32)>"
      ]
     },
     "execution_count": 5,
     "metadata": {},
     "output_type": "execute_result"
    }
   ],
   "source": [
    "w0 = tf.Variable(initializer([2,10]))\n",
    "w0"
   ]
  },
  {
   "cell_type": "code",
   "execution_count": 6,
   "metadata": {},
   "outputs": [
    {
     "data": {
      "text/plain": [
       "<tf.Variable 'Variable:0' shape=(10,) dtype=float32, numpy=\n",
       "array([-0.02484357,  0.39788914,  0.2067017 , -0.36099392, -0.37103963,\n",
       "       -0.38725907, -0.07433823, -0.42234915,  0.2934333 ,  0.1627199 ],\n",
       "      dtype=float32)>"
      ]
     },
     "execution_count": 6,
     "metadata": {},
     "output_type": "execute_result"
    }
   ],
   "source": [
    "b0 = tf.Variable(initializer([10]))\n",
    "b0"
   ]
  },
  {
   "cell_type": "code",
   "execution_count": 7,
   "metadata": {},
   "outputs": [],
   "source": [
    "w1 = tf.Variable(initializer([10,3]))\n",
    "b1 = tf.Variable(initializer([3]))"
   ]
  },
  {
   "cell_type": "code",
   "execution_count": 8,
   "metadata": {},
   "outputs": [
    {
     "data": {
      "text/plain": [
       "<tf.Tensor: id=61, shape=(5, 10), dtype=float32, numpy=\n",
       "array([[-0.02484357,  0.39788914,  0.2067017 , -0.36099392, -0.37103963,\n",
       "        -0.38725907, -0.07433823, -0.42234915,  0.2934333 ,  0.1627199 ],\n",
       "       [ 0.20891178,  0.64923084, -0.4398023 ,  0.07214093, -0.9799987 ,\n",
       "         0.2508601 , -0.46262214,  0.06205285, -0.1059413 ,  0.69202244],\n",
       "       [-0.03018764,  0.98880273, -1.1376998 ,  0.44136804, -0.70115316,\n",
       "         0.5208533 , -0.2583792 ,  0.64686483, -0.11312717,  0.22478706],\n",
       "       [-0.02484357,  0.39788914,  0.2067017 , -0.36099392, -0.37103963,\n",
       "        -0.38725907, -0.07433823, -0.42234915,  0.2934333 ,  0.1627199 ],\n",
       "       [-0.263943  ,  0.73746103, -0.4911958 ,  0.00823319, -0.09219408,\n",
       "        -0.11726588,  0.12990472,  0.16246283,  0.28624743, -0.30451548]],\n",
       "      dtype=float32)>"
      ]
     },
     "execution_count": 8,
     "metadata": {},
     "output_type": "execute_result"
    }
   ],
   "source": [
    "tf.matmul(X, w0) + b0"
   ]
  },
  {
   "cell_type": "code",
   "execution_count": 9,
   "metadata": {},
   "outputs": [
    {
     "data": {
      "text/plain": [
       "<tf.Tensor: id=67, shape=(5, 10), dtype=float32, numpy=\n",
       "array([[0.49378943, 0.59818035, 0.5514922 , 0.410719  , 0.40828985,\n",
       "        0.4043773 , 0.481424  , 0.39595476, 0.57283646, 0.54059047],\n",
       "       [0.5520388 , 0.6568371 , 0.3917881 , 0.5180274 , 0.27289206,\n",
       "        0.5623882 , 0.38636398, 0.51550823, 0.4735394 , 0.66641665],\n",
       "       [0.49245366, 0.7288514 , 0.2427429 , 0.60858494, 0.33155662,\n",
       "        0.6273473 , 0.43576217, 0.6563036 , 0.47174832, 0.5559613 ],\n",
       "       [0.49378943, 0.59818035, 0.5514922 , 0.410719  , 0.40828985,\n",
       "        0.4043773 , 0.481424  , 0.39595476, 0.57283646, 0.54059047],\n",
       "       [0.4343947 , 0.67644036, 0.3796119 , 0.50205827, 0.47696778,\n",
       "        0.47071707, 0.5324306 , 0.5405266 , 0.5710772 , 0.42445397]],\n",
       "      dtype=float32)>"
      ]
     },
     "execution_count": 9,
     "metadata": {},
     "output_type": "execute_result"
    }
   ],
   "source": [
    "hypothesis0 = tf.sigmoid(tf.matmul(X, w0) + b0)\n",
    "hypothesis0"
   ]
  },
  {
   "cell_type": "code",
   "execution_count": 10,
   "metadata": {},
   "outputs": [
    {
     "data": {
      "text/plain": [
       "<tf.Tensor: id=72, shape=(5, 3), dtype=float32, numpy=\n",
       "array([[0.26616594, 0.51641816, 0.2174159 ],\n",
       "       [0.31019855, 0.4598472 , 0.22995436],\n",
       "       [0.29800832, 0.45675814, 0.24523363],\n",
       "       [0.26616594, 0.51641816, 0.2174159 ],\n",
       "       [0.25263393, 0.51582646, 0.23153964]], dtype=float32)>"
      ]
     },
     "execution_count": 10,
     "metadata": {},
     "output_type": "execute_result"
    }
   ],
   "source": [
    "hypothesis1 = tf.nn.softmax(tf.matmul(hypothesis0,w1) + b1)\n",
    "hypothesis1"
   ]
  },
  {
   "cell_type": "code",
   "execution_count": 11,
   "metadata": {},
   "outputs": [
    {
     "data": {
      "text/plain": [
       "<tf.Tensor: id=80, shape=(), dtype=float32, numpy=1.258536>"
      ]
     },
     "execution_count": 11,
     "metadata": {},
     "output_type": "execute_result"
    }
   ],
   "source": [
    "cost = -tf.reduce_sum(y * tf.log(hypothesis1))/len(hypothesis1)\n",
    "cost"
   ]
  },
  {
   "cell_type": "code",
   "execution_count": 12,
   "metadata": {},
   "outputs": [],
   "source": [
    "optimizer = tf.train.AdamOptimizer(0.01)"
   ]
  },
  {
   "cell_type": "code",
   "execution_count": 13,
   "metadata": {},
   "outputs": [
    {
     "name": "stdout",
     "output_type": "stream",
     "text": [
      "step: 0, cost: [0.5294541 0.1553722 0.5737096]\n",
      "step: 100, cost: [0.08780887 0.19467884 0.09656519]\n",
      "step: 200, cost: [0.01981974 0.03740616 0.01723128]\n",
      "step: 300, cost: [0.00682408 0.01199497 0.00592521]\n",
      "step: 400, cost: [0.00351411 0.00599303 0.00306045]\n",
      "step: 500, cost: [0.00218215 0.00365062 0.00190324]\n",
      "step: 600, cost: [0.00150288 0.00247872 0.00131172]\n",
      "step: 700, cost: [0.00110488 0.00180188 0.00096475]\n",
      "step: 800, cost: [0.00084967 0.00137267 0.00074201]\n",
      "step: 900, cost: [0.00067515 0.00108202 0.00058963]\n",
      "step: 1000, cost: [0.00054998 0.0008753  0.00048033]\n"
     ]
    }
   ],
   "source": [
    "for step in range(1001):\n",
    "    with tf.GradientTape() as tape:\n",
    "        hypothesis0 = tf.sigmoid(tf.matmul(X, w0) + b0)\n",
    "        hypothesis1 = tf.nn.softmax(tf.matmul(hypothesis0, w1) + b1)\n",
    "        # print(len(hypothesis1))\n",
    "        #cost = -tf.reduce_sum(y * tf.log(hypothesis1))/len(hypothesis1)\n",
    "        cost = sum(y * -tf.log(hypothesis1))/len(hypothesis1)\n",
    "        grads = tape.gradient(cost, [w0,w1,b0,b1])\n",
    "        optimizer.apply_gradients(grads_and_vars = zip(grads, [w0,w1,b0,b1]))\n",
    "        if step % 100 == 0:\n",
    "            print(f\"step: {step}, cost: {cost.numpy()}\")"
   ]
  },
  {
   "cell_type": "code",
   "execution_count": 14,
   "metadata": {},
   "outputs": [
    {
     "data": {
      "text/plain": [
       "<tf.Variable 'Variable:0' shape=(2, 10) dtype=float32, numpy=\n",
       "array([[ 0.67416656,  3.4782164 , -3.377148  , -1.7115091 , -0.56376535,\n",
       "         3.4110737 , -3.043545  ,  0.09667139, -1.934479  , -0.31189898],\n",
       "       [-2.5839515 ,  2.026653  , -2.4576354 ,  3.0627525 ,  3.4795635 ,\n",
       "         1.7297877 , -1.6178144 ,  2.7178783 ,  2.3705947 , -2.9939437 ]],\n",
       "      dtype=float32)>"
      ]
     },
     "execution_count": 14,
     "metadata": {},
     "output_type": "execute_result"
    }
   ],
   "source": [
    "w0"
   ]
  },
  {
   "cell_type": "code",
   "execution_count": 15,
   "metadata": {},
   "outputs": [
    {
     "data": {
      "text/plain": [
       "<tf.Tensor: id=122301, shape=(5, 3), dtype=float32, numpy=\n",
       "array([[9.9862874e-01, 1.0916844e-03, 2.7968475e-04],\n",
       "       [2.1012118e-03, 9.9564183e-01, 2.2570624e-03],\n",
       "       [1.1314389e-05, 1.5900508e-03, 9.9839860e-01],\n",
       "       [9.9862874e-01, 1.0916844e-03, 2.7968475e-04],\n",
       "       [6.5794500e-04, 1.3607083e-04, 9.9920601e-01]], dtype=float32)>"
      ]
     },
     "execution_count": 15,
     "metadata": {},
     "output_type": "execute_result"
    }
   ],
   "source": [
    "hypothesis0 = tf.sigmoid(tf.matmul(X, w0) + b0)\n",
    "predict = tf.nn.softmax(tf.matmul(hypothesis0, w1) + b1)\n",
    "predict"
   ]
  },
  {
   "cell_type": "code",
   "execution_count": 16,
   "metadata": {},
   "outputs": [
    {
     "data": {
      "text/plain": [
       "<tf.Tensor: id=122303, shape=(5,), dtype=int64, numpy=array([0, 1, 2, 0, 2], dtype=int64)>"
      ]
     },
     "execution_count": 16,
     "metadata": {},
     "output_type": "execute_result"
    }
   ],
   "source": [
    "predict01 = tf.argmax(predict, 1)\n",
    "predict01"
   ]
  },
  {
   "cell_type": "code",
   "execution_count": 17,
   "metadata": {},
   "outputs": [
    {
     "data": {
      "text/plain": [
       "<tf.Tensor: id=122306, shape=(5,), dtype=int64, numpy=array([0, 1, 2, 0, 2], dtype=int64)>"
      ]
     },
     "execution_count": 17,
     "metadata": {},
     "output_type": "execute_result"
    }
   ],
   "source": [
    "target = tf.argmax(y, 1)\n",
    "target"
   ]
  },
  {
   "cell_type": "code",
   "execution_count": 18,
   "metadata": {},
   "outputs": [
    {
     "data": {
      "text/plain": [
       "<tf.Tensor: id=122310, shape=(), dtype=float32, numpy=1.0>"
      ]
     },
     "execution_count": 18,
     "metadata": {},
     "output_type": "execute_result"
    }
   ],
   "source": [
    "acc = tf.reduce_mean(tf.cast(tf.equal(predict01, target), dtype = tf.float32))\n",
    "acc"
   ]
  },
  {
   "cell_type": "code",
   "execution_count": null,
   "metadata": {},
   "outputs": [],
   "source": []
  }
 ],
 "metadata": {
  "kernelspec": {
   "display_name": "Python 3",
   "language": "python",
   "name": "python3"
  },
  "language_info": {
   "codemirror_mode": {
    "name": "ipython",
    "version": 3
   },
   "file_extension": ".py",
   "mimetype": "text/x-python",
   "name": "python",
   "nbconvert_exporter": "python",
   "pygments_lexer": "ipython3",
   "version": "3.7.3"
  }
 },
 "nbformat": 4,
 "nbformat_minor": 2
}
