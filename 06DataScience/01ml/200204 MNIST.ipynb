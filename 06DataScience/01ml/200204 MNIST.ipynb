{
 "cells": [
  {
   "cell_type": "code",
   "execution_count": 1,
   "metadata": {},
   "outputs": [],
   "source": [
    "import tensorflow as tf\n",
    "import numpy as np"
   ]
  },
  {
   "cell_type": "code",
   "execution_count": 2,
   "metadata": {},
   "outputs": [],
   "source": [
    "tf.enable_eager_execution()"
   ]
  },
  {
   "cell_type": "code",
   "execution_count": 3,
   "metadata": {},
   "outputs": [
    {
     "name": "stdout",
     "output_type": "stream",
     "text": [
      "WARNING:tensorflow:From <ipython-input-3-634333c871da>:2: read_data_sets (from tensorflow.contrib.learn.python.learn.datasets.mnist) is deprecated and will be removed in a future version.\n",
      "Instructions for updating:\n",
      "Please use alternatives such as official/mnist/dataset.py from tensorflow/models.\n",
      "WARNING:tensorflow:From C:\\Users\\JMLAP\\Anaconda3\\lib\\site-packages\\tensorflow_core\\contrib\\learn\\python\\learn\\datasets\\mnist.py:260: maybe_download (from tensorflow.contrib.learn.python.learn.datasets.base) is deprecated and will be removed in a future version.\n",
      "Instructions for updating:\n",
      "Please write your own downloading logic.\n",
      "WARNING:tensorflow:From C:\\Users\\JMLAP\\Anaconda3\\lib\\site-packages\\tensorflow_core\\contrib\\learn\\python\\learn\\datasets\\mnist.py:262: extract_images (from tensorflow.contrib.learn.python.learn.datasets.mnist) is deprecated and will be removed in a future version.\n",
      "Instructions for updating:\n",
      "Please use tf.data to implement this functionality.\n",
      "Extracting ./mnist/data/train-images-idx3-ubyte.gz\n",
      "WARNING:tensorflow:From C:\\Users\\JMLAP\\Anaconda3\\lib\\site-packages\\tensorflow_core\\contrib\\learn\\python\\learn\\datasets\\mnist.py:267: extract_labels (from tensorflow.contrib.learn.python.learn.datasets.mnist) is deprecated and will be removed in a future version.\n",
      "Instructions for updating:\n",
      "Please use tf.data to implement this functionality.\n",
      "Extracting ./mnist/data/train-labels-idx1-ubyte.gz\n",
      "WARNING:tensorflow:From C:\\Users\\JMLAP\\Anaconda3\\lib\\site-packages\\tensorflow_core\\contrib\\learn\\python\\learn\\datasets\\mnist.py:110: dense_to_one_hot (from tensorflow.contrib.learn.python.learn.datasets.mnist) is deprecated and will be removed in a future version.\n",
      "Instructions for updating:\n",
      "Please use tf.one_hot on tensors.\n",
      "Extracting ./mnist/data/t10k-images-idx3-ubyte.gz\n",
      "Extracting ./mnist/data/t10k-labels-idx1-ubyte.gz\n",
      "WARNING:tensorflow:From C:\\Users\\JMLAP\\Anaconda3\\lib\\site-packages\\tensorflow_core\\contrib\\learn\\python\\learn\\datasets\\mnist.py:290: DataSet.__init__ (from tensorflow.contrib.learn.python.learn.datasets.mnist) is deprecated and will be removed in a future version.\n",
      "Instructions for updating:\n",
      "Please use alternatives such as official/mnist/dataset.py from tensorflow/models.\n"
     ]
    }
   ],
   "source": [
    "from tensorflow.examples.tutorials.mnist import input_data\n",
    "mnist = input_data.read_data_sets('./mnist/data/', one_hot = True)"
   ]
  },
  {
   "cell_type": "code",
   "execution_count": 4,
   "metadata": {},
   "outputs": [
    {
     "name": "stdout",
     "output_type": "stream",
     "text": [
      "WARNING:tensorflow:\n",
      "The TensorFlow contrib module will not be included in TensorFlow 2.0.\n",
      "For more information, please see:\n",
      "  * https://github.com/tensorflow/community/blob/master/rfcs/20180907-contrib-sunset.md\n",
      "  * https://github.com/tensorflow/addons\n",
      "  * https://github.com/tensorflow/io (for I/O related ops)\n",
      "If you depend on functionality not listed there, please file an issue.\n",
      "\n"
     ]
    },
    {
     "data": {
      "text/plain": [
       "<tf.Variable 'Variable:0' shape=(784, 200) dtype=float32, numpy=\n",
       "array([[-0.0301481 , -0.06841866, -0.04618847, ..., -0.07214592,\n",
       "         0.06353997, -0.04976273],\n",
       "       [ 0.0210399 ,  0.00289701, -0.01347398, ..., -0.00545269,\n",
       "        -0.02858949, -0.07165229],\n",
       "       [-0.00025759, -0.0639454 ,  0.01088347, ...,  0.07182144,\n",
       "         0.00153215,  0.03634027],\n",
       "       ...,\n",
       "       [-0.02997541, -0.00131766,  0.06563447, ..., -0.03025009,\n",
       "         0.05086651,  0.0048444 ],\n",
       "       [-0.05920321,  0.0069534 ,  0.06662904, ..., -0.0089966 ,\n",
       "        -0.07528419,  0.02607047],\n",
       "       [-0.02823722, -0.05351919,  0.00030787, ...,  0.0537581 ,\n",
       "         0.03825786,  0.02253336]], dtype=float32)>"
      ]
     },
     "execution_count": 4,
     "metadata": {},
     "output_type": "execute_result"
    }
   ],
   "source": [
    "initializer = tf.contrib.layers.xavier_initializer()\n",
    "w0 = tf.Variable(initializer([784,200]))\n",
    "w0"
   ]
  },
  {
   "cell_type": "code",
   "execution_count": 5,
   "metadata": {},
   "outputs": [
    {
     "data": {
      "text/plain": [
       "<tf.Variable 'Variable:0' shape=(200,) dtype=float32, numpy=\n",
       "array([-0.07259591, -0.07490311,  0.00897325, -0.06774509, -0.09576811,\n",
       "       -0.10649152,  0.11206838,  0.02212741, -0.04979961, -0.1113738 ,\n",
       "        0.10480139, -0.11726943,  0.0794939 ,  0.10248094, -0.02895763,\n",
       "        0.02859601, -0.00453456, -0.1009554 ,  0.08291993, -0.09026025,\n",
       "        0.11843499, -0.05773126, -0.03309395,  0.01408953,  0.086893  ,\n",
       "        0.03949881, -0.08908594, -0.01305044, -0.09199611,  0.05717374,\n",
       "       -0.01476867, -0.06895702,  0.0395695 , -0.10117698, -0.10248365,\n",
       "       -0.01897717,  0.02765086,  0.04183698, -0.09702295,  0.09858952,\n",
       "        0.08527301,  0.09017075,  0.01613694,  0.04018957, -0.03627782,\n",
       "        0.09943562,  0.06171194,  0.00689942,  0.00073342,  0.00720795,\n",
       "       -0.01974823,  0.10419149, -0.11216895, -0.00257388,  0.06880226,\n",
       "       -0.11181986, -0.11230137, -0.0512473 , -0.09998164, -0.02847813,\n",
       "       -0.07798799,  0.02708297, -0.02115311,  0.07290035,  0.04050047,\n",
       "       -0.02566297, -0.05675673, -0.0142223 ,  0.04871465, -0.08099797,\n",
       "        0.03937835, -0.0672234 ,  0.05234701, -0.07746382,  0.04312103,\n",
       "        0.03089311,  0.10593926, -0.10299025,  0.01257757, -0.02725096,\n",
       "       -0.12032369,  0.00638903,  0.08775572,  0.01108179, -0.07727177,\n",
       "        0.00812676, -0.05059917, -0.03387351, -0.09630039, -0.10132618,\n",
       "        0.02854722,  0.09683432, -0.04887339, -0.02059329, -0.0034978 ,\n",
       "        0.11075171,  0.0477299 ,  0.0891544 , -0.03282505,  0.07531471,\n",
       "       -0.04391834,  0.10356771,  0.03537589, -0.09471442,  0.04077377,\n",
       "        0.03063586, -0.04675905, -0.08038916, -0.00129628,  0.04671625,\n",
       "        0.07844906,  0.11365267,  0.11217239,  0.01264141,  0.09734762,\n",
       "       -0.08392048, -0.02577122,  0.07353763, -0.00316203, -0.00954633,\n",
       "        0.11214469, -0.03740682,  0.06472187, -0.07534908, -0.07218483,\n",
       "        0.0671489 ,  0.06988645,  0.00060456,  0.02551486, -0.06666226,\n",
       "        0.11787475,  0.12202387,  0.11773869, -0.00875533, -0.02793813,\n",
       "       -0.11804783,  0.07328705,  0.03216643,  0.06552853, -0.02125193,\n",
       "        0.02340483,  0.01749247, -0.02622627,  0.05595005, -0.11224648,\n",
       "       -0.11264973,  0.10506379,  0.07549299,  0.03242997, -0.08181576,\n",
       "        0.02784855, -0.11562587,  0.10368329, -0.02771913,  0.02538974,\n",
       "       -0.07882437,  0.02491652,  0.05445541, -0.04686438, -0.12015359,\n",
       "        0.09802748,  0.09623014, -0.02354444, -0.00479663, -0.07493471,\n",
       "        0.07524609, -0.07435508, -0.0052749 ,  0.01620803, -0.07376021,\n",
       "       -0.07710054,  0.02814417, -0.08102603, -0.10629258, -0.01072771,\n",
       "       -0.00434393, -0.10700843,  0.11571177, -0.04441507,  0.04598286,\n",
       "        0.01651321, -0.00231875,  0.10838849,  0.05475097,  0.03353041,\n",
       "        0.07092809,  0.09482353, -0.04693945,  0.01290546, -0.12045783,\n",
       "       -0.00256322, -0.01242363, -0.08762738,  0.06486542, -0.01882995,\n",
       "        0.0854437 ,  0.0616518 , -0.04594268,  0.04743428,  0.09885015],\n",
       "      dtype=float32)>"
      ]
     },
     "execution_count": 5,
     "metadata": {},
     "output_type": "execute_result"
    }
   ],
   "source": [
    "b0 = tf.Variable(initializer([200]))\n",
    "b0"
   ]
  },
  {
   "cell_type": "code",
   "execution_count": 6,
   "metadata": {},
   "outputs": [
    {
     "data": {
      "text/plain": [
       "<tf.Variable 'Variable:0' shape=(200, 10) dtype=float32, numpy=\n",
       "array([[ 0.13095939, -0.02603789, -0.08260351, ..., -0.10734994,\n",
       "        -0.11346697,  0.07500795],\n",
       "       [ 0.10590962, -0.1654044 , -0.15635389, ...,  0.04043591,\n",
       "        -0.06704219, -0.16364042],\n",
       "       [-0.04556075,  0.08421764, -0.07413097, ...,  0.05002141,\n",
       "        -0.09669121, -0.03950574],\n",
       "       ...,\n",
       "       [ 0.01644321,  0.01974027, -0.05562352, ...,  0.0456216 ,\n",
       "         0.15672037,  0.00359884],\n",
       "       [-0.03796172, -0.01426478, -0.00307542, ...,  0.06713612,\n",
       "         0.00603929,  0.06545271],\n",
       "       [ 0.05802234,  0.06519012, -0.1525508 , ...,  0.10328528,\n",
       "        -0.14771955, -0.0190482 ]], dtype=float32)>"
      ]
     },
     "execution_count": 6,
     "metadata": {},
     "output_type": "execute_result"
    }
   ],
   "source": [
    "w1 = tf.Variable(initializer([200, 10]))\n",
    "w1"
   ]
  },
  {
   "cell_type": "code",
   "execution_count": 7,
   "metadata": {},
   "outputs": [
    {
     "data": {
      "text/plain": [
       "<tf.Variable 'Variable:0' shape=(10,) dtype=float32, numpy=\n",
       "array([-0.06305209,  0.47894   , -0.41797763,  0.20421207,  0.21919721,\n",
       "       -0.3076288 , -0.07911837,  0.4433596 , -0.49196863,  0.25782204],\n",
       "      dtype=float32)>"
      ]
     },
     "execution_count": 7,
     "metadata": {},
     "output_type": "execute_result"
    }
   ],
   "source": [
    "b1 = tf.Variable(initializer([10]))\n",
    "b1"
   ]
  },
  {
   "cell_type": "code",
   "execution_count": 8,
   "metadata": {},
   "outputs": [],
   "source": [
    "X, y = mnist.train.next_batch(10)"
   ]
  },
  {
   "cell_type": "code",
   "execution_count": 9,
   "metadata": {},
   "outputs": [
    {
     "data": {
      "text/plain": [
       "<tf.Tensor: id=65, shape=(10, 200), dtype=float32, numpy=\n",
       "array([[ 0.08760051, -0.1092041 , -0.02835386, ...,  0.35363048,\n",
       "         0.5433892 , -0.19651148],\n",
       "       [-0.36953425, -0.30011353, -0.9143041 , ..., -0.27190775,\n",
       "         0.9877197 , -0.10790441],\n",
       "       [ 0.47665715, -0.49379197, -0.4900427 , ...,  0.44957745,\n",
       "         0.8503923 , -0.15088308],\n",
       "       ...,\n",
       "       [-0.04775383, -0.3228842 ,  0.36753723, ..., -0.02105191,\n",
       "         0.1277616 ,  0.24579796],\n",
       "       [-0.442752  , -0.76142883, -0.67114574, ...,  0.3407172 ,\n",
       "         0.6281632 , -0.8608526 ],\n",
       "       [ 0.15295579, -0.62061524, -0.01418179, ...,  0.212866  ,\n",
       "        -0.09590676, -0.37352878]], dtype=float32)>"
      ]
     },
     "execution_count": 9,
     "metadata": {},
     "output_type": "execute_result"
    }
   ],
   "source": [
    "tf.matmul(X,w0) + b0"
   ]
  },
  {
   "cell_type": "code",
   "execution_count": 10,
   "metadata": {},
   "outputs": [
    {
     "data": {
      "text/plain": [
       "<tf.Tensor: id=71, shape=(10, 200), dtype=float32, numpy=\n",
       "array([[0.5218861 , 0.47272608, 0.49291202, ..., 0.58749765, 0.6326005 ,\n",
       "        0.45102963],\n",
       "       [0.4086536 , 0.42552972, 0.2861199 , ..., 0.43243882, 0.72863734,\n",
       "        0.47305006],\n",
       "       [0.6169582 , 0.3790007 , 0.37988353, ..., 0.6105387 , 0.7006494 ,\n",
       "        0.46235064],\n",
       "       ...,\n",
       "       [0.4880638 , 0.41997302, 0.59086376, ..., 0.4947372 , 0.531897  ,\n",
       "        0.56114197],\n",
       "       [0.39108545, 0.31833613, 0.33824033, ..., 0.5843647 , 0.65207285,\n",
       "        0.29716128],\n",
       "       [0.53816456, 0.34964156, 0.49645463, ..., 0.5530164 , 0.47604167,\n",
       "        0.40768862]], dtype=float32)>"
      ]
     },
     "execution_count": 10,
     "metadata": {},
     "output_type": "execute_result"
    }
   ],
   "source": [
    "hypothesis0 = tf.sigmoid(tf.matmul(X,w0) + b0)\n",
    "hypothesis0"
   ]
  },
  {
   "cell_type": "code",
   "execution_count": 11,
   "metadata": {},
   "outputs": [
    {
     "data": {
      "text/plain": [
       "<tf.Tensor: id=76, shape=(10, 10), dtype=float32, numpy=\n",
       "array([[0.13551226, 0.19975732, 0.02186907, 0.04599816, 0.05360808,\n",
       "        0.07394781, 0.08759135, 0.07667673, 0.03408438, 0.27095485],\n",
       "       [0.12537484, 0.1698423 , 0.02447458, 0.03991121, 0.06132554,\n",
       "        0.07745287, 0.1114011 , 0.08685117, 0.03372491, 0.26964146],\n",
       "       [0.10886731, 0.19036861, 0.02062636, 0.04100837, 0.04886917,\n",
       "        0.0687927 , 0.10569778, 0.07574468, 0.0308248 , 0.3092002 ],\n",
       "       [0.13179514, 0.17909457, 0.02295462, 0.04607938, 0.053966  ,\n",
       "        0.07107913, 0.08657612, 0.06936746, 0.03450911, 0.30457848],\n",
       "       [0.14985794, 0.16326435, 0.02585153, 0.04893066, 0.0559979 ,\n",
       "        0.07859786, 0.11372463, 0.07180315, 0.02635535, 0.26561663],\n",
       "       [0.12170522, 0.13161121, 0.02345081, 0.03455995, 0.05251946,\n",
       "        0.07576855, 0.11345484, 0.08938483, 0.02489994, 0.33264524],\n",
       "       [0.14848989, 0.13772503, 0.02664289, 0.0430289 , 0.06212123,\n",
       "        0.08776959, 0.08583495, 0.06353947, 0.02910019, 0.31574792],\n",
       "       [0.1376938 , 0.1413323 , 0.02608914, 0.05101176, 0.06103219,\n",
       "        0.08877435, 0.08967759, 0.07993469, 0.0240383 , 0.30041584],\n",
       "       [0.10812957, 0.16729477, 0.02297067, 0.05851379, 0.0595878 ,\n",
       "        0.06790124, 0.07962091, 0.091653  , 0.03207577, 0.31225246],\n",
       "       [0.13187431, 0.16138412, 0.02974264, 0.04214856, 0.06139743,\n",
       "        0.07556373, 0.12391888, 0.06924268, 0.03107536, 0.27365234]],\n",
       "      dtype=float32)>"
      ]
     },
     "execution_count": 11,
     "metadata": {},
     "output_type": "execute_result"
    }
   ],
   "source": [
    "hypothesis1 = tf.nn.softmax(tf.matmul(hypothesis0, w1) + b1)\n",
    "hypothesis1"
   ]
  },
  {
   "cell_type": "code",
   "execution_count": 12,
   "metadata": {},
   "outputs": [
    {
     "data": {
      "text/plain": [
       "55000"
      ]
     },
     "execution_count": 12,
     "metadata": {},
     "output_type": "execute_result"
    }
   ],
   "source": [
    "mnist.train.num_examples"
   ]
  },
  {
   "cell_type": "code",
   "execution_count": 13,
   "metadata": {},
   "outputs": [
    {
     "name": "stdout",
     "output_type": "stream",
     "text": [
      "total_batch=  550\n"
     ]
    }
   ],
   "source": [
    "batch_size = 100\n",
    "total_batch = int(mnist.train.num_examples / batch_size)\n",
    "print('total_batch= ', total_batch)"
   ]
  },
  {
   "cell_type": "code",
   "execution_count": 14,
   "metadata": {},
   "outputs": [],
   "source": [
    "optimizer = tf.train.AdamOptimizer(0.001)\n",
    "#global_step = tf.train.create_global_step()"
   ]
  },
  {
   "cell_type": "code",
   "execution_count": 15,
   "metadata": {},
   "outputs": [
    {
     "name": "stdout",
     "output_type": "stream",
     "text": [
      "step: 0, cost:0.5171611905097961\n",
      "step: 1, cost:0.254415363073349\n",
      "step: 2, cost:0.2004748433828354\n",
      "step: 3, cost:0.16590628027915955\n",
      "step: 4, cost:0.13931943476200104\n",
      "step: 5, cost:0.11906799674034119\n",
      "step: 6, cost:0.10237427800893784\n",
      "step: 7, cost:0.08831050246953964\n",
      "step: 8, cost:0.07704812288284302\n",
      "step: 9, cost:0.06691167503595352\n",
      "step: 10, cost:0.05861148610711098\n"
     ]
    }
   ],
   "source": [
    "for step in range(11):\n",
    "    total_cost = 0\n",
    "    for i in range(total_batch):\n",
    "        X, y = mnist.train.next_batch(batch_size)\n",
    "        with tf.GradientTape() as tape:\n",
    "            hypothesis0 = tf.sigmoid(tf.matmul(X, w0) + b0)\n",
    "            hypothesis1 = tf.nn.softmax(tf.matmul(hypothesis0, w1) + b1)\n",
    "            cost = -tf.reduce_sum(y * tf.log(hypothesis1)) / len(hypothesis1)\n",
    "        grads = tape.gradient(cost, [w0,w1,b0,b1])\n",
    "        optimizer.apply_gradients(grads_and_vars = zip(grads,[w0,w1,b0,b1]))\n",
    "        total_cost += cost\n",
    "    print(f'step: {step}, cost:{total_cost/total_batch}')"
   ]
  },
  {
   "cell_type": "code",
   "execution_count": 16,
   "metadata": {},
   "outputs": [],
   "source": [
    "test_images = mnist.test.images\n",
    "test_labels = mnist.test.labels"
   ]
  },
  {
   "cell_type": "code",
   "execution_count": 17,
   "metadata": {},
   "outputs": [
    {
     "data": {
      "text/plain": [
       "<tf.Tensor: id=502357, shape=(10000, 10), dtype=float32, numpy=\n",
       "array([[1.05902473e-06, 2.81439476e-08, 2.57567935e-05, ...,\n",
       "        9.99164343e-01, 4.65039057e-06, 7.36744478e-05],\n",
       "       [1.31721436e-05, 3.04234843e-03, 9.95969772e-01, ...,\n",
       "        5.77396753e-09, 2.76138016e-05, 3.30107719e-09],\n",
       "       [1.57446308e-07, 9.97967303e-01, 2.83655798e-04, ...,\n",
       "        1.00571907e-03, 4.44838079e-04, 3.58091456e-05],\n",
       "       ...,\n",
       "       [1.49841579e-08, 5.73171413e-08, 1.06640891e-06, ...,\n",
       "        2.67066003e-04, 1.96961570e-04, 8.48305179e-04],\n",
       "       [3.64218437e-07, 5.87551995e-06, 4.08692422e-08, ...,\n",
       "        4.31759332e-07, 2.91509833e-03, 2.98076344e-07],\n",
       "       [2.31715603e-06, 2.63881674e-07, 5.51313906e-06, ...,\n",
       "        3.13610435e-08, 1.32482000e-06, 1.07745684e-07]], dtype=float32)>"
      ]
     },
     "execution_count": 17,
     "metadata": {},
     "output_type": "execute_result"
    }
   ],
   "source": [
    "hypothesis0 = tf.sigmoid(tf.matmul(test_images, w0) + b0)\n",
    "predict = tf.nn.softmax(tf.matmul(hypothesis0, w1) + b1)\n",
    "predict"
   ]
  },
  {
   "cell_type": "code",
   "execution_count": 18,
   "metadata": {},
   "outputs": [],
   "source": [
    "predict01 = tf.argmax(predict,1)\n",
    "target = tf.argmax(test_labels, 1)"
   ]
  },
  {
   "cell_type": "code",
   "execution_count": 19,
   "metadata": {},
   "outputs": [
    {
     "name": "stdout",
     "output_type": "stream",
     "text": [
      "tf.Tensor(0.9739, shape=(), dtype=float32)\n"
     ]
    }
   ],
   "source": [
    "accuracy = tf.reduce_mean(tf.cast(tf.equal(predict01, target), dtype=tf.float32))\n",
    "print(accuracy)"
   ]
  },
  {
   "cell_type": "code",
   "execution_count": 20,
   "metadata": {},
   "outputs": [
    {
     "data": {
      "image/png": "[encoded data removed]",
      "text/plain": [
       "<Figure size 432x288 with 10 Axes>"
      ]
     },
     "metadata": {
      "needs_background": "light"
     },
     "output_type": "display_data"
    }
   ],
   "source": [
    "import matplotlib.pyplot as plt\n",
    "%matplotlib inline\n",
    "fig = plt.figure()\n",
    "for i in range(10):\n",
    "    subplot = fig.add_subplot(2, 5, i+1)\n",
    "    subplot.set_title(\"predict : %d\"%predict01[i])\n",
    "    # subplot.set_xticks([])\n",
    "    # subplot.set_yticks([])\n",
    "    subplot.imshow(test_images[i].reshape((28, 28)), cmap=plt.cm.gray_r)\n",
    "plt.show()"
   ]
  },
  {
   "cell_type": "code",
   "execution_count": null,
   "metadata": {},
   "outputs": [],
   "source": []
  }
 ],
 "metadata": {
  "kernelspec": {
   "display_name": "Python 3",
   "language": "python",
   "name": "python3"
  },
  "language_info": {
   "codemirror_mode": {
    "name": "ipython",
    "version": 3
   },
   "file_extension": ".py",
   "mimetype": "text/x-python",
   "name": "python",
   "nbconvert_exporter": "python",
   "pygments_lexer": "ipython3",
   "version": "3.7.3"
  }
 },
 "nbformat": 4,
 "nbformat_minor": 2
}
