{
 "cells": [
  {
   "cell_type": "code",
   "execution_count": 1,
   "metadata": {},
   "outputs": [],
   "source": [
    "import tensorflow as tf\n",
    "import numpy as np"
   ]
  },
  {
   "cell_type": "code",
   "execution_count": 2,
   "metadata": {},
   "outputs": [],
   "source": [
    "tf.enable_eager_execution()"
   ]
  },
  {
   "cell_type": "code",
   "execution_count": 3,
   "metadata": {},
   "outputs": [
    {
     "name": "stdout",
     "output_type": "stream",
     "text": [
      "WARNING:tensorflow:From <ipython-input-3-634333c871da>:2: read_data_sets (from tensorflow.contrib.learn.python.learn.datasets.mnist) is deprecated and will be removed in a future version.\n",
      "Instructions for updating:\n",
      "Please use alternatives such as official/mnist/dataset.py from tensorflow/models.\n",
      "WARNING:tensorflow:From C:\\Users\\JMLAP\\Anaconda3\\lib\\site-packages\\tensorflow_core\\contrib\\learn\\python\\learn\\datasets\\mnist.py:260: maybe_download (from tensorflow.contrib.learn.python.learn.datasets.base) is deprecated and will be removed in a future version.\n",
      "Instructions for updating:\n",
      "Please write your own downloading logic.\n",
      "WARNING:tensorflow:From C:\\Users\\JMLAP\\Anaconda3\\lib\\site-packages\\tensorflow_core\\contrib\\learn\\python\\learn\\datasets\\mnist.py:262: extract_images (from tensorflow.contrib.learn.python.learn.datasets.mnist) is deprecated and will be removed in a future version.\n",
      "Instructions for updating:\n",
      "Please use tf.data to implement this functionality.\n",
      "Extracting ./mnist/data/train-images-idx3-ubyte.gz\n",
      "WARNING:tensorflow:From C:\\Users\\JMLAP\\Anaconda3\\lib\\site-packages\\tensorflow_core\\contrib\\learn\\python\\learn\\datasets\\mnist.py:267: extract_labels (from tensorflow.contrib.learn.python.learn.datasets.mnist) is deprecated and will be removed in a future version.\n",
      "Instructions for updating:\n",
      "Please use tf.data to implement this functionality.\n",
      "Extracting ./mnist/data/train-labels-idx1-ubyte.gz\n",
      "WARNING:tensorflow:From C:\\Users\\JMLAP\\Anaconda3\\lib\\site-packages\\tensorflow_core\\contrib\\learn\\python\\learn\\datasets\\mnist.py:110: dense_to_one_hot (from tensorflow.contrib.learn.python.learn.datasets.mnist) is deprecated and will be removed in a future version.\n",
      "Instructions for updating:\n",
      "Please use tf.one_hot on tensors.\n",
      "Extracting ./mnist/data/t10k-images-idx3-ubyte.gz\n",
      "Extracting ./mnist/data/t10k-labels-idx1-ubyte.gz\n",
      "WARNING:tensorflow:From C:\\Users\\JMLAP\\Anaconda3\\lib\\site-packages\\tensorflow_core\\contrib\\learn\\python\\learn\\datasets\\mnist.py:290: DataSet.__init__ (from tensorflow.contrib.learn.python.learn.datasets.mnist) is deprecated and will be removed in a future version.\n",
      "Instructions for updating:\n",
      "Please use alternatives such as official/mnist/dataset.py from tensorflow/models.\n"
     ]
    }
   ],
   "source": [
    "from tensorflow.examples.tutorials.mnist import input_data\n",
    "mnist = input_data.read_data_sets('./mnist/data/', one_hot = True)"
   ]
  },
  {
   "cell_type": "code",
   "execution_count": 4,
   "metadata": {},
   "outputs": [
    {
     "name": "stdout",
     "output_type": "stream",
     "text": [
      "WARNING:tensorflow:\n",
      "The TensorFlow contrib module will not be included in TensorFlow 2.0.\n",
      "For more information, please see:\n",
      "  * https://github.com/tensorflow/community/blob/master/rfcs/20180907-contrib-sunset.md\n",
      "  * https://github.com/tensorflow/addons\n",
      "  * https://github.com/tensorflow/io (for I/O related ops)\n",
      "If you depend on functionality not listed there, please file an issue.\n",
      "\n"
     ]
    },
    {
     "data": {
      "text/plain": [
       "<tf.Variable 'Variable:0' shape=(784, 200) dtype=float32, numpy=\n",
       "array([[-0.05771768, -0.00130526, -0.00955252, ...,  0.04305168,\n",
       "         0.05293876,  0.01728871],\n",
       "       [-0.02986465,  0.03984295, -0.06775514, ...,  0.05944136,\n",
       "         0.02766319,  0.02921074],\n",
       "       [-0.02354611,  0.0496089 , -0.02113549, ...,  0.04179581,\n",
       "         0.00800426, -0.02955352],\n",
       "       ...,\n",
       "       [ 0.05465315,  0.00464665, -0.04338717, ...,  0.03744397,\n",
       "        -0.04478839, -0.03099231],\n",
       "       [ 0.00292082,  0.00596562, -0.07748725, ...,  0.01081973,\n",
       "         0.02269663, -0.05937831],\n",
       "       [-0.07679627, -0.03348856, -0.05285572, ..., -0.00018755,\n",
       "         0.05887501, -0.06822152]], dtype=float32)>"
      ]
     },
     "execution_count": 4,
     "metadata": {},
     "output_type": "execute_result"
    }
   ],
   "source": [
    "initializer = tf.contrib.layers.xavier_initializer()\n",
    "w0 = tf.Variable(initializer([784,200]))\n",
    "w0"
   ]
  },
  {
   "cell_type": "code",
   "execution_count": 5,
   "metadata": {},
   "outputs": [
    {
     "data": {
      "text/plain": [
       "<tf.Variable 'Variable:0' shape=(200,) dtype=float32, numpy=\n",
       "array([ 0.09452008,  0.08054291,  0.06990246,  0.09210648, -0.03411265,\n",
       "       -0.04084672,  0.0965799 , -0.03713932,  0.08206665, -0.00149896,\n",
       "       -0.04226603,  0.03125083,  0.10124772, -0.12110639, -0.04738181,\n",
       "        0.07879207,  0.01449921, -0.03861036, -0.06352691, -0.0387641 ,\n",
       "        0.01224557, -0.11938764,  0.04015891, -0.11253418, -0.01902989,\n",
       "        0.02842253, -0.0335352 ,  0.11554117, -0.11368695,  0.0161814 ,\n",
       "        0.00066646, -0.05603479,  0.05926754, -0.05246153,  0.03487306,\n",
       "       -0.06990086, -0.03642768, -0.0409912 , -0.10730986, -0.01802213,\n",
       "        0.01772705,  0.09956553, -0.07944543,  0.07711179,  0.0243642 ,\n",
       "       -0.09594973, -0.0934718 , -0.00426302, -0.0123501 , -0.00070034,\n",
       "        0.07210886, -0.09994522,  0.00508361,  0.10092483,  0.04547559,\n",
       "        0.02138785, -0.10313257,  0.07480722,  0.02404364,  0.05791881,\n",
       "       -0.07963196,  0.00972462,  0.01971016, -0.10688838,  0.0551184 ,\n",
       "       -0.01375289, -0.02593949, -0.01746213,  0.11342581, -0.06410681,\n",
       "       -0.02965528,  0.02825905, -0.07601969,  0.01740425, -0.03034423,\n",
       "       -0.00624887, -0.09044328, -0.0410058 , -0.08697893, -0.04185357,\n",
       "        0.07968125,  0.0602586 , -0.08324207, -0.09375919,  0.10759985,\n",
       "        0.11815367, -0.08117814, -0.0823823 , -0.11502621,  0.08157573,\n",
       "       -0.10942349, -0.06179044,  0.11710755,  0.11976492,  0.04943832,\n",
       "        0.03378754, -0.11047148, -0.1022391 , -0.08752022,  0.09820343,\n",
       "       -0.02652166, -0.07988189, -0.03362767,  0.05094496, -0.08902052,\n",
       "       -0.00521848,  0.01379896, -0.10018291,  0.03433291,  0.00626791,\n",
       "        0.05868214,  0.11824072,  0.08472022, -0.04183365, -0.04129375,\n",
       "        0.11565753, -0.05064601,  0.05284493, -0.01022842, -0.01146402,\n",
       "       -0.03798723,  0.11390378,  0.0599385 , -0.0733039 , -0.08739673,\n",
       "       -0.04877422,  0.10851551, -0.06978612, -0.06358593, -0.1099245 ,\n",
       "        0.05235393,  0.05529536, -0.03543294, -0.04872204, -0.00334845,\n",
       "       -0.10990812, -0.00939426, -0.08124615,  0.07200972, -0.04057866,\n",
       "        0.07369866,  0.00211053, -0.11839776, -0.03965007,  0.039926  ,\n",
       "        0.03073116, -0.05496694, -0.01618088, -0.11756439,  0.05650004,\n",
       "        0.07120221,  0.11976946, -0.05481668, -0.03052933,  0.09881891,\n",
       "        0.10264861, -0.09349084,  0.11784912,  0.01078997,  0.08401863,\n",
       "       -0.1045298 , -0.11960518, -0.07175997, -0.11978441, -0.05142607,\n",
       "       -0.11653312, -0.05526744,  0.07589649,  0.0422693 ,  0.03187566,\n",
       "        0.0905269 ,  0.0760955 , -0.10132738,  0.09774759,  0.10763749,\n",
       "       -0.05445524,  0.04429699, -0.09898804,  0.12002564,  0.07898795,\n",
       "        0.03593539, -0.06794876,  0.10925906,  0.06764539,  0.02148857,\n",
       "       -0.06781614, -0.05425066,  0.02411862, -0.01448029,  0.03847765,\n",
       "       -0.10296137,  0.00130863,  0.08213825,  0.06363978,  0.10962374,\n",
       "       -0.06846493,  0.00433136,  0.02701917,  0.1211951 ,  0.09958877],\n",
       "      dtype=float32)>"
      ]
     },
     "execution_count": 5,
     "metadata": {},
     "output_type": "execute_result"
    }
   ],
   "source": [
    "b0 = tf.Variable(initializer([200]))\n",
    "b0"
   ]
  },
  {
   "cell_type": "code",
   "execution_count": 6,
   "metadata": {},
   "outputs": [
    {
     "data": {
      "text/plain": [
       "<tf.Variable 'Variable:0' shape=(200, 10) dtype=float32, numpy=\n",
       "array([[ 0.13066068, -0.15634309, -0.04123428, ..., -0.11931174,\n",
       "        -0.12944657, -0.16580865],\n",
       "       [-0.0556074 ,  0.07365084,  0.01861498, ...,  0.02591373,\n",
       "         0.13312778,  0.09861502],\n",
       "       [ 0.07106306, -0.05777788,  0.12565452, ..., -0.13737935,\n",
       "        -0.07534388, -0.06438665],\n",
       "       ...,\n",
       "       [-0.15887249,  0.12790042, -0.15310054, ...,  0.11713085,\n",
       "         0.05446042, -0.01563849],\n",
       "       [-0.1099711 ,  0.09257507, -0.00794888, ...,  0.13020411,\n",
       "         0.00067216,  0.09667835],\n",
       "       [-0.0661439 , -0.00524925, -0.05084804, ...,  0.16736102,\n",
       "         0.10161805, -0.08284648]], dtype=float32)>"
      ]
     },
     "execution_count": 6,
     "metadata": {},
     "output_type": "execute_result"
    }
   ],
   "source": [
    "w1 = tf.Variable(initializer([200, 10]))\n",
    "w1"
   ]
  },
  {
   "cell_type": "code",
   "execution_count": 7,
   "metadata": {},
   "outputs": [
    {
     "data": {
      "text/plain": [
       "<tf.Variable 'Variable:0' shape=(10,) dtype=float32, numpy=\n",
       "array([-0.20208284,  0.07021976,  0.02603847, -0.35682166,  0.49799562,\n",
       "        0.12254828,  0.37404704, -0.2223475 ,  0.33703953,  0.4767145 ],\n",
       "      dtype=float32)>"
      ]
     },
     "execution_count": 7,
     "metadata": {},
     "output_type": "execute_result"
    }
   ],
   "source": [
    "b1 = tf.Variable(initializer([10]))\n",
    "b1"
   ]
  },
  {
   "cell_type": "code",
   "execution_count": 8,
   "metadata": {},
   "outputs": [],
   "source": [
    "X, y = mnist.train.next_batch(10)"
   ]
  },
  {
   "cell_type": "code",
   "execution_count": 9,
   "metadata": {},
   "outputs": [
    {
     "data": {
      "text/plain": [
       "<tf.Tensor: id=65, shape=(10, 200), dtype=float32, numpy=\n",
       "array([[ 0.33319336,  0.2262015 ,  1.0124903 , ..., -0.10506969,\n",
       "         0.5092986 , -0.45678797],\n",
       "       [ 0.15932661, -0.24133563,  0.29537228, ...,  0.10401503,\n",
       "        -0.03806389,  0.05687915],\n",
       "       [ 0.16331446, -0.3703918 ,  0.34473804, ..., -0.60906184,\n",
       "        -0.21258008, -0.28074136],\n",
       "       ...,\n",
       "       [-0.35550618,  0.18374516,  0.70976907, ..., -0.45594126,\n",
       "        -0.47003123,  0.05512055],\n",
       "       [-0.02299894,  0.5472898 ,  0.7050869 , ...,  0.3286506 ,\n",
       "         0.34896874,  0.07335936],\n",
       "       [-0.4056117 , -0.09602315,  0.3943946 , ..., -0.47483966,\n",
       "         0.21232997,  0.02728535]], dtype=float32)>"
      ]
     },
     "execution_count": 9,
     "metadata": {},
     "output_type": "execute_result"
    }
   ],
   "source": [
    "tf.matmul(X,w0) + b0"
   ]
  },
  {
   "cell_type": "code",
   "execution_count": 10,
   "metadata": {},
   "outputs": [
    {
     "data": {
      "text/plain": [
       "<tf.Tensor: id=71, shape=(10, 200), dtype=float32, numpy=\n",
       "array([[0.58253616, 0.5563105 , 0.7335072 , ..., 0.47375673, 0.624642  ,\n",
       "        0.3877481 ],\n",
       "       [0.5397476 , 0.43995723, 0.57331085, ..., 0.52598035, 0.4904852 ,\n",
       "        0.51421595],\n",
       "       [0.5407381 , 0.40844637, 0.585341  , ..., 0.35227323, 0.4470542 ,\n",
       "        0.43027204],\n",
       "       ...,\n",
       "       [0.41204783, 0.5458075 , 0.67035013, ..., 0.3879491 , 0.38460886,\n",
       "        0.51377666],\n",
       "       [0.4942505 , 0.63350654, 0.6693146 , ..., 0.58143103, 0.5863675 ,\n",
       "        0.51833165],\n",
       "       [0.39996484, 0.47601265, 0.59734017, ..., 0.38347143, 0.552884  ,\n",
       "        0.5068209 ]], dtype=float32)>"
      ]
     },
     "execution_count": 10,
     "metadata": {},
     "output_type": "execute_result"
    }
   ],
   "source": [
    "hypothesis0 = tf.sigmoid(tf.matmul(X,w0) + b0)\n",
    "hypothesis0"
   ]
  },
  {
   "cell_type": "code",
   "execution_count": 11,
   "metadata": {},
   "outputs": [
    {
     "data": {
      "text/plain": [
       "<tf.Tensor: id=76, shape=(10, 10), dtype=float32, numpy=\n",
       "array([[0.05405063, 0.29139385, 0.14821789, 0.03372591, 0.08241473,\n",
       "        0.09292749, 0.03320496, 0.03381785, 0.20580123, 0.02444542],\n",
       "       [0.05118206, 0.30996913, 0.14503908, 0.03751117, 0.08157215,\n",
       "        0.08541278, 0.03576797, 0.03629013, 0.18583706, 0.03141846],\n",
       "       [0.05109263, 0.2861375 , 0.16802657, 0.03423525, 0.07567387,\n",
       "        0.10459469, 0.0373165 , 0.03251592, 0.1855609 , 0.02484612],\n",
       "       [0.05511713, 0.30245408, 0.14386415, 0.03047043, 0.08764829,\n",
       "        0.08979878, 0.03379682, 0.03605369, 0.19667745, 0.02411917],\n",
       "       [0.05590982, 0.30526912, 0.13646992, 0.04014061, 0.08031832,\n",
       "        0.0871318 , 0.03505652, 0.03405682, 0.19696206, 0.02868503],\n",
       "       [0.05121906, 0.29543108, 0.1441364 , 0.03645702, 0.07571588,\n",
       "        0.08468761, 0.03269729, 0.04273519, 0.20367743, 0.03324313],\n",
       "       [0.04793834, 0.28665197, 0.15176809, 0.03713433, 0.08613483,\n",
       "        0.08695277, 0.03303457, 0.03623619, 0.2059631 , 0.02818587],\n",
       "       [0.05339573, 0.2872586 , 0.15082623, 0.0360565 , 0.07165264,\n",
       "        0.09445991, 0.03047973, 0.03692899, 0.21435468, 0.02458694],\n",
       "       [0.05060201, 0.2981096 , 0.13714062, 0.04735822, 0.09145797,\n",
       "        0.06744411, 0.02739666, 0.03816467, 0.21200119, 0.03032502],\n",
       "       [0.05240944, 0.2683897 , 0.13930465, 0.02968833, 0.0751588 ,\n",
       "        0.09013956, 0.02965658, 0.0346993 , 0.25231427, 0.02823929]],\n",
       "      dtype=float32)>"
      ]
     },
     "execution_count": 11,
     "metadata": {},
     "output_type": "execute_result"
    }
   ],
   "source": [
    "hypothesis1 = tf.nn.softmax(tf.matmul(hypothesis0, w1) + b1)\n",
    "hypothesis1"
   ]
  },
  {
   "cell_type": "code",
   "execution_count": 12,
   "metadata": {},
   "outputs": [
    {
     "data": {
      "text/plain": [
       "55000"
      ]
     },
     "execution_count": 12,
     "metadata": {},
     "output_type": "execute_result"
    }
   ],
   "source": [
    "mnist.train.num_examples"
   ]
  },
  {
   "cell_type": "code",
   "execution_count": 13,
   "metadata": {},
   "outputs": [
    {
     "name": "stdout",
     "output_type": "stream",
     "text": [
      "total_batch=  550\n"
     ]
    }
   ],
   "source": [
    "batch_size = 100\n",
    "total_batch = int(mnist.train.num_examples / batch_size)\n",
    "print('total_batch= ', total_batch)"
   ]
  },
  {
   "cell_type": "code",
   "execution_count": 14,
   "metadata": {},
   "outputs": [],
   "source": [
    "optimizer = tf.train.AdamOptimizer(0.001)\n",
    "#global_step = tf.train.create_global_step()"
   ]
  },
  {
   "cell_type": "code",
   "execution_count": 15,
   "metadata": {},
   "outputs": [
    {
     "name": "stdout",
     "output_type": "stream",
     "text": [
      "step: 0, cost:0.5139362215995789\n",
      "step: 1, cost:0.25316765904426575\n",
      "step: 2, cost:0.19960272312164307\n",
      "step: 3, cost:0.1649509221315384\n",
      "step: 4, cost:0.138519287109375\n",
      "step: 5, cost:0.11829245835542679\n",
      "step: 6, cost:0.1017233282327652\n",
      "step: 7, cost:0.08813872933387756\n",
      "step: 8, cost:0.07687678188085556\n",
      "step: 9, cost:0.06667386740446091\n",
      "step: 10, cost:0.058652106672525406\n"
     ]
    }
   ],
   "source": [
    "for step in range(11):\n",
    "    total_cost = 0\n",
    "    for i in range(total_batch):\n",
    "        X, y = mnist.train.next_batch(batch_size)\n",
    "        with tf.GradientTape() as tape:\n",
    "            hypothesis0 = tf.sigmoid(tf.matmul(X, w0) + b0)\n",
    "            hypothesis1 = tf.nn.softmax(tf.matmul(hypothesis0, w1) + b1)\n",
    "            cost = -tf.reduce_sum(y * tf.log(hypothesis1)) / len(hypothesis1)\n",
    "        grads = tape.gradient(cost, [w0,w1,b0,b1])\n",
    "        optimizer.apply_gradients(grads_and_vars = zip(grads,[w0,w1,b0,b1]))\n",
    "        total_cost += cost\n",
    "    print(f'step: {step}, cost:{total_cost/total_batch}')"
   ]
  },
  {
   "cell_type": "code",
   "execution_count": 16,
   "metadata": {},
   "outputs": [],
   "source": [
    "test_images = mnist.test.images\n",
    "test_labels = mnist.test.labels"
   ]
  },
  {
   "cell_type": "code",
   "execution_count": 17,
   "metadata": {},
   "outputs": [
    {
     "data": {
      "text/plain": [
       "<tf.Tensor: id=502357, shape=(10000, 10), dtype=float32, numpy=\n",
       "array([[3.83668976e-06, 1.22366473e-07, 1.06576103e-04, ...,\n",
       "        9.99066770e-01, 4.73109230e-06, 3.44914079e-05],\n",
       "       [8.49995922e-06, 1.42314879e-03, 9.97654915e-01, ...,\n",
       "        1.21384336e-09, 1.82238964e-05, 8.55747861e-10],\n",
       "       [3.62046734e-07, 9.96795952e-01, 8.31768266e-04, ...,\n",
       "        1.31193327e-03, 5.64809481e-04, 2.22028448e-05],\n",
       "       ...,\n",
       "       [3.30746879e-08, 2.91597075e-08, 6.55732265e-07, ...,\n",
       "        3.14785109e-04, 2.50219367e-04, 5.30251418e-04],\n",
       "       [1.47570347e-07, 1.16438491e-06, 5.46783818e-09, ...,\n",
       "        1.07066775e-07, 2.00839364e-03, 6.78859493e-08],\n",
       "       [1.45726935e-05, 1.42578472e-07, 1.83906814e-05, ...,\n",
       "        2.43515768e-08, 1.61752354e-07, 1.68619678e-07]], dtype=float32)>"
      ]
     },
     "execution_count": 17,
     "metadata": {},
     "output_type": "execute_result"
    }
   ],
   "source": [
    "hypothesis0 = tf.sigmoid(tf.matmul(test_images, w0) + b0)\n",
    "predict = tf.nn.softmax(tf.matmul(hypothesis0, w1) + b1)\n",
    "predict"
   ]
  },
  {
   "cell_type": "code",
   "execution_count": 18,
   "metadata": {},
   "outputs": [],
   "source": [
    "predict01 = tf.argmax(predict,1)\n",
    "target = tf.argmax(test_labels, 1)"
   ]
  },
  {
   "cell_type": "code",
   "execution_count": 19,
   "metadata": {},
   "outputs": [
    {
     "name": "stdout",
     "output_type": "stream",
     "text": [
      "tf.Tensor(0.9738, shape=(), dtype=float32)\n"
     ]
    }
   ],
   "source": [
    "accuracy = tf.reduce_mean(tf.cast(tf.equal(predict01, target), dtype=tf.float32))\n",
    "print(accuracy)"
   ]
  },
  {
   "cell_type": "code",
   "execution_count": 21,
   "metadata": {},
   "outputs": [
    {
     "data": {
      "image/png": "[encoded data removed]",
      "text/plain": [
       "<Figure size 432x288 with 10 Axes>"
      ]
     },
     "metadata": {
      "needs_background": "light"
     },
     "output_type": "display_data"
    }
   ],
   "source": [
    "import matplotlib.pyplot as plt\n",
    "%matplotlib inline\n",
    "fig = plt.figure()\n",
    "for i in range(10):\n",
    "    subplot = fig.add_subplot(2, 5, i+1)\n",
    "    subplot.set_title(\"predict : %d\"%predict01[i])\n",
    "    subplot.imshow(test_images[i].reshape((28, 28)), cmap=plt.cm.gray_r)\n",
    "plt.show()"
   ]
  },
  {
   "cell_type": "code",
   "execution_count": null,
   "metadata": {},
   "outputs": [],
   "source": []
  }
 ],
 "metadata": {
  "kernelspec": {
   "display_name": "Python 3",
   "language": "python",
   "name": "python3"
  },
  "language_info": {
   "codemirror_mode": {
    "name": "ipython",
    "version": 3
   },
   "file_extension": ".py",
   "mimetype": "text/x-python",
   "name": "python",
   "nbconvert_exporter": "python",
   "pygments_lexer": "ipython3",
   "version": "3.7.3"
  }
 },
 "nbformat": 4,
 "nbformat_minor": 2
}
