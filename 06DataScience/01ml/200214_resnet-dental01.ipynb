{
 "cells": [
  {
   "cell_type": "code",
   "execution_count": 1,
   "metadata": {
    "colab": {
     "base_uri": "https://localhost:8080/",
     "height": 98
    },
    "colab_type": "code",
    "executionInfo": {
     "elapsed": 2506,
     "status": "ok",
     "timestamp": 1581641271838,
     "user": {
      "displayName": "권혜윤",
      "photoUrl": "",
      "userId": "00367973903309108423"
     },
     "user_tz": -540
    },
    "id": "5Yv0cfOQVfMz",
    "outputId": "f614d76e-a334-4b66-c904-0d0aaeb920ca",
    "scrolled": true
   },
   "outputs": [
    {
     "name": "stderr",
     "output_type": "stream",
     "text": [
      "Using TensorFlow backend.\n"
     ]
    },
    {
     "data": {
      "text/html": [
       "<p style=\"color: red;\">\n",
       "The default version of TensorFlow in Colab will soon switch to TensorFlow 2.x.<br>\n",
       "We recommend you <a href=\"https://www.tensorflow.org/guide/migrate\" target=\"_blank\">upgrade</a> now \n",
       "or ensure your notebook will continue to use TensorFlow 1.x via the <code>%tensorflow_version 1.x</code> magic:\n",
       "<a href=\"https://colab.research.google.com/notebooks/tensorflow_version.ipynb\" target=\"_blank\">more info</a>.</p>\n"
      ],
      "text/plain": [
       "<IPython.core.display.HTML object>"
      ]
     },
     "metadata": {
      "tags": []
     },
     "output_type": "display_data"
    }
   ],
   "source": [
    "import numpy as np\n",
    "import matplotlib.pyplot as plt\n",
    "import numpy as np\n",
    "import keras\n",
    "from keras.preprocessing.image import ImageDataGenerator"
   ]
  },
  {
   "cell_type": "code",
   "execution_count": 2,
   "metadata": {
    "colab": {
     "base_uri": "https://localhost:8080/",
     "height": 34
    },
    "colab_type": "code",
    "executionInfo": {
     "elapsed": 1077,
     "status": "ok",
     "timestamp": 1581641278347,
     "user": {
      "displayName": "권혜윤",
      "photoUrl": "",
      "userId": "00367973903309108423"
     },
     "user_tz": -540
    },
    "id": "zeo3pcNJVfM6",
    "outputId": "bbb45d09-a27e-492f-fd5d-08ffba2ffeb1",
    "scrolled": true
   },
   "outputs": [
    {
     "name": "stdout",
     "output_type": "stream",
     "text": [
      "2.2.5\n"
     ]
    }
   ],
   "source": [
    "print(keras.__version__)"
   ]
  },
  {
   "cell_type": "code",
   "execution_count": 3,
   "metadata": {
    "colab": {
     "base_uri": "https://localhost:8080/",
     "height": 125
    },
    "colab_type": "code",
    "executionInfo": {
     "elapsed": 22205,
     "status": "ok",
     "timestamp": 1581641302753,
     "user": {
      "displayName": "권혜윤",
      "photoUrl": "",
      "userId": "00367973903309108423"
     },
     "user_tz": -540
    },
    "id": "l3a68jdnVri4",
    "outputId": "443b5fb0-2f7f-43f8-a03d-eee149f788ad",
    "scrolled": true
   },
   "outputs": [
    {
     "name": "stdout",
     "output_type": "stream",
     "text": [
      "Go to this URL in a browser: https://accounts.google.com/o/oauth2/auth?client_id=947318989803-6bn6qk8qdgf4n4g3pfee6491hc0brc4i.apps.googleusercontent.com&redirect_uri=urn%3aietf%3awg%3aoauth%3a2.0%3aoob&response_type=code&scope=email%20https%3a%2f%2fwww.googleapis.com%2fauth%2fdocs.test%20https%3a%2f%2fwww.googleapis.com%2fauth%2fdrive%20https%3a%2f%2fwww.googleapis.com%2fauth%2fdrive.photos.readonly%20https%3a%2f%2fwww.googleapis.com%2fauth%2fpeopleapi.readonly\n",
      "\n",
      "Enter your authorization code:\n",
      "··········\n",
      "Mounted at gdrive\n"
     ]
    }
   ],
   "source": [
    "from google.colab import drive\n",
    "\n",
    "drive.mount('gdrive')"
   ]
  },
  {
   "cell_type": "code",
   "execution_count": null,
   "metadata": {
    "colab": {},
    "colab_type": "code",
    "id": "rZOHFIyFVfM9",
    "scrolled": true
   },
   "outputs": [],
   "source": [
    "#학습 데이터의 경로\n",
    "TRAIN_DIR = './gdrive/My Drive/ai/workspace/data/dental_image/train/'\n",
    "#테스트 데이터의 경로\n",
    "TEST_DIR = './gdrive/My Drive/ai/workspace/data/dental_image/test/'"
   ]
  },
  {
   "cell_type": "code",
   "execution_count": null,
   "metadata": {
    "colab": {},
    "colab_type": "code",
    "id": "5qUKgWK4VfNA",
    "scrolled": true
   },
   "outputs": [],
   "source": [
    "#이미지의 가로 세로\n",
    "IM_WIDTH = 220\n",
    "IM_HEIGHT = 220"
   ]
  },
  {
   "cell_type": "code",
   "execution_count": null,
   "metadata": {
    "colab": {},
    "colab_type": "code",
    "id": "y_RZhZCVVfND",
    "scrolled": true
   },
   "outputs": [],
   "source": [
    "#학습에 사용될 이미지를 읽을 객체\n",
    "\n",
    "# 실행할때마다 변형된 이미지를 리턴해서 \n",
    "#이미지가 많은것 같은 효과를 줌\n",
    "train_datagen = ImageDataGenerator(\n",
    "    rescale=1.0/255,\n",
    "      rotation_range=180, # 회전 쵀대 180도\n",
    "      width_shift_range=0.2, # 좌우 이동 최대 이미지 가로사이즈 20%\n",
    "      height_shift_range=0.2, # 상하 이동 최대 이미지  세로사이즈 20%\n",
    "      horizontal_flip=True, # 좌우 반전 실행\n",
    "      vertical_flip=True # 상하 반전 실행 \n",
    "      )"
   ]
  },
  {
   "cell_type": "code",
   "execution_count": null,
   "metadata": {
    "colab": {
     "base_uri": "https://localhost:8080/",
     "height": 35
    },
    "colab_type": "code",
    "executionInfo": {
     "elapsed": 2406,
     "status": "ok",
     "timestamp": 1581577955427,
     "user": {
      "displayName": "권혜윤",
      "photoUrl": "",
      "userId": "00367973903309108423"
     },
     "user_tz": -540
    },
    "id": "IoOYEUWCVfNG",
    "outputId": "78cb3f1d-d3e4-4237-9397-147c9a15410d",
    "scrolled": true
   },
   "outputs": [
    {
     "name": "stdout",
     "output_type": "stream",
     "text": [
      "Found 150 images belonging to 3 classes.\n"
     ]
    }
   ],
   "source": [
    "#train_datagen.flow_from_directory() : 디렉토리에서 이미지를 읽을 객체를 생성\n",
    "#train_datagen.flow_from_directory(\n",
    "#        이미지 경로,       : TRAIN_DIR (/dental_image/train/)\n",
    "#        target_size=(이미지가로, 이미지세로), IM_WIDTH (220) x IM_HEIGHT(220)\n",
    "#        batch_size=한번에 리턴할 이미지의 개수, 50개\n",
    "#        class_mode=분류방법, categorical (다중분류) binary(0 1 로 이중 분류)\n",
    "#        shuffle=이미지를 섞을 여부\n",
    "#)\n",
    "        \n",
    "train_generator = train_datagen.flow_from_directory(\n",
    "         TRAIN_DIR,\n",
    "        target_size=(IM_WIDTH, IM_HEIGHT),\n",
    "        batch_size=8,\n",
    "        class_mode='categorical',\n",
    "        shuffle=True)"
   ]
  },
  {
   "cell_type": "code",
   "execution_count": null,
   "metadata": {
    "colab": {},
    "colab_type": "code",
    "id": "L35NsJXCVfNK",
    "scrolled": true
   },
   "outputs": [],
   "source": [
    "# 검증에 사용될 이미지를 읽을 객체\n",
    "#테스트에서는 이미지를 변형 할 필요가 없으므로\n",
    "#ImageDataGenerator에 값을 주지 않음\n",
    "#이미지가 변형되지 않고 같은 이미지 리턴\n",
    "test_datagen = ImageDataGenerator(rescale=1.0/255)"
   ]
  },
  {
   "cell_type": "code",
   "execution_count": null,
   "metadata": {
    "colab": {
     "base_uri": "https://localhost:8080/",
     "height": 35
    },
    "colab_type": "code",
    "executionInfo": {
     "elapsed": 1091,
     "status": "ok",
     "timestamp": 1581577968632,
     "user": {
      "displayName": "권혜윤",
      "photoUrl": "",
      "userId": "00367973903309108423"
     },
     "user_tz": -540
    },
    "id": "gYT2KxxUVfNN",
    "outputId": "653b6335-f426-4f3f-8761-b96122b74f3b",
    "scrolled": true
   },
   "outputs": [
    {
     "name": "stdout",
     "output_type": "stream",
     "text": [
      "Found 60 images belonging to 3 classes.\n"
     ]
    }
   ],
   "source": [
    "#test_datagen.flow_from_directory() : 디렉토리에서 이미지를 읽을 객체를 생성\n",
    "#test_datagen.flow_from_directory(\n",
    "#        이미지 경로,       : TEST_DIR (/dental_image/test/)\n",
    "#        target_size=(이미지가로, 이미지세로), IM_WIDTH (220) x IM_HEIGHT(220)\n",
    "#        batch_size=한번에 리턴할 이미지의 개수, 10개\n",
    "#        class_mode=분류방법, categorical (다중분류) binary(0 1 로 이중 분류)\n",
    "#        shuffle=이미지를 섞을 여부 False 섞지 않음\n",
    "#)\n",
    "        \n",
    "test_generator = test_datagen.flow_from_directory(\n",
    "        TEST_DIR,\n",
    "        target_size=(IM_WIDTH, IM_HEIGHT),\n",
    "        batch_size=60,\n",
    "        class_mode='categorical',\n",
    "        shuffle=False)"
   ]
  },
  {
   "cell_type": "code",
   "execution_count": null,
   "metadata": {
    "colab": {
     "base_uri": "https://localhost:8080/",
     "height": 35
    },
    "colab_type": "code",
    "executionInfo": {
     "elapsed": 559,
     "status": "ok",
     "timestamp": 1581577969996,
     "user": {
      "displayName": "권혜윤",
      "photoUrl": "",
      "userId": "00367973903309108423"
     },
     "user_tz": -540
    },
    "id": "EvhcZpEOVfNQ",
    "outputId": "cdb1252a-4dd3-42ac-a41b-2c070f2610c9",
    "scrolled": true
   },
   "outputs": [
    {
     "data": {
      "text/plain": [
       "150"
      ]
     },
     "execution_count": 10,
     "metadata": {
      "tags": []
     },
     "output_type": "execute_result"
    }
   ],
   "source": [
    "#학습데이터의 전체 이미지 개수를 리턴\n",
    "train_generator.n"
   ]
  },
  {
   "cell_type": "code",
   "execution_count": null,
   "metadata": {
    "colab": {
     "base_uri": "https://localhost:8080/",
     "height": 35
    },
    "colab_type": "code",
    "executionInfo": {
     "elapsed": 735,
     "status": "ok",
     "timestamp": 1581577971614,
     "user": {
      "displayName": "권혜윤",
      "photoUrl": "",
      "userId": "00367973903309108423"
     },
     "user_tz": -540
    },
    "id": "nJlKznWMVfNT",
    "outputId": "113416bd-5043-46c0-fbda-8959f59fdf70",
    "scrolled": true
   },
   "outputs": [
    {
     "data": {
      "text/plain": [
       "8"
      ]
     },
     "execution_count": 11,
     "metadata": {
      "tags": []
     },
     "output_type": "execute_result"
    }
   ],
   "source": [
    "#한번에 리턴할 이미지의 개수 \n",
    "train_generator.batch_size"
   ]
  },
  {
   "cell_type": "code",
   "execution_count": null,
   "metadata": {
    "colab": {
     "base_uri": "https://localhost:8080/",
     "height": 35
    },
    "colab_type": "code",
    "executionInfo": {
     "elapsed": 582,
     "status": "ok",
     "timestamp": 1581577972986,
     "user": {
      "displayName": "권혜윤",
      "photoUrl": "",
      "userId": "00367973903309108423"
     },
     "user_tz": -540
    },
    "id": "QGQyZTpFVfNW",
    "outputId": "f0c76a04-3e0a-46be-982f-be588a480bfc",
    "scrolled": true
   },
   "outputs": [
    {
     "data": {
      "text/plain": [
       "60"
      ]
     },
     "execution_count": 12,
     "metadata": {
      "tags": []
     },
     "output_type": "execute_result"
    }
   ],
   "source": [
    "#테스트 데이터의 전체 이미지 개수를 리턴\n",
    "test_generator.n"
   ]
  },
  {
   "cell_type": "code",
   "execution_count": null,
   "metadata": {
    "colab": {},
    "colab_type": "code",
    "id": "AyeiTRKNVfNZ",
    "scrolled": true
   },
   "outputs": [],
   "source": [
    "#train_generator.next()\n",
    "#train_generator.batch_size 에 설정된 이미지 50개를 리턴해서 img에 대입\n",
    "#이지지의 label을 label에 대입\n",
    "img, label = train_generator.next()"
   ]
  },
  {
   "cell_type": "code",
   "execution_count": null,
   "metadata": {
    "colab": {
     "base_uri": "https://localhost:8080/",
     "height": 1000
    },
    "colab_type": "code",
    "executionInfo": {
     "elapsed": 578,
     "status": "ok",
     "timestamp": 1581577981190,
     "user": {
      "displayName": "권혜윤",
      "photoUrl": "",
      "userId": "00367973903309108423"
     },
     "user_tz": -540
    },
    "id": "BmqdGGQ9VfNe",
    "outputId": "66c8e522-a324-47f3-f56a-55d9f49ad2ef",
    "scrolled": true
   },
   "outputs": [
    {
     "data": {
      "text/plain": [
       "array([[[[0.4453585 , 0.13555457, 0.10810359],\n",
       "         [0.44705886, 0.13725491, 0.10980393],\n",
       "         [0.44705886, 0.13725491, 0.10980393],\n",
       "         ...,\n",
       "         [0.5433219 , 0.26881206, 0.23174179],\n",
       "         [0.5416029 , 0.26709312, 0.22830385],\n",
       "         [0.5411765 , 0.26666668, 0.227451  ]],\n",
       "\n",
       "        [[0.44449902, 0.1346951 , 0.10724412],\n",
       "         [0.44705886, 0.13725491, 0.10980393],\n",
       "         [0.44705886, 0.13725491, 0.10980393],\n",
       "         ...,\n",
       "         [0.5411765 , 0.26666668, 0.227451  ],\n",
       "         [0.5411765 , 0.26666668, 0.227451  ],\n",
       "         [0.54007465, 0.26556486, 0.22634916]],\n",
       "\n",
       "        [[0.44363958, 0.13383563, 0.10638463],\n",
       "         [0.44705886, 0.13725491, 0.10980393],\n",
       "         [0.44705886, 0.13725491, 0.10980393],\n",
       "         ...,\n",
       "         [0.5358601 , 0.2613503 , 0.22213462],\n",
       "         [0.5341412 , 0.25963137, 0.22041567],\n",
       "         [0.5328778 , 0.25836796, 0.21915227]],\n",
       "\n",
       "        ...,\n",
       "\n",
       "        [[0.38431376, 0.1254902 , 0.07144015],\n",
       "         [0.38431376, 0.1254902 , 0.07058824],\n",
       "         [0.38431376, 0.1254902 , 0.07058824],\n",
       "         ...,\n",
       "         [0.29985362, 0.10980393, 0.08914249],\n",
       "         [0.30473346, 0.11257656, 0.09296872],\n",
       "         [0.30588236, 0.1137255 , 0.09411766]],\n",
       "\n",
       "        [[0.38431376, 0.1254902 , 0.07058824],\n",
       "         [0.38465193, 0.1254902 , 0.07261733],\n",
       "         [0.38551143, 0.1254902 , 0.0777742 ],\n",
       "         ...,\n",
       "         [0.29813465, 0.10980393, 0.08828301],\n",
       "         [0.30387396, 0.11171708, 0.09210923],\n",
       "         [0.30588236, 0.1137255 , 0.09411766]],\n",
       "\n",
       "        [[0.3876187 , 0.1254902 , 0.09041781],\n",
       "         [0.3879925 , 0.12597588, 0.09436049],\n",
       "         [0.387133  , 0.12769483, 0.09521996],\n",
       "         ...,\n",
       "         [0.2964157 , 0.10980393, 0.08742353],\n",
       "         [0.30301446, 0.1108576 , 0.09124976],\n",
       "         [0.30588236, 0.1137255 , 0.09411766]]],\n",
       "\n",
       "\n",
       "       [[[0.35625875, 0.1254902 , 0.08235294],\n",
       "         [0.3529412 , 0.12501894, 0.08211732],\n",
       "         [0.3529412 , 0.12123013, 0.08022292],\n",
       "         ...,\n",
       "         [0.5244354 , 0.28521973, 0.11161588],\n",
       "         [0.52156866, 0.28121918, 0.10531547],\n",
       "         [0.52125275, 0.27435187, 0.10180286]],\n",
       "\n",
       "        [[0.3619552 , 0.12666106, 0.0835238 ],\n",
       "         [0.35933724, 0.1254902 , 0.08235294],\n",
       "         [0.3555484 , 0.1254902 , 0.08235294],\n",
       "         ...,\n",
       "         [0.52254105, 0.2833253 , 0.10782706],\n",
       "         [0.52156866, 0.2774304 , 0.10342106],\n",
       "         [0.5136752 , 0.2705631 , 0.09801405]],\n",
       "\n",
       "        [[0.3647059 , 0.12941177, 0.08627451],\n",
       "         [0.36349446, 0.1282003 , 0.08506304],\n",
       "         [0.3616    , 0.1263059 , 0.08316864],\n",
       "         ...,\n",
       "         [0.52156866, 0.28050885, 0.10496031],\n",
       "         [0.51983213, 0.27364156, 0.10109252],\n",
       "         [0.50609756, 0.26677427, 0.09422524]],\n",
       "\n",
       "        ...,\n",
       "\n",
       "        [[0.5301577 , 0.22614008, 0.1736679 ],\n",
       "         [0.537025  , 0.25017563, 0.18396883],\n",
       "         [0.547211  , 0.26093644, 0.19426976],\n",
       "         ...,\n",
       "         [0.39630297, 0.10716988, 0.08129983],\n",
       "         [0.39651197, 0.11003936, 0.08606372],\n",
       "         [0.39752662, 0.11270028, 0.08048182]],\n",
       "\n",
       "        [[0.5339465 , 0.23940091, 0.1793511 ],\n",
       "         [0.54259324, 0.25631872, 0.18965204],\n",
       "         [0.54901963, 0.2627451 , 0.19866148],\n",
       "         ...,\n",
       "         [0.40098172, 0.11470722, 0.08511081],\n",
       "         [0.39995834, 0.1136838 , 0.08627451],\n",
       "         [0.39806393, 0.11178941, 0.08627451]],\n",
       "\n",
       "        [[0.5379755 , 0.25170097, 0.1850343 ],\n",
       "         [0.5482764 , 0.26200193, 0.19533525],\n",
       "         [0.54901963, 0.2627451 , 0.20245028],\n",
       "         ...,\n",
       "         [0.4039216 , 0.11901186, 0.07689377],\n",
       "         [0.403392  , 0.11711745, 0.08288256],\n",
       "         [0.40149757, 0.11522305, 0.08477696]]],\n",
       "\n",
       "\n",
       "       [[[0.9048749 , 0.8569956 , 0.79114944],\n",
       "         [0.8313726 , 0.78823537, 0.7176471 ],\n",
       "         [0.8313726 , 0.78823537, 0.7176471 ],\n",
       "         ...,\n",
       "         [0.4849742 , 0.2614654 , 0.12551081],\n",
       "         [0.48300195, 0.25297758, 0.11951057],\n",
       "         [0.49238694, 0.26101437, 0.14105968]],\n",
       "\n",
       "        [[0.95294124, 0.90196085, 0.83921576],\n",
       "         [0.8708264 , 0.82514375, 0.75710094],\n",
       "         [0.8313726 , 0.78823537, 0.7176471 ],\n",
       "         ...,\n",
       "         [0.48235297, 0.2509804 , 0.11764707],\n",
       "         [0.48235297, 0.2509804 , 0.11764707],\n",
       "         [0.48588032, 0.25450775, 0.12587754]],\n",
       "\n",
       "        [[0.95294124, 0.90196085, 0.83921576],\n",
       "         [0.9380616 , 0.8880412 , 0.8243361 ],\n",
       "         [0.836778  , 0.793292  , 0.7230525 ],\n",
       "         ...,\n",
       "         [0.48235297, 0.2509804 , 0.11764707],\n",
       "         [0.48235297, 0.2509804 , 0.11764707],\n",
       "         [0.48235297, 0.2509804 , 0.11764707]],\n",
       "\n",
       "        ...,\n",
       "\n",
       "        [[0.6509804 , 0.43529415, 0.31764707],\n",
       "         [0.6509804 , 0.43529415, 0.31764707],\n",
       "         [0.6526605 , 0.43697423, 0.31932715],\n",
       "         ...,\n",
       "         [0.65882355, 0.44705886, 0.29803923],\n",
       "         [0.65882355, 0.44705886, 0.29803923],\n",
       "         [0.65882355, 0.44705886, 0.29803923]],\n",
       "\n",
       "        [[0.6509804 , 0.43529415, 0.31764707],\n",
       "         [0.65485716, 0.43917093, 0.32152385],\n",
       "         [0.65882355, 0.4431373 , 0.3254902 ],\n",
       "         ...,\n",
       "         [0.6468652 , 0.44257444, 0.28608084],\n",
       "         [0.65882355, 0.44705886, 0.29803923],\n",
       "         [0.65882355, 0.44705886, 0.29803923]],\n",
       "\n",
       "        [[0.6570538 , 0.4413676 , 0.3237205 ],\n",
       "         [0.65882355, 0.4431373 , 0.3254902 ],\n",
       "         [0.65882355, 0.4431373 , 0.3254902 ],\n",
       "         ...,\n",
       "         [0.6295141 , 0.43606782, 0.2687298 ],\n",
       "         [0.6556518 , 0.44586948, 0.29486752],\n",
       "         [0.65882355, 0.44705886, 0.29803923]]],\n",
       "\n",
       "\n",
       "       ...,\n",
       "\n",
       "\n",
       "       [[[0.63777417, 0.3415796 , 0.27739292],\n",
       "         [0.6392157 , 0.3372549 , 0.27450982],\n",
       "         [0.63823026, 0.33429852, 0.27056795],\n",
       "         ...,\n",
       "         [0.436417  , 0.19499029, 0.17538245],\n",
       "         [0.4408393 , 0.19378044, 0.1741726 ],\n",
       "         [0.43921572, 0.19215688, 0.17254902]],\n",
       "\n",
       "        [[0.63547146, 0.3484878 , 0.2819984 ],\n",
       "         [0.63864577, 0.33896488, 0.27564982],\n",
       "         [0.6392157 , 0.3372549 , 0.27450982],\n",
       "         ...,\n",
       "         [0.42352945, 0.18431373, 0.16470589],\n",
       "         [0.43143773, 0.18826789, 0.16866004],\n",
       "         [0.43921572, 0.19215688, 0.17254902]],\n",
       "\n",
       "        [[0.63529414, 0.34901962, 0.28235295],\n",
       "         [0.636343  , 0.3458731 , 0.28025526],\n",
       "         [0.6392157 , 0.3372549 , 0.27450982],\n",
       "         ...,\n",
       "         [0.42352945, 0.18431373, 0.16470589],\n",
       "         [0.42514467, 0.18592897, 0.16632113],\n",
       "         [0.43599594, 0.19108295, 0.17147511]],\n",
       "\n",
       "        ...,\n",
       "\n",
       "        [[0.65424037, 0.3171274 , 0.27895105],\n",
       "         [0.6431373 , 0.32156864, 0.27450982],\n",
       "         [0.6431373 , 0.32156864, 0.27450982],\n",
       "         ...,\n",
       "         [0.59607846, 0.3803922 , 0.2627451 ],\n",
       "         [0.5829452 , 0.36725897, 0.2496119 ],\n",
       "         [0.5764706 , 0.36078432, 0.24313727]],\n",
       "\n",
       "        [[0.6431373 , 0.32156864, 0.27450982],\n",
       "         [0.6431373 , 0.32156864, 0.27450982],\n",
       "         [0.6546003 , 0.32156864, 0.28106013],\n",
       "         ...,\n",
       "         [0.59607846, 0.3803922 , 0.2627451 ],\n",
       "         [0.5944589 , 0.37877262, 0.26112556],\n",
       "         [0.5785875 , 0.36290115, 0.24525408]],\n",
       "\n",
       "        [[0.64458215, 0.32156864, 0.27533543],\n",
       "         [0.6607012 , 0.32156864, 0.28454638],\n",
       "         [0.67058825, 0.32156864, 0.2901961 ],\n",
       "         ...,\n",
       "         [0.59854156, 0.38531834, 0.26643974],\n",
       "         [0.59607846, 0.3803922 , 0.2627451 ],\n",
       "         [0.59010106, 0.3744148 , 0.25676775]]],\n",
       "\n",
       "\n",
       "       [[[0.7589893 , 0.5062138 , 0.32874903],\n",
       "         [0.7568628 , 0.5019608 , 0.3372549 ],\n",
       "         [0.75886166, 0.5019608 , 0.33425668],\n",
       "         ...,\n",
       "         [0.6666667 , 0.41176474, 0.34117648],\n",
       "         [0.6707985 , 0.4269145 , 0.35357177],\n",
       "         [0.6759616 , 0.44584626, 0.36906138]],\n",
       "\n",
       "        [[0.76071036, 0.5096559 , 0.32186475],\n",
       "         [0.7571866 , 0.5026084 , 0.33595967],\n",
       "         [0.7568628 , 0.5019608 , 0.3372549 ],\n",
       "         ...,\n",
       "         [0.67620647, 0.44674373, 0.36979568],\n",
       "         [0.6784314 , 0.4558814 , 0.3745118 ],\n",
       "         [0.6784314 , 0.45760247, 0.37106967]],\n",
       "\n",
       "        [[0.76407844, 0.5163921 , 0.32980385],\n",
       "         [0.7589077 , 0.5060506 , 0.3290754 ],\n",
       "         [0.7568628 , 0.5019608 , 0.3372549 ],\n",
       "         ...,\n",
       "         [0.6784314 , 0.45768404, 0.37090647],\n",
       "         [0.6784314 , 0.45882356, 0.36862746],\n",
       "         [0.6784314 , 0.45882356, 0.36862746]],\n",
       "\n",
       "        ...,\n",
       "\n",
       "        [[0.6248023 , 0.29146892, 0.2797042 ],\n",
       "         [0.6266576 , 0.29411766, 0.28195626],\n",
       "         [0.6232155 , 0.29411766, 0.2802352 ],\n",
       "         ...,\n",
       "         [0.473393  , 0.11601797, 0.0420204 ],\n",
       "         [0.4442161 , 0.10730373, 0.01409363],\n",
       "         [0.48623684, 0.08642535, 0.06670438]],\n",
       "\n",
       "        [[0.6230523 , 0.29411766, 0.2801536 ],\n",
       "         [0.61961013, 0.29411766, 0.27843252],\n",
       "         [0.61960787, 0.29411766, 0.2784314 ],\n",
       "         ...,\n",
       "         [0.48235297, 0.11764707, 0.0509804 ],\n",
       "         [0.45356375, 0.11241267, 0.02219119],\n",
       "         [0.465848  , 0.09648779, 0.04113347]],\n",
       "\n",
       "        [[0.61960787, 0.29411766, 0.2784314 ],\n",
       "         [0.61960787, 0.29411766, 0.2784314 ],\n",
       "         [0.61960787, 0.2927956 , 0.27975345],\n",
       "         ...,\n",
       "         [0.48235297, 0.11764707, 0.0509804 ],\n",
       "         [0.4724955 , 0.1158548 , 0.04112293],\n",
       "         [0.44519514, 0.1068142 , 0.01531746]]],\n",
       "\n",
       "\n",
       "       [[[0.59445107, 0.24868628, 0.17943142],\n",
       "         [0.60136956, 0.24970439, 0.18784113],\n",
       "         [0.61642534, 0.25723225, 0.19787829],\n",
       "         ...,\n",
       "         [0.7019608 , 0.49303246, 0.33182877],\n",
       "         [0.7019608 , 0.4893095 , 0.31711513],\n",
       "         [0.7019608 , 0.4742412 , 0.30807415]],\n",
       "\n",
       "        [[0.5964741 , 0.2552976 , 0.17758577],\n",
       "         [0.59394664, 0.24919066, 0.1779183 ],\n",
       "         [0.5983434 , 0.24819127, 0.18582363],\n",
       "         ...,\n",
       "         [0.7019608 , 0.49052316, 0.31928235],\n",
       "         [0.7019608 , 0.47676304, 0.30958724],\n",
       "         [0.7019608 , 0.47058827, 0.30588236]],\n",
       "\n",
       "        [[0.6145561 , 0.2733796 , 0.19868141],\n",
       "         [0.5995003 , 0.25832388, 0.18111637],\n",
       "         [0.59344226, 0.24969502, 0.17640518],\n",
       "         ...,\n",
       "         [0.7019608 , 0.4792849 , 0.31110036],\n",
       "         [0.7019608 , 0.47058827, 0.30588236],\n",
       "         [0.70232725, 0.47168756, 0.30588236]],\n",
       "\n",
       "        ...,\n",
       "\n",
       "        [[0.6092831 , 0.26914832, 0.21960786],\n",
       "         [0.6107007 , 0.26560268, 0.21854384],\n",
       "         [0.6046734 , 0.25957537, 0.21251652],\n",
       "         ...,\n",
       "         [0.6546484 , 0.21636572, 0.15696605],\n",
       "         [0.6608888 , 0.21926528, 0.15980317],\n",
       "         [0.65904194, 0.22498475, 0.16237283]],\n",
       "\n",
       "        [[0.6117095 , 0.26661143, 0.21955259],\n",
       "         [0.6056822 , 0.2605841 , 0.21352527],\n",
       "         [0.6103218 , 0.27162388, 0.20749794],\n",
       "         ...,\n",
       "         [0.6510069 , 0.21571274, 0.14904606],\n",
       "         [0.6593611 , 0.22227658, 0.16176593],\n",
       "         [0.66132534, 0.23354204, 0.17205778]],\n",
       "\n",
       "        [[0.60669094, 0.26159284, 0.21453401],\n",
       "         [0.60880864, 0.26859763, 0.20850669],\n",
       "         [0.6091963 , 0.2794685 , 0.19743158],\n",
       "         ...,\n",
       "         [0.65871567, 0.22319998, 0.157198  ],\n",
       "         [0.6596643 , 0.22254853, 0.16342291],\n",
       "         [0.665256  , 0.23828167, 0.17372209]]]], dtype=float32)"
      ]
     },
     "execution_count": 14,
     "metadata": {
      "tags": []
     },
     "output_type": "execute_result"
    }
   ],
   "source": [
    "img"
   ]
  },
  {
   "cell_type": "code",
   "execution_count": null,
   "metadata": {
    "colab": {},
    "colab_type": "code",
    "id": "GEatuSHnVfNh",
    "outputId": "b0ecea93-dc4f-4fdf-a56f-41ea28cf5cfd",
    "scrolled": true
   },
   "outputs": [
    {
     "data": {
      "text/plain": [
       "(50, 220, 220, 3)"
      ]
     },
     "execution_count": 14,
     "metadata": {
      "tags": []
     },
     "output_type": "execute_result"
    }
   ],
   "source": [
    "img.shape"
   ]
  },
  {
   "cell_type": "code",
   "execution_count": null,
   "metadata": {
    "colab": {},
    "colab_type": "code",
    "id": "TFl4xe7bVfNj",
    "outputId": "57b9b6ae-6e23-4095-8437-8e445508480f",
    "scrolled": true
   },
   "outputs": [
    {
     "data": {
      "text/plain": [
       "array([[0., 0., 1.],\n",
       "       [1., 0., 0.],\n",
       "       [1., 0., 0.],\n",
       "       [0., 0., 1.],\n",
       "       [0., 0., 1.],\n",
       "       [0., 0., 1.],\n",
       "       [0., 1., 0.],\n",
       "       [1., 0., 0.],\n",
       "       [0., 0., 1.],\n",
       "       [1., 0., 0.],\n",
       "       [0., 1., 0.],\n",
       "       [0., 1., 0.],\n",
       "       [0., 1., 0.],\n",
       "       [1., 0., 0.],\n",
       "       [0., 1., 0.],\n",
       "       [1., 0., 0.],\n",
       "       [0., 1., 0.],\n",
       "       [0., 1., 0.],\n",
       "       [0., 1., 0.],\n",
       "       [0., 1., 0.],\n",
       "       [0., 0., 1.],\n",
       "       [0., 0., 1.],\n",
       "       [1., 0., 0.],\n",
       "       [0., 0., 1.],\n",
       "       [0., 1., 0.],\n",
       "       [0., 0., 1.],\n",
       "       [0., 1., 0.],\n",
       "       [0., 0., 1.],\n",
       "       [1., 0., 0.],\n",
       "       [0., 1., 0.],\n",
       "       [0., 0., 1.],\n",
       "       [1., 0., 0.],\n",
       "       [1., 0., 0.],\n",
       "       [0., 1., 0.],\n",
       "       [1., 0., 0.],\n",
       "       [0., 0., 1.],\n",
       "       [0., 1., 0.],\n",
       "       [1., 0., 0.],\n",
       "       [0., 0., 1.],\n",
       "       [1., 0., 0.],\n",
       "       [0., 1., 0.],\n",
       "       [0., 1., 0.],\n",
       "       [1., 0., 0.],\n",
       "       [0., 0., 1.],\n",
       "       [1., 0., 0.],\n",
       "       [1., 0., 0.],\n",
       "       [1., 0., 0.],\n",
       "       [1., 0., 0.],\n",
       "       [0., 0., 1.],\n",
       "       [0., 0., 1.]], dtype=float32)"
      ]
     },
     "execution_count": 15,
     "metadata": {
      "tags": []
     },
     "output_type": "execute_result"
    }
   ],
   "source": [
    "label"
   ]
  },
  {
   "cell_type": "code",
   "execution_count": null,
   "metadata": {
    "colab": {},
    "colab_type": "code",
    "id": "oD-SgXoAVfNn",
    "outputId": "eb60fd51-6ebe-42f7-facd-7dcf69cc3e24",
    "scrolled": true
   },
   "outputs": [
    {
     "data": {
      "text/plain": [
       "(50, 3)"
      ]
     },
     "execution_count": 16,
     "metadata": {
      "tags": []
     },
     "output_type": "execute_result"
    }
   ],
   "source": [
    "label.shape"
   ]
  },
  {
   "cell_type": "code",
   "execution_count": null,
   "metadata": {
    "colab": {},
    "colab_type": "code",
    "id": "89AyzL9sVfNp",
    "scrolled": true
   },
   "outputs": [],
   "source": [
    "from keras.models import Sequential\n",
    "from keras.layers import Dense, Dropout, Flatten, Conv2D,MaxPooling2D\n",
    "from keras.optimizers import Adam"
   ]
  },
  {
   "cell_type": "code",
   "execution_count": null,
   "metadata": {
    "colab": {
     "base_uri": "https://localhost:8080/",
     "height": 541
    },
    "colab_type": "code",
    "executionInfo": {
     "elapsed": 17528,
     "status": "ok",
     "timestamp": 1581578008717,
     "user": {
      "displayName": "권혜윤",
      "photoUrl": "",
      "userId": "00367973903309108423"
     },
     "user_tz": -540
    },
    "id": "wYMnlQWCVfNs",
    "outputId": "50ca0ea4-a0f7-4856-a97a-0c5bfd71a786",
    "scrolled": true
   },
   "outputs": [
    {
     "name": "stdout",
     "output_type": "stream",
     "text": [
      "WARNING:tensorflow:From /usr/local/lib/python3.6/dist-packages/keras/backend/tensorflow_backend.py:66: The name tf.get_default_graph is deprecated. Please use tf.compat.v1.get_default_graph instead.\n",
      "\n",
      "WARNING:tensorflow:From /usr/local/lib/python3.6/dist-packages/keras/backend/tensorflow_backend.py:541: The name tf.placeholder is deprecated. Please use tf.compat.v1.placeholder instead.\n",
      "\n",
      "WARNING:tensorflow:From /usr/local/lib/python3.6/dist-packages/keras/backend/tensorflow_backend.py:4479: The name tf.truncated_normal is deprecated. Please use tf.random.truncated_normal instead.\n",
      "\n",
      "WARNING:tensorflow:From /usr/local/lib/python3.6/dist-packages/keras/backend/tensorflow_backend.py:190: The name tf.get_default_session is deprecated. Please use tf.compat.v1.get_default_session instead.\n",
      "\n",
      "WARNING:tensorflow:From /usr/local/lib/python3.6/dist-packages/keras/backend/tensorflow_backend.py:197: The name tf.ConfigProto is deprecated. Please use tf.compat.v1.ConfigProto instead.\n",
      "\n",
      "WARNING:tensorflow:From /usr/local/lib/python3.6/dist-packages/keras/backend/tensorflow_backend.py:203: The name tf.Session is deprecated. Please use tf.compat.v1.Session instead.\n",
      "\n",
      "WARNING:tensorflow:From /usr/local/lib/python3.6/dist-packages/keras/backend/tensorflow_backend.py:207: The name tf.global_variables is deprecated. Please use tf.compat.v1.global_variables instead.\n",
      "\n",
      "WARNING:tensorflow:From /usr/local/lib/python3.6/dist-packages/keras/backend/tensorflow_backend.py:216: The name tf.is_variable_initialized is deprecated. Please use tf.compat.v1.is_variable_initialized instead.\n",
      "\n",
      "WARNING:tensorflow:From /usr/local/lib/python3.6/dist-packages/keras/backend/tensorflow_backend.py:223: The name tf.variables_initializer is deprecated. Please use tf.compat.v1.variables_initializer instead.\n",
      "\n",
      "WARNING:tensorflow:From /usr/local/lib/python3.6/dist-packages/keras/backend/tensorflow_backend.py:2041: The name tf.nn.fused_batch_norm is deprecated. Please use tf.compat.v1.nn.fused_batch_norm instead.\n",
      "\n",
      "WARNING:tensorflow:From /usr/local/lib/python3.6/dist-packages/keras/backend/tensorflow_backend.py:148: The name tf.placeholder_with_default is deprecated. Please use tf.compat.v1.placeholder_with_default instead.\n",
      "\n",
      "WARNING:tensorflow:From /usr/local/lib/python3.6/dist-packages/keras/backend/tensorflow_backend.py:4267: The name tf.nn.max_pool is deprecated. Please use tf.nn.max_pool2d instead.\n",
      "\n"
     ]
    },
    {
     "name": "stderr",
     "output_type": "stream",
     "text": [
      "/usr/local/lib/python3.6/dist-packages/keras_applications/resnet50.py:265: UserWarning: The output shape of `ResNet50(include_top=False)` has been changed since Keras 2.2.0.\n",
      "  warnings.warn('The output shape of `ResNet50(include_top=False)` '\n"
     ]
    },
    {
     "name": "stdout",
     "output_type": "stream",
     "text": [
      "Downloading data from https://github.com/fchollet/deep-learning-models/releases/download/v0.2/resnet50_weights_tf_dim_ordering_tf_kernels_notop.h5\n",
      "94658560/94653016 [==============================] - 2s 0us/step\n"
     ]
    }
   ],
   "source": [
    "from keras.applications.resnet50 import ResNet50\n",
    "\n",
    "#Resnet50 구조를 갖는 Model생성\n",
    "conv_layers = ResNet50(weights='imagenet', include_top=False, input_shape=(IM_WIDTH, IM_HEIGHT, 3))"
   ]
  },
  {
   "cell_type": "code",
   "execution_count": null,
   "metadata": {
    "colab": {
     "base_uri": "https://localhost:8080/",
     "height": 1000
    },
    "colab_type": "code",
    "executionInfo": {
     "elapsed": 12070,
     "status": "ok",
     "timestamp": 1581578008718,
     "user": {
      "displayName": "권혜윤",
      "photoUrl": "",
      "userId": "00367973903309108423"
     },
     "user_tz": -540
    },
    "id": "lFbH07tcVfNu",
    "outputId": "e89638fc-977e-4d25-e2ea-6ef407c52c4a",
    "scrolled": true
   },
   "outputs": [
    {
     "name": "stdout",
     "output_type": "stream",
     "text": [
      "Model: \"resnet50\"\n",
      "__________________________________________________________________________________________________\n",
      "Layer (type)                    Output Shape         Param #     Connected to                     \n",
      "==================================================================================================\n",
      "input_1 (InputLayer)            (None, 220, 220, 3)  0                                            \n",
      "__________________________________________________________________________________________________\n",
      "conv1_pad (ZeroPadding2D)       (None, 226, 226, 3)  0           input_1[0][0]                    \n",
      "__________________________________________________________________________________________________\n",
      "conv1 (Conv2D)                  (None, 110, 110, 64) 9472        conv1_pad[0][0]                  \n",
      "__________________________________________________________________________________________________\n",
      "bn_conv1 (BatchNormalization)   (None, 110, 110, 64) 256         conv1[0][0]                      \n",
      "__________________________________________________________________________________________________\n",
      "activation_1 (Activation)       (None, 110, 110, 64) 0           bn_conv1[0][0]                   \n",
      "__________________________________________________________________________________________________\n",
      "pool1_pad (ZeroPadding2D)       (None, 112, 112, 64) 0           activation_1[0][0]               \n",
      "__________________________________________________________________________________________________\n",
      "max_pooling2d_1 (MaxPooling2D)  (None, 55, 55, 64)   0           pool1_pad[0][0]                  \n",
      "__________________________________________________________________________________________________\n",
      "res2a_branch2a (Conv2D)         (None, 55, 55, 64)   4160        max_pooling2d_1[0][0]            \n",
      "__________________________________________________________________________________________________\n",
      "bn2a_branch2a (BatchNormalizati (None, 55, 55, 64)   256         res2a_branch2a[0][0]             \n",
      "__________________________________________________________________________________________________\n",
      "activation_2 (Activation)       (None, 55, 55, 64)   0           bn2a_branch2a[0][0]              \n",
      "__________________________________________________________________________________________________\n",
      "res2a_branch2b (Conv2D)         (None, 55, 55, 64)   36928       activation_2[0][0]               \n",
      "__________________________________________________________________________________________________\n",
      "bn2a_branch2b (BatchNormalizati (None, 55, 55, 64)   256         res2a_branch2b[0][0]             \n",
      "__________________________________________________________________________________________________\n",
      "activation_3 (Activation)       (None, 55, 55, 64)   0           bn2a_branch2b[0][0]              \n",
      "__________________________________________________________________________________________________\n",
      "res2a_branch2c (Conv2D)         (None, 55, 55, 256)  16640       activation_3[0][0]               \n",
      "__________________________________________________________________________________________________\n",
      "res2a_branch1 (Conv2D)          (None, 55, 55, 256)  16640       max_pooling2d_1[0][0]            \n",
      "__________________________________________________________________________________________________\n",
      "bn2a_branch2c (BatchNormalizati (None, 55, 55, 256)  1024        res2a_branch2c[0][0]             \n",
      "__________________________________________________________________________________________________\n",
      "bn2a_branch1 (BatchNormalizatio (None, 55, 55, 256)  1024        res2a_branch1[0][0]              \n",
      "__________________________________________________________________________________________________\n",
      "add_1 (Add)                     (None, 55, 55, 256)  0           bn2a_branch2c[0][0]              \n",
      "                                                                 bn2a_branch1[0][0]               \n",
      "__________________________________________________________________________________________________\n",
      "activation_4 (Activation)       (None, 55, 55, 256)  0           add_1[0][0]                      \n",
      "__________________________________________________________________________________________________\n",
      "res2b_branch2a (Conv2D)         (None, 55, 55, 64)   16448       activation_4[0][0]               \n",
      "__________________________________________________________________________________________________\n",
      "bn2b_branch2a (BatchNormalizati (None, 55, 55, 64)   256         res2b_branch2a[0][0]             \n",
      "__________________________________________________________________________________________________\n",
      "activation_5 (Activation)       (None, 55, 55, 64)   0           bn2b_branch2a[0][0]              \n",
      "__________________________________________________________________________________________________\n",
      "res2b_branch2b (Conv2D)         (None, 55, 55, 64)   36928       activation_5[0][0]               \n",
      "__________________________________________________________________________________________________\n",
      "bn2b_branch2b (BatchNormalizati (None, 55, 55, 64)   256         res2b_branch2b[0][0]             \n",
      "__________________________________________________________________________________________________\n",
      "activation_6 (Activation)       (None, 55, 55, 64)   0           bn2b_branch2b[0][0]              \n",
      "__________________________________________________________________________________________________\n",
      "res2b_branch2c (Conv2D)         (None, 55, 55, 256)  16640       activation_6[0][0]               \n",
      "__________________________________________________________________________________________________\n",
      "bn2b_branch2c (BatchNormalizati (None, 55, 55, 256)  1024        res2b_branch2c[0][0]             \n",
      "__________________________________________________________________________________________________\n",
      "add_2 (Add)                     (None, 55, 55, 256)  0           bn2b_branch2c[0][0]              \n",
      "                                                                 activation_4[0][0]               \n",
      "__________________________________________________________________________________________________\n",
      "activation_7 (Activation)       (None, 55, 55, 256)  0           add_2[0][0]                      \n",
      "__________________________________________________________________________________________________\n",
      "res2c_branch2a (Conv2D)         (None, 55, 55, 64)   16448       activation_7[0][0]               \n",
      "__________________________________________________________________________________________________\n",
      "bn2c_branch2a (BatchNormalizati (None, 55, 55, 64)   256         res2c_branch2a[0][0]             \n",
      "__________________________________________________________________________________________________\n",
      "activation_8 (Activation)       (None, 55, 55, 64)   0           bn2c_branch2a[0][0]              \n",
      "__________________________________________________________________________________________________\n",
      "res2c_branch2b (Conv2D)         (None, 55, 55, 64)   36928       activation_8[0][0]               \n",
      "__________________________________________________________________________________________________\n",
      "bn2c_branch2b (BatchNormalizati (None, 55, 55, 64)   256         res2c_branch2b[0][0]             \n",
      "__________________________________________________________________________________________________\n",
      "activation_9 (Activation)       (None, 55, 55, 64)   0           bn2c_branch2b[0][0]              \n",
      "__________________________________________________________________________________________________\n",
      "res2c_branch2c (Conv2D)         (None, 55, 55, 256)  16640       activation_9[0][0]               \n",
      "__________________________________________________________________________________________________\n",
      "bn2c_branch2c (BatchNormalizati (None, 55, 55, 256)  1024        res2c_branch2c[0][0]             \n",
      "__________________________________________________________________________________________________\n",
      "add_3 (Add)                     (None, 55, 55, 256)  0           bn2c_branch2c[0][0]              \n",
      "                                                                 activation_7[0][0]               \n",
      "__________________________________________________________________________________________________\n",
      "activation_10 (Activation)      (None, 55, 55, 256)  0           add_3[0][0]                      \n",
      "__________________________________________________________________________________________________\n",
      "res3a_branch2a (Conv2D)         (None, 28, 28, 128)  32896       activation_10[0][0]              \n",
      "__________________________________________________________________________________________________\n",
      "bn3a_branch2a (BatchNormalizati (None, 28, 28, 128)  512         res3a_branch2a[0][0]             \n",
      "__________________________________________________________________________________________________\n",
      "activation_11 (Activation)      (None, 28, 28, 128)  0           bn3a_branch2a[0][0]              \n",
      "__________________________________________________________________________________________________\n",
      "res3a_branch2b (Conv2D)         (None, 28, 28, 128)  147584      activation_11[0][0]              \n",
      "__________________________________________________________________________________________________\n",
      "bn3a_branch2b (BatchNormalizati (None, 28, 28, 128)  512         res3a_branch2b[0][0]             \n",
      "__________________________________________________________________________________________________\n",
      "activation_12 (Activation)      (None, 28, 28, 128)  0           bn3a_branch2b[0][0]              \n",
      "__________________________________________________________________________________________________\n",
      "res3a_branch2c (Conv2D)         (None, 28, 28, 512)  66048       activation_12[0][0]              \n",
      "__________________________________________________________________________________________________\n",
      "res3a_branch1 (Conv2D)          (None, 28, 28, 512)  131584      activation_10[0][0]              \n",
      "__________________________________________________________________________________________________\n",
      "bn3a_branch2c (BatchNormalizati (None, 28, 28, 512)  2048        res3a_branch2c[0][0]             \n",
      "__________________________________________________________________________________________________\n",
      "bn3a_branch1 (BatchNormalizatio (None, 28, 28, 512)  2048        res3a_branch1[0][0]              \n",
      "__________________________________________________________________________________________________\n",
      "add_4 (Add)                     (None, 28, 28, 512)  0           bn3a_branch2c[0][0]              \n",
      "                                                                 bn3a_branch1[0][0]               \n",
      "__________________________________________________________________________________________________\n",
      "activation_13 (Activation)      (None, 28, 28, 512)  0           add_4[0][0]                      \n",
      "__________________________________________________________________________________________________\n",
      "res3b_branch2a (Conv2D)         (None, 28, 28, 128)  65664       activation_13[0][0]              \n",
      "__________________________________________________________________________________________________\n",
      "bn3b_branch2a (BatchNormalizati (None, 28, 28, 128)  512         res3b_branch2a[0][0]             \n",
      "__________________________________________________________________________________________________\n",
      "activation_14 (Activation)      (None, 28, 28, 128)  0           bn3b_branch2a[0][0]              \n",
      "__________________________________________________________________________________________________\n",
      "res3b_branch2b (Conv2D)         (None, 28, 28, 128)  147584      activation_14[0][0]              \n",
      "__________________________________________________________________________________________________\n",
      "bn3b_branch2b (BatchNormalizati (None, 28, 28, 128)  512         res3b_branch2b[0][0]             \n",
      "__________________________________________________________________________________________________\n",
      "activation_15 (Activation)      (None, 28, 28, 128)  0           bn3b_branch2b[0][0]              \n",
      "__________________________________________________________________________________________________\n",
      "res3b_branch2c (Conv2D)         (None, 28, 28, 512)  66048       activation_15[0][0]              \n",
      "__________________________________________________________________________________________________\n",
      "bn3b_branch2c (BatchNormalizati (None, 28, 28, 512)  2048        res3b_branch2c[0][0]             \n",
      "__________________________________________________________________________________________________\n",
      "add_5 (Add)                     (None, 28, 28, 512)  0           bn3b_branch2c[0][0]              \n",
      "                                                                 activation_13[0][0]              \n",
      "__________________________________________________________________________________________________\n",
      "activation_16 (Activation)      (None, 28, 28, 512)  0           add_5[0][0]                      \n",
      "__________________________________________________________________________________________________\n",
      "res3c_branch2a (Conv2D)         (None, 28, 28, 128)  65664       activation_16[0][0]              \n",
      "__________________________________________________________________________________________________\n",
      "bn3c_branch2a (BatchNormalizati (None, 28, 28, 128)  512         res3c_branch2a[0][0]             \n",
      "__________________________________________________________________________________________________\n",
      "activation_17 (Activation)      (None, 28, 28, 128)  0           bn3c_branch2a[0][0]              \n",
      "__________________________________________________________________________________________________\n",
      "res3c_branch2b (Conv2D)         (None, 28, 28, 128)  147584      activation_17[0][0]              \n",
      "__________________________________________________________________________________________________\n",
      "bn3c_branch2b (BatchNormalizati (None, 28, 28, 128)  512         res3c_branch2b[0][0]             \n",
      "__________________________________________________________________________________________________\n",
      "activation_18 (Activation)      (None, 28, 28, 128)  0           bn3c_branch2b[0][0]              \n",
      "__________________________________________________________________________________________________\n",
      "res3c_branch2c (Conv2D)         (None, 28, 28, 512)  66048       activation_18[0][0]              \n",
      "__________________________________________________________________________________________________\n",
      "bn3c_branch2c (BatchNormalizati (None, 28, 28, 512)  2048        res3c_branch2c[0][0]             \n",
      "__________________________________________________________________________________________________\n",
      "add_6 (Add)                     (None, 28, 28, 512)  0           bn3c_branch2c[0][0]              \n",
      "                                                                 activation_16[0][0]              \n",
      "__________________________________________________________________________________________________\n",
      "activation_19 (Activation)      (None, 28, 28, 512)  0           add_6[0][0]                      \n",
      "__________________________________________________________________________________________________\n",
      "res3d_branch2a (Conv2D)         (None, 28, 28, 128)  65664       activation_19[0][0]              \n",
      "__________________________________________________________________________________________________\n",
      "bn3d_branch2a (BatchNormalizati (None, 28, 28, 128)  512         res3d_branch2a[0][0]             \n",
      "__________________________________________________________________________________________________\n",
      "activation_20 (Activation)      (None, 28, 28, 128)  0           bn3d_branch2a[0][0]              \n",
      "__________________________________________________________________________________________________\n",
      "res3d_branch2b (Conv2D)         (None, 28, 28, 128)  147584      activation_20[0][0]              \n",
      "__________________________________________________________________________________________________\n",
      "bn3d_branch2b (BatchNormalizati (None, 28, 28, 128)  512         res3d_branch2b[0][0]             \n",
      "__________________________________________________________________________________________________\n",
      "activation_21 (Activation)      (None, 28, 28, 128)  0           bn3d_branch2b[0][0]              \n",
      "__________________________________________________________________________________________________\n",
      "res3d_branch2c (Conv2D)         (None, 28, 28, 512)  66048       activation_21[0][0]              \n",
      "__________________________________________________________________________________________________\n",
      "bn3d_branch2c (BatchNormalizati (None, 28, 28, 512)  2048        res3d_branch2c[0][0]             \n",
      "__________________________________________________________________________________________________\n",
      "add_7 (Add)                     (None, 28, 28, 512)  0           bn3d_branch2c[0][0]              \n",
      "                                                                 activation_19[0][0]              \n",
      "__________________________________________________________________________________________________\n",
      "activation_22 (Activation)      (None, 28, 28, 512)  0           add_7[0][0]                      \n",
      "__________________________________________________________________________________________________\n",
      "res4a_branch2a (Conv2D)         (None, 14, 14, 256)  131328      activation_22[0][0]              \n",
      "__________________________________________________________________________________________________\n",
      "bn4a_branch2a (BatchNormalizati (None, 14, 14, 256)  1024        res4a_branch2a[0][0]             \n",
      "__________________________________________________________________________________________________\n",
      "activation_23 (Activation)      (None, 14, 14, 256)  0           bn4a_branch2a[0][0]              \n",
      "__________________________________________________________________________________________________\n",
      "res4a_branch2b (Conv2D)         (None, 14, 14, 256)  590080      activation_23[0][0]              \n",
      "__________________________________________________________________________________________________\n",
      "bn4a_branch2b (BatchNormalizati (None, 14, 14, 256)  1024        res4a_branch2b[0][0]             \n",
      "__________________________________________________________________________________________________\n",
      "activation_24 (Activation)      (None, 14, 14, 256)  0           bn4a_branch2b[0][0]              \n",
      "__________________________________________________________________________________________________\n",
      "res4a_branch2c (Conv2D)         (None, 14, 14, 1024) 263168      activation_24[0][0]              \n",
      "__________________________________________________________________________________________________\n",
      "res4a_branch1 (Conv2D)          (None, 14, 14, 1024) 525312      activation_22[0][0]              \n",
      "__________________________________________________________________________________________________\n",
      "bn4a_branch2c (BatchNormalizati (None, 14, 14, 1024) 4096        res4a_branch2c[0][0]             \n",
      "__________________________________________________________________________________________________\n",
      "bn4a_branch1 (BatchNormalizatio (None, 14, 14, 1024) 4096        res4a_branch1[0][0]              \n",
      "__________________________________________________________________________________________________\n",
      "add_8 (Add)                     (None, 14, 14, 1024) 0           bn4a_branch2c[0][0]              \n",
      "                                                                 bn4a_branch1[0][0]               \n",
      "__________________________________________________________________________________________________\n",
      "activation_25 (Activation)      (None, 14, 14, 1024) 0           add_8[0][0]                      \n",
      "__________________________________________________________________________________________________\n",
      "res4b_branch2a (Conv2D)         (None, 14, 14, 256)  262400      activation_25[0][0]              \n",
      "__________________________________________________________________________________________________\n",
      "bn4b_branch2a (BatchNormalizati (None, 14, 14, 256)  1024        res4b_branch2a[0][0]             \n",
      "__________________________________________________________________________________________________\n",
      "activation_26 (Activation)      (None, 14, 14, 256)  0           bn4b_branch2a[0][0]              \n",
      "__________________________________________________________________________________________________\n",
      "res4b_branch2b (Conv2D)         (None, 14, 14, 256)  590080      activation_26[0][0]              \n",
      "__________________________________________________________________________________________________\n",
      "bn4b_branch2b (BatchNormalizati (None, 14, 14, 256)  1024        res4b_branch2b[0][0]             \n",
      "__________________________________________________________________________________________________\n",
      "activation_27 (Activation)      (None, 14, 14, 256)  0           bn4b_branch2b[0][0]              \n",
      "__________________________________________________________________________________________________\n",
      "res4b_branch2c (Conv2D)         (None, 14, 14, 1024) 263168      activation_27[0][0]              \n",
      "__________________________________________________________________________________________________\n",
      "bn4b_branch2c (BatchNormalizati (None, 14, 14, 1024) 4096        res4b_branch2c[0][0]             \n",
      "__________________________________________________________________________________________________\n",
      "add_9 (Add)                     (None, 14, 14, 1024) 0           bn4b_branch2c[0][0]              \n",
      "                                                                 activation_25[0][0]              \n",
      "__________________________________________________________________________________________________\n",
      "activation_28 (Activation)      (None, 14, 14, 1024) 0           add_9[0][0]                      \n",
      "__________________________________________________________________________________________________\n",
      "res4c_branch2a (Conv2D)         (None, 14, 14, 256)  262400      activation_28[0][0]              \n",
      "__________________________________________________________________________________________________\n",
      "bn4c_branch2a (BatchNormalizati (None, 14, 14, 256)  1024        res4c_branch2a[0][0]             \n",
      "__________________________________________________________________________________________________\n",
      "activation_29 (Activation)      (None, 14, 14, 256)  0           bn4c_branch2a[0][0]              \n",
      "__________________________________________________________________________________________________\n",
      "res4c_branch2b (Conv2D)         (None, 14, 14, 256)  590080      activation_29[0][0]              \n",
      "__________________________________________________________________________________________________\n",
      "bn4c_branch2b (BatchNormalizati (None, 14, 14, 256)  1024        res4c_branch2b[0][0]             \n",
      "__________________________________________________________________________________________________\n",
      "activation_30 (Activation)      (None, 14, 14, 256)  0           bn4c_branch2b[0][0]              \n",
      "__________________________________________________________________________________________________\n",
      "res4c_branch2c (Conv2D)         (None, 14, 14, 1024) 263168      activation_30[0][0]              \n",
      "__________________________________________________________________________________________________\n",
      "bn4c_branch2c (BatchNormalizati (None, 14, 14, 1024) 4096        res4c_branch2c[0][0]             \n",
      "__________________________________________________________________________________________________\n",
      "add_10 (Add)                    (None, 14, 14, 1024) 0           bn4c_branch2c[0][0]              \n",
      "                                                                 activation_28[0][0]              \n",
      "__________________________________________________________________________________________________\n",
      "activation_31 (Activation)      (None, 14, 14, 1024) 0           add_10[0][0]                     \n",
      "__________________________________________________________________________________________________\n",
      "res4d_branch2a (Conv2D)         (None, 14, 14, 256)  262400      activation_31[0][0]              \n",
      "__________________________________________________________________________________________________\n",
      "bn4d_branch2a (BatchNormalizati (None, 14, 14, 256)  1024        res4d_branch2a[0][0]             \n",
      "__________________________________________________________________________________________________\n",
      "activation_32 (Activation)      (None, 14, 14, 256)  0           bn4d_branch2a[0][0]              \n",
      "__________________________________________________________________________________________________\n",
      "res4d_branch2b (Conv2D)         (None, 14, 14, 256)  590080      activation_32[0][0]              \n",
      "__________________________________________________________________________________________________\n",
      "bn4d_branch2b (BatchNormalizati (None, 14, 14, 256)  1024        res4d_branch2b[0][0]             \n",
      "__________________________________________________________________________________________________\n",
      "activation_33 (Activation)      (None, 14, 14, 256)  0           bn4d_branch2b[0][0]              \n",
      "__________________________________________________________________________________________________\n",
      "res4d_branch2c (Conv2D)         (None, 14, 14, 1024) 263168      activation_33[0][0]              \n",
      "__________________________________________________________________________________________________\n",
      "bn4d_branch2c (BatchNormalizati (None, 14, 14, 1024) 4096        res4d_branch2c[0][0]             \n",
      "__________________________________________________________________________________________________\n",
      "add_11 (Add)                    (None, 14, 14, 1024) 0           bn4d_branch2c[0][0]              \n",
      "                                                                 activation_31[0][0]              \n",
      "__________________________________________________________________________________________________\n",
      "activation_34 (Activation)      (None, 14, 14, 1024) 0           add_11[0][0]                     \n",
      "__________________________________________________________________________________________________\n",
      "res4e_branch2a (Conv2D)         (None, 14, 14, 256)  262400      activation_34[0][0]              \n",
      "__________________________________________________________________________________________________\n",
      "bn4e_branch2a (BatchNormalizati (None, 14, 14, 256)  1024        res4e_branch2a[0][0]             \n",
      "__________________________________________________________________________________________________\n",
      "activation_35 (Activation)      (None, 14, 14, 256)  0           bn4e_branch2a[0][0]              \n",
      "__________________________________________________________________________________________________\n",
      "res4e_branch2b (Conv2D)         (None, 14, 14, 256)  590080      activation_35[0][0]              \n",
      "__________________________________________________________________________________________________\n",
      "bn4e_branch2b (BatchNormalizati (None, 14, 14, 256)  1024        res4e_branch2b[0][0]             \n",
      "__________________________________________________________________________________________________\n",
      "activation_36 (Activation)      (None, 14, 14, 256)  0           bn4e_branch2b[0][0]              \n",
      "__________________________________________________________________________________________________\n",
      "res4e_branch2c (Conv2D)         (None, 14, 14, 1024) 263168      activation_36[0][0]              \n",
      "__________________________________________________________________________________________________\n",
      "bn4e_branch2c (BatchNormalizati (None, 14, 14, 1024) 4096        res4e_branch2c[0][0]             \n",
      "__________________________________________________________________________________________________\n",
      "add_12 (Add)                    (None, 14, 14, 1024) 0           bn4e_branch2c[0][0]              \n",
      "                                                                 activation_34[0][0]              \n",
      "__________________________________________________________________________________________________\n",
      "activation_37 (Activation)      (None, 14, 14, 1024) 0           add_12[0][0]                     \n",
      "__________________________________________________________________________________________________\n",
      "res4f_branch2a (Conv2D)         (None, 14, 14, 256)  262400      activation_37[0][0]              \n",
      "__________________________________________________________________________________________________\n",
      "bn4f_branch2a (BatchNormalizati (None, 14, 14, 256)  1024        res4f_branch2a[0][0]             \n",
      "__________________________________________________________________________________________________\n",
      "activation_38 (Activation)      (None, 14, 14, 256)  0           bn4f_branch2a[0][0]              \n",
      "__________________________________________________________________________________________________\n",
      "res4f_branch2b (Conv2D)         (None, 14, 14, 256)  590080      activation_38[0][0]              \n",
      "__________________________________________________________________________________________________\n",
      "bn4f_branch2b (BatchNormalizati (None, 14, 14, 256)  1024        res4f_branch2b[0][0]             \n",
      "__________________________________________________________________________________________________\n",
      "activation_39 (Activation)      (None, 14, 14, 256)  0           bn4f_branch2b[0][0]              \n",
      "__________________________________________________________________________________________________\n",
      "res4f_branch2c (Conv2D)         (None, 14, 14, 1024) 263168      activation_39[0][0]              \n",
      "__________________________________________________________________________________________________\n",
      "bn4f_branch2c (BatchNormalizati (None, 14, 14, 1024) 4096        res4f_branch2c[0][0]             \n",
      "__________________________________________________________________________________________________\n",
      "add_13 (Add)                    (None, 14, 14, 1024) 0           bn4f_branch2c[0][0]              \n",
      "                                                                 activation_37[0][0]              \n",
      "__________________________________________________________________________________________________\n",
      "activation_40 (Activation)      (None, 14, 14, 1024) 0           add_13[0][0]                     \n",
      "__________________________________________________________________________________________________\n",
      "res5a_branch2a (Conv2D)         (None, 7, 7, 512)    524800      activation_40[0][0]              \n",
      "__________________________________________________________________________________________________\n",
      "bn5a_branch2a (BatchNormalizati (None, 7, 7, 512)    2048        res5a_branch2a[0][0]             \n",
      "__________________________________________________________________________________________________\n",
      "activation_41 (Activation)      (None, 7, 7, 512)    0           bn5a_branch2a[0][0]              \n",
      "__________________________________________________________________________________________________\n",
      "res5a_branch2b (Conv2D)         (None, 7, 7, 512)    2359808     activation_41[0][0]              \n",
      "__________________________________________________________________________________________________\n",
      "bn5a_branch2b (BatchNormalizati (None, 7, 7, 512)    2048        res5a_branch2b[0][0]             \n",
      "__________________________________________________________________________________________________\n",
      "activation_42 (Activation)      (None, 7, 7, 512)    0           bn5a_branch2b[0][0]              \n",
      "__________________________________________________________________________________________________\n",
      "res5a_branch2c (Conv2D)         (None, 7, 7, 2048)   1050624     activation_42[0][0]              \n",
      "__________________________________________________________________________________________________\n",
      "res5a_branch1 (Conv2D)          (None, 7, 7, 2048)   2099200     activation_40[0][0]              \n",
      "__________________________________________________________________________________________________\n",
      "bn5a_branch2c (BatchNormalizati (None, 7, 7, 2048)   8192        res5a_branch2c[0][0]             \n",
      "__________________________________________________________________________________________________\n",
      "bn5a_branch1 (BatchNormalizatio (None, 7, 7, 2048)   8192        res5a_branch1[0][0]              \n",
      "__________________________________________________________________________________________________\n",
      "add_14 (Add)                    (None, 7, 7, 2048)   0           bn5a_branch2c[0][0]              \n",
      "                                                                 bn5a_branch1[0][0]               \n",
      "__________________________________________________________________________________________________\n",
      "activation_43 (Activation)      (None, 7, 7, 2048)   0           add_14[0][0]                     \n",
      "__________________________________________________________________________________________________\n",
      "res5b_branch2a (Conv2D)         (None, 7, 7, 512)    1049088     activation_43[0][0]              \n",
      "__________________________________________________________________________________________________\n",
      "bn5b_branch2a (BatchNormalizati (None, 7, 7, 512)    2048        res5b_branch2a[0][0]             \n",
      "__________________________________________________________________________________________________\n",
      "activation_44 (Activation)      (None, 7, 7, 512)    0           bn5b_branch2a[0][0]              \n",
      "__________________________________________________________________________________________________\n",
      "res5b_branch2b (Conv2D)         (None, 7, 7, 512)    2359808     activation_44[0][0]              \n",
      "__________________________________________________________________________________________________\n",
      "bn5b_branch2b (BatchNormalizati (None, 7, 7, 512)    2048        res5b_branch2b[0][0]             \n",
      "__________________________________________________________________________________________________\n",
      "activation_45 (Activation)      (None, 7, 7, 512)    0           bn5b_branch2b[0][0]              \n",
      "__________________________________________________________________________________________________\n",
      "res5b_branch2c (Conv2D)         (None, 7, 7, 2048)   1050624     activation_45[0][0]              \n",
      "__________________________________________________________________________________________________\n",
      "bn5b_branch2c (BatchNormalizati (None, 7, 7, 2048)   8192        res5b_branch2c[0][0]             \n",
      "__________________________________________________________________________________________________\n",
      "add_15 (Add)                    (None, 7, 7, 2048)   0           bn5b_branch2c[0][0]              \n",
      "                                                                 activation_43[0][0]              \n",
      "__________________________________________________________________________________________________\n",
      "activation_46 (Activation)      (None, 7, 7, 2048)   0           add_15[0][0]                     \n",
      "__________________________________________________________________________________________________\n",
      "res5c_branch2a (Conv2D)         (None, 7, 7, 512)    1049088     activation_46[0][0]              \n",
      "__________________________________________________________________________________________________\n",
      "bn5c_branch2a (BatchNormalizati (None, 7, 7, 512)    2048        res5c_branch2a[0][0]             \n",
      "__________________________________________________________________________________________________\n",
      "activation_47 (Activation)      (None, 7, 7, 512)    0           bn5c_branch2a[0][0]              \n",
      "__________________________________________________________________________________________________\n",
      "res5c_branch2b (Conv2D)         (None, 7, 7, 512)    2359808     activation_47[0][0]              \n",
      "__________________________________________________________________________________________________\n",
      "bn5c_branch2b (BatchNormalizati (None, 7, 7, 512)    2048        res5c_branch2b[0][0]             \n",
      "__________________________________________________________________________________________________\n",
      "activation_48 (Activation)      (None, 7, 7, 512)    0           bn5c_branch2b[0][0]              \n",
      "__________________________________________________________________________________________________\n",
      "res5c_branch2c (Conv2D)         (None, 7, 7, 2048)   1050624     activation_48[0][0]              \n",
      "__________________________________________________________________________________________________\n",
      "bn5c_branch2c (BatchNormalizati (None, 7, 7, 2048)   8192        res5c_branch2c[0][0]             \n",
      "__________________________________________________________________________________________________\n",
      "add_16 (Add)                    (None, 7, 7, 2048)   0           bn5c_branch2c[0][0]              \n",
      "                                                                 activation_46[0][0]              \n",
      "__________________________________________________________________________________________________\n",
      "activation_49 (Activation)      (None, 7, 7, 2048)   0           add_16[0][0]                     \n",
      "==================================================================================================\n",
      "Total params: 23,587,712\n",
      "Trainable params: 23,534,592\n",
      "Non-trainable params: 53,120\n",
      "__________________________________________________________________________________________________\n"
     ]
    }
   ],
   "source": [
    "conv_layers.summary()"
   ]
  },
  {
   "cell_type": "code",
   "execution_count": null,
   "metadata": {
    "colab": {},
    "colab_type": "code",
    "id": "n4rTo3yZVfNx",
    "scrolled": true
   },
   "outputs": [],
   "source": [
    "#입력값을 읽어서 예측을 할 Sequential 객체 생성\n",
    "model = Sequential()"
   ]
  },
  {
   "cell_type": "code",
   "execution_count": null,
   "metadata": {
    "colab": {},
    "colab_type": "code",
    "id": "Mr9VDCRBVfNz",
    "scrolled": true
   },
   "outputs": [],
   "source": [
    "#Resnet50대입\n",
    "model.add(conv_layers)"
   ]
  },
  {
   "cell_type": "code",
   "execution_count": null,
   "metadata": {
    "colab": {},
    "colab_type": "code",
    "id": "8H6vNhokVfN3",
    "scrolled": true
   },
   "outputs": [],
   "source": [
    "#선형 회귀를 하기 위해서 합성곱 연산을 수행한 결과를 1차원 배열로 변환\n",
    "model.add(Flatten())"
   ]
  },
  {
   "cell_type": "code",
   "execution_count": null,
   "metadata": {
    "colab": {
     "base_uri": "https://localhost:8080/",
     "height": 73
    },
    "colab_type": "code",
    "executionInfo": {
     "elapsed": 592,
     "status": "ok",
     "timestamp": 1581578021426,
     "user": {
      "displayName": "권혜윤",
      "photoUrl": "",
      "userId": "00367973903309108423"
     },
     "user_tz": -540
    },
    "id": "2mvCglVQVfN6",
    "outputId": "18f5627b-978e-46ad-9e88-87e3d8824b54",
    "scrolled": true
   },
   "outputs": [
    {
     "name": "stdout",
     "output_type": "stream",
     "text": [
      "WARNING:tensorflow:From /usr/local/lib/python3.6/dist-packages/keras/backend/tensorflow_backend.py:4432: The name tf.random_uniform is deprecated. Please use tf.random.uniform instead.\n",
      "\n"
     ]
    }
   ],
   "source": [
    "#Dense : 선형 회귀를 수행할 객체\n",
    "#Dense(출력데이터의 칸의수) : 출력 데이터는 y_h1이고 칸의 수는 512 이므로\n",
    "#Dense(512)  \n",
    "# activation=\"relu\" :선형 회귀 후 relu 활성 함수 사용\n",
    "#model.add(Dense(512, activation='relu')) :Dense 모델을 예측 할 수 있도록 model에 추가\n",
    "model.add(Dense(512, activation='relu'))"
   ]
  },
  {
   "cell_type": "code",
   "execution_count": null,
   "metadata": {
    "colab": {},
    "colab_type": "code",
    "id": "_m7ii_1FVfN9",
    "scrolled": true
   },
   "outputs": [],
   "source": [
    "#Dense : 선형 회귀를 수행할 객체\n",
    "#Dense(출력데이터의 칸의수) : 출력 데이터 칸의 수는 3이므로\n",
    "#Dense(3)\n",
    "\n",
    "#Dense(3) : 선형 회귀를 할 객체를 생성  출력 칸수는 3\n",
    "    \n",
    "# activation=\"softmax\" :선형 회귀 후 softmax 함수를 활성 함수를 이용해서 0~1사이 값을 리턴  \n",
    "    \n",
    "    \n",
    "#model.add(Dense(3, activation=\"softmax\")):Dense 모델을 예측 할 수 있도록 model에 추가\n",
    "model.add(Dense(3, activation='softmax'))"
   ]
  },
  {
   "cell_type": "code",
   "execution_count": null,
   "metadata": {
    "colab": {
     "base_uri": "https://localhost:8080/",
     "height": 305
    },
    "colab_type": "code",
    "executionInfo": {
     "elapsed": 603,
     "status": "ok",
     "timestamp": 1581578024743,
     "user": {
      "displayName": "권혜윤",
      "photoUrl": "",
      "userId": "00367973903309108423"
     },
     "user_tz": -540
    },
    "id": "IhxVuJiHVfN_",
    "outputId": "c8edd0dd-cc8c-466d-9223-ebe23f60569f",
    "scrolled": true
   },
   "outputs": [
    {
     "name": "stdout",
     "output_type": "stream",
     "text": [
      "Model: \"sequential_1\"\n",
      "_________________________________________________________________\n",
      "Layer (type)                 Output Shape              Param #   \n",
      "=================================================================\n",
      "resnet50 (Model)             (None, 7, 7, 2048)        23587712  \n",
      "_________________________________________________________________\n",
      "flatten_1 (Flatten)          (None, 100352)            0         \n",
      "_________________________________________________________________\n",
      "dense_1 (Dense)              (None, 512)               51380736  \n",
      "_________________________________________________________________\n",
      "dense_2 (Dense)              (None, 3)                 1539      \n",
      "=================================================================\n",
      "Total params: 74,969,987\n",
      "Trainable params: 74,916,867\n",
      "Non-trainable params: 53,120\n",
      "_________________________________________________________________\n"
     ]
    }
   ],
   "source": [
    "#생성된 모델 정보 출력\n",
    "model.summary()"
   ]
  },
  {
   "cell_type": "code",
   "execution_count": null,
   "metadata": {
    "colab": {
     "base_uri": "https://localhost:8080/",
     "height": 109
    },
    "colab_type": "code",
    "executionInfo": {
     "elapsed": 622,
     "status": "ok",
     "timestamp": 1581578026263,
     "user": {
      "displayName": "권혜윤",
      "photoUrl": "",
      "userId": "00367973903309108423"
     },
     "user_tz": -540
    },
    "id": "Abd5XswVVfOB",
    "outputId": "d43c6edc-4f82-4433-e4c1-825f2207971b",
    "scrolled": true
   },
   "outputs": [
    {
     "name": "stdout",
     "output_type": "stream",
     "text": [
      "WARNING:tensorflow:From /usr/local/lib/python3.6/dist-packages/keras/optimizers.py:793: The name tf.train.Optimizer is deprecated. Please use tf.compat.v1.train.Optimizer instead.\n",
      "\n",
      "WARNING:tensorflow:From /usr/local/lib/python3.6/dist-packages/keras/backend/tensorflow_backend.py:3576: The name tf.log is deprecated. Please use tf.math.log instead.\n",
      "\n"
     ]
    }
   ],
   "source": [
    "#GradientDecnet를 이용해서 w0,b0와 w1,b1를 찾는 방법을 설정함\n",
    "#loss='categorical_crossentropy' : -(y * tf.log(hypothesis1)) 합 이 최소가 되는 w1,w2,w3,w4 를 찾음\n",
    "#optimizer=Adam(lr=1e-4) : learning rate를 0.00001 로 설정\n",
    "model.compile(loss='categorical_crossentropy', optimizer=Adam(lr=1e-4),metrics=['acc'])"
   ]
  },
  {
   "cell_type": "code",
   "execution_count": null,
   "metadata": {
    "colab": {
     "base_uri": "https://localhost:8080/",
     "height": 575
    },
    "colab_type": "code",
    "executionInfo": {
     "elapsed": 46380,
     "status": "ok",
     "timestamp": 1581578172114,
     "user": {
      "displayName": "권혜윤",
      "photoUrl": "",
      "userId": "00367973903309108423"
     },
     "user_tz": -540
    },
    "id": "tAJ7GML7VfOE",
    "outputId": "fcfc5e68-0565-4fd6-85d9-3f92b607f062",
    "scrolled": true
   },
   "outputs": [
    {
     "name": "stdout",
     "output_type": "stream",
     "text": [
      "Epoch 1/15\n",
      "19/19 [==============================] - 3s 161ms/step - loss: 0.2086 - acc: 0.9342\n",
      "Epoch 2/15\n",
      "19/19 [==============================] - 3s 166ms/step - loss: 0.2110 - acc: 0.9210\n",
      "Epoch 3/15\n",
      "19/19 [==============================] - 3s 162ms/step - loss: 0.2685 - acc: 0.9387\n",
      "Epoch 4/15\n",
      "19/19 [==============================] - 3s 160ms/step - loss: 0.1651 - acc: 0.9408\n",
      "Epoch 5/15\n",
      "19/19 [==============================] - 3s 158ms/step - loss: 0.3072 - acc: 0.9144\n",
      "Epoch 6/15\n",
      "19/19 [==============================] - 3s 167ms/step - loss: 0.1729 - acc: 0.9210\n",
      "Epoch 7/15\n",
      "19/19 [==============================] - 3s 157ms/step - loss: 0.2705 - acc: 0.9210\n",
      "Epoch 8/15\n",
      "19/19 [==============================] - 3s 168ms/step - loss: 0.3964 - acc: 0.8950\n",
      "Epoch 9/15\n",
      "19/19 [==============================] - 3s 160ms/step - loss: 0.2492 - acc: 0.9189\n",
      "Epoch 10/15\n",
      "19/19 [==============================] - 3s 159ms/step - loss: 0.1163 - acc: 0.9671\n",
      "Epoch 11/15\n",
      "19/19 [==============================] - 3s 159ms/step - loss: 0.1986 - acc: 0.9276\n",
      "Epoch 12/15\n",
      "19/19 [==============================] - 3s 161ms/step - loss: 0.1337 - acc: 0.9473\n",
      "Epoch 13/15\n",
      "19/19 [==============================] - 3s 160ms/step - loss: 0.1688 - acc: 0.9255\n",
      "Epoch 14/15\n",
      "19/19 [==============================] - 3s 162ms/step - loss: 0.2063 - acc: 0.9452\n",
      "Epoch 15/15\n",
      "19/19 [==============================] - 3s 158ms/step - loss: 0.1394 - acc: 0.9387\n"
     ]
    },
    {
     "data": {
      "text/plain": [
       "<keras.callbacks.History at 0x7f104d9928d0>"
      ]
     },
     "execution_count": 26,
     "metadata": {
      "tags": []
     },
     "output_type": "execute_result"
    }
   ],
   "source": [
    "#model.fit(train_generator ,epochs=15) :train_generator 를 이용해서 이미지를 리턴 받음 (epach를 진행할때 마다 증강된 이미지 리턴)\n",
    "#                                       epochs=15 - 50개씩 3번 150개 이미지를 15번 반복해서 학습\n",
    "model.fit(train_generator , epochs=15)"
   ]
  },
  {
   "cell_type": "code",
   "execution_count": null,
   "metadata": {
    "colab": {},
    "colab_type": "code",
    "id": "gm6vs9u1VfOH",
    "scrolled": true
   },
   "outputs": [],
   "source": [
    "#test_generator.next()\n",
    "#test_generator.batch_size 에 설정된 이미지 60개를 리턴해서 X_test에 대입\n",
    "#이미지의 label을 y_test에 대입\n",
    "X_test,y_test = test_generator.next()"
   ]
  },
  {
   "cell_type": "code",
   "execution_count": null,
   "metadata": {
    "colab": {
     "base_uri": "https://localhost:8080/",
     "height": 1000
    },
    "colab_type": "code",
    "executionInfo": {
     "elapsed": 554,
     "status": "ok",
     "timestamp": 1581578201964,
     "user": {
      "displayName": "권혜윤",
      "photoUrl": "",
      "userId": "00367973903309108423"
     },
     "user_tz": -540
    },
    "id": "1VYT9Ie-VfOJ",
    "outputId": "eee1dca3-a799-4d2b-bf9e-11eaab1e5ed2",
    "scrolled": true
   },
   "outputs": [
    {
     "data": {
      "text/plain": [
       "array([[[[0.90196085, 0.8352942 , 0.7176471 ],\n",
       "         [0.9176471 , 0.8352942 , 0.72156864],\n",
       "         [0.9294118 , 0.8352942 , 0.7254902 ],\n",
       "         ...,\n",
       "         [0.7686275 , 0.5647059 , 0.5803922 ],\n",
       "         [0.77647066, 0.57254905, 0.5882353 ],\n",
       "         [0.7725491 , 0.5686275 , 0.58431375]],\n",
       "\n",
       "        [[0.91372555, 0.8313726 , 0.7254902 ],\n",
       "         [0.92549026, 0.8313726 , 0.7294118 ],\n",
       "         [0.9294118 , 0.8352942 , 0.73333335],\n",
       "         ...,\n",
       "         [0.8745099 , 0.67058825, 0.6862745 ],\n",
       "         [0.86666673, 0.6627451 , 0.6784314 ],\n",
       "         [0.8470589 , 0.6509804 , 0.6627451 ]],\n",
       "\n",
       "        [[0.909804  , 0.8235295 , 0.7294118 ],\n",
       "         [0.9215687 , 0.82745105, 0.7254902 ],\n",
       "         [0.9215687 , 0.82745105, 0.7254902 ],\n",
       "         ...,\n",
       "         [0.854902  , 0.65882355, 0.67058825],\n",
       "         [0.85098046, 0.654902  , 0.6666667 ],\n",
       "         [0.8470589 , 0.6509804 , 0.6627451 ]],\n",
       "\n",
       "        ...,\n",
       "\n",
       "        [[0.49803925, 0.24705884, 0.2392157 ],\n",
       "         [0.48627454, 0.23529413, 0.227451  ],\n",
       "         [0.48627454, 0.23529413, 0.227451  ],\n",
       "         ...,\n",
       "         [0.5372549 , 0.2627451 , 0.2627451 ],\n",
       "         [0.5411765 , 0.25882354, 0.2627451 ],\n",
       "         [0.54509807, 0.2627451 , 0.27450982]],\n",
       "\n",
       "        [[0.49411768, 0.24313727, 0.23529413],\n",
       "         [0.48627454, 0.23529413, 0.227451  ],\n",
       "         [0.48627454, 0.23529413, 0.227451  ],\n",
       "         ...,\n",
       "         [0.54901963, 0.26666668, 0.27058825],\n",
       "         [0.54901963, 0.26666668, 0.27058825],\n",
       "         [0.5529412 , 0.27058825, 0.28235295]],\n",
       "\n",
       "        [[0.4901961 , 0.2392157 , 0.23137257],\n",
       "         [0.4901961 , 0.2392157 , 0.23137257],\n",
       "         [0.4901961 , 0.2392157 , 0.23137257],\n",
       "         ...,\n",
       "         [0.5411765 , 0.25882354, 0.2627451 ],\n",
       "         [0.5411765 , 0.25882354, 0.2627451 ],\n",
       "         [0.5372549 , 0.25490198, 0.25882354]]],\n",
       "\n",
       "\n",
       "       [[[0.6509804 , 0.49411768, 0.48627454],\n",
       "         [0.6784314 , 0.5176471 , 0.50980395],\n",
       "         [0.6862745 , 0.5137255 , 0.5176471 ],\n",
       "         ...,\n",
       "         [0.427451  , 0.3019608 , 0.3529412 ],\n",
       "         [0.43137258, 0.2901961 , 0.3372549 ],\n",
       "         [0.43529415, 0.28627452, 0.3372549 ]],\n",
       "\n",
       "        [[0.67058825, 0.5058824 , 0.5137255 ],\n",
       "         [0.7019608 , 0.5372549 , 0.54509807],\n",
       "         [0.7176471 , 0.5411765 , 0.5529412 ],\n",
       "         ...,\n",
       "         [0.43137258, 0.30588236, 0.35686275],\n",
       "         [0.43529415, 0.29411766, 0.34901962],\n",
       "         [0.43921572, 0.2901961 , 0.34117648]],\n",
       "\n",
       "        [[0.67058825, 0.5058824 , 0.5137255 ],\n",
       "         [0.7019608 , 0.5372549 , 0.54509807],\n",
       "         [0.7176471 , 0.5411765 , 0.5529412 ],\n",
       "         ...,\n",
       "         [0.43137258, 0.30588236, 0.35686275],\n",
       "         [0.43529415, 0.29411766, 0.34901962],\n",
       "         [0.43921572, 0.2901961 , 0.34117648]],\n",
       "\n",
       "        ...,\n",
       "\n",
       "        [[0.627451  , 0.42352945, 0.43921572],\n",
       "         [0.6313726 , 0.427451  , 0.4431373 ],\n",
       "         [0.63529414, 0.43137258, 0.44705886],\n",
       "         ...,\n",
       "         [0.62352943, 0.42352945, 0.4431373 ],\n",
       "         [0.6313726 , 0.43137258, 0.45882356],\n",
       "         [0.6313726 , 0.43137258, 0.45882356]],\n",
       "\n",
       "        [[0.627451  , 0.42352945, 0.43921572],\n",
       "         [0.6313726 , 0.427451  , 0.4431373 ],\n",
       "         [0.63529414, 0.43137258, 0.44705886],\n",
       "         ...,\n",
       "         [0.62352943, 0.42352945, 0.4431373 ],\n",
       "         [0.6313726 , 0.43137258, 0.45882356],\n",
       "         [0.6313726 , 0.43137258, 0.45882356]],\n",
       "\n",
       "        [[0.627451  , 0.41960788, 0.4431373 ],\n",
       "         [0.6313726 , 0.42352945, 0.44705886],\n",
       "         [0.63529414, 0.43137258, 0.44705886],\n",
       "         ...,\n",
       "         [0.627451  , 0.427451  , 0.44705886],\n",
       "         [0.63529414, 0.43529415, 0.46274513],\n",
       "         [0.63529414, 0.43529415, 0.46274513]]],\n",
       "\n",
       "\n",
       "       [[[0.57254905, 0.30980393, 0.24313727],\n",
       "         [0.57254905, 0.30980393, 0.24313727],\n",
       "         [0.57254905, 0.3019608 , 0.2392157 ],\n",
       "         ...,\n",
       "         [0.56078434, 0.32156864, 0.2509804 ],\n",
       "         [0.5647059 , 0.3254902 , 0.25490198],\n",
       "         [0.5647059 , 0.31764707, 0.2509804 ]],\n",
       "\n",
       "        [[0.5882353 , 0.30588236, 0.24705884],\n",
       "         [0.5882353 , 0.30588236, 0.24705884],\n",
       "         [0.58431375, 0.3019608 , 0.24313727],\n",
       "         ...,\n",
       "         [0.56078434, 0.32156864, 0.2509804 ],\n",
       "         [0.5647059 , 0.3254902 , 0.25490198],\n",
       "         [0.56078434, 0.32156864, 0.2509804 ]],\n",
       "\n",
       "        [[0.59607846, 0.3137255 , 0.25490198],\n",
       "         [0.5921569 , 0.30980393, 0.2509804 ],\n",
       "         [0.5882353 , 0.30588236, 0.24705884],\n",
       "         ...,\n",
       "         [0.56078434, 0.32156864, 0.2509804 ],\n",
       "         [0.5647059 , 0.3254902 , 0.25490198],\n",
       "         [0.5686275 , 0.32941177, 0.25882354]],\n",
       "\n",
       "        ...,\n",
       "\n",
       "        [[0.49411768, 0.25490198, 0.18431373],\n",
       "         [0.49411768, 0.25490198, 0.18431373],\n",
       "         [0.49803925, 0.25882354, 0.18823531],\n",
       "         ...,\n",
       "         [0.47058827, 0.2627451 , 0.20000002],\n",
       "         [0.4666667 , 0.25882354, 0.19607845],\n",
       "         [0.46274513, 0.25490198, 0.19215688]],\n",
       "\n",
       "        [[0.49411768, 0.2627451 , 0.20000002],\n",
       "         [0.49411768, 0.2627451 , 0.20000002],\n",
       "         [0.49803925, 0.26666668, 0.20392159],\n",
       "         ...,\n",
       "         [0.45882356, 0.25882354, 0.19215688],\n",
       "         [0.45882356, 0.25882354, 0.19215688],\n",
       "         [0.454902  , 0.25490198, 0.18823531]],\n",
       "\n",
       "        [[0.49411768, 0.2627451 , 0.20000002],\n",
       "         [0.49411768, 0.2627451 , 0.20000002],\n",
       "         [0.49803925, 0.26666668, 0.20392159],\n",
       "         ...,\n",
       "         [0.45882356, 0.25882354, 0.19215688],\n",
       "         [0.45882356, 0.25882354, 0.19215688],\n",
       "         [0.454902  , 0.25490198, 0.18823531]]],\n",
       "\n",
       "\n",
       "       ...,\n",
       "\n",
       "\n",
       "       [[[0.49803925, 0.20392159, 0.12941177],\n",
       "         [0.5058824 , 0.21176472, 0.13725491],\n",
       "         [0.50980395, 0.20392159, 0.15294118],\n",
       "         ...,\n",
       "         [0.427451  , 0.20000002, 0.04313726],\n",
       "         [0.54901963, 0.3019608 , 0.09411766],\n",
       "         [0.9568628 , 0.69803923, 0.46274513]],\n",
       "\n",
       "        [[0.5137255 , 0.21176472, 0.14117648],\n",
       "         [0.49411768, 0.19215688, 0.12941177],\n",
       "         [0.5137255 , 0.20784315, 0.15686275],\n",
       "         ...,\n",
       "         [0.48235297, 0.227451  , 0.0627451 ],\n",
       "         [0.53333336, 0.27450982, 0.08627451],\n",
       "         [0.61960787, 0.37254903, 0.16078432]],\n",
       "\n",
       "        [[0.50980395, 0.21568629, 0.14117648],\n",
       "         [0.5058824 , 0.20392159, 0.13333334],\n",
       "         [0.52156866, 0.21176472, 0.14509805],\n",
       "         ...,\n",
       "         [0.4784314 , 0.2392157 , 0.06666667],\n",
       "         [0.50980395, 0.26666668, 0.08235294],\n",
       "         [0.5568628 , 0.30980393, 0.10980393]],\n",
       "\n",
       "        ...,\n",
       "\n",
       "        [[0.5568628 , 0.23137257, 0.1137255 ],\n",
       "         [0.5647059 , 0.2392157 , 0.12156864],\n",
       "         [0.5529412 , 0.24705884, 0.10588236],\n",
       "         ...,\n",
       "         [0.5529412 , 0.17254902, 0.14901961],\n",
       "         [0.54901963, 0.16862746, 0.14509805],\n",
       "         [0.53333336, 0.16470589, 0.13333334]],\n",
       "\n",
       "        [[0.5137255 , 0.227451  , 0.06666667],\n",
       "         [0.54901963, 0.25882354, 0.10588236],\n",
       "         [0.56078434, 0.27058825, 0.13333334],\n",
       "         ...,\n",
       "         [0.5176471 , 0.16470589, 0.12941177],\n",
       "         [0.5372549 , 0.17254902, 0.14117648],\n",
       "         [0.53333336, 0.16078432, 0.13725491]],\n",
       "\n",
       "        [[0.5529412 , 0.2392157 , 0.09411766],\n",
       "         [0.5764706 , 0.2627451 , 0.1254902 ],\n",
       "         [0.5764706 , 0.2784314 , 0.14509805],\n",
       "         ...,\n",
       "         [0.5411765 , 0.16862746, 0.15294118],\n",
       "         [0.54901963, 0.16862746, 0.14509805],\n",
       "         [0.54901963, 0.16862746, 0.14509805]]],\n",
       "\n",
       "\n",
       "       [[[0.34509805, 0.12156864, 0.05490196],\n",
       "         [0.34901962, 0.12156864, 0.06666667],\n",
       "         [0.3529412 , 0.1254902 , 0.07843138],\n",
       "         ...,\n",
       "         [0.22352943, 0.0627451 , 0.04705883],\n",
       "         [0.23137257, 0.05882353, 0.05490196],\n",
       "         [0.2392157 , 0.06666667, 0.07058824]],\n",
       "\n",
       "        [[0.37254903, 0.11764707, 0.09411766],\n",
       "         [0.38823533, 0.1254902 , 0.10196079],\n",
       "         [0.3803922 , 0.10980393, 0.08235294],\n",
       "         ...,\n",
       "         [0.23137257, 0.07058824, 0.05490196],\n",
       "         [0.21176472, 0.0509804 , 0.03529412],\n",
       "         [0.20784315, 0.04705883, 0.02352941]],\n",
       "\n",
       "        [[0.37254903, 0.12156864, 0.08627451],\n",
       "         [0.38823533, 0.1254902 , 0.10196079],\n",
       "         [0.37647063, 0.1137255 , 0.08235294],\n",
       "         ...,\n",
       "         [0.22352943, 0.06666667, 0.05882353],\n",
       "         [0.21568629, 0.0627451 , 0.04313726],\n",
       "         [0.21176472, 0.05882353, 0.03137255]],\n",
       "\n",
       "        ...,\n",
       "\n",
       "        [[0.3803922 , 0.1137255 , 0.07843138],\n",
       "         [0.36862746, 0.10588236, 0.07058824],\n",
       "         [0.37254903, 0.10980393, 0.07843138],\n",
       "         ...,\n",
       "         [0.5019608 , 0.29803923, 0.14509805],\n",
       "         [0.49411768, 0.28235295, 0.13333334],\n",
       "         [0.49803925, 0.2784314 , 0.13333334]],\n",
       "\n",
       "        [[0.35686275, 0.09411766, 0.05882353],\n",
       "         [0.3647059 , 0.10196079, 0.06666667],\n",
       "         [0.35686275, 0.09411766, 0.05882353],\n",
       "         ...,\n",
       "         [0.5058824 , 0.29411766, 0.14509805],\n",
       "         [0.4901961 , 0.2784314 , 0.12941177],\n",
       "         [0.49411768, 0.27450982, 0.12941177]],\n",
       "\n",
       "        [[0.34901962, 0.10588236, 0.0627451 ],\n",
       "         [0.3647059 , 0.10196079, 0.06666667],\n",
       "         [0.37254903, 0.10980393, 0.07450981],\n",
       "         ...,\n",
       "         [0.4901961 , 0.28627452, 0.14117648],\n",
       "         [0.49411768, 0.28235295, 0.14117648],\n",
       "         [0.49803925, 0.2784314 , 0.13333334]]],\n",
       "\n",
       "\n",
       "       [[[0.63529414, 0.36078432, 0.2627451 ],\n",
       "         [0.63529414, 0.36078432, 0.2627451 ],\n",
       "         [0.65882355, 0.37647063, 0.2901961 ],\n",
       "         ...,\n",
       "         [0.34901962, 0.13725491, 0.12941177],\n",
       "         [0.33333334, 0.13333334, 0.12941177],\n",
       "         [0.33333334, 0.13333334, 0.12941177]],\n",
       "\n",
       "        [[0.63529414, 0.36078432, 0.2627451 ],\n",
       "         [0.63529414, 0.36078432, 0.2627451 ],\n",
       "         [0.65882355, 0.37647063, 0.2901961 ],\n",
       "         ...,\n",
       "         [0.34901962, 0.13725491, 0.12941177],\n",
       "         [0.33333334, 0.13333334, 0.12941177],\n",
       "         [0.33333334, 0.13333334, 0.12941177]],\n",
       "\n",
       "        [[0.63529414, 0.3254902 , 0.25882354],\n",
       "         [0.63529414, 0.3254902 , 0.25882354],\n",
       "         [0.6431373 , 0.33333334, 0.26666668],\n",
       "         ...,\n",
       "         [0.32156864, 0.12156864, 0.10588236],\n",
       "         [0.31764707, 0.1254902 , 0.10980393],\n",
       "         [0.31764707, 0.1254902 , 0.10980393]],\n",
       "\n",
       "        ...,\n",
       "\n",
       "        [[0.80392164, 0.41176474, 0.3529412 ],\n",
       "         [0.80392164, 0.41176474, 0.3529412 ],\n",
       "         [0.80392164, 0.41176474, 0.3529412 ],\n",
       "         ...,\n",
       "         [0.7372549 , 0.3921569 , 0.3372549 ],\n",
       "         [0.7372549 , 0.3921569 , 0.3372549 ],\n",
       "         [0.7372549 , 0.3921569 , 0.3372549 ]],\n",
       "\n",
       "        [[0.81568635, 0.42352945, 0.3647059 ],\n",
       "         [0.81568635, 0.42352945, 0.3647059 ],\n",
       "         [0.8117648 , 0.41960788, 0.36078432],\n",
       "         ...,\n",
       "         [0.7254902 , 0.3803922 , 0.3254902 ],\n",
       "         [0.72156864, 0.37647063, 0.32156864],\n",
       "         [0.72156864, 0.37647063, 0.32156864]],\n",
       "\n",
       "        [[0.81568635, 0.42352945, 0.3647059 ],\n",
       "         [0.81568635, 0.42352945, 0.3647059 ],\n",
       "         [0.8117648 , 0.41960788, 0.36078432],\n",
       "         ...,\n",
       "         [0.7254902 , 0.3803922 , 0.3254902 ],\n",
       "         [0.72156864, 0.37647063, 0.32156864],\n",
       "         [0.72156864, 0.37647063, 0.32156864]]]], dtype=float32)"
      ]
     },
     "execution_count": 28,
     "metadata": {
      "tags": []
     },
     "output_type": "execute_result"
    }
   ],
   "source": [
    "X_test"
   ]
  },
  {
   "cell_type": "code",
   "execution_count": null,
   "metadata": {
    "colab": {
     "base_uri": "https://localhost:8080/",
     "height": 1000
    },
    "colab_type": "code",
    "executionInfo": {
     "elapsed": 559,
     "status": "ok",
     "timestamp": 1581578203898,
     "user": {
      "displayName": "권혜윤",
      "photoUrl": "",
      "userId": "00367973903309108423"
     },
     "user_tz": -540
    },
    "id": "RlMJVDLeVfOL",
    "outputId": "b2b9a647-27dc-4191-d011-9082ef5f56d2",
    "scrolled": true
   },
   "outputs": [
    {
     "data": {
      "text/plain": [
       "array([[1., 0., 0.],\n",
       "       [1., 0., 0.],\n",
       "       [1., 0., 0.],\n",
       "       [1., 0., 0.],\n",
       "       [1., 0., 0.],\n",
       "       [1., 0., 0.],\n",
       "       [1., 0., 0.],\n",
       "       [1., 0., 0.],\n",
       "       [1., 0., 0.],\n",
       "       [1., 0., 0.],\n",
       "       [1., 0., 0.],\n",
       "       [1., 0., 0.],\n",
       "       [1., 0., 0.],\n",
       "       [1., 0., 0.],\n",
       "       [1., 0., 0.],\n",
       "       [1., 0., 0.],\n",
       "       [1., 0., 0.],\n",
       "       [1., 0., 0.],\n",
       "       [1., 0., 0.],\n",
       "       [1., 0., 0.],\n",
       "       [0., 1., 0.],\n",
       "       [0., 1., 0.],\n",
       "       [0., 1., 0.],\n",
       "       [0., 1., 0.],\n",
       "       [0., 1., 0.],\n",
       "       [0., 1., 0.],\n",
       "       [0., 1., 0.],\n",
       "       [0., 1., 0.],\n",
       "       [0., 1., 0.],\n",
       "       [0., 1., 0.],\n",
       "       [0., 1., 0.],\n",
       "       [0., 1., 0.],\n",
       "       [0., 1., 0.],\n",
       "       [0., 1., 0.],\n",
       "       [0., 1., 0.],\n",
       "       [0., 1., 0.],\n",
       "       [0., 1., 0.],\n",
       "       [0., 1., 0.],\n",
       "       [0., 1., 0.],\n",
       "       [0., 1., 0.],\n",
       "       [0., 0., 1.],\n",
       "       [0., 0., 1.],\n",
       "       [0., 0., 1.],\n",
       "       [0., 0., 1.],\n",
       "       [0., 0., 1.],\n",
       "       [0., 0., 1.],\n",
       "       [0., 0., 1.],\n",
       "       [0., 0., 1.],\n",
       "       [0., 0., 1.],\n",
       "       [0., 0., 1.],\n",
       "       [0., 0., 1.],\n",
       "       [0., 0., 1.],\n",
       "       [0., 0., 1.],\n",
       "       [0., 0., 1.],\n",
       "       [0., 0., 1.],\n",
       "       [0., 0., 1.],\n",
       "       [0., 0., 1.],\n",
       "       [0., 0., 1.],\n",
       "       [0., 0., 1.],\n",
       "       [0., 0., 1.]], dtype=float32)"
      ]
     },
     "execution_count": 29,
     "metadata": {
      "tags": []
     },
     "output_type": "execute_result"
    }
   ],
   "source": [
    "y_test"
   ]
  },
  {
   "cell_type": "code",
   "execution_count": null,
   "metadata": {
    "colab": {
     "base_uri": "https://localhost:8080/",
     "height": 1000
    },
    "colab_type": "code",
    "executionInfo": {
     "elapsed": 2338,
     "status": "ok",
     "timestamp": 1581578207568,
     "user": {
      "displayName": "권혜윤",
      "photoUrl": "",
      "userId": "00367973903309108423"
     },
     "user_tz": -540
    },
    "id": "JB_DwdnSVfOP",
    "outputId": "b1ba9a8f-78f3-4c04-ff6b-704e7c6c61f5",
    "scrolled": true
   },
   "outputs": [
    {
     "data": {
      "text/plain": [
       "array([[1.00000000e+00, 1.41867389e-25, 1.51820787e-29],\n",
       "       [8.79977763e-01, 7.25011677e-02, 4.75209728e-02],\n",
       "       [3.10425013e-01, 3.62937062e-05, 6.89538717e-01],\n",
       "       [9.99956846e-01, 7.04784634e-06, 3.60855738e-05],\n",
       "       [1.00000000e+00, 7.10565352e-17, 4.29791214e-16],\n",
       "       [2.50130501e-02, 2.22806364e-01, 7.52180576e-01],\n",
       "       [9.88855809e-02, 2.82516400e-03, 8.98289263e-01],\n",
       "       [1.00000000e+00, 6.36591706e-18, 3.58980570e-17],\n",
       "       [1.00000000e+00, 2.60869126e-12, 5.58165493e-13],\n",
       "       [9.94871497e-01, 1.72665474e-04, 4.95588034e-03],\n",
       "       [9.99997020e-01, 2.95569885e-06, 3.79211301e-10],\n",
       "       [1.00000000e+00, 4.33149529e-13, 2.76673888e-12],\n",
       "       [5.88456984e-04, 3.71339649e-01, 6.28071904e-01],\n",
       "       [1.00000000e+00, 0.00000000e+00, 0.00000000e+00],\n",
       "       [2.51265289e-03, 2.24381685e-02, 9.75049138e-01],\n",
       "       [1.00000000e+00, 1.41883781e-23, 1.77437580e-14],\n",
       "       [1.00000000e+00, 1.06920849e-20, 2.11925977e-10],\n",
       "       [1.00000000e+00, 4.50352669e-28, 2.93120969e-14],\n",
       "       [1.00000000e+00, 0.00000000e+00, 1.51675746e-18],\n",
       "       [9.99984622e-01, 5.25215036e-08, 1.54087793e-05],\n",
       "       [3.53688002e-02, 9.64613378e-01, 1.78201171e-05],\n",
       "       [3.74392519e-04, 9.98478711e-01, 1.14698254e-03],\n",
       "       [4.12641548e-08, 9.99907970e-01, 9.20077437e-05],\n",
       "       [3.48918206e-06, 9.99996543e-01, 1.31946693e-11],\n",
       "       [6.84654879e-05, 9.99923944e-01, 7.67992333e-06],\n",
       "       [5.83052542e-03, 9.94109392e-01, 6.01032734e-05],\n",
       "       [1.92786194e-02, 8.75555754e-01, 1.05165616e-01],\n",
       "       [5.65586670e-04, 9.99434412e-01, 1.51165946e-09],\n",
       "       [8.93526375e-01, 1.06471360e-01, 2.25939789e-06],\n",
       "       [9.38418359e-02, 9.06158090e-01, 9.61573221e-08],\n",
       "       [2.91988836e-05, 9.96827781e-01, 3.14300414e-03],\n",
       "       [5.72085980e-07, 9.99999285e-01, 1.26218083e-07],\n",
       "       [7.58830598e-09, 9.99997735e-01, 2.26892189e-06],\n",
       "       [7.08144599e-10, 1.00000000e+00, 1.56065556e-16],\n",
       "       [4.02003207e-05, 9.99959826e-01, 1.57990794e-08],\n",
       "       [4.88694549e-01, 3.88886333e-02, 4.72416729e-01],\n",
       "       [7.88319763e-03, 9.78325069e-01, 1.37917912e-02],\n",
       "       [4.84583172e-04, 9.99332845e-01, 1.82467571e-04],\n",
       "       [5.11337956e-03, 9.70584869e-01, 2.43017543e-02],\n",
       "       [9.51484263e-01, 4.85155359e-02, 2.36036101e-07],\n",
       "       [6.03046920e-03, 6.31196275e-02, 9.30849910e-01],\n",
       "       [4.97774988e-01, 3.51494928e-05, 5.02189875e-01],\n",
       "       [9.75355923e-01, 1.66056550e-03, 2.29834449e-02],\n",
       "       [5.76787233e-01, 2.76071914e-02, 3.95605564e-01],\n",
       "       [3.54563817e-04, 1.02753938e-05, 9.99635100e-01],\n",
       "       [1.62579963e-04, 6.72896858e-05, 9.99770105e-01],\n",
       "       [1.88533973e-04, 2.50612766e-06, 9.99808967e-01],\n",
       "       [3.72684933e-02, 2.56646454e-04, 9.62474823e-01],\n",
       "       [8.72775097e-04, 3.98535718e-04, 9.98728693e-01],\n",
       "       [1.05025247e-03, 7.26395665e-05, 9.98877108e-01],\n",
       "       [8.11322406e-02, 1.39597273e-06, 9.18866396e-01],\n",
       "       [8.60264874e-04, 4.87542013e-04, 9.98652279e-01],\n",
       "       [9.81553435e-01, 1.16318586e-06, 1.84453763e-02],\n",
       "       [7.60741968e-05, 5.79985231e-03, 9.94124115e-01],\n",
       "       [1.10326428e-02, 5.56136966e-02, 9.33353722e-01],\n",
       "       [9.41270683e-03, 2.42792559e-03, 9.88159299e-01],\n",
       "       [1.87678123e-03, 2.42683105e-04, 9.97880578e-01],\n",
       "       [1.00113347e-03, 3.34165874e-04, 9.98664737e-01],\n",
       "       [2.31370285e-01, 4.79963986e-04, 7.68149674e-01],\n",
       "       [9.69076812e-01, 2.84292009e-02, 2.49397685e-03]], dtype=float32)"
      ]
     },
     "execution_count": 30,
     "metadata": {
      "tags": []
     },
     "output_type": "execute_result"
    }
   ],
   "source": [
    "# model.predict(X_test) : \n",
    "#X_test가 어떤 이미지인지 분류\n",
    "predict =model.predict(X_test)\n",
    "predict"
   ]
  },
  {
   "cell_type": "code",
   "execution_count": null,
   "metadata": {
    "colab": {
     "base_uri": "https://localhost:8080/",
     "height": 71
    },
    "colab_type": "code",
    "executionInfo": {
     "elapsed": 551,
     "status": "ok",
     "timestamp": 1581578209047,
     "user": {
      "displayName": "권혜윤",
      "photoUrl": "",
      "userId": "00367973903309108423"
     },
     "user_tz": -540
    },
    "id": "nBkkF4SPVfOS",
    "outputId": "57a6f835-3f8d-4e49-cc52-44ca89ad5875",
    "scrolled": true
   },
   "outputs": [
    {
     "data": {
      "text/plain": [
       "array([0, 0, 2, 0, 0, 2, 2, 0, 0, 0, 0, 0, 2, 0, 2, 0, 0, 0, 0, 0, 1, 1,\n",
       "       1, 1, 1, 1, 1, 1, 0, 1, 1, 1, 1, 1, 1, 0, 1, 1, 1, 0, 2, 2, 0, 0,\n",
       "       2, 2, 2, 2, 2, 2, 2, 2, 0, 2, 2, 2, 2, 2, 2, 0])"
      ]
     },
     "execution_count": 31,
     "metadata": {
      "tags": []
     },
     "output_type": "execute_result"
    }
   ],
   "source": [
    "#np.argmax(predict,1) : predict 최대값의 인덱스를 리턴\n",
    "#                  1: 각 줄에서 최대 값의 인덱스를 리턴\n",
    "predict01 = np.argmax(predict,1)\n",
    "predict01"
   ]
  },
  {
   "cell_type": "code",
   "execution_count": null,
   "metadata": {
    "colab": {
     "base_uri": "https://localhost:8080/",
     "height": 71
    },
    "colab_type": "code",
    "executionInfo": {
     "elapsed": 404,
     "status": "ok",
     "timestamp": 1581578211979,
     "user": {
      "displayName": "권혜윤",
      "photoUrl": "",
      "userId": "00367973903309108423"
     },
     "user_tz": -540
    },
    "id": "QflHyOhsVfOW",
    "outputId": "b95798be-86d9-48c6-9f08-397c09bedbbe",
    "scrolled": true
   },
   "outputs": [
    {
     "data": {
      "text/plain": [
       "array([0, 0, 0, 0, 0, 0, 0, 0, 0, 0, 0, 0, 0, 0, 0, 0, 0, 0, 0, 0, 1, 1,\n",
       "       1, 1, 1, 1, 1, 1, 1, 1, 1, 1, 1, 1, 1, 1, 1, 1, 1, 1, 2, 2, 2, 2,\n",
       "       2, 2, 2, 2, 2, 2, 2, 2, 2, 2, 2, 2, 2, 2, 2, 2])"
      ]
     },
     "execution_count": 32,
     "metadata": {
      "tags": []
     },
     "output_type": "execute_result"
    }
   ],
   "source": [
    "#np.argmax(y_test,1) : y_test 최대값의 인덱스를 리턴\n",
    "#                  1: 각 줄에서 최대 값의 인덱스를 리턴\n",
    "target = np.argmax(y_test, 1)\n",
    "target"
   ]
  },
  {
   "cell_type": "code",
   "execution_count": null,
   "metadata": {
    "colab": {
     "base_uri": "https://localhost:8080/",
     "height": 143
    },
    "colab_type": "code",
    "executionInfo": {
     "elapsed": 632,
     "status": "ok",
     "timestamp": 1581578215958,
     "user": {
      "displayName": "권혜윤",
      "photoUrl": "",
      "userId": "00367973903309108423"
     },
     "user_tz": -540
    },
    "id": "B48-G_nQVfOZ",
    "outputId": "617505fe-4a88-4d99-9310-d21c7723407c",
    "scrolled": true
   },
   "outputs": [
    {
     "data": {
      "text/plain": [
       "array([ True,  True, False,  True,  True, False, False,  True,  True,\n",
       "        True,  True,  True, False,  True, False,  True,  True,  True,\n",
       "        True,  True,  True,  True,  True,  True,  True,  True,  True,\n",
       "        True, False,  True,  True,  True,  True,  True,  True, False,\n",
       "        True,  True,  True, False,  True,  True, False, False,  True,\n",
       "        True,  True,  True,  True,  True,  True,  True, False,  True,\n",
       "        True,  True,  True,  True,  True, False])"
      ]
     },
     "execution_count": 33,
     "metadata": {
      "tags": []
     },
     "output_type": "execute_result"
    }
   ],
   "source": [
    "#predict01 == target 가 같으면 true 다르면 false 리턴\n",
    "predict02 = (predict01 == target)\n",
    "predict02"
   ]
  },
  {
   "cell_type": "code",
   "execution_count": null,
   "metadata": {
    "colab": {
     "base_uri": "https://localhost:8080/",
     "height": 35
    },
    "colab_type": "code",
    "executionInfo": {
     "elapsed": 593,
     "status": "ok",
     "timestamp": 1581578218391,
     "user": {
      "displayName": "권혜윤",
      "photoUrl": "",
      "userId": "00367973903309108423"
     },
     "user_tz": -540
    },
    "id": "WB_MF1J4VfOb",
    "outputId": "3bd4dbf2-3674-4f05-8c17-2115f9cc1f96",
    "scrolled": true
   },
   "outputs": [
    {
     "data": {
      "text/plain": [
       "48"
      ]
     },
     "execution_count": 34,
     "metadata": {
      "tags": []
     },
     "output_type": "execute_result"
    }
   ],
   "source": [
    "#True는 1로 False는 0으로 변환 해서 합을 계산\n",
    "np.sum(predict02)"
   ]
  },
  {
   "cell_type": "code",
   "execution_count": null,
   "metadata": {
    "colab": {
     "base_uri": "https://localhost:8080/",
     "height": 35
    },
    "colab_type": "code",
    "executionInfo": {
     "elapsed": 555,
     "status": "ok",
     "timestamp": 1581578220490,
     "user": {
      "displayName": "권혜윤",
      "photoUrl": "",
      "userId": "00367973903309108423"
     },
     "user_tz": -540
    },
    "id": "2NtOWmOZVfOe",
    "outputId": "ce07e25c-778a-4429-f396-a34f70d6145d",
    "scrolled": true
   },
   "outputs": [
    {
     "data": {
      "text/plain": [
       "0.8"
      ]
     },
     "execution_count": 35,
     "metadata": {
      "tags": []
     },
     "output_type": "execute_result"
    }
   ],
   "source": [
    "#정확도를 계산\n",
    "#len(predict02) : redict02의 줄의 수를 리턴\n",
    "acc=np.sum(predict02)/len(predict02)\n",
    "acc"
   ]
  },
  {
   "cell_type": "code",
   "execution_count": null,
   "metadata": {
    "colab": {
     "base_uri": "https://localhost:8080/",
     "height": 35
    },
    "colab_type": "code",
    "executionInfo": {
     "elapsed": 574,
     "status": "ok",
     "timestamp": 1581578222294,
     "user": {
      "displayName": "권혜윤",
      "photoUrl": "",
      "userId": "00367973903309108423"
     },
     "user_tz": -540
    },
    "id": "Q5F7kmdFVfOg",
    "outputId": "40cee5c0-bed4-437f-e44e-6e6e7aac9d97",
    "scrolled": true
   },
   "outputs": [
    {
     "data": {
      "text/plain": [
       "dict_keys(['cured', 'decayed', 'healthy'])"
      ]
     },
     "execution_count": 36,
     "metadata": {
      "tags": []
     },
     "output_type": "execute_result"
    }
   ],
   "source": [
    "#레이블의 이름을 리턴\n",
    "train_generator.class_indices.keys()"
   ]
  },
  {
   "cell_type": "code",
   "execution_count": null,
   "metadata": {
    "colab": {
     "base_uri": "https://localhost:8080/",
     "height": 35
    },
    "colab_type": "code",
    "executionInfo": {
     "elapsed": 611,
     "status": "ok",
     "timestamp": 1581578224311,
     "user": {
      "displayName": "권혜윤",
      "photoUrl": "",
      "userId": "00367973903309108423"
     },
     "user_tz": -540
    },
    "id": "19mihBpdVfOi",
    "outputId": "621154f9-f9bb-475b-de03-ce87c176998b",
    "scrolled": true
   },
   "outputs": [
    {
     "data": {
      "text/plain": [
       "['cured', 'decayed', 'healthy']"
      ]
     },
     "execution_count": 37,
     "metadata": {
      "tags": []
     },
     "output_type": "execute_result"
    }
   ],
   "source": [
    "##레이블의 이름을 리스트로 변환해서 custom_labels에 대입\n",
    "custom_labels = list(train_generator.class_indices.keys())\n",
    "custom_labels"
   ]
  },
  {
   "cell_type": "code",
   "execution_count": null,
   "metadata": {
    "colab": {
     "base_uri": "https://localhost:8080/",
     "height": 35
    },
    "colab_type": "code",
    "executionInfo": {
     "elapsed": 626,
     "status": "ok",
     "timestamp": 1581578226293,
     "user": {
      "displayName": "권혜윤",
      "photoUrl": "",
      "userId": "00367973903309108423"
     },
     "user_tz": -540
    },
    "id": "J_thO7fcVfOm",
    "outputId": "53fc9834-be01-480d-a700-1130ac76e351",
    "scrolled": true
   },
   "outputs": [
    {
     "data": {
      "text/plain": [
       "'cured'"
      ]
     },
     "execution_count": 38,
     "metadata": {
      "tags": []
     },
     "output_type": "execute_result"
    }
   ],
   "source": [
    "custom_labels[0]"
   ]
  },
  {
   "cell_type": "code",
   "execution_count": null,
   "metadata": {
    "colab": {
     "base_uri": "https://localhost:8080/",
     "height": 35
    },
    "colab_type": "code",
    "executionInfo": {
     "elapsed": 419,
     "status": "ok",
     "timestamp": 1581578227373,
     "user": {
      "displayName": "권혜윤",
      "photoUrl": "",
      "userId": "00367973903309108423"
     },
     "user_tz": -540
    },
    "id": "J5aoekmrVfOo",
    "outputId": "09c681f4-37b4-46ef-b360-e578fe100df0",
    "scrolled": true
   },
   "outputs": [
    {
     "data": {
      "text/plain": [
       "'decayed'"
      ]
     },
     "execution_count": 39,
     "metadata": {
      "tags": []
     },
     "output_type": "execute_result"
    }
   ],
   "source": [
    "custom_labels[1]"
   ]
  },
  {
   "cell_type": "code",
   "execution_count": null,
   "metadata": {
    "colab": {
     "base_uri": "https://localhost:8080/",
     "height": 35
    },
    "colab_type": "code",
    "executionInfo": {
     "elapsed": 615,
     "status": "ok",
     "timestamp": 1581578228729,
     "user": {
      "displayName": "권혜윤",
      "photoUrl": "",
      "userId": "00367973903309108423"
     },
     "user_tz": -540
    },
    "id": "Jq8N25OMVfOs",
    "outputId": "aa676c54-8b96-4fe4-d55c-9a6c9e8cbba1",
    "scrolled": true
   },
   "outputs": [
    {
     "data": {
      "text/plain": [
       "'healthy'"
      ]
     },
     "execution_count": 40,
     "metadata": {
      "tags": []
     },
     "output_type": "execute_result"
    }
   ],
   "source": [
    "custom_labels[2]"
   ]
  },
  {
   "cell_type": "code",
   "execution_count": null,
   "metadata": {
    "colab": {
     "base_uri": "https://localhost:8080/",
     "height": 1000,
     "output_embedded_package_id": "1ptMLwsl2bY9HHjd7NC03V6w0jRz_hr1Q"
    },
    "colab_type": "code",
    "executionInfo": {
     "elapsed": 9997,
     "status": "ok",
     "timestamp": 1581578274725,
     "user": {
      "displayName": "권혜윤",
      "photoUrl": "",
      "userId": "00367973903309108423"
     },
     "user_tz": -540
    },
    "id": "7PEwnIUWVfOu",
    "outputId": "a1290b9b-aaf2-4782-80ca-0ad0a6734e82",
    "scrolled": true
   },
   "outputs": [
    {
     "data": {
      "text/plain": [
       "Output hidden; open in https://colab.research.google.com to view."
      ]
     },
     "metadata": {},
     "output_type": "display_data"
    }
   ],
   "source": [
    "#이미지를 출력할 객체\n",
    "fig = plt.figure(figsize=(20,60))\n",
    "for i in range(60):\n",
    "    #4줄 5칸으로 나누고 i+1번째 이미지를 그림\n",
    "    subplot = fig.add_subplot(12, 5, i + 1)\n",
    "    \n",
    "    #subplot.set_xticks([]) : 그래프의 x축을 설정 \n",
    "    #데이터가 없으므로 x축에 아무 데이터도 출력 안됨\n",
    "    subplot.set_xticks([])\n",
    "    \n",
    "    #subplot.set_yticks([]) : 그래프의 y축을 설정 \n",
    "    #데이터가 없으므로 y축에 아무 데이터도 출력 안됨\n",
    "    subplot.set_yticks([])\n",
    "    #예측값(숫자)을 predict_num에 대입\n",
    "    predict_num=predict01[i]\n",
    "    #예측값에 해당하는 문자를 리턴\n",
    "    predict_str=custom_labels[predict_num]\n",
    "    #실제 값(숫자) 리턴\n",
    "    target_num=target[i]\n",
    "    #실제 값에 해당하는 문자 리턴\n",
    "    target_str=custom_labels[target_num]\n",
    "    #이미지의 제목으로 예측한 이미지의 이름, 실제 이름 출력\n",
    "    subplot.set_title('predict: %s, target:%s' % (predict_str,target_str))\n",
    "    #X_test[i]를 255로 나눠서 0~1 사이 범위로 변환\n",
    "    #X_test[i]=X_test[i]/255.0\n",
    "    #이미지 출력\n",
    "    subplot.imshow(X_test[i].reshape((220, 220,3)),\n",
    "                   cmap=plt.cm.gray_r)\n",
    "#그래프를 화면에 그림\n",
    "plt.show()"
   ]
  },
  {
   "cell_type": "code",
   "execution_count": null,
   "metadata": {
    "colab": {},
    "colab_type": "code",
    "id": "Na4zf-b3VfOy",
    "scrolled": true
   },
   "outputs": [],
   "source": []
  }
 ],
 "metadata": {
  "accelerator": "GPU",
  "colab": {
   "collapsed_sections": [],
   "name": "resnet-dental01.ipynb",
   "provenance": []
  },
  "kernelspec": {
   "display_name": "Python 3",
   "language": "python",
   "name": "python3"
  },
  "language_info": {
   "codemirror_mode": {
    "name": "ipython",
    "version": 3
   },
   "file_extension": ".py",
   "mimetype": "text/x-python",
   "name": "python",
   "nbconvert_exporter": "python",
   "pygments_lexer": "ipython3",
   "version": "3.7.4"
  }
 },
 "nbformat": 4,
 "nbformat_minor": 4
}
