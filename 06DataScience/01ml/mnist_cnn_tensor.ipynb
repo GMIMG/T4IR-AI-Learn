{
 "cells": [
  {
   "cell_type": "code",
   "execution_count": 1,
   "metadata": {},
   "outputs": [],
   "source": [
    "import tensorflow as tf\n",
    "import numpy as np\n",
    "tf.enable_eager_execution()"
   ]
  },
  {
   "cell_type": "code",
   "execution_count": 3,
   "metadata": {},
   "outputs": [
    {
     "name": "stdout",
     "output_type": "stream",
     "text": [
      "WARNING:tensorflow:From <ipython-input-3-f94eceb2dc2d>:2: read_data_sets (from tensorflow.contrib.learn.python.learn.datasets.mnist) is deprecated and will be removed in a future version.\n",
      "Instructions for updating:\n",
      "Please use alternatives such as official/mnist/dataset.py from tensorflow/models.\n",
      "WARNING:tensorflow:From C:\\Users\\JMDESKTOP\\Anaconda3\\lib\\site-packages\\tensorflow_core\\contrib\\learn\\python\\learn\\datasets\\mnist.py:260: maybe_download (from tensorflow.contrib.learn.python.learn.datasets.base) is deprecated and will be removed in a future version.\n",
      "Instructions for updating:\n",
      "Please write your own downloading logic.\n",
      "WARNING:tensorflow:From C:\\Users\\JMDESKTOP\\Anaconda3\\lib\\site-packages\\tensorflow_core\\contrib\\learn\\python\\learn\\datasets\\mnist.py:262: extract_images (from tensorflow.contrib.learn.python.learn.datasets.mnist) is deprecated and will be removed in a future version.\n",
      "Instructions for updating:\n",
      "Please use tf.data to implement this functionality.\n",
      "Extracting ./mnist/data/train-images-idx3-ubyte.gz\n",
      "WARNING:tensorflow:From C:\\Users\\JMDESKTOP\\Anaconda3\\lib\\site-packages\\tensorflow_core\\contrib\\learn\\python\\learn\\datasets\\mnist.py:267: extract_labels (from tensorflow.contrib.learn.python.learn.datasets.mnist) is deprecated and will be removed in a future version.\n",
      "Instructions for updating:\n",
      "Please use tf.data to implement this functionality.\n",
      "Extracting ./mnist/data/train-labels-idx1-ubyte.gz\n",
      "WARNING:tensorflow:From C:\\Users\\JMDESKTOP\\Anaconda3\\lib\\site-packages\\tensorflow_core\\contrib\\learn\\python\\learn\\datasets\\mnist.py:110: dense_to_one_hot (from tensorflow.contrib.learn.python.learn.datasets.mnist) is deprecated and will be removed in a future version.\n",
      "Instructions for updating:\n",
      "Please use tf.one_hot on tensors.\n",
      "Extracting ./mnist/data/t10k-images-idx3-ubyte.gz\n",
      "Extracting ./mnist/data/t10k-labels-idx1-ubyte.gz\n",
      "WARNING:tensorflow:From C:\\Users\\JMDESKTOP\\Anaconda3\\lib\\site-packages\\tensorflow_core\\contrib\\learn\\python\\learn\\datasets\\mnist.py:290: DataSet.__init__ (from tensorflow.contrib.learn.python.learn.datasets.mnist) is deprecated and will be removed in a future version.\n",
      "Instructions for updating:\n",
      "Please use alternatives such as official/mnist/dataset.py from tensorflow/models.\n"
     ]
    }
   ],
   "source": [
    "from tensorflow.examples.tutorials.mnist import input_data\n",
    "mnist = input_data.read_data_sets('./mnist/data/', one_hot=True)"
   ]
  },
  {
   "cell_type": "code",
   "execution_count": 4,
   "metadata": {},
   "outputs": [],
   "source": [
    "X, y = mnist.train.next_batch(1)"
   ]
  },
  {
   "cell_type": "code",
   "execution_count": 5,
   "metadata": {
    "scrolled": true
   },
   "outputs": [
    {
     "data": {
      "text/plain": [
       "array([[0.       , 0.       , 0.       , 0.       , 0.       , 0.       ,\n",
       "        0.       , 0.       , 0.       , 0.       , 0.       , 0.       ,\n",
       "        0.       , 0.       , 0.       , 0.       , 0.       , 0.       ,\n",
       "        0.       , 0.       , 0.       , 0.       , 0.       , 0.       ,\n",
       "        0.       , 0.       , 0.       , 0.       ],\n",
       "       [0.       , 0.       , 0.       , 0.       , 0.       , 0.       ,\n",
       "        0.       , 0.       , 0.       , 0.       , 0.       , 0.       ,\n",
       "        0.       , 0.       , 0.       , 0.       , 0.       , 0.       ,\n",
       "        0.       , 0.       , 0.       , 0.       , 0.       , 0.       ,\n",
       "        0.       , 0.       , 0.       , 0.       ],\n",
       "       [0.       , 0.       , 0.       , 0.       , 0.       , 0.       ,\n",
       "        0.       , 0.       , 0.       , 0.       , 0.       , 0.       ,\n",
       "        0.       , 0.       , 0.       , 0.       , 0.       , 0.       ,\n",
       "        0.       , 0.       , 0.       , 0.       , 0.       , 0.       ,\n",
       "        0.       , 0.       , 0.       , 0.       ],\n",
       "       [0.       , 0.       , 0.       , 0.       , 0.       , 0.       ,\n",
       "        0.       , 0.       , 0.       , 0.       , 0.       , 0.       ,\n",
       "        0.       , 0.       , 0.       , 0.       , 0.       , 0.       ,\n",
       "        0.       , 0.       , 0.       , 0.       , 0.       , 0.       ,\n",
       "        0.       , 0.       , 0.       , 0.       ],\n",
       "       [0.       , 0.       , 0.       , 0.       , 0.       , 0.       ,\n",
       "        0.       , 0.       , 0.       , 0.       , 0.       , 0.       ,\n",
       "        0.       , 0.       , 0.       , 0.       , 0.       , 0.       ,\n",
       "        0.       , 0.       , 0.       , 0.       , 0.       , 0.       ,\n",
       "        0.       , 0.       , 0.       , 0.       ],\n",
       "       [0.       , 0.       , 0.       , 0.       , 0.       , 0.       ,\n",
       "        0.       , 0.       , 0.       , 0.       , 0.       , 0.       ,\n",
       "        0.       , 0.       , 0.       , 0.5019608, 0.7490196, 0.5019608,\n",
       "        0.5019608, 0.2509804, 0.       , 0.       , 0.       , 0.       ,\n",
       "        0.       , 0.       , 0.       , 0.       ],\n",
       "       [0.       , 0.       , 0.       , 0.       , 0.       , 0.       ,\n",
       "        0.       , 0.       , 0.       , 0.       , 0.       , 0.2509804,\n",
       "        0.7490196, 1.       , 1.       , 1.       , 1.       , 1.       ,\n",
       "        1.       , 1.       , 0.2509804, 0.       , 0.       , 0.       ,\n",
       "        0.       , 0.       , 0.       , 0.       ],\n",
       "       [0.       , 0.       , 0.       , 0.       , 0.       , 0.       ,\n",
       "        0.       , 0.       , 0.       , 0.       , 0.5019608, 1.       ,\n",
       "        1.       , 1.       , 1.       , 1.       , 1.       , 1.       ,\n",
       "        1.       , 1.       , 1.       , 0.       , 0.       , 0.       ,\n",
       "        0.       , 0.       , 0.       , 0.       ],\n",
       "       [0.       , 0.       , 0.       , 0.       , 0.       , 0.       ,\n",
       "        0.       , 0.       , 0.       , 0.       , 0.7490196, 1.       ,\n",
       "        1.       , 1.       , 1.       , 1.       , 1.       , 1.       ,\n",
       "        1.       , 1.       , 1.       , 0.       , 0.       , 0.       ,\n",
       "        0.       , 0.       , 0.       , 0.       ],\n",
       "       [0.       , 0.       , 0.       , 0.       , 0.       , 0.       ,\n",
       "        0.       , 0.       , 0.       , 0.       , 1.       , 1.       ,\n",
       "        1.       , 1.       , 0.7490196, 1.       , 1.       , 1.       ,\n",
       "        1.       , 1.       , 0.7490196, 0.       , 0.       , 0.       ,\n",
       "        0.       , 0.       , 0.       , 0.       ],\n",
       "       [0.       , 0.       , 0.       , 0.       , 0.       , 0.       ,\n",
       "        0.       , 0.       , 0.       , 0.       , 0.2509804, 1.       ,\n",
       "        1.       , 0.2509804, 0.2509804, 1.       , 1.       , 1.       ,\n",
       "        1.       , 1.       , 0.2509804, 0.       , 0.       , 0.       ,\n",
       "        0.       , 0.       , 0.       , 0.       ],\n",
       "       [0.       , 0.       , 0.       , 0.       , 0.       , 0.       ,\n",
       "        0.       , 0.       , 0.       , 0.       , 0.       , 0.       ,\n",
       "        0.       , 0.7490196, 1.       , 1.       , 1.       , 1.       ,\n",
       "        1.       , 0.2509804, 0.       , 0.       , 0.       , 0.       ,\n",
       "        0.       , 0.       , 0.       , 0.       ],\n",
       "       [0.       , 0.       , 0.       , 0.       , 0.       , 0.       ,\n",
       "        0.       , 0.       , 0.       , 0.       , 0.       , 0.5019608,\n",
       "        1.       , 1.       , 1.       , 1.       , 1.       , 1.       ,\n",
       "        1.       , 0.2509804, 0.       , 0.       , 0.       , 0.       ,\n",
       "        0.       , 0.       , 0.       , 0.       ],\n",
       "       [0.       , 0.       , 0.       , 0.       , 0.       , 0.       ,\n",
       "        0.       , 0.       , 0.       , 0.2509804, 0.7490196, 1.       ,\n",
       "        1.       , 1.       , 1.       , 1.       , 1.       , 1.       ,\n",
       "        1.       , 0.5019608, 0.       , 0.       , 0.       , 0.       ,\n",
       "        0.       , 0.       , 0.       , 0.       ],\n",
       "       [0.       , 0.       , 0.       , 0.       , 0.       , 0.       ,\n",
       "        0.       , 0.       , 0.       , 1.       , 1.       , 1.       ,\n",
       "        1.       , 1.       , 1.       , 1.       , 1.       , 1.       ,\n",
       "        1.       , 0.5019608, 0.       , 0.       , 0.       , 0.       ,\n",
       "        0.       , 0.       , 0.       , 0.       ],\n",
       "       [0.       , 0.       , 0.       , 0.       , 0.       , 0.       ,\n",
       "        0.       , 0.       , 0.       , 0.7490196, 1.       , 1.       ,\n",
       "        1.       , 1.       , 0.5019608, 0.5019608, 1.       , 1.       ,\n",
       "        1.       , 1.       , 0.       , 0.       , 0.       , 0.       ,\n",
       "        0.       , 0.       , 0.       , 0.       ],\n",
       "       [0.       , 0.       , 0.       , 0.       , 0.       , 0.       ,\n",
       "        0.       , 0.       , 0.       , 0.2509804, 1.       , 1.       ,\n",
       "        1.       , 0.2509804, 0.       , 0.       , 1.       , 1.       ,\n",
       "        1.       , 1.       , 0.       , 0.       , 0.       , 0.       ,\n",
       "        0.       , 0.       , 0.       , 0.       ],\n",
       "       [0.       , 0.       , 0.       , 0.       , 0.       , 0.       ,\n",
       "        0.       , 0.       , 0.       , 0.       , 0.5019608, 0.2509804,\n",
       "        0.       , 0.       , 0.       , 0.5019608, 1.       , 1.       ,\n",
       "        1.       , 0.7490196, 0.       , 0.       , 0.       , 0.       ,\n",
       "        0.       , 0.       , 0.       , 0.       ],\n",
       "       [0.       , 0.       , 0.       , 0.       , 0.       , 0.       ,\n",
       "        0.       , 0.       , 0.2509804, 1.       , 1.       , 0.5019608,\n",
       "        0.       , 0.       , 0.2509804, 1.       , 1.       , 1.       ,\n",
       "        1.       , 0.5019608, 0.       , 0.       , 0.       , 0.       ,\n",
       "        0.       , 0.       , 0.       , 0.       ],\n",
       "       [0.       , 0.       , 0.       , 0.       , 0.       , 0.       ,\n",
       "        0.       , 0.5019608, 1.       , 1.       , 1.       , 0.2509804,\n",
       "        0.       , 0.2509804, 0.7490196, 1.       , 1.       , 1.       ,\n",
       "        1.       , 0.2509804, 0.       , 0.       , 0.       , 0.       ,\n",
       "        0.       , 0.       , 0.       , 0.       ],\n",
       "       [0.       , 0.       , 0.       , 0.       , 0.       , 0.       ,\n",
       "        0.       , 1.       , 1.       , 1.       , 0.7490196, 0.5019608,\n",
       "        0.5019608, 1.       , 1.       , 1.       , 1.       , 1.       ,\n",
       "        0.5019608, 0.       , 0.       , 0.       , 0.       , 0.       ,\n",
       "        0.       , 0.       , 0.       , 0.       ],\n",
       "       [0.       , 0.       , 0.       , 0.       , 0.       , 0.       ,\n",
       "        0.2509804, 1.       , 1.       , 1.       , 1.       , 1.       ,\n",
       "        1.       , 1.       , 1.       , 1.       , 1.       , 0.7490196,\n",
       "        0.       , 0.       , 0.       , 0.       , 0.       , 0.       ,\n",
       "        0.       , 0.       , 0.       , 0.       ],\n",
       "       [0.       , 0.       , 0.       , 0.       , 0.       , 0.       ,\n",
       "        0.       , 0.7490196, 1.       , 1.       , 1.       , 1.       ,\n",
       "        1.       , 1.       , 1.       , 1.       , 0.2509804, 0.       ,\n",
       "        0.       , 0.       , 0.       , 0.       , 0.       , 0.       ,\n",
       "        0.       , 0.       , 0.       , 0.       ],\n",
       "       [0.       , 0.       , 0.       , 0.       , 0.       , 0.       ,\n",
       "        0.       , 0.5019608, 1.       , 1.       , 1.       , 1.       ,\n",
       "        1.       , 1.       , 0.5019608, 0.       , 0.       , 0.       ,\n",
       "        0.       , 0.       , 0.       , 0.       , 0.       , 0.       ,\n",
       "        0.       , 0.       , 0.       , 0.       ],\n",
       "       [0.       , 0.       , 0.       , 0.       , 0.       , 0.       ,\n",
       "        0.       , 0.       , 0.       , 0.7490196, 1.       , 0.5019608,\n",
       "        0.       , 0.       , 0.       , 0.       , 0.       , 0.       ,\n",
       "        0.       , 0.       , 0.       , 0.       , 0.       , 0.       ,\n",
       "        0.       , 0.       , 0.       , 0.       ],\n",
       "       [0.       , 0.       , 0.       , 0.       , 0.       , 0.       ,\n",
       "        0.       , 0.       , 0.       , 0.       , 0.       , 0.       ,\n",
       "        0.       , 0.       , 0.       , 0.       , 0.       , 0.       ,\n",
       "        0.       , 0.       , 0.       , 0.       , 0.       , 0.       ,\n",
       "        0.       , 0.       , 0.       , 0.       ],\n",
       "       [0.       , 0.       , 0.       , 0.       , 0.       , 0.       ,\n",
       "        0.       , 0.       , 0.       , 0.       , 0.       , 0.       ,\n",
       "        0.       , 0.       , 0.       , 0.       , 0.       , 0.       ,\n",
       "        0.       , 0.       , 0.       , 0.       , 0.       , 0.       ,\n",
       "        0.       , 0.       , 0.       , 0.       ],\n",
       "       [0.       , 0.       , 0.       , 0.       , 0.       , 0.       ,\n",
       "        0.       , 0.       , 0.       , 0.       , 0.       , 0.       ,\n",
       "        0.       , 0.       , 0.       , 0.       , 0.       , 0.       ,\n",
       "        0.       , 0.       , 0.       , 0.       , 0.       , 0.       ,\n",
       "        0.       , 0.       , 0.       , 0.       ]], dtype=float32)"
      ]
     },
     "execution_count": 5,
     "metadata": {},
     "output_type": "execute_result"
    }
   ],
   "source": [
    "X.reshape((28,28))"
   ]
  },
  {
   "cell_type": "code",
   "execution_count": 6,
   "metadata": {},
   "outputs": [],
   "source": [
    "import matplotlib.pyplot as plt"
   ]
  },
  {
   "cell_type": "code",
   "execution_count": 7,
   "metadata": {},
   "outputs": [
    {
     "data": {
      "text/plain": [
       "<matplotlib.image.AxesImage at 0x147007f0c48>"
      ]
     },
     "execution_count": 7,
     "metadata": {},
     "output_type": "execute_result"
    },
    {
     "data": {
      "image/png": "[encoded data removed]",
      "text/plain": [
       "<Figure size 432x288 with 1 Axes>"
      ]
     },
     "metadata": {
      "needs_background": "light"
     },
     "output_type": "display_data"
    }
   ],
   "source": [
    "plt.imshow(X.reshape((28,28)),cmap='gray')"
   ]
  },
  {
   "cell_type": "code",
   "execution_count": 8,
   "metadata": {},
   "outputs": [
    {
     "data": {
      "text/plain": [
       "(1, 28, 28, 1)"
      ]
     },
     "execution_count": 8,
     "metadata": {},
     "output_type": "execute_result"
    }
   ],
   "source": [
    "X = X.reshape(1,28,28,1)\n",
    "X.shape"
   ]
  },
  {
   "cell_type": "code",
   "execution_count": 11,
   "metadata": {},
   "outputs": [],
   "source": [
    "initializer = tf.contrib.layers.xavier_initializer()"
   ]
  },
  {
   "cell_type": "code",
   "execution_count": 12,
   "metadata": {
    "scrolled": true
   },
   "outputs": [
    {
     "data": {
      "text/plain": [
       "<tf.Variable 'Variable:0' shape=(3, 3, 1, 32) dtype=float32, numpy=\n",
       "array([[[[-0.02826188, -0.01248068, -0.01581635,  0.05080068,\n",
       "          -0.03498438,  0.0492069 , -0.08023943, -0.0668788 ,\n",
       "           0.0624928 ,  0.10744219, -0.08485252,  0.06920362,\n",
       "          -0.03639752,  0.01733023, -0.07009088, -0.12596278,\n",
       "          -0.00207926, -0.05744318,  0.04231228,  0.03865248,\n",
       "          -0.07446943,  0.04553694,  0.12409954, -0.08565862,\n",
       "          -0.07733742,  0.09907751, -0.04593256,  0.11660857,\n",
       "          -0.12104112, -0.01059234, -0.10731643,  0.09873149]],\n",
       "\n",
       "        [[ 0.10852517,  0.10978924, -0.03855038, -0.07150833,\n",
       "          -0.10797371, -0.10800597,  0.07973841, -0.08683435,\n",
       "          -0.02368613,  0.00136417, -0.08073619, -0.02981628,\n",
       "           0.07205899,  0.12221889,  0.02484901,  0.03608409,\n",
       "          -0.07421247, -0.01238373, -0.12662652,  0.00677648,\n",
       "           0.05194652,  0.02878675,  0.10213985,  0.04665829,\n",
       "           0.09897436, -0.02858424, -0.04767071, -0.12329394,\n",
       "          -0.06935763,  0.10678667, -0.08831272,  0.02635279]],\n",
       "\n",
       "        [[ 0.09407151, -0.09025674, -0.11284889,  0.08498462,\n",
       "          -0.0679712 ,  0.05368294,  0.09472983,  0.05519363,\n",
       "          -0.07218248, -0.11046548,  0.00125353,  0.03116375,\n",
       "          -0.10886082,  0.1194521 ,  0.10639615, -0.04812586,\n",
       "          -0.04090907,  0.025272  ,  0.1245039 ,  0.11260749,\n",
       "          -0.14063169,  0.12836705,  0.08433671, -0.04388763,\n",
       "          -0.03127927, -0.0136365 , -0.08644153, -0.11784767,\n",
       "           0.09706098, -0.05434015, -0.08076119, -0.10465814]]],\n",
       "\n",
       "\n",
       "       [[[-0.12155935,  0.10968111, -0.0376405 ,  0.00414994,\n",
       "           0.10253504,  0.12170132,  0.04148827, -0.00739744,\n",
       "          -0.10744887, -0.09632816,  0.06146199, -0.01261701,\n",
       "           0.05837685, -0.12641734, -0.08618547,  0.13420703,\n",
       "           0.02874297,  0.14165957, -0.02925518,  0.08302517,\n",
       "           0.0383542 , -0.04586083, -0.04832043,  0.13810627,\n",
       "           0.00160027,  0.07424988,  0.00609519, -0.02953801,\n",
       "           0.02884002, -0.10840514,  0.07462664, -0.03823136]],\n",
       "\n",
       "        [[ 0.00372408,  0.02328151, -0.01577625,  0.12774403,\n",
       "          -0.02679235,  0.07075287, -0.13898253, -0.11953462,\n",
       "          -0.12892057,  0.06858528, -0.10552363, -0.03794349,\n",
       "          -0.10557869,  0.01435265, -0.09445395,  0.102516  ,\n",
       "          -0.03268912,  0.03233127,  0.05993895,  0.01133707,\n",
       "           0.12185173,  0.02168515,  0.10182509, -0.0608965 ,\n",
       "           0.02461864,  0.07212308, -0.0856691 , -0.02612829,\n",
       "           0.02788542, -0.10279427,  0.01179753,  0.09283391]],\n",
       "\n",
       "        [[-0.06654502,  0.13211249, -0.05089208, -0.0646055 ,\n",
       "          -0.01032011,  0.01640782, -0.02310669, -0.04850682,\n",
       "          -0.08878501, -0.07078246,  0.12130676, -0.00370967,\n",
       "          -0.07118812, -0.06714201,  0.07841226, -0.04004952,\n",
       "          -0.03065655, -0.0684854 , -0.09902407, -0.03634119,\n",
       "           0.02288365,  0.09828877,  0.10044894, -0.00658475,\n",
       "          -0.00528565, -0.10543281, -0.12881315,  0.03463499,\n",
       "           0.02620082,  0.13346131,  0.08647789, -0.00118776]]],\n",
       "\n",
       "\n",
       "       [[[ 0.03673656,  0.03262751, -0.11302011,  0.12695424,\n",
       "          -0.12168823,  0.04799837,  0.11562087, -0.10034727,\n",
       "           0.02014762,  0.0567923 ,  0.04387385,  0.0418831 ,\n",
       "          -0.0665911 ,  0.08117503, -0.02931374,  0.09757403,\n",
       "          -0.12425231, -0.0554216 , -0.00361717,  0.0341291 ,\n",
       "           0.02289876, -0.00832504,  0.04920831,  0.02599807,\n",
       "           0.00307046, -0.05624875,  0.04875413,  0.0759089 ,\n",
       "           0.00541185, -0.07447011, -0.05643791, -0.07872419]],\n",
       "\n",
       "        [[ 0.09999864, -0.1114957 ,  0.11444284,  0.00922094,\n",
       "           0.13558115,  0.09342706, -0.01725662,  0.14172535,\n",
       "           0.09174554, -0.1120098 , -0.09147468, -0.02298325,\n",
       "          -0.03570096, -0.04521344,  0.13471515, -0.0930969 ,\n",
       "           0.03823218, -0.11113618, -0.14200538, -0.12902603,\n",
       "          -0.06427894, -0.04293523,  0.13265441, -0.0284636 ,\n",
       "          -0.10631632,  0.03451975, -0.03417159,  0.13062395,\n",
       "           0.10008614, -0.06278718,  0.01012215, -0.04624707]],\n",
       "\n",
       "        [[-0.06130546, -0.00485778,  0.04201435,  0.00768429,\n",
       "           0.07302698, -0.02797661,  0.05906862,  0.00015998,\n",
       "           0.06440707,  0.10791107, -0.01968811,  0.01931877,\n",
       "          -0.0739799 , -0.0786206 , -0.06374494,  0.09032559,\n",
       "           0.10644078,  0.01830611, -0.08552548, -0.09313102,\n",
       "          -0.05492935, -0.05609351, -0.03677739,  0.06995001,\n",
       "           0.09455605,  0.11696349,  0.09933105, -0.14187852,\n",
       "          -0.10578944, -0.07432589,  0.08905743, -0.05842405]]]],\n",
       "      dtype=float32)>"
      ]
     },
     "execution_count": 12,
     "metadata": {},
     "output_type": "execute_result"
    }
   ],
   "source": [
    "w1 = tf.Variable(initializer([3,3,1,32]))\n",
    "w1"
   ]
  },
  {
   "cell_type": "code",
   "execution_count": 13,
   "metadata": {},
   "outputs": [
    {
     "data": {
      "text/plain": [
       "TensorShape([Dimension(3), Dimension(3), Dimension(1), Dimension(32)])"
      ]
     },
     "execution_count": 13,
     "metadata": {},
     "output_type": "execute_result"
    }
   ],
   "source": [
    "w1.shape"
   ]
  },
  {
   "cell_type": "code",
   "execution_count": 33,
   "metadata": {
    "scrolled": true
   },
   "outputs": [
    {
     "data": {
      "text/plain": [
       "<tf.Tensor: id=71, shape=(1, 28, 28, 32), dtype=float32, numpy=\n",
       "array([[[[0., 0., 0., ..., 0., 0., 0.],\n",
       "         [0., 0., 0., ..., 0., 0., 0.],\n",
       "         [0., 0., 0., ..., 0., 0., 0.],\n",
       "         ...,\n",
       "         [0., 0., 0., ..., 0., 0., 0.],\n",
       "         [0., 0., 0., ..., 0., 0., 0.],\n",
       "         [0., 0., 0., ..., 0., 0., 0.]],\n",
       "\n",
       "        [[0., 0., 0., ..., 0., 0., 0.],\n",
       "         [0., 0., 0., ..., 0., 0., 0.],\n",
       "         [0., 0., 0., ..., 0., 0., 0.],\n",
       "         ...,\n",
       "         [0., 0., 0., ..., 0., 0., 0.],\n",
       "         [0., 0., 0., ..., 0., 0., 0.],\n",
       "         [0., 0., 0., ..., 0., 0., 0.]],\n",
       "\n",
       "        [[0., 0., 0., ..., 0., 0., 0.],\n",
       "         [0., 0., 0., ..., 0., 0., 0.],\n",
       "         [0., 0., 0., ..., 0., 0., 0.],\n",
       "         ...,\n",
       "         [0., 0., 0., ..., 0., 0., 0.],\n",
       "         [0., 0., 0., ..., 0., 0., 0.],\n",
       "         [0., 0., 0., ..., 0., 0., 0.]],\n",
       "\n",
       "        ...,\n",
       "\n",
       "        [[0., 0., 0., ..., 0., 0., 0.],\n",
       "         [0., 0., 0., ..., 0., 0., 0.],\n",
       "         [0., 0., 0., ..., 0., 0., 0.],\n",
       "         ...,\n",
       "         [0., 0., 0., ..., 0., 0., 0.],\n",
       "         [0., 0., 0., ..., 0., 0., 0.],\n",
       "         [0., 0., 0., ..., 0., 0., 0.]],\n",
       "\n",
       "        [[0., 0., 0., ..., 0., 0., 0.],\n",
       "         [0., 0., 0., ..., 0., 0., 0.],\n",
       "         [0., 0., 0., ..., 0., 0., 0.],\n",
       "         ...,\n",
       "         [0., 0., 0., ..., 0., 0., 0.],\n",
       "         [0., 0., 0., ..., 0., 0., 0.],\n",
       "         [0., 0., 0., ..., 0., 0., 0.]],\n",
       "\n",
       "        [[0., 0., 0., ..., 0., 0., 0.],\n",
       "         [0., 0., 0., ..., 0., 0., 0.],\n",
       "         [0., 0., 0., ..., 0., 0., 0.],\n",
       "         ...,\n",
       "         [0., 0., 0., ..., 0., 0., 0.],\n",
       "         [0., 0., 0., ..., 0., 0., 0.],\n",
       "         [0., 0., 0., ..., 0., 0., 0.]]]], dtype=float32)>"
      ]
     },
     "execution_count": 33,
     "metadata": {},
     "output_type": "execute_result"
    }
   ],
   "source": [
    "convolution_h1 = tf.nn.conv2d(X, w1, strides=1, padding='SAME')\n",
    "convolution_h1"
   ]
  },
  {
   "cell_type": "code",
   "execution_count": 43,
   "metadata": {},
   "outputs": [],
   "source": [
    "convolution_h1 = tf.nn.relu(convolution_h1)"
   ]
  },
  {
   "cell_type": "code",
   "execution_count": 44,
   "metadata": {},
   "outputs": [
    {
     "data": {
      "text/plain": [
       "TensorShape([Dimension(1), Dimension(28), Dimension(28), Dimension(32)])"
      ]
     },
     "execution_count": 44,
     "metadata": {},
     "output_type": "execute_result"
    }
   ],
   "source": [
    "convolution_h1.shape"
   ]
  },
  {
   "cell_type": "code",
   "execution_count": 45,
   "metadata": {
    "scrolled": true
   },
   "outputs": [
    {
     "data": {
      "text/plain": [
       "<tf.Variable 'Variable:0' shape=(3, 3, 32, 64) dtype=float32, numpy=\n",
       "array([[[[-0.06483215, -0.07027056, -0.05472406, ..., -0.06625187,\n",
       "           0.01438526, -0.03515285],\n",
       "         [-0.04553195, -0.0712719 , -0.0209352 , ..., -0.06454884,\n",
       "          -0.01610652, -0.02076658],\n",
       "         [-0.08224326, -0.05575655, -0.05023923, ...,  0.02293936,\n",
       "           0.0135257 ,  0.00316694],\n",
       "         ...,\n",
       "         [ 0.08040126, -0.05907492,  0.06123348, ..., -0.07138652,\n",
       "          -0.01231364, -0.07084799],\n",
       "         [-0.07849187,  0.07124373, -0.01894248, ..., -0.04811893,\n",
       "          -0.02774398,  0.05118669],\n",
       "         [-0.01524302, -0.00788647,  0.0760879 , ..., -0.03229716,\n",
       "           0.01876678, -0.06364173]],\n",
       "\n",
       "        [[ 0.02508128, -0.02399316,  0.01649644, ..., -0.05174925,\n",
       "           0.07197917, -0.03377058],\n",
       "         [ 0.04040408, -0.04503906, -0.02656154, ...,  0.01115026,\n",
       "          -0.07537705, -0.00267879],\n",
       "         [ 0.01612159,  0.04999844,  0.02248053, ..., -0.04831843,\n",
       "          -0.00010884, -0.01931848],\n",
       "         ...,\n",
       "         [-0.06485494,  0.07521192, -0.04107277, ..., -0.0192674 ,\n",
       "           0.05019958, -0.08236995],\n",
       "         [-0.04581851,  0.07324363, -0.01425847, ..., -0.04536295,\n",
       "          -0.0502017 , -0.02248585],\n",
       "         [-0.07769011,  0.01259691, -0.02468908, ...,  0.04700003,\n",
       "          -0.05762573, -0.07416283]],\n",
       "\n",
       "        [[-0.05569726, -0.06249827,  0.07682999, ...,  0.02324808,\n",
       "          -0.04495474, -0.05575198],\n",
       "         [ 0.07065357,  0.06380918, -0.01340006, ...,  0.03936426,\n",
       "           0.07902537,  0.07085355],\n",
       "         [ 0.03723568,  0.01346221,  0.00100205, ..., -0.08088674,\n",
       "          -0.04825445, -0.00686578],\n",
       "         ...,\n",
       "         [-0.06509882, -0.03549584, -0.00201311, ..., -0.00610155,\n",
       "          -0.03416995,  0.06884272],\n",
       "         [ 0.05832633, -0.05222776,  0.0116815 , ...,  0.02347422,\n",
       "          -0.03092269, -0.05300774],\n",
       "         [-0.06356573,  0.01430148, -0.03099513, ..., -0.03784076,\n",
       "          -0.06185295, -0.03512404]]],\n",
       "\n",
       "\n",
       "       [[[-0.06897108, -0.04524652, -0.00553274, ...,  0.05602408,\n",
       "           0.07810021, -0.02235192],\n",
       "         [ 0.04894973,  0.01061332, -0.02837592, ...,  0.07740035,\n",
       "          -0.07679902,  0.02115317],\n",
       "         [ 0.06333528,  0.07314301,  0.02693522, ..., -0.04835796,\n",
       "          -0.03081898, -0.02335519],\n",
       "         ...,\n",
       "         [ 0.07658256, -0.07245426,  0.01243031, ..., -0.0481333 ,\n",
       "          -0.02560207,  0.06683499],\n",
       "         [ 0.0335109 , -0.02663467,  0.02384853, ..., -0.0791934 ,\n",
       "          -0.00115331, -0.05347314],\n",
       "         [-0.05526897,  0.0374954 , -0.0405036 , ..., -0.00240143,\n",
       "           0.04590643,  0.07325473]],\n",
       "\n",
       "        [[-0.01787817,  0.01096555, -0.03852028, ...,  0.00235339,\n",
       "           0.05934168, -0.00883969],\n",
       "         [-0.06829866,  0.00516039,  0.06202575, ..., -0.00970578,\n",
       "          -0.00602168,  0.03155037],\n",
       "         [ 0.06664262, -0.06454426, -0.06022207, ..., -0.06255402,\n",
       "          -0.01990193, -0.0823556 ],\n",
       "         ...,\n",
       "         [-0.01815287, -0.01036892, -0.00536152, ..., -0.03507209,\n",
       "           0.04611383,  0.07282782],\n",
       "         [-0.05117869, -0.00114197, -0.0359873 , ...,  0.06742273,\n",
       "          -0.08243015,  0.0369311 ],\n",
       "         [-0.08169683,  0.00718457,  0.07177057, ...,  0.01116892,\n",
       "          -0.07043707,  0.01796295]],\n",
       "\n",
       "        [[-0.05951027,  0.01833502,  0.07511685, ...,  0.06032016,\n",
       "          -0.04821235,  0.07018615],\n",
       "         [ 0.02789841, -0.05628964,  0.02866864, ..., -0.06278233,\n",
       "           0.05299518, -0.00240657],\n",
       "         [ 0.04459045, -0.01233957, -0.07328393, ..., -0.08112514,\n",
       "          -0.02424266, -0.00888908],\n",
       "         ...,\n",
       "         [-0.04499018,  0.01439603, -0.04189249, ...,  0.01216775,\n",
       "           0.01365318, -0.05294937],\n",
       "         [ 0.07086935,  0.02759767, -0.05118106, ...,  0.01707552,\n",
       "          -0.05031127,  0.00961515],\n",
       "         [ 0.04715952,  0.04140574,  0.07622135, ...,  0.00443784,\n",
       "           0.07361893, -0.06525326]]],\n",
       "\n",
       "\n",
       "       [[[-0.04446795,  0.07738773,  0.04339222, ..., -0.02535179,\n",
       "           0.05596722, -0.00374991],\n",
       "         [ 0.02673008, -0.01767027, -0.0273965 , ...,  0.07127436,\n",
       "          -0.05740317,  0.02753029],\n",
       "         [-0.04494476,  0.070819  , -0.03420136, ..., -0.06724866,\n",
       "           0.04543052,  0.07469054],\n",
       "         ...,\n",
       "         [-0.01830769,  0.0144178 ,  0.0292296 , ...,  0.01138093,\n",
       "           0.07525257, -0.00957765],\n",
       "         [-0.04459473,  0.00238629, -0.03002465, ...,  0.05032337,\n",
       "           0.04740395,  0.04732893],\n",
       "         [-0.06784576,  0.03393688,  0.05646648, ...,  0.01207834,\n",
       "           0.00647416,  0.02638594]],\n",
       "\n",
       "        [[ 0.04774828,  0.03250647,  0.07902618, ..., -0.07491555,\n",
       "          -0.00212661,  0.00336921],\n",
       "         [-0.03456483,  0.00517803, -0.0518989 , ...,  0.00466963,\n",
       "          -0.06259118, -0.02290152],\n",
       "         [ 0.00408582, -0.03625423, -0.0671321 , ...,  0.0563829 ,\n",
       "          -0.0144098 ,  0.0202029 ],\n",
       "         ...,\n",
       "         [-0.02218106,  0.02586291, -0.02006956, ...,  0.01143807,\n",
       "          -0.0619547 , -0.03954273],\n",
       "         [-0.07413485, -0.06746799, -0.00188639, ..., -0.02692974,\n",
       "          -0.04245403, -0.06840108],\n",
       "         [-0.04280347,  0.04798629,  0.00747844, ...,  0.04811812,\n",
       "          -0.01034951,  0.00959063]],\n",
       "\n",
       "        [[ 0.05293984, -0.02733481,  0.00300588, ...,  0.0018489 ,\n",
       "           0.03574006,  0.01465384],\n",
       "         [-0.04300106,  0.0314548 , -0.01489518, ..., -0.01574397,\n",
       "          -0.00562304,  0.02335459],\n",
       "         [ 0.02427918,  0.06775162, -0.03968547, ..., -0.06423901,\n",
       "          -0.03482863, -0.03679005],\n",
       "         ...,\n",
       "         [ 0.0455725 ,  0.04112639,  0.0191882 , ..., -0.06988182,\n",
       "           0.00843748, -0.07562967],\n",
       "         [-0.01663055, -0.0377441 , -0.0821681 , ...,  0.04839752,\n",
       "          -0.03552506, -0.01471319],\n",
       "         [-0.06853758, -0.03212009, -0.05457819, ..., -0.07264887,\n",
       "           0.05302937, -0.03251056]]]], dtype=float32)>"
      ]
     },
     "execution_count": 45,
     "metadata": {},
     "output_type": "execute_result"
    }
   ],
   "source": [
    "w2 = tf.Variable(initializer([3,3,32,64]))\n",
    "w2"
   ]
  },
  {
   "cell_type": "code",
   "execution_count": 46,
   "metadata": {},
   "outputs": [
    {
     "data": {
      "text/plain": [
       "TensorShape([Dimension(3), Dimension(3), Dimension(32), Dimension(64)])"
      ]
     },
     "execution_count": 46,
     "metadata": {},
     "output_type": "execute_result"
    }
   ],
   "source": [
    "w2.shape"
   ]
  },
  {
   "cell_type": "code",
   "execution_count": 48,
   "metadata": {
    "scrolled": true
   },
   "outputs": [
    {
     "data": {
      "text/plain": [
       "<tf.Tensor: id=119, shape=(1, 28, 28, 64), dtype=float32, numpy=\n",
       "array([[[[0., 0., 0., ..., 0., 0., 0.],\n",
       "         [0., 0., 0., ..., 0., 0., 0.],\n",
       "         [0., 0., 0., ..., 0., 0., 0.],\n",
       "         ...,\n",
       "         [0., 0., 0., ..., 0., 0., 0.],\n",
       "         [0., 0., 0., ..., 0., 0., 0.],\n",
       "         [0., 0., 0., ..., 0., 0., 0.]],\n",
       "\n",
       "        [[0., 0., 0., ..., 0., 0., 0.],\n",
       "         [0., 0., 0., ..., 0., 0., 0.],\n",
       "         [0., 0., 0., ..., 0., 0., 0.],\n",
       "         ...,\n",
       "         [0., 0., 0., ..., 0., 0., 0.],\n",
       "         [0., 0., 0., ..., 0., 0., 0.],\n",
       "         [0., 0., 0., ..., 0., 0., 0.]],\n",
       "\n",
       "        [[0., 0., 0., ..., 0., 0., 0.],\n",
       "         [0., 0., 0., ..., 0., 0., 0.],\n",
       "         [0., 0., 0., ..., 0., 0., 0.],\n",
       "         ...,\n",
       "         [0., 0., 0., ..., 0., 0., 0.],\n",
       "         [0., 0., 0., ..., 0., 0., 0.],\n",
       "         [0., 0., 0., ..., 0., 0., 0.]],\n",
       "\n",
       "        ...,\n",
       "\n",
       "        [[0., 0., 0., ..., 0., 0., 0.],\n",
       "         [0., 0., 0., ..., 0., 0., 0.],\n",
       "         [0., 0., 0., ..., 0., 0., 0.],\n",
       "         ...,\n",
       "         [0., 0., 0., ..., 0., 0., 0.],\n",
       "         [0., 0., 0., ..., 0., 0., 0.],\n",
       "         [0., 0., 0., ..., 0., 0., 0.]],\n",
       "\n",
       "        [[0., 0., 0., ..., 0., 0., 0.],\n",
       "         [0., 0., 0., ..., 0., 0., 0.],\n",
       "         [0., 0., 0., ..., 0., 0., 0.],\n",
       "         ...,\n",
       "         [0., 0., 0., ..., 0., 0., 0.],\n",
       "         [0., 0., 0., ..., 0., 0., 0.],\n",
       "         [0., 0., 0., ..., 0., 0., 0.]],\n",
       "\n",
       "        [[0., 0., 0., ..., 0., 0., 0.],\n",
       "         [0., 0., 0., ..., 0., 0., 0.],\n",
       "         [0., 0., 0., ..., 0., 0., 0.],\n",
       "         ...,\n",
       "         [0., 0., 0., ..., 0., 0., 0.],\n",
       "         [0., 0., 0., ..., 0., 0., 0.],\n",
       "         [0., 0., 0., ..., 0., 0., 0.]]]], dtype=float32)>"
      ]
     },
     "execution_count": 48,
     "metadata": {},
     "output_type": "execute_result"
    }
   ],
   "source": [
    "convolution_h2 = tf.nn.conv2d(convolution_h1, w2, strides=1, padding='SAME')\n",
    "convolution_h2 = tf.nn.relu(convolution_h2)\n",
    "convolution_h2"
   ]
  },
  {
   "cell_type": "code",
   "execution_count": 49,
   "metadata": {},
   "outputs": [],
   "source": [
    "convolution_h2_pool = tf.nn.max_pool(convolution_h2, ksize=2, strides=1, padding='SAME')\n",
    "convolution_h2_pool\n",
    "convolution_h2_pool = tf.nn.relu(convolution_h2_pool)"
   ]
  },
  {
   "cell_type": "code",
   "execution_count": 50,
   "metadata": {},
   "outputs": [
    {
     "data": {
      "text/plain": [
       "TensorShape([Dimension(1), Dimension(50176)])"
      ]
     },
     "execution_count": 50,
     "metadata": {},
     "output_type": "execute_result"
    }
   ],
   "source": [
    "convolution_h2_pool = tf.reshape(convolution_h2_pool, [-1, 28*28*64])\n",
    "convolution_h2_pool.shape"
   ]
  },
  {
   "cell_type": "code",
   "execution_count": 51,
   "metadata": {},
   "outputs": [
    {
     "data": {
      "text/plain": [
       "<tf.Variable 'Variable:0' shape=(50176, 512) dtype=float32, numpy=\n",
       "array([[-0.00705909,  0.00240814, -0.00800696, ..., -0.00153798,\n",
       "        -0.00431735, -0.00889795],\n",
       "       [ 0.00252997,  0.00051578, -0.00836821, ...,  0.01018371,\n",
       "        -0.00719598,  0.0063691 ],\n",
       "       [-0.00211763, -0.0070629 , -0.00308817, ...,  0.01052184,\n",
       "        -0.00273377, -0.00948332],\n",
       "       ...,\n",
       "       [-0.00109809,  0.0080992 , -0.00355953, ...,  0.00751135,\n",
       "        -0.00161035, -0.00194384],\n",
       "       [ 0.00134588, -0.01045921, -0.00318426, ...,  0.01044894,\n",
       "         0.01075066, -0.00859276],\n",
       "       [-0.00713949, -0.00689254,  0.00157806, ..., -0.00656143,\n",
       "         0.00219367,  0.00275343]], dtype=float32)>"
      ]
     },
     "execution_count": 51,
     "metadata": {},
     "output_type": "execute_result"
    }
   ],
   "source": [
    "w3 = tf.Variable(initializer([28*28*64,512]))\n",
    "w3"
   ]
  },
  {
   "cell_type": "code",
   "execution_count": 52,
   "metadata": {},
   "outputs": [
    {
     "data": {
      "text/plain": [
       "TensorShape([Dimension(50176), Dimension(512)])"
      ]
     },
     "execution_count": 52,
     "metadata": {},
     "output_type": "execute_result"
    }
   ],
   "source": [
    "w3.shape"
   ]
  },
  {
   "cell_type": "code",
   "execution_count": 53,
   "metadata": {},
   "outputs": [],
   "source": [
    "y_h1 = tf.matmul(convolution_h2_pool, w3)"
   ]
  },
  {
   "cell_type": "code",
   "execution_count": 54,
   "metadata": {},
   "outputs": [],
   "source": [
    "y_h1 = tf.nn.relu(y_h1)"
   ]
  },
  {
   "cell_type": "code",
   "execution_count": 55,
   "metadata": {},
   "outputs": [
    {
     "data": {
      "text/plain": [
       "<tf.Variable 'Variable:0' shape=(512, 10) dtype=float32, numpy=\n",
       "array([[-0.03573634, -0.01752803, -0.01719895, ..., -0.06164799,\n",
       "        -0.06687108,  0.0173765 ],\n",
       "       [-0.0982182 , -0.08953101,  0.06486902, ..., -0.08678447,\n",
       "        -0.05726721,  0.09505519],\n",
       "       [-0.10051002,  0.05766246,  0.03434197, ...,  0.00856848,\n",
       "         0.03363692, -0.08997028],\n",
       "       ...,\n",
       "       [ 0.02097655, -0.09291012,  0.09643451, ..., -0.09483682,\n",
       "        -0.01312555,  0.08271388],\n",
       "       [-0.02881762, -0.07486732, -0.0286447 , ..., -0.002996  ,\n",
       "        -0.10087708, -0.00242034],\n",
       "       [-0.09712148, -0.03079322,  0.03877085, ...,  0.07674529,\n",
       "        -0.0432678 ,  0.06639545]], dtype=float32)>"
      ]
     },
     "execution_count": 55,
     "metadata": {},
     "output_type": "execute_result"
    }
   ],
   "source": [
    "w4 = tf.Variable(initializer([512,10]))\n",
    "w4"
   ]
  },
  {
   "cell_type": "code",
   "execution_count": 56,
   "metadata": {},
   "outputs": [
    {
     "data": {
      "text/plain": [
       "<tf.Tensor: id=158, shape=(1, 10), dtype=float32, numpy=\n",
       "array([[-0.0506605 , -0.11531073, -0.02188369, -0.12630533,  0.02253403,\n",
       "        -0.02447609, -0.09609725,  0.04394361,  0.01409686,  0.0066078 ]],\n",
       "      dtype=float32)>"
      ]
     },
     "execution_count": 56,
     "metadata": {},
     "output_type": "execute_result"
    }
   ],
   "source": [
    "y_h2 = tf.matmul(y_h1, w4)\n",
    "y_h2"
   ]
  },
  {
   "cell_type": "code",
   "execution_count": 57,
   "metadata": {},
   "outputs": [
    {
     "data": {
      "text/plain": [
       "<tf.Tensor: id=159, shape=(1, 10), dtype=float32, numpy=\n",
       "array([[0.09826225, 0.09211057, 0.101131  , 0.0911034 , 0.10572427,\n",
       "        0.10086917, 0.09389745, 0.10801218, 0.10483601, 0.10405382]],\n",
       "      dtype=float32)>"
      ]
     },
     "execution_count": 57,
     "metadata": {},
     "output_type": "execute_result"
    }
   ],
   "source": [
    "y_h2 = tf.nn.softmax(y_h2)\n",
    "y_h2"
   ]
  },
  {
   "cell_type": "markdown",
   "metadata": {},
   "source": [
    "## MNIST"
   ]
  },
  {
   "cell_type": "code",
   "execution_count": 58,
   "metadata": {},
   "outputs": [
    {
     "data": {
      "text/plain": [
       "55000"
      ]
     },
     "execution_count": 58,
     "metadata": {},
     "output_type": "execute_result"
    }
   ],
   "source": [
    "mnist.train.num_examples"
   ]
  },
  {
   "cell_type": "code",
   "execution_count": 59,
   "metadata": {},
   "outputs": [
    {
     "data": {
      "text/plain": [
       "550"
      ]
     },
     "execution_count": 59,
     "metadata": {},
     "output_type": "execute_result"
    }
   ],
   "source": [
    "batch_size = 100\n",
    "total_batch = int(mnist.train.num_examples / batch_size)\n",
    "total_batch"
   ]
  },
  {
   "cell_type": "code",
   "execution_count": 60,
   "metadata": {},
   "outputs": [],
   "source": [
    "optimizer = tf.train.AdamOptimizer(0.001)"
   ]
  },
  {
   "cell_type": "code",
   "execution_count": 66,
   "metadata": {},
   "outputs": [
    {
     "name": "stdout",
     "output_type": "stream",
     "text": [
      "step: 0 cost: 0.10388487577438354\n",
      "step: 1 cost: 0.030986348167061806\n",
      "step: 2 cost: 0.019309470430016518\n",
      "step: 3 cost: 0.009975263848900795\n",
      "step: 4 cost: 0.008444835431873798\n"
     ]
    }
   ],
   "source": [
    "for step in range(5):\n",
    "    total_cost= 0\n",
    "    for i in range(total_batch):\n",
    "        X, y = mnist.train.next_batch(batch_size)\n",
    "        X = X.reshape(-1,28,28,1)\n",
    "        with tf.GradientTape() as tape:\n",
    "            convolution_h1 = tf.nn.conv2d(X, w1, strides=1, padding='SAME')\n",
    "            convolution_h1 = tf.nn.relu(convolution_h1)\n",
    "            convolution_h2 = tf.nn.conv2d(convolution_h1, w2, strides=1, padding='SAME')\n",
    "            convolution_h2 = tf.nn.relu(convolution_h2)\n",
    "            convolution_h2_pool = tf.nn.max_pool(convolution_h2, ksize=2, strides=1, padding='SAME')\n",
    "            convolution_h2_pool = tf.nn.relu(convolution_h2_pool)\n",
    "            convolution_h2_pool = tf.reshape(convolution_h2_pool,[-1,28*28*64])\n",
    "            y_h1 = tf.matmul(convolution_h2_pool, w3)\n",
    "            y_h1 = tf.nn.relu(y_h1)\n",
    "            y_h2 = tf.matmul(y_h1, w4)\n",
    "            y_h2 = tf.nn.softmax(y_h2)\n",
    "            cost = -tf.reduce_sum(y * tf.log(y_h2))/len(y_h2)\n",
    "            grads = tape.gradient(cost, [w1,w2,w3,w4])\n",
    "        optimizer.apply_gradients(grads_and_vars=zip(grads,[w1,w2,w3,w4]))\n",
    "        total_cost += cost\n",
    "    print(f'step: {step} cost: {total_cost/total_batch}')"
   ]
  },
  {
   "cell_type": "code",
   "execution_count": 82,
   "metadata": {},
   "outputs": [],
   "source": [
    "test_images = mnist.test.images[0:100]\n",
    "test_labels = mnist.test.labels[0:100]\n",
    "test_images = test_images.reshape(-1,28,28,1)"
   ]
  },
  {
   "cell_type": "code",
   "execution_count": 93,
   "metadata": {},
   "outputs": [],
   "source": [
    "convolution_h1 = tf.nn.conv2d(test_images, w1, strides=1, padding='SAME')\n",
    "convolution_h1 = tf.nn.relu(convolution_h1)\n",
    "convolution_h2 = tf.nn.conv2d(convolution_h1, w2, strides=1, padding='SAME')\n",
    "convolution_h2 = tf.nn.relu(convolution_h2)\n",
    "convolution_h2_pool = tf.nn.max_pool(convolution_h2, ksize=2, strides=1, padding='SAME')\n",
    "convolution_h2_pool = tf.nn.relu(convolution_h2_pool)\n",
    "convolution_h2_pool = tf.reshape(convolution_h2_pool,[-1,28*28*64])\n",
    "y_h1 = tf.matmul(convolution_h2_pool, w3)\n",
    "y_h1 = tf.nn.relu(y_h1)\n",
    "y_h2 = tf.matmul(y_h1, w4)\n",
    "predict = tf.nn.softmax(y_h2)"
   ]
  },
  {
   "cell_type": "code",
   "execution_count": 94,
   "metadata": {
    "scrolled": true
   },
   "outputs": [
    {
     "data": {
      "text/plain": [
       "<tf.Tensor: id=244236, shape=(100, 10), dtype=float32, numpy=\n",
       "array([[4.27163357e-14, 4.51023463e-12, 7.38754891e-11, 3.52524954e-10,\n",
       "        2.76918706e-13, 7.74049715e-13, 1.00661201e-18, 1.00000000e+00,\n",
       "        1.15132838e-12, 5.00797293e-10],\n",
       "       [4.38749080e-12, 5.11595211e-09, 1.00000000e+00, 1.99357590e-15,\n",
       "        1.61411835e-14, 2.35068453e-21, 7.00796349e-17, 9.55113928e-15,\n",
       "        6.99138559e-16, 5.33168541e-16],\n",
       "       [2.28968559e-12, 1.00000000e+00, 2.26045960e-09, 3.71502755e-14,\n",
       "        3.81311835e-08, 1.91899807e-09, 2.19473842e-10, 5.81768340e-08,\n",
       "        1.20341532e-11, 1.65333347e-09],\n",
       "       [9.99993563e-01, 6.73204770e-10, 5.66928338e-06, 3.53125196e-09,\n",
       "        4.89002838e-10, 3.58581047e-11, 1.94932709e-10, 7.43588480e-09,\n",
       "        9.52160395e-09, 6.77278138e-07],\n",
       "       [9.86700144e-09, 6.00073324e-09, 1.01314965e-08, 2.97077363e-11,\n",
       "        9.97248471e-01, 1.86218291e-10, 8.32385449e-09, 2.60359201e-09,\n",
       "        2.27685689e-07, 2.75123748e-03],\n",
       "       [7.54354391e-12, 9.99999642e-01, 1.73896175e-09, 2.38516109e-14,\n",
       "        2.05652512e-07, 1.01632802e-09, 5.85782395e-11, 1.66317903e-07,\n",
       "        1.26119032e-10, 1.21140731e-09],\n",
       "       [1.03186448e-13, 2.75989276e-08, 2.78130796e-10, 5.19256032e-14,\n",
       "        9.99996185e-01, 2.95841157e-10, 1.03593327e-12, 6.43371356e-10,\n",
       "        3.71246074e-06, 8.02343507e-08],\n",
       "       [2.91955168e-15, 2.59017530e-10, 9.86182733e-11, 3.17568324e-12,\n",
       "        5.39404041e-08, 2.28878388e-10, 2.50450405e-15, 2.22286436e-13,\n",
       "        1.16024836e-07, 9.99999881e-01],\n",
       "       [5.88044713e-05, 2.65035055e-07, 6.67602592e-07, 1.13890074e-07,\n",
       "        3.13001851e-06, 9.60934460e-01, 2.64419187e-02, 1.34224865e-09,\n",
       "        1.25276176e-02, 3.30259136e-05],\n",
       "       [8.88531599e-14, 1.61139223e-13, 6.40799154e-13, 5.59177843e-11,\n",
       "        2.71512567e-06, 1.92276617e-09, 2.13109833e-17, 1.08907251e-07,\n",
       "        3.62883803e-08, 9.99997139e-01],\n",
       "       [9.99999523e-01, 2.64306589e-13, 3.50916940e-09, 2.09456237e-12,\n",
       "        3.45157659e-13, 3.75216995e-14, 8.57016823e-13, 2.31102470e-09,\n",
       "        5.37357003e-09, 4.41623911e-07],\n",
       "       [1.75365415e-06, 7.77954697e-12, 1.33283900e-12, 2.47166090e-11,\n",
       "        7.57115117e-12, 9.79861614e-09, 9.99998212e-01, 1.04715204e-11,\n",
       "        4.25696770e-11, 2.70449375e-12],\n",
       "       [1.03241349e-13, 1.34329153e-13, 2.85953921e-12, 1.89521496e-10,\n",
       "        1.95786200e-07, 1.01446448e-10, 3.67976396e-15, 1.07755652e-10,\n",
       "        3.43802498e-08, 9.99999762e-01],\n",
       "       [1.00000000e+00, 1.26750043e-12, 1.37447331e-09, 6.55540943e-12,\n",
       "        3.54160603e-14, 1.40248070e-13, 2.31301545e-12, 1.56144042e-10,\n",
       "        2.12189799e-09, 4.41700507e-08],\n",
       "       [1.15829638e-14, 1.00000000e+00, 7.10610173e-13, 8.80990905e-14,\n",
       "        6.55050111e-11, 4.94813175e-12, 2.07732716e-13, 6.62658405e-13,\n",
       "        6.11980464e-13, 2.64609151e-11],\n",
       "       [2.54267941e-14, 5.27175352e-11, 9.28435727e-14, 3.06724942e-05,\n",
       "        1.06804172e-14, 9.99969363e-01, 1.47616999e-13, 2.44767429e-10,\n",
       "        2.85062113e-11, 4.57296707e-08],\n",
       "       [2.96605882e-12, 4.28120733e-15, 5.08405054e-11, 8.41664238e-11,\n",
       "        4.05829592e-10, 2.16493013e-12, 9.22259320e-16, 9.55302171e-10,\n",
       "        3.52927643e-08, 1.00000000e+00],\n",
       "       [1.72804127e-13, 5.66862367e-13, 7.03265335e-10, 1.74446291e-10,\n",
       "        4.55920403e-13, 4.77274036e-13, 4.88001923e-20, 1.00000000e+00,\n",
       "        2.58902799e-15, 9.13864096e-10],\n",
       "       [1.48429158e-10, 2.44695215e-08, 2.14318902e-06, 9.99991775e-01,\n",
       "        1.70557488e-08, 5.94398216e-06, 3.62229871e-15, 3.57135299e-08,\n",
       "        7.92528212e-08, 4.92015033e-08],\n",
       "       [2.04986399e-15, 9.92458962e-11, 1.29510127e-11, 1.17304018e-16,\n",
       "        1.00000000e+00, 4.29068239e-11, 5.21388505e-15, 9.07575542e-11,\n",
       "        4.84987224e-12, 3.83189563e-10],\n",
       "       [8.29620313e-12, 1.76156845e-09, 1.61917372e-11, 3.87203372e-08,\n",
       "        1.15035891e-06, 3.44284217e-07, 3.70197274e-15, 8.66724747e-07,\n",
       "        1.53191863e-07, 9.99997497e-01],\n",
       "       [1.71281744e-09, 4.76109169e-12, 2.61856942e-12, 4.85162648e-12,\n",
       "        4.05703887e-10, 6.51560913e-06, 9.99993443e-01, 1.28349791e-15,\n",
       "        7.68232056e-09, 3.06749959e-10],\n",
       "       [9.85476367e-10, 1.45594942e-11, 2.66030247e-14, 1.05564361e-13,\n",
       "        1.26230146e-08, 4.29928185e-12, 1.00000000e+00, 1.23160111e-11,\n",
       "        8.72700621e-14, 9.74212599e-10],\n",
       "       [3.57408364e-14, 1.77767696e-12, 8.40608456e-15, 2.03871475e-09,\n",
       "        1.39183465e-13, 1.00000000e+00, 8.77191098e-11, 8.63683233e-16,\n",
       "        9.60532626e-11, 2.22742411e-08],\n",
       "       [3.19717204e-11, 4.82668350e-09, 1.22242971e-08, 4.02045064e-12,\n",
       "        9.99964476e-01, 2.73191914e-10, 8.53402418e-11, 2.16883329e-08,\n",
       "        1.40338896e-09, 3.55394695e-05],\n",
       "       [1.00000000e+00, 1.76340572e-12, 3.03897418e-09, 1.45332390e-12,\n",
       "        2.27399377e-10, 7.89782614e-11, 2.95302938e-09, 6.16464879e-10,\n",
       "        1.09396137e-08, 8.71175687e-10],\n",
       "       [1.16904841e-09, 1.43230297e-11, 9.53256940e-09, 1.27251665e-09,\n",
       "        5.63856531e-11, 1.98195280e-10, 2.29638996e-16, 9.99986649e-01,\n",
       "        6.18274709e-10, 1.33934200e-05],\n",
       "       [5.75708643e-14, 1.30961301e-11, 5.24732428e-12, 6.04541814e-16,\n",
       "        1.00000000e+00, 1.05618240e-11, 1.00615677e-15, 7.54722673e-13,\n",
       "        4.13960199e-10, 4.93361938e-08],\n",
       "       [9.99997020e-01, 1.71880829e-10, 2.85623150e-06, 1.39941703e-09,\n",
       "        3.27924428e-12, 1.83999127e-12, 1.23138479e-13, 3.44430795e-09,\n",
       "        7.08137833e-08, 4.04451761e-08],\n",
       "       [5.86113449e-12, 9.99998689e-01, 1.08133094e-07, 9.80822645e-10,\n",
       "        1.24727489e-06, 1.63713529e-10, 2.43150066e-11, 4.74078954e-09,\n",
       "        3.95166566e-10, 5.77583537e-09],\n",
       "       [1.57631218e-18, 5.00021235e-14, 1.60995213e-14, 1.00000000e+00,\n",
       "        3.45647786e-14, 7.89007193e-11, 2.52822544e-21, 4.49935922e-11,\n",
       "        2.34516345e-13, 2.56710497e-09],\n",
       "       [2.96505598e-11, 9.99998927e-01, 9.68641061e-08, 3.52079581e-11,\n",
       "        6.79494406e-07, 2.27128760e-09, 8.52223223e-11, 9.01128203e-08,\n",
       "        3.88239840e-09, 1.45463645e-07],\n",
       "       [1.12643202e-18, 4.20930435e-12, 2.83538113e-13, 1.00000000e+00,\n",
       "        4.48313600e-14, 2.58303184e-10, 2.86549168e-19, 1.89950182e-12,\n",
       "        2.43897025e-13, 4.05756644e-11],\n",
       "       [1.63605493e-02, 2.69634644e-08, 3.70913682e-07, 1.32662936e-10,\n",
       "        9.83633339e-01, 1.48578916e-09, 3.14809405e-08, 5.67331244e-06,\n",
       "        6.03434469e-10, 1.46709198e-07],\n",
       "       [1.82916575e-13, 1.08848064e-09, 7.79265263e-10, 6.42549680e-10,\n",
       "        1.30206487e-13, 6.37486009e-14, 4.88648799e-18, 1.00000000e+00,\n",
       "        3.69416719e-11, 2.76685230e-10],\n",
       "       [1.28916045e-09, 1.60942868e-08, 9.99999881e-01, 8.94292917e-10,\n",
       "        7.37599543e-13, 1.74809700e-17, 8.92940693e-15, 2.03673120e-10,\n",
       "        7.67348496e-08, 7.85137025e-11],\n",
       "       [3.52670289e-11, 4.37105734e-11, 1.08321465e-05, 7.52320845e-11,\n",
       "        9.74574046e-13, 1.02807459e-15, 5.12138950e-18, 9.99989152e-01,\n",
       "        1.07291780e-11, 1.25613495e-11],\n",
       "       [1.71756945e-12, 9.99999881e-01, 5.24087773e-10, 3.03459460e-13,\n",
       "        1.16404763e-07, 1.21238714e-10, 3.44156756e-12, 3.41705935e-08,\n",
       "        5.62080417e-11, 7.11980030e-10],\n",
       "       [4.27550139e-12, 9.72279182e-08, 9.99999881e-01, 5.93771490e-11,\n",
       "        1.19356388e-13, 6.31521957e-18, 1.17643620e-17, 5.89460147e-10,\n",
       "        2.90065086e-12, 5.37705731e-13],\n",
       "       [3.25421244e-12, 1.00000000e+00, 1.09692713e-10, 2.31864936e-14,\n",
       "        1.92427962e-09, 3.50135003e-12, 5.12402308e-11, 1.01079830e-11,\n",
       "        4.99373633e-12, 1.03783884e-10],\n",
       "       [1.26550603e-10, 9.99999642e-01, 5.83446891e-09, 7.25621603e-12,\n",
       "        2.12895728e-07, 2.08338191e-09, 2.35725189e-10, 1.66681048e-07,\n",
       "        3.76894044e-10, 7.35468353e-09],\n",
       "       [6.50421774e-13, 6.34236996e-10, 1.70314934e-06, 1.96901311e-07,\n",
       "        1.70084658e-11, 2.36337615e-13, 1.83465814e-17, 9.99998093e-01,\n",
       "        1.79712439e-14, 1.09285645e-11],\n",
       "       [2.82280268e-16, 2.55060140e-10, 3.86360156e-16, 1.09652227e-15,\n",
       "        9.99999642e-01, 1.88661088e-12, 4.37797144e-14, 1.67096003e-12,\n",
       "        1.70815348e-12, 3.72424807e-07],\n",
       "       [1.22038146e-09, 7.12220848e-04, 9.95832384e-01, 1.50359153e-06,\n",
       "        3.45371873e-03, 1.70708239e-10, 2.68134652e-08, 7.32605017e-08,\n",
       "        7.48904316e-09, 1.01037845e-08],\n",
       "       [9.81790170e-13, 2.28234653e-09, 3.97998789e-08, 1.00000000e+00,\n",
       "        8.80569839e-09, 2.88198425e-08, 3.03447758e-14, 1.75191950e-09,\n",
       "        2.15832324e-10, 8.70365646e-09],\n",
       "       [6.48285299e-13, 2.54567011e-13, 1.09681979e-15, 1.88242241e-10,\n",
       "        1.67699903e-15, 1.00000000e+00, 1.06903250e-10, 3.85264042e-15,\n",
       "        1.54399410e-10, 5.39384271e-09],\n",
       "       [1.11547978e-12, 9.99999642e-01, 2.82845576e-07, 6.20276608e-10,\n",
       "        6.07102351e-08, 2.28944572e-11, 2.25421542e-13, 2.00174842e-11,\n",
       "        5.68911251e-10, 2.84560908e-09],\n",
       "       [1.23609755e-16, 7.72238447e-14, 1.00000000e+00, 2.14089152e-16,\n",
       "        1.82286678e-15, 4.93228102e-24, 2.13049383e-18, 2.41020888e-18,\n",
       "        6.47320578e-16, 6.92638717e-20],\n",
       "       [6.56981197e-13, 2.32630049e-09, 2.29397456e-11, 1.94307851e-12,\n",
       "        9.99992132e-01, 6.60282273e-10, 1.58600861e-13, 1.03938280e-08,\n",
       "        4.41057013e-09, 7.81618564e-06],\n",
       "       [1.84740339e-13, 2.74206547e-12, 1.06321731e-11, 1.67318907e-15,\n",
       "        9.99979973e-01, 5.79070646e-13, 8.32108396e-15, 1.85343338e-11,\n",
       "        8.96852703e-10, 2.00834074e-05],\n",
       "       [2.48354422e-06, 1.43306508e-07, 6.28187706e-08, 2.26870478e-09,\n",
       "        1.08746345e-09, 1.31135187e-06, 9.99995947e-01, 9.38808818e-13,\n",
       "        1.12532028e-09, 2.12197732e-10],\n",
       "       [1.10873258e-16, 6.03791377e-13, 6.07293599e-12, 1.00000000e+00,\n",
       "        2.02425121e-12, 4.20429178e-11, 2.60677761e-22, 1.36413869e-09,\n",
       "        1.33793042e-12, 1.61189562e-12],\n",
       "       [2.33677120e-15, 2.79436847e-13, 1.79088284e-18, 4.06362499e-10,\n",
       "        2.20174847e-14, 1.00000000e+00, 2.31050227e-12, 1.40525797e-16,\n",
       "        4.19239227e-11, 2.40783865e-10],\n",
       "       [4.00467521e-15, 4.79431761e-13, 4.00616872e-17, 3.81955800e-09,\n",
       "        6.32248473e-15, 9.99999881e-01, 9.30540584e-13, 1.13208657e-13,\n",
       "        5.11996799e-11, 9.50756842e-08],\n",
       "       [2.47510679e-09, 2.42861959e-12, 2.11074152e-16, 2.04825306e-12,\n",
       "        6.66395548e-15, 1.43208378e-08, 1.00000000e+00, 7.94670376e-16,\n",
       "        3.53178099e-12, 9.46716443e-15],\n",
       "       [1.00000000e+00, 3.88762763e-12, 4.47155912e-09, 9.06922518e-16,\n",
       "        1.24538450e-15, 5.03876395e-15, 4.88379844e-13, 1.15560317e-12,\n",
       "        4.65096273e-09, 7.16837492e-11],\n",
       "       [1.74000642e-14, 8.81079151e-12, 1.08845143e-13, 5.85376463e-17,\n",
       "        1.00000000e+00, 1.42284092e-11, 2.24313883e-12, 3.70212888e-12,\n",
       "        3.36390499e-11, 2.01371431e-09],\n",
       "       [1.16667385e-12, 9.99999523e-01, 2.29332886e-09, 5.79239288e-15,\n",
       "        4.80477581e-07, 7.12204878e-11, 8.02442574e-12, 1.32701432e-08,\n",
       "        1.99603702e-11, 5.01082731e-10],\n",
       "       [9.89504567e-15, 4.72386357e-16, 1.81666357e-12, 1.74477728e-12,\n",
       "        4.90636793e-08, 5.06911700e-12, 6.71539177e-18, 8.22517332e-10,\n",
       "        2.55519411e-10, 1.00000000e+00],\n",
       "       [2.27979944e-11, 8.86161700e-10, 1.23512637e-13, 1.66888059e-09,\n",
       "        4.18197743e-08, 9.99996424e-01, 4.07879503e-12, 2.23339228e-07,\n",
       "        1.62661127e-06, 1.67377641e-06],\n",
       "       [5.96513453e-13, 3.02088202e-15, 5.73595234e-11, 6.52913348e-11,\n",
       "        4.46719755e-15, 1.63402000e-11, 6.69106721e-20, 1.00000000e+00,\n",
       "        1.22279762e-15, 2.87988389e-09],\n",
       "       [8.76601985e-11, 3.61064531e-13, 4.90104185e-07, 5.84532284e-11,\n",
       "        4.09683219e-13, 5.01321762e-10, 6.03990904e-15, 5.06287991e-13,\n",
       "        9.99999523e-01, 1.69770455e-08],\n",
       "       [1.84667641e-08, 4.46115589e-09, 4.27643698e-09, 1.49851935e-08,\n",
       "        2.91749096e-08, 8.57340917e-03, 2.64712448e-08, 7.86765668e-07,\n",
       "        1.06524749e-04, 9.91319120e-01],\n",
       "       [5.87009131e-12, 7.98609978e-09, 4.68157697e-04, 9.99528766e-01,\n",
       "        1.05891337e-11, 5.98414460e-12, 2.78032506e-18, 3.18442375e-08,\n",
       "        3.09431562e-06, 5.81821489e-08],\n",
       "       [4.63875112e-18, 1.43023560e-12, 2.23153718e-11, 1.27829241e-08,\n",
       "        8.79469067e-12, 8.72398958e-15, 1.22961314e-22, 1.00000000e+00,\n",
       "        1.10914407e-14, 1.60191934e-12],\n",
       "       [1.00315381e-11, 9.39622637e-08, 1.95858996e-09, 8.69547164e-13,\n",
       "        9.99997735e-01, 2.44344083e-08, 3.08236401e-13, 6.15064666e-10,\n",
       "        1.14910526e-09, 2.19384447e-06],\n",
       "       [1.32440093e-07, 3.66575792e-09, 1.35031101e-11, 4.93307261e-12,\n",
       "        1.28680027e-08, 9.21183442e-12, 9.99999881e-01, 2.24915708e-09,\n",
       "        1.63763198e-12, 1.56116489e-08],\n",
       "       [1.09266318e-09, 1.03727542e-08, 2.68103495e-09, 7.48345017e-13,\n",
       "        9.99921322e-01, 2.91066357e-07, 1.82118501e-10, 6.02477124e-10,\n",
       "        1.59482994e-07, 7.82718344e-05],\n",
       "       [3.60484940e-15, 1.43455373e-10, 1.48647955e-10, 1.00000000e+00,\n",
       "        8.59404301e-12, 8.49331216e-10, 3.96165230e-19, 2.65602136e-08,\n",
       "        2.74783130e-09, 6.09400530e-09],\n",
       "       [1.00000000e+00, 2.80296206e-17, 2.23629424e-13, 1.78798880e-14,\n",
       "        6.34075299e-20, 9.46058553e-13, 1.02924769e-14, 1.74860763e-13,\n",
       "        1.02407134e-12, 2.40981985e-13],\n",
       "       [2.46604833e-14, 2.66911432e-15, 1.50610809e-11, 3.79013010e-13,\n",
       "        7.71718335e-15, 6.61918809e-15, 1.40945265e-21, 1.00000000e+00,\n",
       "        5.37329164e-18, 4.62931915e-11],\n",
       "       [1.00000000e+00, 9.39433739e-14, 4.28661107e-10, 2.18202111e-13,\n",
       "        5.05401283e-14, 5.36959130e-15, 6.14354596e-13, 1.39228809e-10,\n",
       "        5.26104937e-10, 6.31160058e-09],\n",
       "       [1.75141910e-08, 8.57605029e-11, 9.99999881e-01, 6.72085818e-08,\n",
       "        1.34855682e-13, 1.70871013e-17, 1.10884130e-18, 2.17505280e-09,\n",
       "        1.45358179e-08, 4.29034863e-10],\n",
       "       [9.50203024e-12, 4.09824313e-10, 2.04812431e-10, 6.28669339e-11,\n",
       "        6.41445841e-10, 1.20089884e-11, 5.67104481e-19, 3.86525699e-07,\n",
       "        5.58824504e-05, 9.99943733e-01],\n",
       "       [2.25945269e-11, 9.99999881e-01, 1.47384008e-10, 7.82415365e-13,\n",
       "        1.47689136e-07, 1.37110590e-09, 3.74329179e-11, 8.40126901e-09,\n",
       "        1.49239041e-11, 2.21906049e-09],\n",
       "       [3.04601092e-18, 1.28307321e-11, 1.76291898e-11, 3.13127441e-10,\n",
       "        1.18328403e-10, 1.75197097e-15, 2.30880003e-21, 1.00000000e+00,\n",
       "        1.35813805e-14, 3.59459199e-11],\n",
       "       [1.52993192e-17, 1.28532671e-11, 7.81694655e-14, 1.00000000e+00,\n",
       "        2.94666266e-15, 5.66949709e-10, 1.62708195e-18, 4.06324483e-14,\n",
       "        1.38091632e-13, 7.57459540e-10],\n",
       "       [2.76182899e-09, 9.18711704e-11, 1.00000000e+00, 7.30727371e-12,\n",
       "        8.32835252e-14, 4.34752974e-16, 2.10549602e-18, 1.60831726e-09,\n",
       "        1.70088318e-10, 8.16458567e-11],\n",
       "       [8.72340034e-10, 2.22860152e-07, 1.30500517e-08, 5.29583888e-09,\n",
       "        1.87858590e-03, 4.95071220e-08, 1.07926499e-13, 2.34368713e-07,\n",
       "        1.42065284e-04, 9.97978866e-01],\n",
       "       [1.28809489e-11, 9.91422014e-11, 5.72022785e-08, 3.41913911e-08,\n",
       "        3.03331284e-11, 8.41805011e-12, 2.98179156e-17, 9.99999881e-01,\n",
       "        1.96914596e-09, 5.28876178e-08],\n",
       "       [1.41550693e-09, 3.41419204e-09, 1.65868108e-09, 8.12686751e-10,\n",
       "        5.91547655e-09, 2.36898803e-08, 1.49378040e-15, 9.99958158e-01,\n",
       "        2.40755060e-09, 4.18253767e-05],\n",
       "       [4.19696107e-06, 4.87526197e-09, 2.62580624e-09, 5.23732036e-09,\n",
       "        4.57923387e-11, 1.00002268e-07, 9.99995708e-01, 2.26933368e-11,\n",
       "        2.79169985e-08, 2.02424264e-08],\n",
       "       [3.25071509e-15, 1.25084327e-11, 1.00000000e+00, 4.75465240e-12,\n",
       "        6.75950185e-16, 5.30628850e-21, 4.10963879e-20, 3.80282784e-11,\n",
       "        3.73318509e-13, 1.92194825e-15],\n",
       "       [5.18098203e-11, 1.24589037e-11, 2.68384315e-10, 1.04199399e-10,\n",
       "        8.50157167e-11, 1.04030798e-10, 4.68829931e-16, 9.99999762e-01,\n",
       "        7.91391397e-11, 1.97693780e-07],\n",
       "       [4.25786871e-11, 2.62046773e-10, 1.17041388e-09, 6.48503612e-11,\n",
       "        1.05841134e-10, 2.02471750e-09, 1.33366296e-08, 1.79321862e-13,\n",
       "        1.00000000e+00, 2.30728534e-10],\n",
       "       [3.86964698e-14, 2.08952189e-10, 5.44148927e-13, 4.53673017e-16,\n",
       "        1.00000000e+00, 9.31146653e-12, 6.59679424e-14, 4.51191695e-10,\n",
       "        4.99521570e-11, 5.27586330e-09],\n",
       "       [3.21157966e-12, 5.50407553e-10, 8.31662739e-09, 1.58782605e-08,\n",
       "        1.10032539e-11, 9.84015994e-12, 1.48784150e-17, 1.00000000e+00,\n",
       "        2.01923631e-10, 1.78646715e-08],\n",
       "       [6.25430366e-15, 4.93130370e-10, 1.06490718e-08, 9.99998808e-01,\n",
       "        1.58840796e-09, 3.92519406e-10, 8.09079571e-16, 1.16907779e-06,\n",
       "        1.12616290e-13, 2.28465406e-11],\n",
       "       [3.40495999e-11, 1.21300986e-13, 3.39870005e-14, 4.18699556e-16,\n",
       "        1.58586019e-10, 4.60373249e-14, 1.00000000e+00, 7.01988110e-14,\n",
       "        7.30467068e-15, 1.73330304e-13],\n",
       "       [6.02735709e-11, 1.00000000e+00, 7.70129649e-09, 2.53695762e-11,\n",
       "        4.39974901e-09, 2.94339109e-09, 1.13869192e-09, 1.02347979e-08,\n",
       "        3.05756462e-11, 1.53409929e-09],\n",
       "       [4.07971765e-17, 4.16699485e-14, 3.08778881e-14, 1.00000000e+00,\n",
       "        2.99081135e-19, 4.25295840e-11, 1.28416357e-21, 2.66658660e-14,\n",
       "        5.23518512e-13, 2.78948791e-11],\n",
       "       [3.51042972e-09, 1.46609287e-11, 1.03118816e-12, 4.44034393e-12,\n",
       "        9.82694204e-11, 2.84273103e-08, 1.00000000e+00, 2.82604536e-17,\n",
       "        4.85796903e-10, 1.49514082e-10],\n",
       "       [2.06790852e-11, 3.10527611e-07, 3.43770068e-10, 5.83064916e-11,\n",
       "        9.95941227e-04, 1.79419899e-07, 2.70100327e-12, 6.59187052e-08,\n",
       "        2.50458470e-06, 9.99000967e-01],\n",
       "       [7.67318013e-13, 9.92869786e-09, 9.73817277e-11, 9.99960780e-01,\n",
       "        5.78104731e-10, 8.96296513e-07, 1.07377008e-18, 5.13680209e-09,\n",
       "        3.65403396e-09, 3.82612452e-05],\n",
       "       [6.02211098e-13, 1.00000000e+00, 8.91230112e-09, 7.22603333e-14,\n",
       "        2.89974444e-08, 3.63313810e-14, 7.66011495e-13, 2.08090801e-13,\n",
       "        1.22027449e-11, 3.30664628e-11],\n",
       "       [5.05320543e-07, 4.44518264e-06, 5.90103866e-07, 2.91099866e-10,\n",
       "        9.98735130e-01, 3.15797024e-08, 2.63250200e-07, 5.09713161e-08,\n",
       "        2.92934456e-05, 1.22973160e-03],\n",
       "       [2.04484402e-10, 9.99983072e-01, 5.82752705e-07, 2.59338204e-08,\n",
       "        4.06200297e-06, 1.05812103e-06, 1.73485393e-10, 4.78905122e-07,\n",
       "        2.68839671e-08, 1.07828555e-05],\n",
       "       [3.69826655e-15, 3.18406919e-08, 5.17556218e-05, 1.17333194e-07,\n",
       "        2.48303058e-06, 1.06024792e-12, 9.83113886e-17, 9.99945641e-01,\n",
       "        1.52443072e-10, 9.34739699e-13],\n",
       "       [6.13711658e-04, 2.60457655e-09, 5.04876425e-08, 2.83803581e-09,\n",
       "        1.23050958e-09, 4.08000567e-08, 9.99377668e-01, 1.99904524e-12,\n",
       "        8.45196064e-06, 1.01937658e-07],\n",
       "       [3.48049078e-15, 8.78502802e-17, 4.59753980e-13, 5.37131277e-11,\n",
       "        2.29256544e-12, 8.23190528e-14, 3.51406099e-20, 6.27237498e-11,\n",
       "        2.04656514e-09, 1.00000000e+00]], dtype=float32)>"
      ]
     },
     "execution_count": 94,
     "metadata": {},
     "output_type": "execute_result"
    }
   ],
   "source": [
    "predict"
   ]
  },
  {
   "cell_type": "code",
   "execution_count": 95,
   "metadata": {},
   "outputs": [
    {
     "data": {
      "text/plain": [
       "<tf.Tensor: id=244238, shape=(100,), dtype=int64, numpy=\n",
       "array([7, 2, 1, 0, 4, 1, 4, 9, 5, 9, 0, 6, 9, 0, 1, 5, 9, 7, 3, 4, 9, 6,\n",
       "       6, 5, 4, 0, 7, 4, 0, 1, 3, 1, 3, 4, 7, 2, 7, 1, 2, 1, 1, 7, 4, 2,\n",
       "       3, 5, 1, 2, 4, 4, 6, 3, 5, 5, 6, 0, 4, 1, 9, 5, 7, 8, 9, 3, 7, 4,\n",
       "       6, 4, 3, 0, 7, 0, 2, 9, 1, 7, 3, 2, 9, 7, 7, 6, 2, 7, 8, 4, 7, 3,\n",
       "       6, 1, 3, 6, 9, 3, 1, 4, 1, 7, 6, 9], dtype=int64)>"
      ]
     },
     "execution_count": 95,
     "metadata": {},
     "output_type": "execute_result"
    }
   ],
   "source": [
    "predict01 = tf.argmax(predict,1)\n",
    "predict01"
   ]
  },
  {
   "cell_type": "code",
   "execution_count": 96,
   "metadata": {},
   "outputs": [
    {
     "data": {
      "text/plain": [
       "<tf.Tensor: id=244241, shape=(100,), dtype=int64, numpy=\n",
       "array([7, 2, 1, 0, 4, 1, 4, 9, 5, 9, 0, 6, 9, 0, 1, 5, 9, 7, 3, 4, 9, 6,\n",
       "       6, 5, 4, 0, 7, 4, 0, 1, 3, 1, 3, 4, 7, 2, 7, 1, 2, 1, 1, 7, 4, 2,\n",
       "       3, 5, 1, 2, 4, 4, 6, 3, 5, 5, 6, 0, 4, 1, 9, 5, 7, 8, 9, 3, 7, 4,\n",
       "       6, 4, 3, 0, 7, 0, 2, 9, 1, 7, 3, 2, 9, 7, 7, 6, 2, 7, 8, 4, 7, 3,\n",
       "       6, 1, 3, 6, 9, 3, 1, 4, 1, 7, 6, 9], dtype=int64)>"
      ]
     },
     "execution_count": 96,
     "metadata": {},
     "output_type": "execute_result"
    }
   ],
   "source": [
    "target = tf.argmax(test_labels, 1)\n",
    "target"
   ]
  },
  {
   "cell_type": "code",
   "execution_count": 97,
   "metadata": {},
   "outputs": [
    {
     "data": {
      "text/plain": [
       "<tf.Tensor: id=244242, shape=(100,), dtype=bool, numpy=\n",
       "array([ True,  True,  True,  True,  True,  True,  True,  True,  True,\n",
       "        True,  True,  True,  True,  True,  True,  True,  True,  True,\n",
       "        True,  True,  True,  True,  True,  True,  True,  True,  True,\n",
       "        True,  True,  True,  True,  True,  True,  True,  True,  True,\n",
       "        True,  True,  True,  True,  True,  True,  True,  True,  True,\n",
       "        True,  True,  True,  True,  True,  True,  True,  True,  True,\n",
       "        True,  True,  True,  True,  True,  True,  True,  True,  True,\n",
       "        True,  True,  True,  True,  True,  True,  True,  True,  True,\n",
       "        True,  True,  True,  True,  True,  True,  True,  True,  True,\n",
       "        True,  True,  True,  True,  True,  True,  True,  True,  True,\n",
       "        True,  True,  True,  True,  True,  True,  True,  True,  True,\n",
       "        True])>"
      ]
     },
     "execution_count": 97,
     "metadata": {},
     "output_type": "execute_result"
    }
   ],
   "source": [
    "ac01 = tf.equal(predict01, target)\n",
    "ac01"
   ]
  },
  {
   "cell_type": "code",
   "execution_count": 98,
   "metadata": {},
   "outputs": [
    {
     "data": {
      "text/plain": [
       "<tf.Tensor: id=244243, shape=(100,), dtype=float32, numpy=\n",
       "array([1., 1., 1., 1., 1., 1., 1., 1., 1., 1., 1., 1., 1., 1., 1., 1., 1.,\n",
       "       1., 1., 1., 1., 1., 1., 1., 1., 1., 1., 1., 1., 1., 1., 1., 1., 1.,\n",
       "       1., 1., 1., 1., 1., 1., 1., 1., 1., 1., 1., 1., 1., 1., 1., 1., 1.,\n",
       "       1., 1., 1., 1., 1., 1., 1., 1., 1., 1., 1., 1., 1., 1., 1., 1., 1.,\n",
       "       1., 1., 1., 1., 1., 1., 1., 1., 1., 1., 1., 1., 1., 1., 1., 1., 1.,\n",
       "       1., 1., 1., 1., 1., 1., 1., 1., 1., 1., 1., 1., 1., 1., 1.],\n",
       "      dtype=float32)>"
      ]
     },
     "execution_count": 98,
     "metadata": {},
     "output_type": "execute_result"
    }
   ],
   "source": [
    "ac02 = tf.cast(ac01, dtype='float32')\n",
    "ac02"
   ]
  },
  {
   "cell_type": "code",
   "execution_count": 99,
   "metadata": {},
   "outputs": [
    {
     "data": {
      "text/plain": [
       "<tf.Tensor: id=244245, shape=(), dtype=float32, numpy=1.0>"
      ]
     },
     "execution_count": 99,
     "metadata": {},
     "output_type": "execute_result"
    }
   ],
   "source": [
    "ac03 = tf.reduce_mean(ac02)\n",
    "ac03"
   ]
  },
  {
   "cell_type": "code",
   "execution_count": 100,
   "metadata": {},
   "outputs": [
    {
     "data": {
      "text/plain": [
       "1.0"
      ]
     },
     "execution_count": 100,
     "metadata": {},
     "output_type": "execute_result"
    }
   ],
   "source": [
    "accuracy = tf.reduce_mean(tf.cast(tf.equal(predict01, target), dtype=tf.float32))\n",
    "accuracy.numpy()"
   ]
  },
  {
   "cell_type": "code",
   "execution_count": 101,
   "metadata": {},
   "outputs": [
    {
     "data": {
      "image/png": "[encoded data removed]",
      "text/plain": [
       "<Figure size 2160x1440 with 30 Axes>"
      ]
     },
     "metadata": {},
     "output_type": "display_data"
    }
   ],
   "source": [
    "import matplotlib.pyplot as plt\n",
    "fig = plt.figure(figsize=(30,20))\n",
    "for i in range(30):\n",
    "    subplot = fig.add_subplot(6,5,i+1)\n",
    "    subplot.set_xticks([])\n",
    "    subplot.set_yticks([])\n",
    "    subplot.set_title('predict: %d' %predict01[i])\n",
    "    subplot.imshow(mnist.test.images[i].reshape((28,28)),\n",
    "                  cmap=plt.cm.gray_r)\n",
    "plt.show()"
   ]
  },
  {
   "cell_type": "code",
   "execution_count": null,
   "metadata": {},
   "outputs": [],
   "source": []
  }
 ],
 "metadata": {
  "kernelspec": {
   "display_name": "Python 3",
   "language": "python",
   "name": "python3"
  },
  "language_info": {
   "codemirror_mode": {
    "name": "ipython",
    "version": 3
   },
   "file_extension": ".py",
   "mimetype": "text/x-python",
   "name": "python",
   "nbconvert_exporter": "python",
   "pygments_lexer": "ipython3",
   "version": "3.7.4"
  }
 },
 "nbformat": 4,
 "nbformat_minor": 4
}
